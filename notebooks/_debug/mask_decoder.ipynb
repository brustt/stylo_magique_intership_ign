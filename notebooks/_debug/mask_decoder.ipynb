{
 "cells": [
  {
   "cell_type": "code",
   "execution_count": 1,
   "id": "06aaf2c1-6eab-4334-b94a-b47c5ff5b74c",
   "metadata": {},
   "outputs": [
    {
     "name": "stdout",
     "output_type": "stream",
     "text": [
      "Welcome in JZAY\n"
     ]
    }
   ],
   "source": [
    "import numpy as np\n",
    "import cv2\n",
    "from PIL import Image\n",
    "import torch\n",
    "import pytorch_lightning as pl\n",
    "import pandas as pd\n",
    "import os\n",
    "from copy import deepcopy\n",
    "import torch.nn.functional as F\n",
    "from torchmetrics import Metric\n",
    "from tqdm import tqdm\n",
    "import torch\n",
    "import matplotlib.pyplot as plt\n",
    "from torch.utils import data\n",
    "from torch.nn.utils.rnn import pad_sequence\n",
    "\n",
    "from src.commons.utils import to_numpy, SegAnyChangeVersion, show_img, show_pair_img, show_prediction_sample, resize\n",
    "from src.models.commons.mask_process import extract_object_from_batch, binarize_mask\n",
    "from src.commons.constants import IMG_SIZE\n",
    "from src.data.process import generate_grid_prompt\n",
    "from src.commons.utils import create_sample_grid_with_prompt, get_mask_with_prompt, fig2arr"
   ]
  },
  {
   "cell_type": "code",
   "execution_count": 2,
   "id": "e8cbffcc-c76e-4a98-b533-c40ba6687068",
   "metadata": {},
   "outputs": [],
   "source": [
    "from src.commons.utils_io import load_sam\n",
    "from src.models.commons.bisam import BiSam2, SamModeInference\n",
    "from src.models.commons.model import BiSam\n",
    "\n",
    "from src.commons.utils import batch_to_list"
   ]
  },
  {
   "cell_type": "code",
   "execution_count": 3,
   "id": "d8d3c1ed-107b-4928-9332-5e2c136bbc8d",
   "metadata": {},
   "outputs": [],
   "source": [
    "def show_prompts_on_mask(mask: torch.Tensor, batch, batch_idx: int):\n",
    "    if mask.shape[-1] != IMG_SIZE[0]:\n",
    "        mask = resize(mask, IMG_SIZE)\n",
    "    coord_points = batch[\"point_coords\"][batch_idx]\n",
    "    mask_pt = get_mask_with_prompt(binarize_mask(mask[batch_idx], th=0) , coord_points)\n",
    "    show_img(mask_pt)"
   ]
  },
  {
   "cell_type": "markdown",
   "id": "7724f503-9915-4d35-a12e-462733e10356",
   "metadata": {},
   "source": [
    "### Load dloader manually"
   ]
  },
  {
   "cell_type": "code",
   "execution_count": 4,
   "id": "55dcab1f-942c-4ff9-8d7c-b9219939214f",
   "metadata": {},
   "outputs": [],
   "source": [
    "from src.data.loader import BiTemporalDataset\n",
    "from src.data.process import DefaultTransform\n",
    "from omegaconf import OmegaConf\n",
    "\n",
    "params = {\n",
    "    \"prompt_type\": \"sample\",\n",
    "    \"n_prompt\": 1,\n",
    "    \"n_shape\":3,\n",
    "    \"loc\": \"center\",\n",
    "    \"batch_size\": 2,\n",
    "}\n",
    "ds = BiTemporalDataset(\n",
    "            name=\"levir-cd\",\n",
    "            dtype=\"test\",\n",
    "            transform=DefaultTransform(),\n",
    "            params=OmegaConf.create(params),\n",
    "        )"
   ]
  },
  {
   "cell_type": "code",
   "execution_count": 5,
   "id": "70d5d842-1c48-4d8b-8a04-5a78dbaf0ef9",
   "metadata": {},
   "outputs": [],
   "source": [
    "dloader = data.DataLoader(\n",
    "            ds,\n",
    "            batch_size=params.get('batch_size'),\n",
    "            shuffle=False,\n",
    "            num_workers=0,\n",
    "        )"
   ]
  },
  {
   "cell_type": "code",
   "execution_count": 6,
   "id": "c029d0ed-5216-4c19-bb0e-5b31e298939c",
   "metadata": {},
   "outputs": [
    {
     "name": "stdout",
     "output_type": "stream",
     "text": [
      "/home/rustt/Documents/IGN/data/levir-cd/test/label/test_1.png\n",
      "/home/rustt/Documents/IGN/data/levir-cd/test/label/test_2.png\n"
     ]
    }
   ],
   "source": [
    "batch = next(iter(dloader))"
   ]
  },
  {
   "cell_type": "markdown",
   "id": "0ad70555-ada3-4e5d-9c13-04d8f313bf41",
   "metadata": {},
   "source": [
    "### Load model"
   ]
  },
  {
   "cell_type": "code",
   "execution_count": 8,
   "id": "4d4e0659-2584-4ae5-9f41-74532b625560",
   "metadata": {},
   "outputs": [
    {
     "name": "stderr",
     "output_type": "stream",
     "text": [
      "2024-07-20 07:53:02,723 - INFO ::  build vit_b BiSam2\n"
     ]
    }
   ],
   "source": [
    "bisam2 = load_sam(\n",
    "    model_type=\"vit_b\", model_cls=BiSam2, version= \"dev2\", device=\"cpu\"\n",
    ")"
   ]
  },
  {
   "cell_type": "code",
   "execution_count": 9,
   "id": "1784220e-fd43-4a72-ba16-a17260eeb262",
   "metadata": {},
   "outputs": [
    {
     "name": "stderr",
     "output_type": "stream",
     "text": [
      "2024-07-20 07:53:04,496 - INFO ::  build vit_b BiSam\n"
     ]
    }
   ],
   "source": [
    "bisam = load_sam(\n",
    "    model_type=\"vit_b\", model_cls=BiSam, version= \"dev\", device=\"cpu\"\n",
    ")"
   ]
  },
  {
   "cell_type": "markdown",
   "id": "88bd0755-cc99-4a89-87ef-790b55035442",
   "metadata": {},
   "source": [
    "### change model : many prompt to one mask :"
   ]
  },
  {
   "cell_type": "code",
   "execution_count": 10,
   "id": "1463eff1-b949-4108-bf35-b4cfe5478cda",
   "metadata": {},
   "outputs": [],
   "source": [
    "from src.commons.utils_io import load_config\n",
    "import hydra\n",
    "from hydra.core.global_hydra import GlobalHydra"
   ]
  },
  {
   "cell_type": "code",
   "execution_count": 13,
   "id": "92c50a3d-3a0a-434c-ad56-e884dc74d06b",
   "metadata": {},
   "outputs": [],
   "source": [
    "GlobalHydra.instance().clear()\n",
    "list_args=[\"experiment=mp_naive\", \"sam_type=small\", \"data=levir-cd\", \"data.params.n_shape=3\", \"data.params.num_worker=0\"]\n",
    "cfg = load_config(list_args)"
   ]
  },
  {
   "cell_type": "code",
   "execution_count": 14,
   "id": "0df54101-8c7b-4930-9427-57a301ba3b05",
   "metadata": {},
   "outputs": [],
   "source": [
    "module = hydra.utils.instantiate(cfg.model.instance)"
   ]
  },
  {
   "cell_type": "code",
   "execution_count": 15,
   "id": "e35feec1-0df6-4209-960a-b6d5d7412c16",
   "metadata": {},
   "outputs": [
    {
     "data": {
      "text/plain": [
       "0"
      ]
     },
     "execution_count": 15,
     "metadata": {},
     "output_type": "execute_result"
    }
   ],
   "source": [
    "cfg.data.params.num_worker"
   ]
  },
  {
   "cell_type": "code",
   "execution_count": null,
   "id": "7c507652-42a4-4e4f-b018-40e77bfc969f",
   "metadata": {},
   "outputs": [],
   "source": [
    "# data_module = hydra.utils.instantiate(cfg.data)\n",
    "\n",
    "# data_module.params\n",
    "\n",
    "# data_module.setup(\"fit\")\n",
    "# train_dloader = data_module.train_dataloader()\n",
    "\n",
    "# batch = next(iter(train_dloader))"
   ]
  },
  {
   "cell_type": "markdown",
   "id": "c7f064c6-cecb-435e-bfc2-f7bcec4b92b8",
   "metadata": {},
   "source": [
    "### Modif mask decoder"
   ]
  },
  {
   "cell_type": "code",
   "execution_count": 16,
   "id": "83bf5b2d-7f25-4f37-844b-ec9a82a50349",
   "metadata": {},
   "outputs": [
    {
     "name": "stdout",
     "output_type": "stream",
     "text": [
      "torch.Size([1, 1, 256, 256])\n",
      "torch.Size([1, 1, 256, 256])\n",
      "torch.Size([2, 1, 1, 256, 256])\n"
     ]
    }
   ],
   "source": [
    "out = bisam2(batch, multimask_output=False)\n",
    "preds2 = out[\"masks\"] > 0\n",
    "print(preds2.shape)"
   ]
  },
  {
   "cell_type": "code",
   "execution_count": 17,
   "id": "1349275d-c137-4a23-8ee6-0658f03bc72e",
   "metadata": {},
   "outputs": [
    {
     "name": "stdout",
     "output_type": "stream",
     "text": [
      "sparse_embeddings: torch.Size([2, 3, 2, 256])\n",
      "dense_embeddings: torch.Size([2, 3, 256, 64, 64])\n",
      "torch.Size([2, 3, 1, 256, 256])\n"
     ]
    }
   ],
   "source": [
    "out = bisam(batch, multimask_output=False, mode=SamModeInference.INTERACTIVE)\n",
    "preds = out[\"masks\"] > 0\n",
    "print(preds.shape)"
   ]
  },
  {
   "cell_type": "code",
   "execution_count": 18,
   "id": "71d29546-b52e-4720-ab6b-055218eb6489",
   "metadata": {},
   "outputs": [],
   "source": [
    "point_coords = (\n",
    "    batch[\"point_coords\"].clone()\n",
    ")\n",
    "point_labels = (\n",
    "    batch[\"point_labels\"].clone()\n",
    ")"
   ]
  },
  {
   "cell_type": "markdown",
   "id": "0226d5f2-47ef-4f8d-bb7e-e852639d6918",
   "metadata": {},
   "source": [
    "### Prompt encoder"
   ]
  },
  {
   "cell_type": "code",
   "execution_count": 20,
   "id": "ee85d141-6cc9-4a52-8625-789c1e5e9894",
   "metadata": {},
   "outputs": [
    {
     "data": {
      "text/plain": [
       "(torch.Size([2, 3, 2]), torch.Size([2, 3]))"
      ]
     },
     "execution_count": 20,
     "metadata": {},
     "output_type": "execute_result"
    }
   ],
   "source": [
    "point_coords.shape, point_labels.shape"
   ]
  },
  {
   "cell_type": "code",
   "execution_count": 28,
   "id": "0b1b4f46-b744-4a28-bd29-a4765f37eb9d",
   "metadata": {},
   "outputs": [],
   "source": [
    "i = 0"
   ]
  },
  {
   "cell_type": "markdown",
   "id": "d0463fb3-f5b5-4d33-b52d-9e5b850c04f8",
   "metadata": {},
   "source": [
    "#### Bisam2"
   ]
  },
  {
   "cell_type": "markdown",
   "id": "6ee097a6-80f6-4ccd-8bdf-777b9d5c218b",
   "metadata": {},
   "source": [
    "Un mask pour tous les points"
   ]
  },
  {
   "cell_type": "code",
   "execution_count": 54,
   "id": "9d551dbd-d4a1-4bbf-8a1a-ef16aafc5def",
   "metadata": {},
   "outputs": [],
   "source": [
    "point_coords = batch[\"point_coords\"][i]\n",
    "# remove padding points\n",
    "point_labels = batch[\"point_labels\"][i]\n",
    "# if we add batch dim, why it could not works with batch ?\n",
    "points = point_coords[None, :, :], point_labels[None, :]\n",
    "\n",
    "#points = point_coords, point_labels\n",
    "\n",
    "sparse_embeddings_b2, dense_embeddings_b2 = bisam2.prompt_encoder(\n",
    "    points=points,\n",
    "    boxes=None,\n",
    "    masks=None,\n",
    ")"
   ]
  },
  {
   "cell_type": "code",
   "execution_count": 55,
   "id": "bae81fd5-2046-4fb7-8d34-e673ce587312",
   "metadata": {},
   "outputs": [
    {
     "name": "stdout",
     "output_type": "stream",
     "text": [
      "sparse_embeddings: torch.Size([1, 4, 256])\n",
      "dense_embeddings: torch.Size([1, 256, 64, 64])\n"
     ]
    }
   ],
   "source": [
    "print(f\"sparse_embeddings: {sparse_embeddings_b2.shape}\")\n",
    "print(f\"dense_embeddings: {dense_embeddings_b2.shape}\")"
   ]
  },
  {
   "cell_type": "code",
   "execution_count": 45,
   "id": "5e27f480-94e2-4c24-9c4f-7899bb6f0731",
   "metadata": {},
   "outputs": [],
   "source": [
    "point_coords = batch[\"point_coords\"][i]\n",
    "# remove padding points\n",
    "point_labels = batch[\"point_labels\"][i]\n",
    "# if we add batch dim, why it could not works with batch ?\n",
    "points = point_coords[:,None, :], point_labels[:, None]\n",
    "\n",
    "#points = point_coords, point_labels\n",
    "\n",
    "sparse_embeddings_b2, dense_embeddings_b2 = bisam2.prompt_encoder(\n",
    "    points=points,\n",
    "    boxes=None,\n",
    "    masks=None,\n",
    ")"
   ]
  },
  {
   "cell_type": "code",
   "execution_count": 46,
   "id": "cec5c390-4116-40c3-aa82-f3322af87a8f",
   "metadata": {},
   "outputs": [
    {
     "name": "stdout",
     "output_type": "stream",
     "text": [
      "sparse_embeddings: torch.Size([3, 2, 256])\n",
      "dense_embeddings: torch.Size([3, 256, 64, 64])\n"
     ]
    }
   ],
   "source": [
    "print(f\"sparse_embeddings: {sparse_embeddings_b2.shape}\")\n",
    "print(f\"dense_embeddings: {dense_embeddings_b2.shape}\")"
   ]
  },
  {
   "cell_type": "markdown",
   "id": "4e196cf2-1092-452c-904a-024eb1b9c4a0",
   "metadata": {},
   "source": [
    "#### Bisam"
   ]
  },
  {
   "cell_type": "markdown",
   "id": "9642cdb4-b1f3-4629-9dfd-411f623f2ce5",
   "metadata": {},
   "source": [
    "Un masque par point"
   ]
  },
  {
   "cell_type": "code",
   "execution_count": 32,
   "id": "695bbfcb-7bb8-4579-81d1-d05264976520",
   "metadata": {},
   "outputs": [],
   "source": [
    "point_coords = batch[\"point_coords\"]\n",
    "# remove padding points\n",
    "point_labels = batch[\"point_labels\"]\n",
    "\n",
    "sparse_embeddings, dense_embeddings = bisam.prompt_encoder(\n",
    "    points=(\n",
    "        point_coords[:, :, None, :],\n",
    "        point_labels[..., None],\n",
    "    ),\n",
    "    boxes=None,\n",
    "    masks=None,\n",
    ")"
   ]
  },
  {
   "cell_type": "code",
   "execution_count": 33,
   "id": "1d9099f8-c8d1-47b4-a057-b1ed9a3f15a5",
   "metadata": {},
   "outputs": [
    {
     "name": "stdout",
     "output_type": "stream",
     "text": [
      "sparse_embeddings: torch.Size([2, 3, 2, 256])\n",
      "dense_embeddings: torch.Size([2, 3, 256, 64, 64])\n"
     ]
    }
   ],
   "source": [
    "print(f\"sparse_embeddings: {sparse_embeddings.shape}\")\n",
    "print(f\"dense_embeddings: {dense_embeddings.shape}\")"
   ]
  },
  {
   "cell_type": "markdown",
   "id": "433f51f4-150c-4b0a-8e26-043a85cfa3c1",
   "metadata": {},
   "source": [
    "Un masque pour tous les points"
   ]
  },
  {
   "cell_type": "code",
   "execution_count": 57,
   "id": "44f6b597-61ba-4214-9cb1-bb34acd6e630",
   "metadata": {},
   "outputs": [],
   "source": [
    "point_coords = batch[\"point_coords\"]\n",
    "# remove padding points\n",
    "point_labels = batch[\"point_labels\"]\n",
    "\n",
    "sparse_embeddings, dense_embeddings = bisam.prompt_encoder(\n",
    "    points=(\n",
    "        point_coords[:,None, :],\n",
    "        point_labels[:, None,...],\n",
    "    ), \n",
    "    boxes=None,\n",
    "    masks=None,\n",
    ")"
   ]
  },
  {
   "cell_type": "code",
   "execution_count": 58,
   "id": "05156eca-a5df-4e55-baa4-cda605d82003",
   "metadata": {},
   "outputs": [
    {
     "name": "stdout",
     "output_type": "stream",
     "text": [
      "sparse_embeddings: torch.Size([2, 1, 4, 256])\n",
      "dense_embeddings: torch.Size([2, 1, 256, 64, 64])\n"
     ]
    }
   ],
   "source": [
    "print(f\"sparse_embeddings: {sparse_embeddings.shape}\")\n",
    "print(f\"dense_embeddings: {dense_embeddings.shape}\")"
   ]
  },
  {
   "cell_type": "markdown",
   "id": "e9a52dd1-41f3-40c2-89ea-fca571cbeaab",
   "metadata": {},
   "source": [
    "Ok ! Easy"
   ]
  },
  {
   "cell_type": "markdown",
   "id": "f5e6f3ef-9c7b-427f-b908-9ea224932389",
   "metadata": {},
   "source": [
    "#### Sanity check"
   ]
  },
  {
   "cell_type": "code",
   "execution_count": 59,
   "id": "f627c290-ee28-49df-844c-613c79c6d4ad",
   "metadata": {},
   "outputs": [
    {
     "data": {
      "text/plain": [
       "True"
      ]
     },
     "execution_count": 59,
     "metadata": {},
     "output_type": "execute_result"
    }
   ],
   "source": [
    "torch.equal(sparse_embeddings_b2, sparse_embeddings[i])"
   ]
  },
  {
   "cell_type": "markdown",
   "id": "859fca23-6267-4667-a48f-191ddb6c3a7f",
   "metadata": {},
   "source": [
    "### Image encoder"
   ]
  },
  {
   "cell_type": "code",
   "execution_count": 60,
   "id": "856b155a-8a1c-4606-a625-165584cfb226",
   "metadata": {},
   "outputs": [],
   "source": [
    "image_embeddings = bisam2.image_embeddings"
   ]
  },
  {
   "cell_type": "code",
   "execution_count": 61,
   "id": "860588da-db62-4c4b-ab04-abab6aaa4629",
   "metadata": {},
   "outputs": [
    {
     "data": {
      "text/plain": [
       "torch.Size([2, 256, 64, 64])"
      ]
     },
     "execution_count": 61,
     "metadata": {},
     "output_type": "execute_result"
    }
   ],
   "source": [
    "image_embeddings.shape"
   ]
  },
  {
   "cell_type": "markdown",
   "id": "8354616c-28c7-4568-9a81-1e9a002c1b09",
   "metadata": {},
   "source": [
    "#### Mask decoder"
   ]
  },
  {
   "cell_type": "code",
   "execution_count": 206,
   "id": "3a8ddc9f-c90e-4043-b00a-2936bd8eac15",
   "metadata": {},
   "outputs": [],
   "source": [
    "preds2, iou_predictions =  bisam2.mask_decoder(\n",
    "    image_embeddings=image_embeddings,  # (B, 256, 64, 64)\n",
    "    image_pe=bisam2.prompt_encoder.get_dense_pe(),  # (1, 256, 64, 64)\n",
    "    sparse_prompt_embeddings=sparse_embeddings,  # (B, N, 2, 256)\n",
    "    dense_prompt_embeddings=dense_embeddings,  # (B, N, 256, 64, 64)\n",
    "    multimask_output=False,\n",
    ")"
   ]
  },
  {
   "cell_type": "code",
   "execution_count": 73,
   "id": "dc05f603-ebca-433c-a575-48585189c837",
   "metadata": {},
   "outputs": [],
   "source": [
    "low_res_masks, iou_predictions =  bisam.mask_decoder.predict_masks_batch(\n",
    "    image_embeddings=image_embeddings,  # (B, 256, 64, 64)\n",
    "    image_pe=bisam.prompt_encoder.get_dense_pe(),  # (1, 256, 64, 64)\n",
    "    sparse_prompt_embeddings=sparse_embeddings,  # (B, N, 2, 256)\n",
    "    dense_prompt_embeddings=dense_embeddings,  # (B, N, 256, 64, 64)\n",
    ")\n",
    "\n",
    "preds, iou_predictions = bisam.select_masks(\n",
    "    low_res_masks, \n",
    "    iou_predictions, \n",
    "    multimask_output=False\n",
    ")\n",
    "preds = bisam.upscale_masks(\n",
    "    preds,\n",
    "    IMG_SIZE\n",
    ")\n",
    "preds = preds > 0"
   ]
  },
  {
   "cell_type": "code",
   "execution_count": 74,
   "id": "12f3d377-3909-4fc2-ac86-a66d1e4cf9ee",
   "metadata": {},
   "outputs": [
    {
     "data": {
      "text/plain": [
       "torch.Size([2, 1, 1, 1024, 1024])"
      ]
     },
     "execution_count": 74,
     "metadata": {},
     "output_type": "execute_result"
    }
   ],
   "source": [
    "preds.shape"
   ]
  },
  {
   "cell_type": "code",
   "execution_count": 76,
   "id": "ead8c034-00f8-4b18-8ffb-0a27699076f3",
   "metadata": {},
   "outputs": [
    {
     "data": {
      "image/png": "[encoded data removed]",
      "text/plain": [
       "<Figure size 640x480 with 2 Axes>"
      ]
     },
     "metadata": {},
     "output_type": "display_data"
    }
   ],
   "source": [
    "show_img(to_numpy(batch[\"label\"][0], transpose=False))"
   ]
  },
  {
   "cell_type": "markdown",
   "id": "f35af758-fc41-4210-917f-9804d7054b12",
   "metadata": {},
   "source": [
    "Un masque pour tous les points"
   ]
  },
  {
   "cell_type": "code",
   "execution_count": 98,
   "id": "e2ddeb9b-09bc-4209-955a-7726121e34cc",
   "metadata": {},
   "outputs": [
    {
     "data": {
      "image/png": "[encoded data removed]",
      "text/plain": [
       "<Figure size 640x480 with 1 Axes>"
      ]
     },
     "metadata": {},
     "output_type": "display_data"
    }
   ],
   "source": [
    "show_img(to_numpy(preds.squeeze()[0], transpose=False))"
   ]
  },
  {
   "cell_type": "code",
   "execution_count": 77,
   "id": "04b289df-a697-4962-aa75-896627ed0ac1",
   "metadata": {},
   "outputs": [
    {
     "data": {
      "image/png": "[encoded data removed]",
      "text/plain": [
       "<Figure size 640x480 with 1 Axes>"
      ]
     },
     "metadata": {},
     "output_type": "display_data"
    }
   ],
   "source": [
    "show_img(to_numpy(preds2.squeeze()[0], transpose=False))"
   ]
  },
  {
   "cell_type": "markdown",
   "id": "5000227f-8968-4af2-a15d-9c8d364abff7",
   "metadata": {},
   "source": [
    "Un masque par point"
   ]
  },
  {
   "cell_type": "code",
   "execution_count": 25,
   "id": "5ac2eba1-1a38-43fe-b139-1b375da56f63",
   "metadata": {},
   "outputs": [
    {
     "data": {
      "image/png": "[encoded data removed]",
      "text/plain": [
       "<Figure size 640x480 with 2 Axes>"
      ]
     },
     "metadata": {},
     "output_type": "display_data"
    }
   ],
   "source": [
    "show_img(to_numpy(torch.sum(preds[0].squeeze(), dim=0), transpose=False))"
   ]
  },
  {
   "cell_type": "code",
   "execution_count": null,
   "id": "478ef175-89bf-4205-9a36-1dc45038ddd8",
   "metadata": {},
   "outputs": [],
   "source": []
  }
 ],
 "metadata": {
  "kernelspec": {
   "display_name": "Python 3 (ipykernel)",
   "language": "python",
   "name": "python3"
  },
  "language_info": {
   "codemirror_mode": {
    "name": "ipython",
    "version": 3
   },
   "file_extension": ".py",
   "mimetype": "text/x-python",
   "name": "python",
   "nbconvert_exporter": "python",
   "pygments_lexer": "ipython3",
   "version": "3.11.9"
  }
 },
 "nbformat": 4,
 "nbformat_minor": 5
}
