{
 "cells": [
  {
   "cell_type": "markdown",
   "id": "7dd221dd-df1e-47fe-a1d2-82e9e58efddc",
   "metadata": {},
   "source": [
    "rappel information SAM `Predictor.forward` sur multimask_output :\n",
    ">  multimask_output (bool): If true, the model will return three masks.\n",
    "For ambiguous input prompts (such as a single click), this will often\n",
    "produce better masks than a single prediction. If only a single\n",
    "mask is needed, the model's predicted quality score can be used\n",
    "to select the best mask. For non-ambiguous prompts, such as multiple\n",
    "input prompts, multimask_output=False can give better results."
   ]
  },
  {
   "cell_type": "code",
   "execution_count": 1,
   "id": "62151356-6228-48b4-b68f-926d8bae062d",
   "metadata": {},
   "outputs": [],
   "source": [
    "import numpy as np\n",
    "import cv2\n",
    "from PIL import Image\n",
    "import torch\n",
    "import pytorch_lightning as pl\n",
    "import pandas as pd\n",
    "import os\n",
    "from copy import deepcopy\n",
    "import torch.nn.functional as F\n",
    "from torchmetrics import Metric\n",
    "from tqdm import tqdm\n",
    "import torch\n",
    "import matplotlib.pyplot as plt\n",
    "from torch.utils import data\n",
    "from torch.nn.utils.rnn import pad_sequence\n",
    "\n",
    "from src.commons.utils import to_numpy, SegAnyChangeVersion, show_img, show_pair_img, show_prediction_sample, resize\n",
    "from src.models.commons.mask_process import extract_object_from_batch, binarize_mask\n",
    "from src.commons.constants import IMG_SIZE\n",
    "from src.data.process import generate_grid_prompt\n",
    "from src.commons.utils import create_sample_grid_with_prompt, get_mask_with_prompt, fig2arr"
   ]
  },
  {
   "cell_type": "code",
   "execution_count": 2,
   "id": "0b4582bf-3172-4d32-b45e-e66c34291371",
   "metadata": {},
   "outputs": [],
   "source": [
    "from src.commons.utils_io import load_sam\n",
    "from src.models.commons.bisam import BiSam2, SamModeInference\n",
    "from src.models.commons.model import BiSam\n",
    "\n",
    "from src.commons.utils import batch_to_list"
   ]
  },
  {
   "cell_type": "code",
   "execution_count": 3,
   "id": "b4dd8726-36cd-4293-8a24-5940e6cb9f17",
   "metadata": {},
   "outputs": [],
   "source": [
    "def show_prompts_on_mask(mask: torch.Tensor, batch, batch_idx: int):\n",
    "    if mask.shape[-1] != IMG_SIZE[0]:\n",
    "        mask = resize(mask, IMG_SIZE)\n",
    "    coord_points = batch[\"point_coords\"][batch_idx]\n",
    "    mask_pt = get_mask_with_prompt(binarize_mask(mask[batch_idx], th=0) , coord_points)\n",
    "    show_img(mask_pt)"
   ]
  },
  {
   "cell_type": "code",
   "execution_count": 4,
   "id": "bba1c3a6-384b-4c19-b8be-95d0a6734706",
   "metadata": {},
   "outputs": [],
   "source": [
    "from src.data.loader import BiTemporalDataset\n",
    "from src.data.process import DefaultTransform\n",
    "from omegaconf import OmegaConf\n",
    "\n",
    "params = {\n",
    "    \"prompt_type\": \"sample\",\n",
    "    \"n_prompt\": 1,\n",
    "    \"n_shape\":3,\n",
    "    \"loc\": \"center\",\n",
    "    \"batch_size\": 2,\n",
    "}\n",
    "ds = BiTemporalDataset(\n",
    "            name=\"levir-cd\",\n",
    "            dtype=\"test\",\n",
    "            transform=DefaultTransform(),\n",
    "            params=OmegaConf.create(params),\n",
    "        )"
   ]
  },
  {
   "cell_type": "code",
   "execution_count": 5,
   "id": "99b17081-1eae-4be4-bb23-4d978dd8b017",
   "metadata": {},
   "outputs": [],
   "source": [
    "dloader = data.DataLoader(\n",
    "            ds,\n",
    "            batch_size=params.get('batch_size'),\n",
    "            shuffle=False,\n",
    "            num_workers=0,\n",
    "        )"
   ]
  },
  {
   "cell_type": "code",
   "execution_count": 48,
   "id": "6e6da355-19ba-413d-b440-44e37a315fb8",
   "metadata": {},
   "outputs": [
    {
     "name": "stdout",
     "output_type": "stream",
     "text": [
      "/home/MDizier/data/dl/levir-cd/test/label/test_1.png\n",
      "/home/MDizier/data/dl/levir-cd/test/label/test_2.png\n"
     ]
    }
   ],
   "source": [
    "batch = next(iter(dloader))"
   ]
  },
  {
   "cell_type": "code",
   "execution_count": 48,
   "id": "901606c3-7f44-47cb-93e9-bf4431156b65",
   "metadata": {},
   "outputs": [
    {
     "name": "stderr",
     "output_type": "stream",
     "text": [
      "2024-07-19 17:35:01,002 - INFO ::  build vit_b BiSam2\n"
     ]
    }
   ],
   "source": [
    "bisam2 = load_sam(\n",
    "    model_type=\"vit_b\", model_cls=BiSam2, version= \"dev2\", device=\"cpu\"\n",
    ")"
   ]
  },
  {
   "cell_type": "code",
   "execution_count": 59,
   "id": "80913d82-03f1-4696-8b80-6af2eba93998",
   "metadata": {},
   "outputs": [
    {
     "name": "stderr",
     "output_type": "stream",
     "text": [
      "2024-07-19 17:41:10,544 - INFO ::  build vit_b BiSam\n"
     ]
    }
   ],
   "source": [
    "bisam = load_sam(\n",
    "    model_type=\"vit_b\", model_cls=BiSam, version= \"dev\", device=\"cpu\"\n",
    ")"
   ]
  },
  {
   "cell_type": "code",
   "execution_count": 15,
   "id": "4d3525e2-aabd-4f32-81da-260b41682698",
   "metadata": {},
   "outputs": [
    {
     "name": "stdout",
     "output_type": "stream",
     "text": [
      "torch.Size([1, 3, 256, 256])\n",
      "torch.Size([1, 3, 256, 256])\n"
     ]
    }
   ],
   "source": [
    "out = bisam2(batch, multimask_output=True)"
   ]
  },
  {
   "cell_type": "markdown",
   "id": "f458825d-7f37-4e70-9efd-9e8e5e04fe1b",
   "metadata": {},
   "source": [
    "### multioutput == True"
   ]
  },
  {
   "cell_type": "code",
   "execution_count": 42,
   "id": "09986a7b-ff1b-48f1-83cd-b36ee5937c40",
   "metadata": {},
   "outputs": [],
   "source": [
    "preds = (out[\"masks\"] > 0.).squeeze(2)"
   ]
  },
  {
   "cell_type": "code",
   "execution_count": 43,
   "id": "1f504eb7-bc83-4cbb-a761-397a09a04418",
   "metadata": {},
   "outputs": [
    {
     "data": {
      "text/plain": [
       "torch.Size([2, 1, 256, 256])"
      ]
     },
     "execution_count": 43,
     "metadata": {},
     "output_type": "execute_result"
    }
   ],
   "source": [
    "preds.shape"
   ]
  },
  {
   "cell_type": "code",
   "execution_count": 19,
   "id": "e87ffb3b-67ec-4230-828c-a747f4a0ba48",
   "metadata": {},
   "outputs": [],
   "source": [
    "idx_max = torch.argmax(out[\"iou_predictions\"], dim=2)\n",
    "expanded_indices = idx_max.unsqueeze(-1).unsqueeze(-1).unsqueeze(-1).expand(-1, -1, 1, 256, 256)\n",
    "# Use gather to select elements along dim 2\n",
    "selected_elements = torch.gather(preds, 2, expanded_indices).squeeze(2)"
   ]
  },
  {
   "cell_type": "code",
   "execution_count": 70,
   "id": "6748f0c9-c08c-4317-afc3-c38bea6c480c",
   "metadata": {},
   "outputs": [
    {
     "data": {
      "text/plain": [
       "torch.Size([2, 256, 256])"
      ]
     },
     "execution_count": 70,
     "metadata": {},
     "output_type": "execute_result"
    }
   ],
   "source": [
    "selected_elements.shape"
   ]
  },
  {
   "cell_type": "code",
   "execution_count": 69,
   "id": "72826352-4263-483a-a9f1-c1c9120dce4d",
   "metadata": {},
   "outputs": [
    {
     "data": {
      "image/png": "[encoded data removed]",
      "text/plain": [
       "<Figure size 640x480 with 1 Axes>"
      ]
     },
     "metadata": {},
     "output_type": "display_data"
    }
   ],
   "source": [
    "show_prompts_on_mask(selected_elements.squeeze(1), batch, 0)"
   ]
  },
  {
   "cell_type": "code",
   "execution_count": 22,
   "id": "52297ff5-4c4f-4921-a93e-983c7531ab51",
   "metadata": {},
   "outputs": [
    {
     "data": {
      "text/plain": [
       "torch.Size([2, 1, 256, 256])"
      ]
     },
     "execution_count": 22,
     "metadata": {},
     "output_type": "execute_result"
    }
   ],
   "source": [
    "selected_elements.shape"
   ]
  },
  {
   "cell_type": "markdown",
   "id": "78aa0b51-4200-4d58-be52-276b6cf6d28a",
   "metadata": {},
   "source": [
    "### multioutput == False"
   ]
  },
  {
   "cell_type": "code",
   "execution_count": 61,
   "id": "2b65a6a8-6120-41d3-aa6b-b9e723a82233",
   "metadata": {},
   "outputs": [
    {
     "name": "stdout",
     "output_type": "stream",
     "text": [
      "torch.Size([1, 1, 256, 256])\n",
      "torch.Size([1, 1, 256, 256])\n"
     ]
    }
   ],
   "source": [
    "out = bisam2(batch, multimask_output=False)"
   ]
  },
  {
   "cell_type": "code",
   "execution_count": 62,
   "id": "77e872ce-74a4-44ba-9d74-ba50d0c3ea32",
   "metadata": {},
   "outputs": [
    {
     "data": {
      "text/plain": [
       "torch.Size([2, 1, 1, 256, 256])"
      ]
     },
     "execution_count": 62,
     "metadata": {},
     "output_type": "execute_result"
    }
   ],
   "source": [
    "out[\"masks\"].shape"
   ]
  },
  {
   "cell_type": "code",
   "execution_count": 63,
   "id": "3b8d9ef6-a82c-476a-b97b-a5ff9d80b61f",
   "metadata": {},
   "outputs": [],
   "source": [
    "preds = bisam2.upscale_masks(out[\"masks\"], (1024, 1024))"
   ]
  },
  {
   "cell_type": "code",
   "execution_count": 64,
   "id": "48038d24-0629-4801-a175-c36f33829d3e",
   "metadata": {},
   "outputs": [
    {
     "data": {
      "text/plain": [
       "torch.Size([2, 1, 1, 1024, 1024])"
      ]
     },
     "execution_count": 64,
     "metadata": {},
     "output_type": "execute_result"
    }
   ],
   "source": [
    "preds.shape"
   ]
  },
  {
   "cell_type": "code",
   "execution_count": 65,
   "id": "047d0c94-66a5-4dba-9916-dfdad70fd0b6",
   "metadata": {},
   "outputs": [
    {
     "data": {
      "text/plain": [
       "torch.Size([2, 1024, 1024])"
      ]
     },
     "execution_count": 65,
     "metadata": {},
     "output_type": "execute_result"
    }
   ],
   "source": [
    "preds = (preds > 0.).squeeze(1)\n",
    "preds.shape"
   ]
  },
  {
   "cell_type": "code",
   "execution_count": 71,
   "id": "a1f72ed1-1364-4af5-b88c-21a7644bd664",
   "metadata": {},
   "outputs": [
    {
     "data": {
      "image/png": "[encoded data removed]",
      "text/plain": [
       "<Figure size 640x480 with 1 Axes>"
      ]
     },
     "metadata": {},
     "output_type": "display_data"
    }
   ],
   "source": [
    "show_prompts_on_mask(preds, batch, 0)"
   ]
  },
  {
   "cell_type": "code",
   "execution_count": 33,
   "id": "71f4bc67-7095-4028-9dbb-34df2d89ff84",
   "metadata": {},
   "outputs": [
    {
     "data": {
      "image/png": "[encoded data removed]",
      "text/plain": [
       "<Figure size 640x480 with 1 Axes>"
      ]
     },
     "metadata": {},
     "output_type": "display_data"
    }
   ],
   "source": [
    "idx = 0\n",
    "mask = preds[idx]\n",
    "coord_points = batch[\"point_coords\"][idx]\n",
    "mask_pt = get_mask_with_prompt(mask, coord_points)\n",
    "show_img(mask_pt)"
   ]
  },
  {
   "cell_type": "markdown",
   "id": "63af2e07-b8c0-4622-870d-835b15186fc4",
   "metadata": {},
   "source": [
    "On prédit un seul masque dans les deux cas car tous les pormpts sont associés à un meme objet !"
   ]
  },
  {
   "cell_type": "code",
   "execution_count": 14,
   "id": "513b798a-ac60-422d-870f-5648c1328c38",
   "metadata": {},
   "outputs": [
    {
     "data": {
      "text/plain": [
       "<matplotlib.image.AxesImage at 0x7fb6704c2d40>"
      ]
     },
     "execution_count": 14,
     "metadata": {},
     "output_type": "execute_result"
    },
    {
     "data": {
      "image/png": "[encoded data removed]",
      "text/plain": [
       "<Figure size 640x480 with 1 Axes>"
      ]
     },
     "metadata": {},
     "output_type": "display_data"
    }
   ],
   "source": [
    "plt.imshow(to_numpy(preds[1], transpose=False))"
   ]
  },
  {
   "cell_type": "code",
   "execution_count": 13,
   "id": "808abd23-aec2-4fe7-b4d5-58a46087740d",
   "metadata": {},
   "outputs": [
    {
     "data": {
      "text/plain": [
       "torch.Size([1024, 1024])"
      ]
     },
     "execution_count": 13,
     "metadata": {},
     "output_type": "execute_result"
    }
   ],
   "source": [
    "preds[0].shape"
   ]
  },
  {
   "cell_type": "code",
   "execution_count": 4,
   "id": "e7201db3-92db-4b5b-8744-fa93595fe8b8",
   "metadata": {},
   "outputs": [
    {
     "name": "stderr",
     "output_type": "stream",
     "text": [
      "2024-07-19 17:20:49,911 - INFO ::  build SAM\n"
     ]
    }
   ],
   "source": [
    "from src.models.segment_anything import sam_model_registry_ori, SamPredictor\n",
    "from src.commons.constants import SAM_MODEL_SMALL_PATH\n",
    "\n",
    "idx= 0\n",
    "img_path = f\"/home/MDizier/data/dl/levir-cd/test/B/test_{idx+1}.png\"\n",
    "\n",
    "image = cv2.imread(img_path)\n",
    "image = cv2.cvtColor(image, cv2.COLOR_BGR2RGB)\n",
    "\n",
    "device = \"cpu\"\n",
    "model_type = \"vit_b\"\n",
    "\n",
    "sam = sam_model_registry_ori[model_type](checkpoint=SAM_MODEL_SMALL_PATH)\n",
    "sam.to(device=device)\n",
    "\n",
    "predictor = SamPredictor(sam)\n",
    "predictor.set_image(image)\n"
   ]
  },
  {
   "cell_type": "code",
   "execution_count": 73,
   "id": "8eaeee41-59b4-4e0d-ab26-3c31efeaf274",
   "metadata": {},
   "outputs": [
    {
     "data": {
      "text/plain": [
       "torch.Size([3, 2])"
      ]
     },
     "execution_count": 73,
     "metadata": {},
     "output_type": "execute_result"
    }
   ],
   "source": [
    "batch[\"point_coords\"][idx].shape"
   ]
  },
  {
   "cell_type": "code",
   "execution_count": 74,
   "id": "8ea727a5-1e2a-4a0a-866a-8bdc35155f2c",
   "metadata": {},
   "outputs": [],
   "source": [
    "point_coords = batch[\"point_coords\"][idx]\n",
    "# remove padding points\n",
    "point_coords = point_coords[torch.sum(point_coords, dim=1) > 0]\n",
    "# remove padding points\n",
    "point_labels = batch[\"point_labels\"][idx]\n",
    "point_labels = point_labels[:point_coords.shape[0]]  \n",
    "\n",
    "input_point = to_numpy(point_coords, transpose=False)\n",
    "input_label = to_numpy(point_labels, transpose=False)"
   ]
  },
  {
   "cell_type": "code",
   "execution_count": 75,
   "id": "f44f99f5-a24c-49e2-8d39-89cc91b68882",
   "metadata": {},
   "outputs": [
    {
     "data": {
      "text/plain": [
       "((3,), (3, 2))"
      ]
     },
     "execution_count": 75,
     "metadata": {},
     "output_type": "execute_result"
    }
   ],
   "source": [
    "input_label.shape, input_point.shape"
   ]
  },
  {
   "cell_type": "code",
   "execution_count": 76,
   "id": "b71a1caa-7211-41ae-8b0b-d30d28d233b2",
   "metadata": {},
   "outputs": [
    {
     "name": "stdout",
     "output_type": "stream",
     "text": [
      "sparse emb : torch.Size([1, 4, 256])\n",
      "dense emb : torch.Size([1, 256, 64, 64])\n",
      "low mask  predict torch : torch.Size([1, 1, 256, 256])\n",
      "low mask  predict torch : torch.Size([1, 1, 1024, 1024])\n"
     ]
    }
   ],
   "source": [
    "masks, scores, logits = predictor.predict(\n",
    "    point_coords=input_point,\n",
    "    point_labels=input_label,\n",
    "    multimask_output=False,\n",
    ")"
   ]
  },
  {
   "cell_type": "code",
   "execution_count": 77,
   "id": "ea35c38d-f830-4ab3-b454-64019f9ada54",
   "metadata": {},
   "outputs": [
    {
     "data": {
      "image/png": "[encoded data removed]",
      "text/plain": [
       "<Figure size 640x480 with 1 Axes>"
      ]
     },
     "metadata": {},
     "output_type": "display_data"
    }
   ],
   "source": [
    "show_img(masks.squeeze())"
   ]
  },
  {
   "cell_type": "markdown",
   "id": "17bb14d5-13d5-480f-ac7e-73cde45bd961",
   "metadata": {},
   "source": [
    "### batch prompt\n",
    "* un prompt == un objet"
   ]
  },
  {
   "cell_type": "code",
   "execution_count": 78,
   "id": "88e6e652-bef8-41f6-977c-03ee3ad7493e",
   "metadata": {},
   "outputs": [
    {
     "data": {
      "text/plain": [
       "(torch.Size([3, 2]), torch.Size([3]))"
      ]
     },
     "execution_count": 78,
     "metadata": {},
     "output_type": "execute_result"
    }
   ],
   "source": [
    "point_coords = batch[\"point_coords\"][idx]\n",
    "# remove padding points\n",
    "point_coords = point_coords[torch.sum(point_coords, dim=1) > 0]\n",
    "# remove padding points\n",
    "point_labels = batch[\"point_labels\"][idx]\n",
    "point_labels = point_labels[:point_coords.shape[0]]  \n",
    "input_point = point_coords.clone().to(device)\n",
    "input_label = point_labels.clone().to(device)\n",
    "input_point.shape, input_label.shape"
   ]
  },
  {
   "cell_type": "code",
   "execution_count": 79,
   "id": "40fb4122-bbeb-46ec-ad44-96c7785905f1",
   "metadata": {},
   "outputs": [
    {
     "name": "stdout",
     "output_type": "stream",
     "text": [
      "sparse emb : torch.Size([3, 2, 256])\n",
      "dense emb : torch.Size([3, 256, 64, 64])\n",
      "low mask  predict torch : torch.Size([3, 1, 256, 256])\n",
      "low mask  predict torch : torch.Size([3, 1, 1024, 1024])\n"
     ]
    }
   ],
   "source": [
    "masks, ious, _ = predictor.predict_torch(\n",
    "    point_coords=input_point[:,None ,:],\n",
    "    point_labels=input_label[:, None],\n",
    "    boxes=None,\n",
    "    multimask_output=False,\n",
    ")"
   ]
  },
  {
   "cell_type": "code",
   "execution_count": 80,
   "id": "417b3cc4-fdb4-4e55-ad91-47ac43ce1129",
   "metadata": {},
   "outputs": [
    {
     "data": {
      "text/plain": [
       "torch.Size([3, 1, 1024, 1024])"
      ]
     },
     "execution_count": 80,
     "metadata": {},
     "output_type": "execute_result"
    }
   ],
   "source": [
    "masks.shape"
   ]
  },
  {
   "cell_type": "code",
   "execution_count": 81,
   "id": "895dc3eb-c680-4678-8d23-7ff145de7bee",
   "metadata": {},
   "outputs": [
    {
     "data": {
      "image/png": "[encoded data removed]",
      "text/plain": [
       "<Figure size 640x480 with 2 Axes>"
      ]
     },
     "metadata": {},
     "output_type": "display_data"
    }
   ],
   "source": [
    "show_img(to_numpy(torch.sum(masks.squeeze(), dim=0), transpose=False))"
   ]
  },
  {
   "cell_type": "markdown",
   "id": "bdb3cb5b-f496-463c-9e3a-a4ae835c6479",
   "metadata": {},
   "source": [
    "Ok ! La onna chaque prompt pour un objet different!"
   ]
  },
  {
   "cell_type": "code",
   "execution_count": 85,
   "id": "e774a4c9-0806-4fc5-bfd2-97d9dca5b37e",
   "metadata": {},
   "outputs": [
    {
     "data": {
      "text/plain": [
       "(torch.Size([2, 3, 2]), torch.Size([3, 2]))"
      ]
     },
     "execution_count": 85,
     "metadata": {},
     "output_type": "execute_result"
    }
   ],
   "source": [
    "batch[\"point_coords\"].shape, input_point.shape"
   ]
  },
  {
   "cell_type": "code",
   "execution_count": 87,
   "id": "4994d6df-3822-4818-b3e8-bdb5b8e4e4fc",
   "metadata": {},
   "outputs": [
    {
     "name": "stdout",
     "output_type": "stream",
     "text": [
      "sparse emb : torch.Size([1, 4, 256])\n",
      "dense emb : torch.Size([1, 256, 64, 64])\n",
      "low mask  predict torch : torch.Size([1, 1, 256, 256])\n",
      "low mask  predict torch : torch.Size([1, 1, 1024, 1024])\n"
     ]
    }
   ],
   "source": [
    "idx = 0\n",
    "masks, ious, _ = predictor.predict_torch(\n",
    "    point_coords=batch[\"point_coords\"][idx][None, : ,:].to(device),\n",
    "    point_labels=batch[\"point_labels\"][idx][None, :].to(device),\n",
    "    boxes=None,\n",
    "    multimask_output=False,\n",
    ")"
   ]
  },
  {
   "cell_type": "code",
   "execution_count": 90,
   "id": "59f758cf-c9f0-4402-b815-36f3624d0684",
   "metadata": {},
   "outputs": [
    {
     "data": {
      "text/plain": [
       "torch.Size([1, 1, 1024, 1024])"
      ]
     },
     "execution_count": 90,
     "metadata": {},
     "output_type": "execute_result"
    }
   ],
   "source": [
    "masks.shape"
   ]
  },
  {
   "cell_type": "code",
   "execution_count": 93,
   "id": "762c116e-475f-4352-85b5-33ffa8c3013e",
   "metadata": {},
   "outputs": [
    {
     "data": {
      "image/png": "[encoded data removed]",
      "text/plain": [
       "<Figure size 640x480 with 1 Axes>"
      ]
     },
     "metadata": {},
     "output_type": "display_data"
    }
   ],
   "source": [
    "show_prompts_on_mask(masks.squeeze(0), batch, 0)"
   ]
  },
  {
   "cell_type": "markdown",
   "id": "0528f997-c536-446e-a8d5-792788454082",
   "metadata": {},
   "source": [
    "### change model : many prompt to one mask :"
   ]
  },
  {
   "cell_type": "code",
   "execution_count": 4,
   "id": "fe5d9665-001a-4fee-83db-8ca25ee8b1a9",
   "metadata": {},
   "outputs": [],
   "source": [
    "from src.commons.utils_io import load_config\n",
    "import hydra\n",
    "from hydra.core.global_hydra import GlobalHydra"
   ]
  },
  {
   "cell_type": "code",
   "execution_count": 12,
   "id": "98478adf-335f-4b5f-8ef0-cf5ec1319559",
   "metadata": {},
   "outputs": [],
   "source": [
    "GlobalHydra.instance().clear()\n",
    "list_args=[\"experiment=mp_naive\", \"sam_type=small\", \"data=levir-cd\", \"data.params.n_shape=3\", \"data.params.num_worker=0\"]\n",
    "cfg = load_config(list_args)"
   ]
  },
  {
   "cell_type": "code",
   "execution_count": 13,
   "id": "b46edc68-6b65-406d-96d2-9cdda2f73f56",
   "metadata": {},
   "outputs": [],
   "source": [
    "module = hydra.utils.instantiate(cfg.model.instance)"
   ]
  },
  {
   "cell_type": "code",
   "execution_count": 15,
   "id": "98778cf3-2376-4653-9709-1951fa0ce31b",
   "metadata": {},
   "outputs": [],
   "source": [
    "data_module = hydra.utils.instantiate(cfg.data)"
   ]
  },
  {
   "cell_type": "code",
   "execution_count": 16,
   "id": "17c83860-42c0-4a87-9cb3-0375fe8a223d",
   "metadata": {},
   "outputs": [
    {
     "data": {
      "text/plain": [
       "{'prompt_type': 'sample', 'n_prompt': 1, 'loc': 'center', 'batch_size': 2, 'n_shape': 3, 'num_worker': 0, 'pin_memory': False}"
      ]
     },
     "execution_count": 16,
     "metadata": {},
     "output_type": "execute_result"
    }
   ],
   "source": [
    "data_module.params"
   ]
  },
  {
   "cell_type": "code",
   "execution_count": 17,
   "id": "a866134b-12bc-43eb-ae69-32f1ff73fa07",
   "metadata": {},
   "outputs": [],
   "source": [
    "data_module.setup(\"fit\")\n",
    "train_dloader = data_module.train_dataloader()"
   ]
  },
  {
   "cell_type": "code",
   "execution_count": 18,
   "id": "e0228cad-6b6c-4609-9753-195ad6179b29",
   "metadata": {},
   "outputs": [
    {
     "name": "stdout",
     "output_type": "stream",
     "text": [
      "/home/MDizier/data/dl/levir-cd/train/label/train_1.png\n",
      "/home/MDizier/data/dl/levir-cd/train/label/train_2.png\n"
     ]
    }
   ],
   "source": [
    "batch = next(iter(train_dloader))"
   ]
  },
  {
   "cell_type": "markdown",
   "id": "81537086-3689-4c65-b0ae-eba8a4300f2b",
   "metadata": {},
   "source": [
    "### Modif mask decoder"
   ]
  },
  {
   "cell_type": "code",
   "execution_count": 196,
   "id": "33f4ada7-f46c-4097-988c-1b7c3c600041",
   "metadata": {},
   "outputs": [
    {
     "name": "stdout",
     "output_type": "stream",
     "text": [
      "torch.Size([1, 1, 256, 256])\n",
      "torch.Size([1, 1, 256, 256])\n",
      "torch.Size([2, 1, 1, 256, 256])\n"
     ]
    }
   ],
   "source": [
    "out = bisam2(batch, multimask_output=False)\n",
    "preds2 = out[\"masks\"] > 0\n",
    "print(preds2.shape)"
   ]
  },
  {
   "cell_type": "code",
   "execution_count": 93,
   "id": "a00b2739-babe-4bf4-872f-601c7790cca3",
   "metadata": {},
   "outputs": [
    {
     "name": "stdout",
     "output_type": "stream",
     "text": [
      "sparse_embeddings: torch.Size([2, 3, 2, 256])\n",
      "dense_embeddings: torch.Size([2, 3, 256, 64, 64])\n",
      "torch.Size([2, 3, 1, 256, 256])\n"
     ]
    }
   ],
   "source": [
    "out = bisam(batch, multimask_output=False, mode=SamModeInference.INTERACTIVE)\n",
    "preds = out[\"masks\"] > 0\n",
    "print(preds.shape)"
   ]
  },
  {
   "cell_type": "code",
   "execution_count": 19,
   "id": "240414ee-b570-4b82-9d88-07120dc4ad17",
   "metadata": {},
   "outputs": [
    {
     "name": "stdout",
     "output_type": "stream",
     "text": [
      "torch.Size([2, 1, 1, 256, 256])\n"
     ]
    }
   ],
   "source": [
    "# bisam diff modified => 1 mask for all prompt\n",
    "preds_diff2, ious = module.model(batch, multimask_output=False)\n",
    "preds_diff2 = preds_diff2 > 0\n",
    "print(preds_diff2.shape)"
   ]
  },
  {
   "cell_type": "code",
   "execution_count": 197,
   "id": "8ec16514-f658-4f61-a16c-bc774e9e9914",
   "metadata": {},
   "outputs": [],
   "source": [
    "point_coords = (\n",
    "    batch[\"point_coords\"].clone()\n",
    ")\n",
    "point_labels = (\n",
    "    batch[\"point_labels\"].clone()\n",
    ")"
   ]
  },
  {
   "cell_type": "code",
   "execution_count": 198,
   "id": "389c0aa5-2b69-410b-84e4-5656c3d1ba0a",
   "metadata": {},
   "outputs": [
    {
     "data": {
      "text/plain": [
       "tensor([[[623., 894.],\n",
       "         [363., 958.],\n",
       "         [310., 972.]],\n",
       "\n",
       "        [[549., 711.],\n",
       "         [951., 438.],\n",
       "         [389., 822.]]])"
      ]
     },
     "execution_count": 198,
     "metadata": {},
     "output_type": "execute_result"
    }
   ],
   "source": [
    "batch[\"point_coords\"]"
   ]
  },
  {
   "cell_type": "code",
   "execution_count": 200,
   "id": "6b3effe1-a0d1-485b-9be1-cf52b183cfa0",
   "metadata": {},
   "outputs": [
    {
     "data": {
      "text/plain": [
       "(torch.Size([2, 3, 2]), torch.Size([2, 3]))"
      ]
     },
     "execution_count": 200,
     "metadata": {},
     "output_type": "execute_result"
    }
   ],
   "source": [
    "point_coords.shape, point_labels.shape"
   ]
  },
  {
   "cell_type": "code",
   "execution_count": 214,
   "id": "33698b3f-d8d1-4bb6-a710-6e39b50f712c",
   "metadata": {},
   "outputs": [],
   "source": [
    "# batch prompt encoding\n",
    "sparse_embeddings, dense_embeddings = bisam.prompt_encoder(\n",
    "    points=(\n",
    "        point_coords[:,:,None ,:],#[0][None, :, :],\n",
    "        point_labels[..., None] #[0][None, :],\n",
    "    ),\n",
    "    boxes=None,\n",
    "    masks=None,\n",
    ")"
   ]
  },
  {
   "cell_type": "code",
   "execution_count": 213,
   "id": "c9f76824-d77a-4ff3-93ee-c4e3b86f216e",
   "metadata": {},
   "outputs": [
    {
     "ename": "RuntimeError",
     "evalue": "Tensors must have same number of dimensions: got 4 and 3",
     "output_type": "error",
     "traceback": [
      "\u001b[0;31m---------------------------------------------------------------------------\u001b[0m",
      "\u001b[0;31mRuntimeError\u001b[0m                              Traceback (most recent call last)",
      "Cell \u001b[0;32mIn[213], line 1\u001b[0m\n\u001b[0;32m----> 1\u001b[0m sparse_embeddings, dense_embeddings \u001b[38;5;241m=\u001b[39m \u001b[43mbisam2\u001b[49m\u001b[38;5;241;43m.\u001b[39;49m\u001b[43mprompt_encoder\u001b[49m\u001b[43m(\u001b[49m\n\u001b[1;32m      2\u001b[0m \u001b[43m    \u001b[49m\u001b[43mpoints\u001b[49m\u001b[38;5;241;43m=\u001b[39;49m\u001b[43m(\u001b[49m\n\u001b[1;32m      3\u001b[0m \u001b[43m        \u001b[49m\u001b[43mpoint_coords\u001b[49m\u001b[43m[\u001b[49m\u001b[43m:\u001b[49m\u001b[43m,\u001b[49m\u001b[43m:\u001b[49m\u001b[43m,\u001b[49m\u001b[38;5;28;43;01mNone\u001b[39;49;00m\u001b[43m \u001b[49m\u001b[43m,\u001b[49m\u001b[43m:\u001b[49m\u001b[43m]\u001b[49m\u001b[43m,\u001b[49m\u001b[38;5;66;43;03m#[0][None, :, :],\u001b[39;49;00m\n\u001b[1;32m      4\u001b[0m \u001b[43m        \u001b[49m\u001b[43mpoint_labels\u001b[49m\u001b[43m[\u001b[49m\u001b[43m:\u001b[49m\u001b[43m,\u001b[49m\u001b[43m:\u001b[49m\u001b[43m,\u001b[49m\u001b[43m \u001b[49m\u001b[38;5;28;43;01mNone\u001b[39;49;00m\u001b[43m]\u001b[49m\u001b[43m \u001b[49m\u001b[38;5;66;43;03m#[0][None, :],\u001b[39;49;00m\n\u001b[1;32m      5\u001b[0m \u001b[43m    \u001b[49m\u001b[43m)\u001b[49m\u001b[43m,\u001b[49m\n\u001b[1;32m      6\u001b[0m \u001b[43m    \u001b[49m\u001b[43mboxes\u001b[49m\u001b[38;5;241;43m=\u001b[39;49m\u001b[38;5;28;43;01mNone\u001b[39;49;00m\u001b[43m,\u001b[49m\n\u001b[1;32m      7\u001b[0m \u001b[43m    \u001b[49m\u001b[43mmasks\u001b[49m\u001b[38;5;241;43m=\u001b[39;49m\u001b[38;5;28;43;01mNone\u001b[39;49;00m\u001b[43m,\u001b[49m\n\u001b[1;32m      8\u001b[0m \u001b[43m)\u001b[49m\n",
      "File \u001b[0;32m~/miniforge3/envs/mp/lib/python3.10/site-packages/torch/nn/modules/module.py:1501\u001b[0m, in \u001b[0;36mModule._call_impl\u001b[0;34m(self, *args, **kwargs)\u001b[0m\n\u001b[1;32m   1496\u001b[0m \u001b[38;5;66;03m# If we don't have any hooks, we want to skip the rest of the logic in\u001b[39;00m\n\u001b[1;32m   1497\u001b[0m \u001b[38;5;66;03m# this function, and just call forward.\u001b[39;00m\n\u001b[1;32m   1498\u001b[0m \u001b[38;5;28;01mif\u001b[39;00m \u001b[38;5;129;01mnot\u001b[39;00m (\u001b[38;5;28mself\u001b[39m\u001b[38;5;241m.\u001b[39m_backward_hooks \u001b[38;5;129;01mor\u001b[39;00m \u001b[38;5;28mself\u001b[39m\u001b[38;5;241m.\u001b[39m_backward_pre_hooks \u001b[38;5;129;01mor\u001b[39;00m \u001b[38;5;28mself\u001b[39m\u001b[38;5;241m.\u001b[39m_forward_hooks \u001b[38;5;129;01mor\u001b[39;00m \u001b[38;5;28mself\u001b[39m\u001b[38;5;241m.\u001b[39m_forward_pre_hooks\n\u001b[1;32m   1499\u001b[0m         \u001b[38;5;129;01mor\u001b[39;00m _global_backward_pre_hooks \u001b[38;5;129;01mor\u001b[39;00m _global_backward_hooks\n\u001b[1;32m   1500\u001b[0m         \u001b[38;5;129;01mor\u001b[39;00m _global_forward_hooks \u001b[38;5;129;01mor\u001b[39;00m _global_forward_pre_hooks):\n\u001b[0;32m-> 1501\u001b[0m     \u001b[38;5;28;01mreturn\u001b[39;00m \u001b[43mforward_call\u001b[49m\u001b[43m(\u001b[49m\u001b[38;5;241;43m*\u001b[39;49m\u001b[43margs\u001b[49m\u001b[43m,\u001b[49m\u001b[43m \u001b[49m\u001b[38;5;241;43m*\u001b[39;49m\u001b[38;5;241;43m*\u001b[39;49m\u001b[43mkwargs\u001b[49m\u001b[43m)\u001b[49m\n\u001b[1;32m   1502\u001b[0m \u001b[38;5;66;03m# Do not call functions when jit is used\u001b[39;00m\n\u001b[1;32m   1503\u001b[0m full_backward_hooks, non_full_backward_hooks \u001b[38;5;241m=\u001b[39m [], []\n",
      "File \u001b[0;32m~/projects/stage_stylo_magique_2024/src/models/segment_anything/modeling/prompt_encoder.py:155\u001b[0m, in \u001b[0;36mPromptEncoder.forward\u001b[0;34m(self, points, boxes, masks)\u001b[0m\n\u001b[1;32m    153\u001b[0m \u001b[38;5;28;01mif\u001b[39;00m points \u001b[38;5;129;01mis\u001b[39;00m \u001b[38;5;129;01mnot\u001b[39;00m \u001b[38;5;28;01mNone\u001b[39;00m:\n\u001b[1;32m    154\u001b[0m     coords, labels \u001b[38;5;241m=\u001b[39m points\n\u001b[0;32m--> 155\u001b[0m     point_embeddings \u001b[38;5;241m=\u001b[39m \u001b[38;5;28;43mself\u001b[39;49m\u001b[38;5;241;43m.\u001b[39;49m\u001b[43m_embed_points\u001b[49m\u001b[43m(\u001b[49m\u001b[43mcoords\u001b[49m\u001b[43m,\u001b[49m\u001b[43m \u001b[49m\u001b[43mlabels\u001b[49m\u001b[43m,\u001b[49m\u001b[43m \u001b[49m\u001b[43mpad\u001b[49m\u001b[38;5;241;43m=\u001b[39;49m\u001b[43m(\u001b[49m\u001b[43mboxes\u001b[49m\u001b[43m \u001b[49m\u001b[38;5;129;43;01mis\u001b[39;49;00m\u001b[43m \u001b[49m\u001b[38;5;28;43;01mNone\u001b[39;49;00m\u001b[43m)\u001b[49m\u001b[43m)\u001b[49m\n\u001b[1;32m    156\u001b[0m     sparse_embeddings \u001b[38;5;241m=\u001b[39m torch\u001b[38;5;241m.\u001b[39mcat([sparse_embeddings, point_embeddings], dim\u001b[38;5;241m=\u001b[39m\u001b[38;5;241m1\u001b[39m)\n\u001b[1;32m    157\u001b[0m \u001b[38;5;28;01mif\u001b[39;00m boxes \u001b[38;5;129;01mis\u001b[39;00m \u001b[38;5;129;01mnot\u001b[39;00m \u001b[38;5;28;01mNone\u001b[39;00m:\n",
      "File \u001b[0;32m~/projects/stage_stylo_magique_2024/src/models/segment_anything/modeling/prompt_encoder.py:84\u001b[0m, in \u001b[0;36mPromptEncoder._embed_points\u001b[0;34m(self, points, labels, pad)\u001b[0m\n\u001b[1;32m     82\u001b[0m     padding_point \u001b[38;5;241m=\u001b[39m torch\u001b[38;5;241m.\u001b[39mzeros((points\u001b[38;5;241m.\u001b[39mshape[\u001b[38;5;241m0\u001b[39m], \u001b[38;5;241m1\u001b[39m, \u001b[38;5;241m2\u001b[39m), device\u001b[38;5;241m=\u001b[39mpoints\u001b[38;5;241m.\u001b[39mdevice)\n\u001b[1;32m     83\u001b[0m     padding_label \u001b[38;5;241m=\u001b[39m \u001b[38;5;241m-\u001b[39mtorch\u001b[38;5;241m.\u001b[39mones((labels\u001b[38;5;241m.\u001b[39mshape[\u001b[38;5;241m0\u001b[39m], \u001b[38;5;241m1\u001b[39m), device\u001b[38;5;241m=\u001b[39mlabels\u001b[38;5;241m.\u001b[39mdevice)\n\u001b[0;32m---> 84\u001b[0m     points \u001b[38;5;241m=\u001b[39m \u001b[43mtorch\u001b[49m\u001b[38;5;241;43m.\u001b[39;49m\u001b[43mcat\u001b[49m\u001b[43m(\u001b[49m\u001b[43m[\u001b[49m\u001b[43mpoints\u001b[49m\u001b[43m,\u001b[49m\u001b[43m \u001b[49m\u001b[43mpadding_point\u001b[49m\u001b[43m]\u001b[49m\u001b[43m,\u001b[49m\u001b[43m \u001b[49m\u001b[43mdim\u001b[49m\u001b[38;5;241;43m=\u001b[39;49m\u001b[38;5;241;43m1\u001b[39;49m\u001b[43m)\u001b[49m\n\u001b[1;32m     85\u001b[0m     labels \u001b[38;5;241m=\u001b[39m torch\u001b[38;5;241m.\u001b[39mcat([labels, padding_label], dim\u001b[38;5;241m=\u001b[39m\u001b[38;5;241m1\u001b[39m)\n\u001b[1;32m     86\u001b[0m point_embedding \u001b[38;5;241m=\u001b[39m \u001b[38;5;28mself\u001b[39m\u001b[38;5;241m.\u001b[39mpe_layer\u001b[38;5;241m.\u001b[39mforward_with_coords(points, \u001b[38;5;28mself\u001b[39m\u001b[38;5;241m.\u001b[39minput_image_size)\n",
      "\u001b[0;31mRuntimeError\u001b[0m: Tensors must have same number of dimensions: got 4 and 3"
     ]
    }
   ],
   "source": [
    "sparse_embeddings, dense_embeddings = bisam2.prompt_encoder(\n",
    "    points=(\n",
    "        point_coords[:,None ,:],#[0][None, :, :],\n",
    "        point_labels[:, None] #[0][None, :],\n",
    "    ),\n",
    "    boxes=None,\n",
    "    masks=None,\n",
    ")"
   ]
  },
  {
   "cell_type": "code",
   "execution_count": 203,
   "id": "be1bfd77-8a30-4405-b747-50984b6c42a5",
   "metadata": {},
   "outputs": [
    {
     "name": "stdout",
     "output_type": "stream",
     "text": [
      "sparse_embeddings: torch.Size([2, 4, 256])\n",
      "dense_embeddings: torch.Size([2, 256, 64, 64])\n"
     ]
    }
   ],
   "source": [
    "print(f\"sparse_embeddings: {sparse_embeddings.shape}\")\n",
    "print(f\"dense_embeddings: {dense_embeddings.shape}\")"
   ]
  },
  {
   "cell_type": "markdown",
   "id": "5ff157ef-6af8-43a9-9cb6-9ad256d5d406",
   "metadata": {},
   "source": [
    "On veut sparse : 2, 4, 256"
   ]
  },
  {
   "cell_type": "code",
   "execution_count": 204,
   "id": "96ca912d-0bde-4f4f-9724-4c509f4f373e",
   "metadata": {},
   "outputs": [],
   "source": [
    "image_embeddings = bisam2.image_embeddings"
   ]
  },
  {
   "cell_type": "code",
   "execution_count": 205,
   "id": "30018786-b545-4dc7-960b-7c9d590466d2",
   "metadata": {},
   "outputs": [
    {
     "data": {
      "text/plain": [
       "torch.Size([2, 256, 64, 64])"
      ]
     },
     "execution_count": 205,
     "metadata": {},
     "output_type": "execute_result"
    }
   ],
   "source": [
    "image_embeddings.shape"
   ]
  },
  {
   "cell_type": "code",
   "execution_count": 206,
   "id": "5a3d0c03-e292-405d-9057-22beffccc4df",
   "metadata": {},
   "outputs": [],
   "source": [
    "low_res_masks, iou_predictions =  bisam2.mask_decoder(\n",
    "    image_embeddings=image_embeddings,  # (B, 256, 64, 64)\n",
    "    image_pe=bisam2.prompt_encoder.get_dense_pe(),  # (1, 256, 64, 64)\n",
    "    sparse_prompt_embeddings=sparse_embeddings,  # (B, N, 2, 256)\n",
    "    dense_prompt_embeddings=dense_embeddings,  # (B, N, 256, 64, 64)\n",
    "    multimask_output=False,\n",
    ")"
   ]
  },
  {
   "cell_type": "code",
   "execution_count": 215,
   "id": "200429ae-a074-4d35-91b1-2d80465faf6a",
   "metadata": {},
   "outputs": [],
   "source": [
    "low_res_masks, iou_predictions =  bisam2.mask_decoder(\n",
    "    image_embeddings=image_embeddings[0].unsqueeze(0),  # (B, 256, 64, 64)\n",
    "    image_pe=bisam2.prompt_encoder.get_dense_pe(),  # (1, 256, 64, 64)\n",
    "    sparse_prompt_embeddings=sparse_embeddings[0],  # (B, N, 2, 256)\n",
    "    dense_prompt_embeddings=dense_embeddings[0],  # (B, N, 256, 64, 64)\n",
    "    multimask_output=False,\n",
    ")"
   ]
  },
  {
   "cell_type": "code",
   "execution_count": 216,
   "id": "d755d592-b4e2-429b-8070-d0dbd58a95e9",
   "metadata": {},
   "outputs": [
    {
     "data": {
      "text/plain": [
       "torch.Size([3, 1, 256, 256])"
      ]
     },
     "execution_count": 216,
     "metadata": {},
     "output_type": "execute_result"
    }
   ],
   "source": [
    "low_res_masks.shape"
   ]
  },
  {
   "cell_type": "code",
   "execution_count": 168,
   "id": "b7e24894-62f4-4eb9-af60-df40df1f50d7",
   "metadata": {},
   "outputs": [],
   "source": [
    "# masks =  module.model.upscale_masks(low_res_masks.unsqueeze(0), IMG_SIZE)\n",
    "# # masks, iou_predictions =  module.model.select_masks(\n",
    "# #     masks, iou_predictions, multimask_output=False\n",
    "# # )"
   ]
  },
  {
   "cell_type": "code",
   "execution_count": 207,
   "id": "e6b2c329-7a3f-46e6-a4c6-adc617df199f",
   "metadata": {},
   "outputs": [],
   "source": [
    "masks = masks > 0"
   ]
  },
  {
   "cell_type": "code",
   "execution_count": 174,
   "id": "f5cca85e-9483-4f41-90f1-2cb29a32e9f6",
   "metadata": {},
   "outputs": [
    {
     "data": {
      "text/plain": [
       "torch.Size([1, 2, 1, 1024, 1024])"
      ]
     },
     "execution_count": 174,
     "metadata": {},
     "output_type": "execute_result"
    }
   ],
   "source": [
    "masks.shape"
   ]
  },
  {
   "cell_type": "code",
   "execution_count": 223,
   "id": "da38763b-a2e3-468f-a2b4-490d4fb2d282",
   "metadata": {},
   "outputs": [
    {
     "data": {
      "text/plain": [
       "torch.Size([2, 1, 1, 256, 256])"
      ]
     },
     "execution_count": 223,
     "metadata": {},
     "output_type": "execute_result"
    }
   ],
   "source": [
    "preds2.shape"
   ]
  },
  {
   "cell_type": "code",
   "execution_count": 27,
   "id": "f6db336f-021b-4888-bb3d-98af1fb4eabb",
   "metadata": {},
   "outputs": [
    {
     "data": {
      "text/plain": [
       "['/home/MDizier/data/dl/levir-cd/train/label/train_1.png',\n",
       " '/home/MDizier/data/dl/levir-cd/train/label/train_2.png']"
      ]
     },
     "execution_count": 27,
     "metadata": {},
     "output_type": "execute_result"
    }
   ],
   "source": [
    "batch[\"label_path\"]"
   ]
  },
  {
   "cell_type": "code",
   "execution_count": null,
   "id": "e9e5caba-c62f-4892-8255-52b0679866e4",
   "metadata": {},
   "outputs": [],
   "source": []
  },
  {
   "cell_type": "code",
   "execution_count": 224,
   "id": "3043ef83-c86c-4865-a07d-8942097609b4",
   "metadata": {},
   "outputs": [
    {
     "data": {
      "image/png": "[encoded data removed]",
      "text/plain": [
       "<Figure size 640x480 with 1 Axes>"
      ]
     },
     "metadata": {},
     "output_type": "display_data"
    }
   ],
   "source": [
    "show_img(to_numpy(preds2[0].squeeze(), transpose=False))"
   ]
  },
  {
   "cell_type": "code",
   "execution_count": 208,
   "id": "530ac77d-4a16-4797-9011-fba0d5706da4",
   "metadata": {},
   "outputs": [
    {
     "data": {
      "image/png": "[encoded data removed]",
      "text/plain": [
       "<Figure size 640x480 with 2 Axes>"
      ]
     },
     "metadata": {},
     "output_type": "display_data"
    }
   ],
   "source": [
    "show_img(to_numpy(batch[\"label\"][0], transpose=False))"
   ]
  },
  {
   "cell_type": "code",
   "execution_count": 218,
   "id": "6982ece2-9ad4-44e8-8064-7fd8a9bdc5a2",
   "metadata": {},
   "outputs": [
    {
     "data": {
      "image/png": "[encoded data removed]",
      "text/plain": [
       "<Figure size 640x480 with 1 Axes>"
      ]
     },
     "metadata": {},
     "output_type": "display_data"
    }
   ],
   "source": [
    "show_img(to_numpy(masks.squeeze()[0], transpose=False))"
   ]
  },
  {
   "cell_type": "code",
   "execution_count": 20,
   "id": "abec83a0-a4bd-42aa-8010-428400696399",
   "metadata": {},
   "outputs": [
    {
     "name": "stdout",
     "output_type": "stream",
     "text": [
      "torch.Size([2, 1, 1, 256, 256])\n"
     ]
    }
   ],
   "source": [
    "print(preds_diff2.shape)"
   ]
  },
  {
   "cell_type": "code",
   "execution_count": 25,
   "id": "9ddcc545-9e20-44b7-b3bf-330ee5869cb0",
   "metadata": {},
   "outputs": [
    {
     "data": {
      "text/plain": [
       "torch.bool"
      ]
     },
     "execution_count": 25,
     "metadata": {},
     "output_type": "execute_result"
    }
   ],
   "source": [
    "preds_diff2.dtype"
   ]
  },
  {
   "cell_type": "code",
   "execution_count": 24,
   "id": "570c88b7-0325-4ec3-8d36-3f9844af4172",
   "metadata": {},
   "outputs": [
    {
     "data": {
      "image/png": "[encoded data removed]",
      "text/plain": [
       "<Figure size 640x480 with 1 Axes>"
      ]
     },
     "metadata": {},
     "output_type": "display_data"
    }
   ],
   "source": [
    "show_img(to_numpy(preds_diff2.squeeze()[0], transpose=False))"
   ]
  },
  {
   "cell_type": "code",
   "execution_count": 42,
   "id": "ab74f403-9c85-43b6-8923-5b1d1d5fcaba",
   "metadata": {},
   "outputs": [
    {
     "name": "stdout",
     "output_type": "stream",
     "text": [
      "['/home/MDizier/data/dl/levir-cd/train/label/train_1.png', '/home/MDizier/data/dl/levir-cd/train/label/train_2.png']\n"
     ]
    }
   ],
   "source": [
    "print(batch[\"label_path\"])"
   ]
  },
  {
   "cell_type": "code",
   "execution_count": null,
   "id": "c0c8cc25-6d19-4b9f-8f5c-fcfae98b528c",
   "metadata": {},
   "outputs": [],
   "source": []
  },
  {
   "cell_type": "code",
   "execution_count": 43,
   "id": "24183059-be85-4600-bb67-43e3397ea5b7",
   "metadata": {},
   "outputs": [
    {
     "data": {
      "image/png": "[encoded data removed]",
      "text/plain": [
       "<Figure size 640x480 with 2 Axes>"
      ]
     },
     "metadata": {},
     "output_type": "display_data"
    }
   ],
   "source": [
    "show_img(to_numpy(batch[\"label\"][0], transpose=False))"
   ]
  },
  {
   "cell_type": "code",
   "execution_count": 28,
   "id": "2e17e31a-e45d-45ed-a248-f63d2db2d72c",
   "metadata": {},
   "outputs": [
    {
     "data": {
      "image/png": "[encoded data removed]",
      "text/plain": [
       "<Figure size 640x480 with 1 Axes>"
      ]
     },
     "metadata": {},
     "output_type": "display_data"
    }
   ],
   "source": [
    "show_prompts_on_mask(masks[1].squeeze(0), batch, 0)"
   ]
  },
  {
   "cell_type": "code",
   "execution_count": 67,
   "id": "e3a92b1e-a746-473b-9421-258c65e76ee2",
   "metadata": {},
   "outputs": [
    {
     "name": "stdout",
     "output_type": "stream",
     "text": [
      "torch.Size([1, 1, 256, 256])\n",
      "torch.Size([1, 1, 256, 256])\n",
      "torch.Size([2, 1, 1, 256, 256])\n"
     ]
    }
   ],
   "source": [
    "out = bisam2(batch, multimask_output=False)\n",
    "preds2 = out[\"masks\"] > 0\n",
    "print(preds2.shape)"
   ]
  },
  {
   "cell_type": "code",
   "execution_count": 93,
   "id": "cefd4cb4-faf8-4d74-829d-b12427e32ac2",
   "metadata": {},
   "outputs": [
    {
     "name": "stdout",
     "output_type": "stream",
     "text": [
      "sparse_embeddings: torch.Size([2, 3, 2, 256])\n",
      "dense_embeddings: torch.Size([2, 3, 256, 64, 64])\n",
      "torch.Size([2, 3, 1, 256, 256])\n"
     ]
    }
   ],
   "source": [
    "out = bisam(batch, multimask_output=False, mode=SamModeInference.INTERACTIVE)\n",
    "preds = out[\"masks\"] > 0\n",
    "print(preds.shape)"
   ]
  },
  {
   "cell_type": "code",
   "execution_count": 73,
   "id": "8f8d9907-483b-485e-a280-49bb614ed5c4",
   "metadata": {},
   "outputs": [
    {
     "data": {
      "image/png": "[encoded data removed]",
      "text/plain": [
       "<Figure size 640x480 with 1 Axes>"
      ]
     },
     "metadata": {},
     "output_type": "display_data"
    }
   ],
   "source": [
    "show_img(to_numpy(torch.sum(preds2.squeeze(2), dim=1)[0], transpose=False))"
   ]
  },
  {
   "cell_type": "code",
   "execution_count": 94,
   "id": "249d6b72-3394-49a4-995e-10180843aaee",
   "metadata": {},
   "outputs": [
    {
     "data": {
      "image/png": "[encoded data removed]",
      "text/plain": [
       "<Figure size 640x480 with 2 Axes>"
      ]
     },
     "metadata": {},
     "output_type": "display_data"
    }
   ],
   "source": [
    "show_img(to_numpy(torch.sum(preds.squeeze(), dim=1)[0], transpose=False))"
   ]
  },
  {
   "cell_type": "markdown",
   "id": "348fcef9-0e7b-4e42-a891-52439edf9979",
   "metadata": {},
   "source": [
    "On a bine deux inférence différentes : \n",
    "* la premiere considère les points et extraits un seul mask.\n",
    "* la deuxieme considère un mask par point"
   ]
  },
  {
   "cell_type": "markdown",
   "id": "92c199c6-4ec6-4f08-a716-04bcbf1e7948",
   "metadata": {},
   "source": [
    "### Check predictor : ok"
   ]
  },
  {
   "cell_type": "code",
   "execution_count": 86,
   "id": "f710a1a7-048a-44cd-bac7-3c6c44c01d32",
   "metadata": {},
   "outputs": [],
   "source": [
    "image = to_numpy(batch[\"img_B\"][0]).astype(np.uint8)"
   ]
  },
  {
   "cell_type": "code",
   "execution_count": 87,
   "id": "e5462c93-c3a9-4d87-bdb2-8607ef96729d",
   "metadata": {},
   "outputs": [
    {
     "data": {
      "text/plain": [
       "dtype('uint8')"
      ]
     },
     "execution_count": 87,
     "metadata": {},
     "output_type": "execute_result"
    }
   ],
   "source": [
    "image.dtype"
   ]
  },
  {
   "cell_type": "code",
   "execution_count": 88,
   "id": "69455430-a514-40fc-a50b-552c535d4749",
   "metadata": {},
   "outputs": [],
   "source": [
    "predictor = SamPredictor(sam)\n",
    "predictor.set_image(image)"
   ]
  },
  {
   "cell_type": "code",
   "execution_count": 73,
   "id": "35d605a0-f4f6-4dad-beb9-fbfdab6036c1",
   "metadata": {},
   "outputs": [
    {
     "data": {
      "text/plain": [
       "torch.Size([3, 2])"
      ]
     },
     "execution_count": 73,
     "metadata": {},
     "output_type": "execute_result"
    }
   ],
   "source": [
    "batch[\"point_coords\"][idx].shape"
   ]
  },
  {
   "cell_type": "code",
   "execution_count": 89,
   "id": "7c46a247-43b2-448c-a19f-4595f95e4e49",
   "metadata": {},
   "outputs": [],
   "source": [
    "idx=0\n",
    "point_coords = batch[\"point_coords\"][idx]\n",
    "# remove padding points\n",
    "point_coords = point_coords[torch.sum(point_coords, dim=1) > 0]\n",
    "# remove padding points\n",
    "point_labels = batch[\"point_labels\"][idx]\n",
    "point_labels = point_labels[:point_coords.shape[0]]  \n",
    "\n",
    "input_point = to_numpy(point_coords, transpose=False)\n",
    "input_label = to_numpy(point_labels, transpose=False)"
   ]
  },
  {
   "cell_type": "code",
   "execution_count": 90,
   "id": "3a89e48f-1b8b-45ed-a1b8-7e492a27d1fa",
   "metadata": {},
   "outputs": [
    {
     "data": {
      "text/plain": [
       "((3,), (3, 2))"
      ]
     },
     "execution_count": 90,
     "metadata": {},
     "output_type": "execute_result"
    }
   ],
   "source": [
    "input_label.shape, input_point.shape"
   ]
  },
  {
   "cell_type": "code",
   "execution_count": 91,
   "id": "176be001-3dfc-48c8-909b-1ccfd987824e",
   "metadata": {},
   "outputs": [
    {
     "name": "stdout",
     "output_type": "stream",
     "text": [
      "sparse emb : torch.Size([1, 4, 256])\n",
      "dense emb : torch.Size([1, 256, 64, 64])\n",
      "low mask  predict torch : torch.Size([1, 1, 256, 256])\n",
      "low mask  predict torch : torch.Size([1, 1, 1024, 1024])\n"
     ]
    }
   ],
   "source": [
    "masks, scores, logits = predictor.predict(\n",
    "    point_coords=input_point,\n",
    "    point_labels=input_label,\n",
    "    multimask_output=False,\n",
    ")"
   ]
  },
  {
   "cell_type": "code",
   "execution_count": 92,
   "id": "5a4e86f8-35a2-41da-a95c-5109bb421846",
   "metadata": {},
   "outputs": [
    {
     "data": {
      "image/png": "[encoded data removed]",
      "text/plain": [
       "<Figure size 640x480 with 1 Axes>"
      ]
     },
     "metadata": {},
     "output_type": "display_data"
    }
   ],
   "source": [
    "show_img(masks.squeeze())"
   ]
  },
  {
   "cell_type": "code",
   "execution_count": 55,
   "id": "3a1a905c-fe28-48ae-860b-51cbc7f008c9",
   "metadata": {},
   "outputs": [
    {
     "ename": "TypeError",
     "evalue": "Invalid shape (3, 1024, 1024) for image data",
     "output_type": "error",
     "traceback": [
      "\u001b[0;31m---------------------------------------------------------------------------\u001b[0m",
      "\u001b[0;31mTypeError\u001b[0m                                 Traceback (most recent call last)",
      "Cell \u001b[0;32mIn[55], line 1\u001b[0m\n\u001b[0;32m----> 1\u001b[0m \u001b[43mshow_prompts_on_mask\u001b[49m\u001b[43m(\u001b[49m\u001b[43mpreds\u001b[49m\u001b[38;5;241;43m.\u001b[39;49m\u001b[43msqueeze\u001b[49m\u001b[43m(\u001b[49m\u001b[43m)\u001b[49m\u001b[43m,\u001b[49m\u001b[43m \u001b[49m\u001b[43mbatch\u001b[49m\u001b[43m,\u001b[49m\u001b[43m \u001b[49m\u001b[38;5;241;43m0\u001b[39;49m\u001b[43m)\u001b[49m\n",
      "Cell \u001b[0;32mIn[3], line 5\u001b[0m, in \u001b[0;36mshow_prompts_on_mask\u001b[0;34m(mask, batch, batch_idx)\u001b[0m\n\u001b[1;32m      3\u001b[0m     mask \u001b[38;5;241m=\u001b[39m resize(mask, IMG_SIZE)\n\u001b[1;32m      4\u001b[0m coord_points \u001b[38;5;241m=\u001b[39m batch[\u001b[38;5;124m\"\u001b[39m\u001b[38;5;124mpoint_coords\u001b[39m\u001b[38;5;124m\"\u001b[39m][batch_idx]\n\u001b[0;32m----> 5\u001b[0m mask_pt \u001b[38;5;241m=\u001b[39m \u001b[43mget_mask_with_prompt\u001b[49m\u001b[43m(\u001b[49m\u001b[43mbinarize_mask\u001b[49m\u001b[43m(\u001b[49m\u001b[43mmask\u001b[49m\u001b[43m[\u001b[49m\u001b[43mbatch_idx\u001b[49m\u001b[43m]\u001b[49m\u001b[43m,\u001b[49m\u001b[43m \u001b[49m\u001b[43mth\u001b[49m\u001b[38;5;241;43m=\u001b[39;49m\u001b[38;5;241;43m0\u001b[39;49m\u001b[43m)\u001b[49m\u001b[43m \u001b[49m\u001b[43m,\u001b[49m\u001b[43m \u001b[49m\u001b[43mcoord_points\u001b[49m\u001b[43m)\u001b[49m\n\u001b[1;32m      6\u001b[0m show_img(mask_pt)\n",
      "File \u001b[0;32m~/projects/stage_stylo_magique_2024/src/commons/utils.py:548\u001b[0m, in \u001b[0;36mget_mask_with_prompt\u001b[0;34m(img, coord_points)\u001b[0m\n\u001b[1;32m    545\u001b[0m \u001b[38;5;28;01mif\u001b[39;00m \u001b[38;5;28misinstance\u001b[39m(coord_points, torch\u001b[38;5;241m.\u001b[39mTensor):\n\u001b[1;32m    546\u001b[0m     coord_points \u001b[38;5;241m=\u001b[39m to_numpy(coord_points, transpose\u001b[38;5;241m=\u001b[39m\u001b[38;5;28;01mFalse\u001b[39;00m)\n\u001b[0;32m--> 548\u001b[0m \u001b[43mshow_img\u001b[49m\u001b[43m(\u001b[49m\u001b[43mimg\u001b[49m\u001b[43m \u001b[49m\u001b[38;5;241;43m>\u001b[39;49m\u001b[43m \u001b[49m\u001b[38;5;241;43m0\u001b[39;49m\u001b[43m)\u001b[49m\n\u001b[1;32m    549\u001b[0m ax \u001b[38;5;241m=\u001b[39m plt\u001b[38;5;241m.\u001b[39mgca()\n\u001b[1;32m    550\u001b[0m colors \u001b[38;5;241m=\u001b[39m [\n\u001b[1;32m    551\u001b[0m     np\u001b[38;5;241m.\u001b[39mrandom\u001b[38;5;241m.\u001b[39mchoice(\u001b[38;5;28mrange\u001b[39m(\u001b[38;5;241m256\u001b[39m), size\u001b[38;5;241m=\u001b[39m\u001b[38;5;241m3\u001b[39m) \u001b[38;5;241m/\u001b[39m \u001b[38;5;241m255\u001b[39m\n\u001b[1;32m    552\u001b[0m     \u001b[38;5;28;01mfor\u001b[39;00m _ \u001b[38;5;129;01min\u001b[39;00m \u001b[38;5;28mrange\u001b[39m(\u001b[38;5;28mlen\u001b[39m(coord_points))\n\u001b[1;32m    553\u001b[0m     ]\n",
      "File \u001b[0;32m~/projects/stage_stylo_magique_2024/src/commons/utils.py:112\u001b[0m, in \u001b[0;36mshow_img\u001b[0;34m(img, show_axis)\u001b[0m\n\u001b[1;32m    111\u001b[0m \u001b[38;5;28;01mdef\u001b[39;00m \u001b[38;5;21mshow_img\u001b[39m(img, show_axis\u001b[38;5;241m=\u001b[39m\u001b[38;5;28;01mFalse\u001b[39;00m):\n\u001b[0;32m--> 112\u001b[0m     \u001b[43mio\u001b[49m\u001b[38;5;241;43m.\u001b[39;49m\u001b[43mimshow\u001b[49m\u001b[43m(\u001b[49m\u001b[43mimg\u001b[49m\u001b[43m)\u001b[49m\n\u001b[1;32m    113\u001b[0m     \u001b[38;5;28;01mif\u001b[39;00m \u001b[38;5;129;01mnot\u001b[39;00m show_axis:\n\u001b[1;32m    114\u001b[0m         plt\u001b[38;5;241m.\u001b[39maxis(\u001b[38;5;124m\"\u001b[39m\u001b[38;5;124moff\u001b[39m\u001b[38;5;124m\"\u001b[39m)\n",
      "File \u001b[0;32m~/miniforge3/envs/mp/lib/python3.10/site-packages/skimage/io/_io.py:175\u001b[0m, in \u001b[0;36mimshow\u001b[0;34m(arr, plugin, **plugin_args)\u001b[0m\n\u001b[1;32m    173\u001b[0m \u001b[38;5;28;01mif\u001b[39;00m \u001b[38;5;28misinstance\u001b[39m(arr, \u001b[38;5;28mstr\u001b[39m):\n\u001b[1;32m    174\u001b[0m     arr \u001b[38;5;241m=\u001b[39m call_plugin(\u001b[38;5;124m'\u001b[39m\u001b[38;5;124mimread\u001b[39m\u001b[38;5;124m'\u001b[39m, arr, plugin\u001b[38;5;241m=\u001b[39mplugin)\n\u001b[0;32m--> 175\u001b[0m \u001b[38;5;28;01mreturn\u001b[39;00m \u001b[43mcall_plugin\u001b[49m\u001b[43m(\u001b[49m\u001b[38;5;124;43m'\u001b[39;49m\u001b[38;5;124;43mimshow\u001b[39;49m\u001b[38;5;124;43m'\u001b[39;49m\u001b[43m,\u001b[49m\u001b[43m \u001b[49m\u001b[43marr\u001b[49m\u001b[43m,\u001b[49m\u001b[43m \u001b[49m\u001b[43mplugin\u001b[49m\u001b[38;5;241;43m=\u001b[39;49m\u001b[43mplugin\u001b[49m\u001b[43m,\u001b[49m\u001b[43m \u001b[49m\u001b[38;5;241;43m*\u001b[39;49m\u001b[38;5;241;43m*\u001b[39;49m\u001b[43mplugin_args\u001b[49m\u001b[43m)\u001b[49m\n",
      "File \u001b[0;32m~/miniforge3/envs/mp/lib/python3.10/site-packages/skimage/io/manage_plugins.py:217\u001b[0m, in \u001b[0;36mcall_plugin\u001b[0;34m(kind, *args, **kwargs)\u001b[0m\n\u001b[1;32m    214\u001b[0m     \u001b[38;5;28;01mexcept\u001b[39;00m \u001b[38;5;167;01mIndexError\u001b[39;00m:\n\u001b[1;32m    215\u001b[0m         \u001b[38;5;28;01mraise\u001b[39;00m \u001b[38;5;167;01mRuntimeError\u001b[39;00m(\u001b[38;5;124mf\u001b[39m\u001b[38;5;124m'\u001b[39m\u001b[38;5;124mCould not find the plugin \u001b[39m\u001b[38;5;124m\"\u001b[39m\u001b[38;5;132;01m{\u001b[39;00mplugin\u001b[38;5;132;01m}\u001b[39;00m\u001b[38;5;124m\"\u001b[39m\u001b[38;5;124m for \u001b[39m\u001b[38;5;132;01m{\u001b[39;00mkind\u001b[38;5;132;01m}\u001b[39;00m\u001b[38;5;124m.\u001b[39m\u001b[38;5;124m'\u001b[39m)\n\u001b[0;32m--> 217\u001b[0m \u001b[38;5;28;01mreturn\u001b[39;00m \u001b[43mfunc\u001b[49m\u001b[43m(\u001b[49m\u001b[38;5;241;43m*\u001b[39;49m\u001b[43margs\u001b[49m\u001b[43m,\u001b[49m\u001b[43m \u001b[49m\u001b[38;5;241;43m*\u001b[39;49m\u001b[38;5;241;43m*\u001b[39;49m\u001b[43mkwargs\u001b[49m\u001b[43m)\u001b[49m\n",
      "File \u001b[0;32m~/miniforge3/envs/mp/lib/python3.10/site-packages/skimage/io/_plugins/matplotlib_plugin.py:166\u001b[0m, in \u001b[0;36mimshow\u001b[0;34m(image, ax, show_cbar, **kwargs)\u001b[0m\n\u001b[1;32m    163\u001b[0m kwargs\u001b[38;5;241m.\u001b[39msetdefault(\u001b[38;5;124m'\u001b[39m\u001b[38;5;124mvmax\u001b[39m\u001b[38;5;124m'\u001b[39m, hi)\n\u001b[1;32m    165\u001b[0m ax \u001b[38;5;241m=\u001b[39m ax \u001b[38;5;129;01mor\u001b[39;00m plt\u001b[38;5;241m.\u001b[39mgca()\n\u001b[0;32m--> 166\u001b[0m ax_im \u001b[38;5;241m=\u001b[39m \u001b[43max\u001b[49m\u001b[38;5;241;43m.\u001b[39;49m\u001b[43mimshow\u001b[49m\u001b[43m(\u001b[49m\u001b[43mimage\u001b[49m\u001b[43m,\u001b[49m\u001b[43m \u001b[49m\u001b[38;5;241;43m*\u001b[39;49m\u001b[38;5;241;43m*\u001b[39;49m\u001b[43mkwargs\u001b[49m\u001b[43m)\u001b[49m\n\u001b[1;32m    167\u001b[0m \u001b[38;5;28;01mif\u001b[39;00m (cmap \u001b[38;5;241m!=\u001b[39m _default_colormap \u001b[38;5;129;01mand\u001b[39;00m show_cbar \u001b[38;5;129;01mis\u001b[39;00m \u001b[38;5;129;01mnot\u001b[39;00m \u001b[38;5;28;01mFalse\u001b[39;00m) \u001b[38;5;129;01mor\u001b[39;00m show_cbar:\n\u001b[1;32m    168\u001b[0m     divider \u001b[38;5;241m=\u001b[39m make_axes_locatable(ax)\n",
      "File \u001b[0;32m~/miniforge3/envs/mp/lib/python3.10/site-packages/matplotlib/__init__.py:1465\u001b[0m, in \u001b[0;36m_preprocess_data.<locals>.inner\u001b[0;34m(ax, data, *args, **kwargs)\u001b[0m\n\u001b[1;32m   1462\u001b[0m \u001b[38;5;129m@functools\u001b[39m\u001b[38;5;241m.\u001b[39mwraps(func)\n\u001b[1;32m   1463\u001b[0m \u001b[38;5;28;01mdef\u001b[39;00m \u001b[38;5;21minner\u001b[39m(ax, \u001b[38;5;241m*\u001b[39margs, data\u001b[38;5;241m=\u001b[39m\u001b[38;5;28;01mNone\u001b[39;00m, \u001b[38;5;241m*\u001b[39m\u001b[38;5;241m*\u001b[39mkwargs):\n\u001b[1;32m   1464\u001b[0m     \u001b[38;5;28;01mif\u001b[39;00m data \u001b[38;5;129;01mis\u001b[39;00m \u001b[38;5;28;01mNone\u001b[39;00m:\n\u001b[0;32m-> 1465\u001b[0m         \u001b[38;5;28;01mreturn\u001b[39;00m \u001b[43mfunc\u001b[49m\u001b[43m(\u001b[49m\u001b[43max\u001b[49m\u001b[43m,\u001b[49m\u001b[43m \u001b[49m\u001b[38;5;241;43m*\u001b[39;49m\u001b[38;5;28;43mmap\u001b[39;49m\u001b[43m(\u001b[49m\u001b[43msanitize_sequence\u001b[49m\u001b[43m,\u001b[49m\u001b[43m \u001b[49m\u001b[43margs\u001b[49m\u001b[43m)\u001b[49m\u001b[43m,\u001b[49m\u001b[43m \u001b[49m\u001b[38;5;241;43m*\u001b[39;49m\u001b[38;5;241;43m*\u001b[39;49m\u001b[43mkwargs\u001b[49m\u001b[43m)\u001b[49m\n\u001b[1;32m   1467\u001b[0m     bound \u001b[38;5;241m=\u001b[39m new_sig\u001b[38;5;241m.\u001b[39mbind(ax, \u001b[38;5;241m*\u001b[39margs, \u001b[38;5;241m*\u001b[39m\u001b[38;5;241m*\u001b[39mkwargs)\n\u001b[1;32m   1468\u001b[0m     auto_label \u001b[38;5;241m=\u001b[39m (bound\u001b[38;5;241m.\u001b[39marguments\u001b[38;5;241m.\u001b[39mget(label_namer)\n\u001b[1;32m   1469\u001b[0m                   \u001b[38;5;129;01mor\u001b[39;00m bound\u001b[38;5;241m.\u001b[39mkwargs\u001b[38;5;241m.\u001b[39mget(label_namer))\n",
      "File \u001b[0;32m~/miniforge3/envs/mp/lib/python3.10/site-packages/matplotlib/axes/_axes.py:5759\u001b[0m, in \u001b[0;36mAxes.imshow\u001b[0;34m(self, X, cmap, norm, aspect, interpolation, alpha, vmin, vmax, origin, extent, interpolation_stage, filternorm, filterrad, resample, url, **kwargs)\u001b[0m\n\u001b[1;32m   5756\u001b[0m \u001b[38;5;28;01mif\u001b[39;00m aspect \u001b[38;5;129;01mis\u001b[39;00m \u001b[38;5;129;01mnot\u001b[39;00m \u001b[38;5;28;01mNone\u001b[39;00m:\n\u001b[1;32m   5757\u001b[0m     \u001b[38;5;28mself\u001b[39m\u001b[38;5;241m.\u001b[39mset_aspect(aspect)\n\u001b[0;32m-> 5759\u001b[0m \u001b[43mim\u001b[49m\u001b[38;5;241;43m.\u001b[39;49m\u001b[43mset_data\u001b[49m\u001b[43m(\u001b[49m\u001b[43mX\u001b[49m\u001b[43m)\u001b[49m\n\u001b[1;32m   5760\u001b[0m im\u001b[38;5;241m.\u001b[39mset_alpha(alpha)\n\u001b[1;32m   5761\u001b[0m \u001b[38;5;28;01mif\u001b[39;00m im\u001b[38;5;241m.\u001b[39mget_clip_path() \u001b[38;5;129;01mis\u001b[39;00m \u001b[38;5;28;01mNone\u001b[39;00m:\n\u001b[1;32m   5762\u001b[0m     \u001b[38;5;66;03m# image does not already have clipping set, clip to axes patch\u001b[39;00m\n",
      "File \u001b[0;32m~/miniforge3/envs/mp/lib/python3.10/site-packages/matplotlib/image.py:723\u001b[0m, in \u001b[0;36m_ImageBase.set_data\u001b[0;34m(self, A)\u001b[0m\n\u001b[1;32m    721\u001b[0m \u001b[38;5;28;01mif\u001b[39;00m \u001b[38;5;28misinstance\u001b[39m(A, PIL\u001b[38;5;241m.\u001b[39mImage\u001b[38;5;241m.\u001b[39mImage):\n\u001b[1;32m    722\u001b[0m     A \u001b[38;5;241m=\u001b[39m pil_to_array(A)  \u001b[38;5;66;03m# Needed e.g. to apply png palette.\u001b[39;00m\n\u001b[0;32m--> 723\u001b[0m \u001b[38;5;28mself\u001b[39m\u001b[38;5;241m.\u001b[39m_A \u001b[38;5;241m=\u001b[39m \u001b[38;5;28;43mself\u001b[39;49m\u001b[38;5;241;43m.\u001b[39;49m\u001b[43m_normalize_image_array\u001b[49m\u001b[43m(\u001b[49m\u001b[43mA\u001b[49m\u001b[43m)\u001b[49m\n\u001b[1;32m    724\u001b[0m \u001b[38;5;28mself\u001b[39m\u001b[38;5;241m.\u001b[39m_imcache \u001b[38;5;241m=\u001b[39m \u001b[38;5;28;01mNone\u001b[39;00m\n\u001b[1;32m    725\u001b[0m \u001b[38;5;28mself\u001b[39m\u001b[38;5;241m.\u001b[39mstale \u001b[38;5;241m=\u001b[39m \u001b[38;5;28;01mTrue\u001b[39;00m\n",
      "File \u001b[0;32m~/miniforge3/envs/mp/lib/python3.10/site-packages/matplotlib/image.py:693\u001b[0m, in \u001b[0;36m_ImageBase._normalize_image_array\u001b[0;34m(A)\u001b[0m\n\u001b[1;32m    691\u001b[0m     A \u001b[38;5;241m=\u001b[39m A\u001b[38;5;241m.\u001b[39msqueeze(\u001b[38;5;241m-\u001b[39m\u001b[38;5;241m1\u001b[39m)  \u001b[38;5;66;03m# If just (M, N, 1), assume scalar and apply colormap.\u001b[39;00m\n\u001b[1;32m    692\u001b[0m \u001b[38;5;28;01mif\u001b[39;00m \u001b[38;5;129;01mnot\u001b[39;00m (A\u001b[38;5;241m.\u001b[39mndim \u001b[38;5;241m==\u001b[39m \u001b[38;5;241m2\u001b[39m \u001b[38;5;129;01mor\u001b[39;00m A\u001b[38;5;241m.\u001b[39mndim \u001b[38;5;241m==\u001b[39m \u001b[38;5;241m3\u001b[39m \u001b[38;5;129;01mand\u001b[39;00m A\u001b[38;5;241m.\u001b[39mshape[\u001b[38;5;241m-\u001b[39m\u001b[38;5;241m1\u001b[39m] \u001b[38;5;129;01min\u001b[39;00m [\u001b[38;5;241m3\u001b[39m, \u001b[38;5;241m4\u001b[39m]):\n\u001b[0;32m--> 693\u001b[0m     \u001b[38;5;28;01mraise\u001b[39;00m \u001b[38;5;167;01mTypeError\u001b[39;00m(\u001b[38;5;124mf\u001b[39m\u001b[38;5;124m\"\u001b[39m\u001b[38;5;124mInvalid shape \u001b[39m\u001b[38;5;132;01m{\u001b[39;00mA\u001b[38;5;241m.\u001b[39mshape\u001b[38;5;132;01m}\u001b[39;00m\u001b[38;5;124m for image data\u001b[39m\u001b[38;5;124m\"\u001b[39m)\n\u001b[1;32m    694\u001b[0m \u001b[38;5;28;01mif\u001b[39;00m A\u001b[38;5;241m.\u001b[39mndim \u001b[38;5;241m==\u001b[39m \u001b[38;5;241m3\u001b[39m:\n\u001b[1;32m    695\u001b[0m     \u001b[38;5;66;03m# If the input data has values outside the valid range (after\u001b[39;00m\n\u001b[1;32m    696\u001b[0m     \u001b[38;5;66;03m# normalisation), we issue a warning and then clip X to the bounds\u001b[39;00m\n\u001b[1;32m    697\u001b[0m     \u001b[38;5;66;03m# - otherwise casting wraps extreme values, hiding outliers and\u001b[39;00m\n\u001b[1;32m    698\u001b[0m     \u001b[38;5;66;03m# making reliable interpretation impossible.\u001b[39;00m\n\u001b[1;32m    699\u001b[0m     high \u001b[38;5;241m=\u001b[39m \u001b[38;5;241m255\u001b[39m \u001b[38;5;28;01mif\u001b[39;00m np\u001b[38;5;241m.\u001b[39missubdtype(A\u001b[38;5;241m.\u001b[39mdtype, np\u001b[38;5;241m.\u001b[39minteger) \u001b[38;5;28;01melse\u001b[39;00m \u001b[38;5;241m1\u001b[39m\n",
      "\u001b[0;31mTypeError\u001b[0m: Invalid shape (3, 1024, 1024) for image data"
     ]
    },
    {
     "data": {
      "image/png": "[encoded data removed]",
      "text/plain": [
       "<Figure size 640x480 with 1 Axes>"
      ]
     },
     "metadata": {},
     "output_type": "display_data"
    }
   ],
   "source": [
    "show_prompts_on_mask(preds.squeeze(), batch, 0)"
   ]
  },
  {
   "cell_type": "code",
   "execution_count": 28,
   "id": "13efb9a7-fbdf-41b1-b405-7793117bf1a1",
   "metadata": {},
   "outputs": [
    {
     "data": {
      "text/plain": [
       "torch.Size([1, 256, 64, 64])"
      ]
     },
     "execution_count": 28,
     "metadata": {},
     "output_type": "execute_result"
    }
   ],
   "source": [
    "module.model.prompt_encoder.get_dense_pe().shape"
   ]
  },
  {
   "cell_type": "code",
   "execution_count": null,
   "id": "9dea00dc-d751-4b6c-8033-7da0fa25618e",
   "metadata": {},
   "outputs": [],
   "source": []
  }
 ],
 "metadata": {
  "kernelspec": {
   "display_name": "Python 3 (ipykernel)",
   "language": "python",
   "name": "python3"
  },
  "language_info": {
   "codemirror_mode": {
    "name": "ipython",
    "version": 3
   },
   "file_extension": ".py",
   "mimetype": "text/x-python",
   "name": "python",
   "nbconvert_exporter": "python",
   "pygments_lexer": "ipython3",
   "version": "3.11.9"
  }
 },
 "nbformat": 4,
 "nbformat_minor": 5
}
