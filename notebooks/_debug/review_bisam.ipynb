{
 "cells": [
  {
   "cell_type": "code",
   "execution_count": 13,
   "id": "62151356-6228-48b4-b68f-926d8bae062d",
   "metadata": {},
   "outputs": [],
   "source": [
    "from src.commons.utils import to_numpy, SegAnyChangeVersion, show_img, show_pair_img, show_prediction_sample\n",
    "from src.models.commons.mask_process import extract_object_from_batch\n",
    "import torch\n",
    "from src.data.process import generate_grid_prompt\n",
    "import numpy as np\n",
    "from src.commons.utils import create_sample_grid_with_prompt, get_mask_with_prompt, fig2arr\n",
    "\n",
    "import numpy as np\n",
    "import cv2\n",
    "from PIL import Image\n",
    "import torch\n",
    "import pytorch_lightning as pl\n",
    "import pandas as pd\n",
    "import os\n",
    "from copy import deepcopy\n",
    "import torch.nn.functional as F\n",
    "from torchmetrics import Metric\n",
    "from tqdm import tqdm\n",
    "import torch\n",
    "import matplotlib.pyplot as plt\n",
    "from torch.utils import data\n",
    "from torch.nn.utils.rnn import pad_sequence"
   ]
  },
  {
   "cell_type": "code",
   "execution_count": 14,
   "id": "bba1c3a6-384b-4c19-b8be-95d0a6734706",
   "metadata": {},
   "outputs": [],
   "source": [
    "from src.data.loader import BiTemporalDataset\n",
    "from src.data.process import DefaultTransform\n",
    "from omegaconf import OmegaConf\n",
    "\n",
    "params = {\n",
    "    \"prompt_type\": \"sample\",\n",
    "    \"n_prompt\": 1,\n",
    "    \"loc\": \"center\",\n",
    "    \"batch_size\": 4,\n",
    "}\n",
    "ds = BiTemporalDataset(\n",
    "            name=\"levir-cd\",\n",
    "            dtype=\"test\",\n",
    "            transform=DefaultTransform(),\n",
    "            params=OmegaConf.create(params),\n",
    "        )"
   ]
  },
  {
   "cell_type": "code",
   "execution_count": 15,
   "id": "3af23365-cc6f-47f9-8f96-c13215407592",
   "metadata": {},
   "outputs": [],
   "source": [
    "from typing import List, Tuple, Dict, Any\n",
    "def collate_align_prompt(input: List[Any]):\n",
    "\n",
    "    prompt_pts = [d[\"point_coords\"] for d in input]\n",
    "    prompt_labels = [d[\"point_labels\"] for d in input]\n",
    "\n",
    "    # we set -1 as value to ignore prompt\n",
    "    batch_pts = pad_sequence(prompt_pts, batch_first=True, padding_value=0)\n",
    "    # negative prompt : 0 is ignore - (same as positive prompt btw)\n",
    "    batch_labels = pad_sequence(prompt_labels, batch_first=True, padding_value=0)\n",
    "\n",
    "\n",
    "    for i in range(len(input)):\n",
    "        input[i][\"point_coords\"] = batch_pts[i]\n",
    "        input[i][\"point_labels\"] = batch_labels[i]\n",
    "\n",
    "    return data._utils.collate.default_collate(input)"
   ]
  },
  {
   "cell_type": "code",
   "execution_count": 16,
   "id": "99b17081-1eae-4be4-bb23-4d978dd8b017",
   "metadata": {},
   "outputs": [],
   "source": [
    "dloader = data.DataLoader(\n",
    "            ds,\n",
    "            batch_size=params.get('batch_size'),\n",
    "            shuffle=False,\n",
    "            num_workers=0,\n",
    "            collate_fn=collate_align_prompt\n",
    "        )"
   ]
  },
  {
   "cell_type": "code",
   "execution_count": 17,
   "id": "6e6da355-19ba-413d-b440-44e37a315fb8",
   "metadata": {},
   "outputs": [
    {
     "name": "stdout",
     "output_type": "stream",
     "text": [
      "/home/MDizier/data/dl/levir-cd/test/label/test_1.png\n",
      "FIND SHAPES 12\n",
      "/home/MDizier/data/dl/levir-cd/test/label/test_2.png\n",
      "FIND SHAPES 48\n",
      "/home/MDizier/data/dl/levir-cd/test/label/test_3.png\n",
      "FIND SHAPES 7\n",
      "/home/MDizier/data/dl/levir-cd/test/label/test_4.png\n",
      "FIND SHAPES 11\n"
     ]
    }
   ],
   "source": [
    "batch = next(iter(dloader))"
   ]
  },
  {
   "cell_type": "code",
   "execution_count": 18,
   "id": "0b4582bf-3172-4d32-b45e-e66c34291371",
   "metadata": {},
   "outputs": [],
   "source": [
    "from src.commons.utils_io import load_sam\n",
    "from src.models.commons.bisam import BiSam2, SamModeInference\n",
    "from src.commons.utils import batch_to_list"
   ]
  },
  {
   "cell_type": "code",
   "execution_count": 19,
   "id": "901606c3-7f44-47cb-93e9-bf4431156b65",
   "metadata": {},
   "outputs": [
    {
     "name": "stderr",
     "output_type": "stream",
     "text": [
      "2024-07-18 08:56:08,742 - INFO ::  build vit_b BiSam2\n"
     ]
    }
   ],
   "source": [
    "bisam2 = load_sam(\n",
    "    model_type=\"vit_b\", model_cls=BiSam2, version= \"dev2\", device=\"cpu\"\n",
    ")"
   ]
  },
  {
   "cell_type": "code",
   "execution_count": null,
   "id": "1b31d80b-c337-44bd-a702-3f8daf340d39",
   "metadata": {},
   "outputs": [],
   "source": []
  },
  {
   "cell_type": "code",
   "execution_count": 20,
   "id": "4d3525e2-aabd-4f32-81da-260b41682698",
   "metadata": {},
   "outputs": [
    {
     "name": "stdout",
     "output_type": "stream",
     "text": [
      "torch.Size([1, 3, 256, 256])\n",
      "torch.Size([1, 3, 256, 256])\n",
      "torch.Size([1, 3, 256, 256])\n",
      "torch.Size([1, 3, 256, 256])\n"
     ]
    }
   ],
   "source": [
    "out = bisam2(batch, multimask_output=True)"
   ]
  },
  {
   "cell_type": "markdown",
   "id": "f458825d-7f37-4e70-9efd-9e8e5e04fe1b",
   "metadata": {},
   "source": [
    "### multioutput == True"
   ]
  },
  {
   "cell_type": "code",
   "execution_count": 56,
   "id": "09986a7b-ff1b-48f1-83cd-b36ee5937c40",
   "metadata": {},
   "outputs": [],
   "source": [
    "preds = (out[\"masks\"] > 0.).squeeze(2)"
   ]
  },
  {
   "cell_type": "code",
   "execution_count": 62,
   "id": "5559161c-5e92-44be-88f2-af55d6135602",
   "metadata": {},
   "outputs": [
    {
     "data": {
      "text/plain": [
       "torch.Size([4, 1])"
      ]
     },
     "execution_count": 62,
     "metadata": {},
     "output_type": "execute_result"
    }
   ],
   "source": [
    "idx_max.shape"
   ]
  },
  {
   "cell_type": "code",
   "execution_count": 61,
   "id": "1f504eb7-bc83-4cbb-a761-397a09a04418",
   "metadata": {},
   "outputs": [
    {
     "data": {
      "text/plain": [
       "torch.Size([4, 1, 3, 256, 256])"
      ]
     },
     "execution_count": 61,
     "metadata": {},
     "output_type": "execute_result"
    }
   ],
   "source": [
    "preds.shape"
   ]
  },
  {
   "cell_type": "code",
   "execution_count": 57,
   "id": "e87ffb3b-67ec-4230-828c-a747f4a0ba48",
   "metadata": {},
   "outputs": [],
   "source": [
    "idx_max = torch.argmax(out[\"iou_predictions\"], dim=2)\n",
    "expanded_indices = idx_max.unsqueeze(-1).unsqueeze(-1).unsqueeze(-1).expand(-1, -1, 1, 256, 256)\n",
    "# Use gather to select elements along dim 2\n",
    "selected_elements = torch.gather(preds, 2, expanded_indices).squeeze(2)"
   ]
  },
  {
   "cell_type": "code",
   "execution_count": 58,
   "id": "6748f0c9-c08c-4317-afc3-c38bea6c480c",
   "metadata": {},
   "outputs": [
    {
     "data": {
      "text/plain": [
       "torch.Size([4, 1, 256, 256])"
      ]
     },
     "execution_count": 58,
     "metadata": {},
     "output_type": "execute_result"
    }
   ],
   "source": [
    "selected_elements.shape"
   ]
  },
  {
   "cell_type": "code",
   "execution_count": 31,
   "id": "336c612a-1a21-4efc-9793-f1bdf55c3831",
   "metadata": {},
   "outputs": [
    {
     "data": {
      "text/plain": [
       "<matplotlib.image.AxesImage at 0x7f27c41768f0>"
      ]
     },
     "execution_count": 31,
     "metadata": {},
     "output_type": "execute_result"
    },
    {
     "data": {
      "image/png": "[encoded data removed]",
      "text/plain": [
       "<Figure size 640x480 with 1 Axes>"
      ]
     },
     "metadata": {},
     "output_type": "display_data"
    }
   ],
   "source": [
    "plt.imshow(to_numpy(selected_elements[0].squeeze(), transpose=False))"
   ]
  },
  {
   "cell_type": "code",
   "execution_count": 23,
   "id": "52297ff5-4c4f-4921-a93e-983c7531ab51",
   "metadata": {},
   "outputs": [
    {
     "data": {
      "text/plain": [
       "torch.Size([4, 1, 256, 256])"
      ]
     },
     "execution_count": 23,
     "metadata": {},
     "output_type": "execute_result"
    }
   ],
   "source": [
    "selected_elements.shape"
   ]
  },
  {
   "cell_type": "markdown",
   "id": "78aa0b51-4200-4d58-be52-276b6cf6d28a",
   "metadata": {},
   "source": [
    "### multioutput == False"
   ]
  },
  {
   "cell_type": "code",
   "execution_count": 55,
   "id": "77e872ce-74a4-44ba-9d74-ba50d0c3ea32",
   "metadata": {},
   "outputs": [
    {
     "data": {
      "text/plain": [
       "torch.Size([4, 1, 3, 256, 256])"
      ]
     },
     "execution_count": 55,
     "metadata": {},
     "output_type": "execute_result"
    }
   ],
   "source": [
    "out[\"masks\"].shape"
   ]
  },
  {
   "cell_type": "code",
   "execution_count": 9,
   "id": "3b8d9ef6-a82c-476a-b97b-a5ff9d80b61f",
   "metadata": {},
   "outputs": [],
   "source": [
    "preds = bisam2.upscale_masks(out[\"masks\"], (1024, 1024))"
   ]
  },
  {
   "cell_type": "code",
   "execution_count": 10,
   "id": "48038d24-0629-4801-a175-c36f33829d3e",
   "metadata": {},
   "outputs": [
    {
     "data": {
      "text/plain": [
       "torch.Size([4, 1, 1, 1024, 1024])"
      ]
     },
     "execution_count": 10,
     "metadata": {},
     "output_type": "execute_result"
    }
   ],
   "source": [
    "preds.shape"
   ]
  },
  {
   "cell_type": "code",
   "execution_count": 11,
   "id": "047d0c94-66a5-4dba-9916-dfdad70fd0b6",
   "metadata": {},
   "outputs": [
    {
     "data": {
      "text/plain": [
       "torch.Size([4, 1024, 1024])"
      ]
     },
     "execution_count": 11,
     "metadata": {},
     "output_type": "execute_result"
    }
   ],
   "source": [
    "preds = (preds > 0.).squeeze(1).squeeze(1)\n",
    "preds.shape"
   ]
  },
  {
   "cell_type": "code",
   "execution_count": 12,
   "id": "71f4bc67-7095-4028-9dbb-34df2d89ff84",
   "metadata": {},
   "outputs": [
    {
     "data": {
      "image/png": "[encoded data removed]",
      "text/plain": [
       "<Figure size 640x480 with 1 Axes>"
      ]
     },
     "metadata": {},
     "output_type": "display_data"
    }
   ],
   "source": [
    "idx = 0\n",
    "mask = to_numpy(preds[idx], transpose=False)\n",
    "coord_points = batch[\"point_coords\"][idx]\n",
    "mask_pt = get_mask_with_prompt(mask, coord_points)\n",
    "show_img(mask_pt)"
   ]
  },
  {
   "cell_type": "markdown",
   "id": "63af2e07-b8c0-4622-870d-835b15186fc4",
   "metadata": {},
   "source": [
    "On prédit un seul masque dans les deux cas car tous les pormpts sont associés à un meme objet !"
   ]
  },
  {
   "cell_type": "code",
   "execution_count": 14,
   "id": "513b798a-ac60-422d-870f-5648c1328c38",
   "metadata": {},
   "outputs": [
    {
     "data": {
      "text/plain": [
       "<matplotlib.image.AxesImage at 0x7fb6704c2d40>"
      ]
     },
     "execution_count": 14,
     "metadata": {},
     "output_type": "execute_result"
    },
    {
     "data": {
      "image/png": "[encoded data removed]",
      "text/plain": [
       "<Figure size 640x480 with 1 Axes>"
      ]
     },
     "metadata": {},
     "output_type": "display_data"
    }
   ],
   "source": [
    "plt.imshow(to_numpy(preds[1], transpose=False))"
   ]
  },
  {
   "cell_type": "code",
   "execution_count": 13,
   "id": "808abd23-aec2-4fe7-b4d5-58a46087740d",
   "metadata": {},
   "outputs": [
    {
     "data": {
      "text/plain": [
       "torch.Size([1024, 1024])"
      ]
     },
     "execution_count": 13,
     "metadata": {},
     "output_type": "execute_result"
    }
   ],
   "source": [
    "preds[0].shape"
   ]
  },
  {
   "cell_type": "code",
   "execution_count": 32,
   "id": "e7201db3-92db-4b5b-8744-fa93595fe8b8",
   "metadata": {},
   "outputs": [
    {
     "name": "stderr",
     "output_type": "stream",
     "text": [
      "2024-07-18 09:37:08,050 - INFO ::  build SAM\n"
     ]
    }
   ],
   "source": [
    "from src.models.segment_anything import sam_model_registry_ori, SamPredictor\n",
    "from src.commons.constants import SAM_MODEL_SMALL_PATH\n",
    "\n",
    "idx= 0\n",
    "img_path = f\"/home/MDizier/data/dl/levir-cd/test/B/test_{idx+1}.png\"\n",
    "\n",
    "image = cv2.imread(img_path)\n",
    "image = cv2.cvtColor(image, cv2.COLOR_BGR2RGB)\n",
    "\n",
    "device = \"cuda\"\n",
    "model_type = \"vit_b\"\n",
    "\n",
    "sam = sam_model_registry_ori[model_type](checkpoint=SAM_MODEL_SMALL_PATH)\n",
    "sam.to(device=device)\n",
    "\n",
    "predictor = SamPredictor(sam)\n",
    "predictor.set_image(image)\n"
   ]
  },
  {
   "cell_type": "code",
   "execution_count": 40,
   "id": "8eaeee41-59b4-4e0d-ab26-3c31efeaf274",
   "metadata": {},
   "outputs": [
    {
     "data": {
      "text/plain": [
       "torch.Size([48, 2])"
      ]
     },
     "execution_count": 40,
     "metadata": {},
     "output_type": "execute_result"
    }
   ],
   "source": [
    "batch[\"point_coords\"][idx].shape"
   ]
  },
  {
   "cell_type": "code",
   "execution_count": 41,
   "id": "8ea727a5-1e2a-4a0a-866a-8bdc35155f2c",
   "metadata": {},
   "outputs": [],
   "source": [
    "point_coords = batch[\"point_coords\"][idx]\n",
    "# remove padding points\n",
    "point_coords = point_coords[torch.sum(point_coords, dim=1) > 0]\n",
    "# remove padding points\n",
    "point_labels = batch[\"point_labels\"][idx]\n",
    "point_labels = point_labels[:point_coords.shape[0]]  \n",
    "\n",
    "input_point = to_numpy(point_coords, transpose=False)\n",
    "input_label = to_numpy(point_labels, transpose=False)"
   ]
  },
  {
   "cell_type": "code",
   "execution_count": 42,
   "id": "f44f99f5-a24c-49e2-8d39-89cc91b68882",
   "metadata": {},
   "outputs": [
    {
     "data": {
      "text/plain": [
       "((12,), (12, 2))"
      ]
     },
     "execution_count": 42,
     "metadata": {},
     "output_type": "execute_result"
    }
   ],
   "source": [
    "input_label.shape, input_point.shape"
   ]
  },
  {
   "cell_type": "code",
   "execution_count": 43,
   "id": "b71a1caa-7211-41ae-8b0b-d30d28d233b2",
   "metadata": {},
   "outputs": [
    {
     "name": "stdout",
     "output_type": "stream",
     "text": [
      "sparse emb : torch.Size([1, 13, 256])\n",
      "dense emb : torch.Size([1, 256, 64, 64])\n",
      "low mask  predict torch : torch.Size([1, 1, 256, 256])\n",
      "low mask  predict torch : torch.Size([1, 1, 1024, 1024])\n"
     ]
    }
   ],
   "source": [
    "masks, scores, logits = predictor.predict(\n",
    "    point_coords=input_point,\n",
    "    point_labels=input_label,\n",
    "    multimask_output=False,\n",
    ")"
   ]
  },
  {
   "cell_type": "code",
   "execution_count": 44,
   "id": "ea35c38d-f830-4ab3-b454-64019f9ada54",
   "metadata": {},
   "outputs": [
    {
     "data": {
      "image/png": "[encoded data removed]",
      "text/plain": [
       "<Figure size 640x480 with 1 Axes>"
      ]
     },
     "metadata": {},
     "output_type": "display_data"
    }
   ],
   "source": [
    "show_img(masks.squeeze())"
   ]
  },
  {
   "cell_type": "markdown",
   "id": "17bb14d5-13d5-480f-ac7e-73cde45bd961",
   "metadata": {},
   "source": [
    "### batch prompt\n",
    "* un prompt == un objet"
   ]
  },
  {
   "cell_type": "code",
   "execution_count": 47,
   "id": "88e6e652-bef8-41f6-977c-03ee3ad7493e",
   "metadata": {},
   "outputs": [
    {
     "data": {
      "text/plain": [
       "(torch.Size([12, 2]), torch.Size([12]))"
      ]
     },
     "execution_count": 47,
     "metadata": {},
     "output_type": "execute_result"
    }
   ],
   "source": [
    "point_coords = batch[\"point_coords\"][idx]\n",
    "# remove padding points\n",
    "point_coords = point_coords[torch.sum(point_coords, dim=1) > 0]\n",
    "# remove padding points\n",
    "point_labels = batch[\"point_labels\"][idx]\n",
    "point_labels = point_labels[:point_coords.shape[0]]  \n",
    "input_point = point_coords.clone().to(device)\n",
    "input_label = point_labels.clone().to(device)\n",
    "input_point.shape, input_label.shape"
   ]
  },
  {
   "cell_type": "code",
   "execution_count": 51,
   "id": "40fb4122-bbeb-46ec-ad44-96c7785905f1",
   "metadata": {},
   "outputs": [
    {
     "name": "stdout",
     "output_type": "stream",
     "text": [
      "sparse emb : torch.Size([12, 2, 256])\n",
      "dense emb : torch.Size([12, 256, 64, 64])\n",
      "low mask  predict torch : torch.Size([12, 1, 256, 256])\n",
      "low mask  predict torch : torch.Size([12, 1, 1024, 1024])\n"
     ]
    }
   ],
   "source": [
    "masks, ious, _ = predictor.predict_torch(\n",
    "    point_coords=input_point[:,None ,:],\n",
    "    point_labels=input_label[:, None],\n",
    "    boxes=None,\n",
    "    multimask_output=False,\n",
    ")"
   ]
  },
  {
   "cell_type": "code",
   "execution_count": 52,
   "id": "417b3cc4-fdb4-4e55-ad91-47ac43ce1129",
   "metadata": {},
   "outputs": [
    {
     "data": {
      "text/plain": [
       "torch.Size([12, 1, 1024, 1024])"
      ]
     },
     "execution_count": 52,
     "metadata": {},
     "output_type": "execute_result"
    }
   ],
   "source": [
    "masks.shape"
   ]
  },
  {
   "cell_type": "code",
   "execution_count": 54,
   "id": "895dc3eb-c680-4678-8d23-7ff145de7bee",
   "metadata": {},
   "outputs": [
    {
     "data": {
      "image/png": "[encoded data removed]",
      "text/plain": [
       "<Figure size 640x480 with 1 Axes>"
      ]
     },
     "metadata": {},
     "output_type": "display_data"
    }
   ],
   "source": [
    "show_img(to_numpy(torch.sum(masks.squeeze(), dim=0), transpose=False))"
   ]
  },
  {
   "cell_type": "markdown",
   "id": "bdb3cb5b-f496-463c-9e3a-a4ae835c6479",
   "metadata": {},
   "source": [
    "Ok ! La onna chaque prompt pour un objet different!"
   ]
  },
  {
   "cell_type": "code",
   "execution_count": null,
   "id": "4994d6df-3822-4818-b3e8-bdb5b8e4e4fc",
   "metadata": {},
   "outputs": [],
   "source": []
  }
 ],
 "metadata": {
  "kernelspec": {
   "display_name": "Python 3 (ipykernel)",
   "language": "python",
   "name": "python3"
  },
  "language_info": {
   "codemirror_mode": {
    "name": "ipython",
    "version": 3
   },
   "file_extension": ".py",
   "mimetype": "text/x-python",
   "name": "python",
   "nbconvert_exporter": "python",
   "pygments_lexer": "ipython3",
   "version": "3.10.14"
  }
 },
 "nbformat": 4,
 "nbformat_minor": 5
}
