{
 "cells": [
  {
   "cell_type": "code",
   "execution_count": 1,
   "id": "fdf8facc-ab7a-44bf-a1ef-74e1eda1dbeb",
   "metadata": {},
   "outputs": [],
   "source": [
    "import hydra\n",
    "import torch\n",
    "from omegaconf import DictConfig, OmegaConf\n",
    "from typing import Any, Dict, List, Optional, Tuple, Union\n",
    "from deprecated import deprecated\n",
    "from omegaconf import DictConfig\n",
    "import numpy as np\n",
    "import torch.nn.functional as F\n",
    "from torch.nn.utils.rnn import pad_sequence\n",
    "from torch.utils import data\n",
    "\n",
    "from src.data.process import DefaultTransform\n",
    "from src.data.loader import BiTemporalDataset, load_levircd_sample\n",
    "from src.models.commons.mask_process import binarize_mask, extract_object_from_batch\n",
    "from src.models.segment_anything.utils.transforms import ResizeLongestSide\n",
    "from src.models.segment_anything.utils.amg import build_point_grid\n",
    "from src.commons.utils import *\n",
    "from src.commons.utils_io import load_img\n",
    "from src.commons.constants import PROJECT_PATH, DEVICE, IMG_SIZE\n",
    "\n",
    "from hydra.core.global_hydra import GlobalHydra"
   ]
  },
  {
   "cell_type": "code",
   "execution_count": 2,
   "id": "f868bcf8-2e80-490e-bc4d-adeaf0e700d3",
   "metadata": {},
   "outputs": [],
   "source": [
    "from torch.profiler import profile, record_function, ProfilerActivity"
   ]
  },
  {
   "cell_type": "markdown",
   "id": "b0cce21f-a2d3-4ddd-a3bd-339fd5507037",
   "metadata": {},
   "source": [
    "### Batch iteration with prompt"
   ]
  },
  {
   "cell_type": "code",
   "execution_count": 3,
   "id": "0c5e868f-bf51-4dd7-a4c7-719f3a47d50f",
   "metadata": {},
   "outputs": [],
   "source": [
    "params = {\n",
    "    \"prompt_type\": \"sample\",\n",
    "    \"n_prompt\": 1,\n",
    "    \"n_shape\": 3,\n",
    "    \"loc\": \"center\",\n",
    "    \"batch_size\": 1,\n",
    "}\n",
    "ds = BiTemporalDataset(\n",
    "        name=\"levir-cd\",\n",
    "        dtype=\"train\",\n",
    "        transform=DefaultTransform(),\n",
    "        params=OmegaConf.create(params),\n",
    "    )       \n",
    "\n",
    "dloader = data.DataLoader(\n",
    "            ds,\n",
    "            batch_size=params.get('batch_size'),\n",
    "            shuffle=False,\n",
    "            num_workers=0,\n",
    "        ) "
   ]
  },
  {
   "cell_type": "code",
   "execution_count": 4,
   "id": "2709ae80-a721-4261-b687-9b61895a42e1",
   "metadata": {},
   "outputs": [
    {
     "name": "stderr",
     "output_type": "stream",
     "text": [
      "2024-09-17 15:56:38,782 - INFO ::  Function remap_values Took 0.0014 seconds\n",
      "2024-09-17 15:56:38,791 - INFO ::  Function extract_object_from_batch Took 0.7767 seconds\n",
      "2024-09-17 15:56:38,921 - INFO ::  Function sample_candidates_shapes Took 0.0066 seconds\n",
      "2024-09-17 15:56:38,924 - INFO ::  Function draw_center_point Took 0.0017 seconds\n",
      "2024-09-17 15:56:38,926 - INFO ::  Function draw_center_point Took 0.0006 seconds\n",
      "2024-09-17 15:56:38,927 - INFO ::  Function draw_center_point Took 0.0005 seconds\n",
      "2024-09-17 15:56:38,929 - INFO ::  Function sample Took 0.9150 seconds\n"
     ]
    },
    {
     "name": "stdout",
     "output_type": "stream",
     "text": [
      "CPU times: user 44.1 s, sys: 1.13 s, total: 45.2 s\n",
      "Wall time: 1.15 s\n"
     ]
    }
   ],
   "source": [
    "%%time\n",
    "batch = next(iter(dloader))"
   ]
  },
  {
   "cell_type": "code",
   "execution_count": 5,
   "id": "61038756-6b55-4f7d-91c6-00c19d1d7ddc",
   "metadata": {},
   "outputs": [
    {
     "name": "stderr",
     "output_type": "stream",
     "text": [
      "2024-09-17 15:37:20,330 - INFO ::  Function extract_object_from_batch Took 0.7567 seconds\n",
      "2024-09-17 15:37:20,481 - INFO ::  Function sample_candidates_shapes Took 0.0044 seconds\n",
      "2024-09-17 15:37:20,484 - INFO ::  Function draw_center_point Took 0.0007 seconds\n",
      "2024-09-17 15:37:20,486 - INFO ::  Function draw_center_point Took 0.0006 seconds\n",
      "2024-09-17 15:37:20,487 - INFO ::  Function draw_center_point Took 0.0005 seconds\n",
      "2024-09-17 15:37:20,489 - INFO ::  Function sample Took 0.9157 seconds\n",
      "2024-09-17 15:37:21,543 - INFO ::  Function extract_object_from_batch Took 0.8081 seconds\n",
      "2024-09-17 15:37:21,849 - INFO ::  Function sample_candidates_shapes Took 0.0049 seconds\n",
      "2024-09-17 15:37:21,851 - INFO ::  Function draw_center_point Took 0.0006 seconds\n",
      "2024-09-17 15:37:21,852 - INFO ::  Function draw_center_point Took 0.0005 seconds\n",
      "2024-09-17 15:37:21,853 - INFO ::  Function draw_center_point Took 0.0003 seconds\n",
      "2024-09-17 15:37:21,855 - INFO ::  Function sample Took 1.1203 seconds\n",
      "2024-09-17 15:37:22,568 - INFO ::  Function extract_object_from_batch Took 0.5438 seconds\n",
      "2024-09-17 15:37:22,887 - INFO ::  Function sample_candidates_shapes Took 0.0047 seconds\n",
      "2024-09-17 15:37:22,889 - INFO ::  Function draw_center_point Took 0.0007 seconds\n",
      "2024-09-17 15:37:22,891 - INFO ::  Function draw_center_point Took 0.0005 seconds\n",
      "2024-09-17 15:37:22,892 - INFO ::  Function draw_center_point Took 0.0005 seconds\n",
      "2024-09-17 15:37:22,897 - INFO ::  Function sample Took 0.8725 seconds\n",
      "2024-09-17 15:37:23,555 - INFO ::  Function extract_object_from_batch Took 0.5075 seconds\n",
      "2024-09-17 15:37:23,859 - INFO ::  Function sample_candidates_shapes Took 0.0047 seconds\n",
      "2024-09-17 15:37:23,861 - INFO ::  Function draw_center_point Took 0.0013 seconds\n",
      "2024-09-17 15:37:23,862 - INFO ::  Function draw_center_point Took 0.0003 seconds\n",
      "2024-09-17 15:37:23,864 - INFO ::  Function draw_center_point Took 0.0004 seconds\n",
      "2024-09-17 15:37:23,867 - INFO ::  Function sample Took 0.8198 seconds\n",
      "2024-09-17 15:37:24,564 - INFO ::  Function extract_object_from_batch Took 0.5304 seconds\n",
      "2024-09-17 15:37:24,712 - INFO ::  Function sample_candidates_shapes Took 0.0057 seconds\n",
      "2024-09-17 15:37:24,714 - INFO ::  Function draw_center_point Took 0.0005 seconds\n",
      "2024-09-17 15:37:24,714 - INFO ::  Function draw_center_point Took 0.0004 seconds\n",
      "2024-09-17 15:37:24,716 - INFO ::  Function draw_center_point Took 0.0003 seconds\n",
      "2024-09-17 15:37:24,717 - INFO ::  Function sample Took 0.6838 seconds\n",
      "2024-09-17 15:37:25,397 - INFO ::  Function extract_object_from_batch Took 0.5353 seconds\n",
      "2024-09-17 15:37:25,544 - INFO ::  Function sample_candidates_shapes Took 0.0063 seconds\n",
      "2024-09-17 15:37:25,546 - INFO ::  Function draw_center_point Took 0.0005 seconds\n",
      "2024-09-17 15:37:25,547 - INFO ::  Function draw_center_point Took 0.0004 seconds\n",
      "2024-09-17 15:37:25,548 - INFO ::  Function draw_center_point Took 0.0003 seconds\n",
      "2024-09-17 15:37:25,549 - INFO ::  Function sample Took 0.6873 seconds\n",
      "2024-09-17 15:37:26,186 - INFO ::  Function extract_object_from_batch Took 0.4985 seconds\n",
      "2024-09-17 15:37:26,243 - INFO ::  Function sample_candidates_shapes Took 0.0015 seconds\n",
      "2024-09-17 15:37:26,244 - INFO ::  Function draw_center_point Took 0.0004 seconds\n",
      "2024-09-17 15:37:26,246 - INFO ::  Function draw_center_point Took 0.0011 seconds\n",
      "2024-09-17 15:37:26,247 - INFO ::  Function draw_center_point Took 0.0006 seconds\n",
      "2024-09-17 15:37:26,247 - INFO ::  Function sample Took 0.5597 seconds\n",
      "2024-09-17 15:37:26,898 - INFO ::  Function extract_object_from_batch Took 0.4980 seconds\n",
      "2024-09-17 15:37:26,923 - INFO ::  Function sample_candidates_shapes Took 0.0020 seconds\n",
      "2024-09-17 15:37:26,925 - INFO ::  Function draw_center_point Took 0.0006 seconds\n",
      "2024-09-17 15:37:26,926 - INFO ::  Function draw_center_point Took 0.0004 seconds\n",
      "2024-09-17 15:37:26,927 - INFO ::  Function draw_center_point Took 0.0003 seconds\n",
      "2024-09-17 15:37:26,927 - INFO ::  Function sample Took 0.5275 seconds\n",
      "2024-09-17 15:37:27,571 - INFO ::  Function extract_object_from_batch Took 0.5186 seconds\n",
      "2024-09-17 15:37:27,593 - INFO ::  Function sample_candidates_shapes Took 0.0020 seconds\n",
      "2024-09-17 15:37:27,596 - INFO ::  Function draw_center_point Took 0.0009 seconds\n",
      "2024-09-17 15:37:27,597 - INFO ::  Function draw_center_point Took 0.0005 seconds\n",
      "2024-09-17 15:37:27,598 - INFO ::  Function draw_center_point Took 0.0004 seconds\n",
      "2024-09-17 15:37:27,599 - INFO ::  Function sample Took 0.5465 seconds\n",
      "2024-09-17 15:37:28,292 - INFO ::  Function extract_object_from_batch Took 0.5160 seconds\n",
      "2024-09-17 15:37:28,512 - INFO ::  Function sample_candidates_shapes Took 0.0017 seconds\n",
      "2024-09-17 15:37:28,514 - INFO ::  Function draw_center_point Took 0.0005 seconds\n",
      "2024-09-17 15:37:28,515 - INFO ::  Function draw_center_point Took 0.0011 seconds\n",
      "2024-09-17 15:37:28,516 - INFO ::  Function draw_center_point Took 0.0003 seconds\n",
      "2024-09-17 15:37:28,518 - INFO ::  Function sample Took 0.7413 seconds\n"
     ]
    },
    {
     "name": "stdout",
     "output_type": "stream",
     "text": [
      "CPU times: user 6min 59s, sys: 8.37 s, total: 7min 8s\n",
      "Wall time: 9.15 s\n"
     ]
    }
   ],
   "source": [
    "%%time\n",
    "for i, batch in enumerate(dloader):\n",
    "    if i == 9:\n",
    "        break"
   ]
  },
  {
   "cell_type": "markdown",
   "id": "cd7713f7-6f8b-46ea-98fc-60ea363269f2",
   "metadata": {},
   "source": [
    "### No prompts"
   ]
  },
  {
   "cell_type": "code",
   "execution_count": 6,
   "id": "6d7f140f-be46-4223-9db8-d16d01ee2360",
   "metadata": {},
   "outputs": [],
   "source": [
    "params = {\n",
    "    \"prompt_type\": \"sample\",\n",
    "    \"n_prompt\": 1,\n",
    "    \"n_shape\": 0,\n",
    "    \"loc\": \"center\",\n",
    "    \"batch_size\": 1,\n",
    "}\n",
    "ds = BiTemporalDataset(\n",
    "        name=\"levir-cd\",\n",
    "        dtype=\"train\",\n",
    "        transform=DefaultTransform(),\n",
    "        params=OmegaConf.create(params),\n",
    "    )       \n",
    "\n",
    "dloader = data.DataLoader(\n",
    "            ds,\n",
    "            batch_size=params.get('batch_size'),\n",
    "            shuffle=False,\n",
    "            num_workers=0,\n",
    "        ) "
   ]
  },
  {
   "cell_type": "code",
   "execution_count": 7,
   "id": "8fa77f03-046e-438a-88ea-2a214c47edd4",
   "metadata": {},
   "outputs": [
    {
     "name": "stdout",
     "output_type": "stream",
     "text": [
      "CPU times: user 9.11 s, sys: 385 ms, total: 9.49 s\n",
      "Wall time: 218 ms\n"
     ]
    }
   ],
   "source": [
    "%%time\n",
    "batch = next(iter(dloader))"
   ]
  },
  {
   "cell_type": "code",
   "execution_count": 8,
   "id": "e95a5a2e-2255-46f7-96bc-6d60cc125d04",
   "metadata": {},
   "outputs": [
    {
     "name": "stdout",
     "output_type": "stream",
     "text": [
      "CPU times: user 1min 27s, sys: 2.72 s, total: 1min 30s\n",
      "Wall time: 1.9 s\n"
     ]
    }
   ],
   "source": [
    "%%time\n",
    "for i, batch in enumerate(dloader):\n",
    "    if i == 9:\n",
    "        break"
   ]
  },
  {
   "cell_type": "code",
   "execution_count": 6,
   "id": "0f3d601b-470b-4d86-88c5-130b6f180e77",
   "metadata": {},
   "outputs": [
    {
     "data": {
      "text/plain": [
       "device(type='cpu')"
      ]
     },
     "execution_count": 6,
     "metadata": {},
     "output_type": "execute_result"
    }
   ],
   "source": [
    "batch[\"label\"].device"
   ]
  },
  {
   "cell_type": "markdown",
   "id": "83a189f4-4171-4201-9bfc-23fe8e54cf99",
   "metadata": {},
   "source": [
    "### To GPU"
   ]
  },
  {
   "cell_type": "code",
   "execution_count": 19,
   "id": "818b0188-6137-4d29-b8f0-c5237cbe5b2b",
   "metadata": {},
   "outputs": [
    {
     "name": "stdout",
     "output_type": "stream",
     "text": [
      "0.60.0\n"
     ]
    }
   ],
   "source": [
    "import numba\n",
    "print(numba.__version__)"
   ]
  },
  {
   "cell_type": "code",
   "execution_count": 33,
   "id": "e42c65fd-1bc7-4af3-b886-13c4e01d07b4",
   "metadata": {},
   "outputs": [],
   "source": [
    "import numpy as np\n",
    "from numba import cuda\n",
    "# TODO: keep old imp and wrap with numba\n",
    "@cuda.jit\n",
    "def connected_components_kernel(image, out, mask, num_iterations):\n",
    "    x, y = cuda.grid(2)\n",
    "    if x < image.shape[2] and y < image.shape[3]:\n",
    "        for _ in range(num_iterations):\n",
    "            max_val = out[0, 0, x, y]\n",
    "            for dx in range(-1, 2):\n",
    "                for dy in range(-1, 2):\n",
    "                    nx, ny = x + dx, y + dy\n",
    "                    if 0 <= nx < image.shape[2] and 0 <= ny < image.shape[3]:\n",
    "                        max_val = max(max_val, out[0, 0, nx, ny])\n",
    "            out[0, 0, x, y] = max_val * mask[0, 0, x, y]\n",
    "\n",
    "def connected_components_numba(image: np.ndarray, num_iterations: int = 100) -> np.ndarray:\n",
    "    r\"\"\"Computes the Connected-component labelling (CCL) algorithm.\n",
    "\n",
    "    Args:\n",
    "        image: the binarized input image with shape (*, 1, H, W).\n",
    "          The image must be in floating point with range [0, 1].\n",
    "        num_iterations: the number of iterations to make the algorithm converge.\n",
    "\n",
    "    Return:\n",
    "        The labels image with the same shape of the input image.\n",
    "\n",
    "    Example:\n",
    "        >>> img = np.random.rand(2, 1, 4, 5)\n",
    "        >>> img_labels = connected_components(img, num_iterations=100)\n",
    "    \"\"\"\n",
    "    if not isinstance(image, np.ndarray):\n",
    "        raise TypeError(f\"Input image type is not a NumPy array. Got: {type(image)}\")\n",
    "\n",
    "    if not isinstance(num_iterations, int) or num_iterations < 1:\n",
    "        raise TypeError(\"Input num_iterations must be a positive integer.\")\n",
    "\n",
    "    if len(image.shape) < 3 or image.shape[-3] != 1:\n",
    "        raise ValueError(f\"Input image shape must be (*,1,H,W). Got: {image.shape}\")\n",
    "\n",
    "    image_view = image.reshape(-1, 1, *image.shape[-2:])\n",
    "\n",
    "    # precompute a mask with the valid values\n",
    "    mask = (image_view == 1).astype(np.float32)\n",
    "\n",
    "    # allocate the output array for labels\n",
    "    out = np.arange(np.prod(image_view.shape)).reshape(image_view.shape).astype(np.float32)\n",
    "    out[~mask.astype(bool)] = 0\n",
    "\n",
    "    # Move data to GPU\n",
    "    d_image = cuda.to_device(image_view)\n",
    "    d_out = cuda.to_device(out)\n",
    "    d_mask = cuda.to_device(mask)\n",
    "\n",
    "    # Set up the grid and block dimensions\n",
    "    threads_per_block = (16, 16)\n",
    "    blocks_per_grid = (\n",
    "        (image_view.shape[2] + threads_per_block[0] - 1) // threads_per_block[0],\n",
    "        (image_view.shape[3] + threads_per_block[1] - 1) // threads_per_block[1]\n",
    "    )\n",
    "\n",
    "    # Launch the kernel\n",
    "    connected_components_kernel[blocks_per_grid, threads_per_block](d_image, d_out, d_mask, num_iterations)\n",
    "\n",
    "    # Copy the result back to the host\n",
    "    result = d_out.copy_to_host()\n",
    "\n",
    "    return result.reshape(image.shape)"
   ]
  },
  {
   "cell_type": "code",
   "execution_count": 28,
   "id": "ff5f151f-c121-4cfd-9170-333d7c6cb4fb",
   "metadata": {},
   "outputs": [],
   "source": [
    "import torch\n",
    "import triton\n",
    "import triton.language as tl\n",
    "\n",
    "@triton.jit\n",
    "def connected_components_kernel(\n",
    "    image_ptr, labels_ptr, \n",
    "    H, W,\n",
    "    BLOCK_SIZE: tl.constexpr\n",
    "):\n",
    "    # Compute the 2D position of the current thread\n",
    "    pid = tl.program_id(0)\n",
    "    x = pid % W\n",
    "    y = pid // W\n",
    "\n",
    "    # Load the image value and initial label\n",
    "    image_val = tl.load(image_ptr + y * W + x)\n",
    "    label = tl.load(labels_ptr + y * W + x)\n",
    "\n",
    "    # Only process foreground pixels\n",
    "    if image_val > 0.5:\n",
    "        max_label = label\n",
    "        # Check 8-connected neighborhood\n",
    "        for dy in range(-1, 2):\n",
    "            for dx in range(-1, 2):\n",
    "                nx, ny = x + dx, y + dy\n",
    "                if 0 <= nx < W and 0 <= ny < H:\n",
    "                    neighbor_label = tl.load(labels_ptr + ny * W + nx)\n",
    "                    max_label = tl.maximum(max_label, neighbor_label)\n",
    "        \n",
    "        # Update the label\n",
    "        tl.store(labels_ptr + y * W + x, max_label)\n",
    "\n",
    "def connected_components(image: torch.Tensor, num_iterations: int = 100) -> torch.Tensor:\n",
    "    \"\"\"\n",
    "    Computes the Connected-component labelling (CCL) algorithm using Triton.\n",
    "\n",
    "    Args:\n",
    "        image: the binarized input image with shape (B, 1, H, W).\n",
    "               The image must be in floating point with range [0, 1].\n",
    "        num_iterations: the number of iterations to make the algorithm converge.\n",
    "\n",
    "    Returns:\n",
    "        The labels image with the same shape as the input image.\n",
    "    \"\"\"\n",
    "    if not isinstance(image, torch.Tensor):\n",
    "        raise TypeError(f\"Input image type is not a Tensor. Got: {type(image)}\")\n",
    "\n",
    "    if not isinstance(num_iterations, int) or num_iterations < 1:\n",
    "        raise TypeError(\"Input num_iterations must be a positive integer.\")\n",
    "\n",
    "    if len(image.shape) != 4 or image.shape[1] != 1:\n",
    "        raise ValueError(f\"Input image shape must be (B,1,H,W). Got: {image.shape}\")\n",
    "\n",
    "    B, _, H, W = image.shape\n",
    "    image = image.view(B, H, W)\n",
    "\n",
    "    # Initialize labels\n",
    "    labels = torch.arange(image.numel(), device=image.device, dtype=torch.float32).reshape(image.shape)\n",
    "    labels = labels * (image > 0.5).float()  # Zero out background\n",
    "\n",
    "    # Grid for Triton kernel\n",
    "    grid = lambda meta: (H * W,)\n",
    "\n",
    "    # Launch Triton kernel\n",
    "    for _ in range(num_iterations):\n",
    "        connected_components_kernel[grid](\n",
    "            image.contiguous(), labels,\n",
    "            H, W,\n",
    "            BLOCK_SIZE=1024\n",
    "        )\n",
    "\n",
    "    return labels.view(B, 1, H, W)"
   ]
  },
  {
   "cell_type": "code",
   "execution_count": 16,
   "id": "40182086-35f7-47dd-842c-ead104e0444b",
   "metadata": {},
   "outputs": [],
   "source": [
    "def extract_object_from_batch(masks: torch.Tensor) -> torch.Tensor:\n",
    "\n",
    "    \n",
    "    def remap_values(remapping, x):\n",
    "        index = torch.bucketize(x.ravel(), remapping[0])\n",
    "        return remapping[1][index].reshape(x.shape)\n",
    "        \n",
    "    # Ensure the input is on GPU\n",
    "    if not masks.is_cuda:\n",
    "        masks = masks.cuda()\n",
    "    \n",
    "    # Normalize to [0, 1]\n",
    "    masks = masks.float() / masks.max()\n",
    "    \n",
    "    # Apply connected components\n",
    "    labels_masks = connected_components(masks.unsqueeze(1))\n",
    "    uniques = torch.unique(labels_masks)\n",
    "    # Labels from K.connected_component are not 0-index based and sequential integers\n",
    "    # Need a mapping for one-hot\n",
    "    remapping = uniques, torch.arange(end=len(uniques), device=labels_masks.device)\n",
    "    remapped_batch = remap_values(remapping, labels_masks)\n",
    "    # B x H x W => B x N x H x W\n",
    "    masks = F.one_hot(remapped_batch.long(), len(uniques)).permute(0, 3, 1, 2)\n",
    "    # remove background mask, i.e no-change\n",
    "    masks = masks[\n",
    "        :,\n",
    "        1:,\n",
    "        :,\n",
    "    ]\n",
    "\n",
    "    if masks.shape[1] == 0:\n",
    "        # no object found in batch\n",
    "        # return B x 1 x H x W zeros masks\n",
    "        return torch.zeros(masks.shape[0], 1, *masks.shape[-2:])\n",
    "\n",
    "    return masks"
   ]
  },
  {
   "cell_type": "code",
   "execution_count": null,
   "id": "22b86f55-8481-488e-9e3e-95b791fba7eb",
   "metadata": {},
   "outputs": [],
   "source": []
  },
  {
   "cell_type": "code",
   "execution_count": 34,
   "id": "41b09c7d-727d-4b7c-a9f3-f690aad91f5f",
   "metadata": {},
   "outputs": [],
   "source": [
    "n_point_per_shape = 1\n",
    "loc = \"random\"\n",
    "n_shape = 3\n",
    "sampler = PointSampler()\n",
    "\n",
    "label_torch = torch.tensor(label, dtype=torch.float32)\n",
    "if torch.cuda.is_available():\n",
    "    label_torch = label_torch.cuda()\n"
   ]
  },
  {
   "cell_type": "code",
   "execution_count": 41,
   "id": "2117c620-eb09-48ad-8a5b-fd15bd72d5cd",
   "metadata": {},
   "outputs": [],
   "source": [
    "label = np.expand_dims(label, axis=0)"
   ]
  },
  {
   "cell_type": "code",
   "execution_count": 44,
   "id": "6b239b3d-6e17-4303-b2ef-112766c82adb",
   "metadata": {},
   "outputs": [
    {
     "name": "stdout",
     "output_type": "stream",
     "text": [
      "CPU times: user 44.9 ms, sys: 20.1 ms, total: 64.9 ms\n",
      "Wall time: 63.4 ms\n"
     ]
    }
   ],
   "source": [
    "%%time\n",
    "# with numba\n",
    "shapes = connected_components_numba(label)"
   ]
  },
  {
   "cell_type": "code",
   "execution_count": null,
   "id": "bd7e7154-ecdb-4a9f-a712-c367f2a9954a",
   "metadata": {},
   "outputs": [],
   "source": [
    "df = load_levircd_sample(None, data_type=\"test\", seed=42)"
   ]
  },
  {
   "cell_type": "code",
   "execution_count": 11,
   "id": "febd8fa8-b654-4f25-9ff4-a048fae5ce30",
   "metadata": {},
   "outputs": [],
   "source": []
  },
  {
   "cell_type": "code",
   "execution_count": 47,
   "id": "211cd2a9-acfc-40a0-84df-ce2091fe2482",
   "metadata": {},
   "outputs": [
    {
     "name": "stdout",
     "output_type": "stream",
     "text": [
      "CPU times: user 2.56 s, sys: 1.03 s, total: 3.59 s\n",
      "Wall time: 3.59 s\n"
     ]
    }
   ],
   "source": [
    "%%time\n",
    "shapes = []\n",
    "for i in range(100):\n",
    "    path_label,path_A, path_B = df.iloc[i]\n",
    "    label = load_img(path_label)\n",
    "    label = np.expand_dims(label, axis=0)\n",
    "    shapes.append(connected_components_numba(label))"
   ]
  },
  {
   "cell_type": "code",
   "execution_count": null,
   "id": "2a350c78-d9bc-4021-939e-b83f69efaffa",
   "metadata": {},
   "outputs": [],
   "source": []
  },
  {
   "cell_type": "code",
   "execution_count": 55,
   "id": "4005bf85-2d9b-47ff-a825-6f2e0c8c5f8b",
   "metadata": {},
   "outputs": [
    {
     "data": {
      "text/plain": [
       "0.0"
      ]
     },
     "execution_count": 55,
     "metadata": {},
     "output_type": "execute_result"
    }
   ],
   "source": [
    "np.sum(shapes)"
   ]
  },
  {
   "cell_type": "code",
   "execution_count": null,
   "id": "da2b0e69-1ae0-4015-a12f-25fa48270162",
   "metadata": {},
   "outputs": [],
   "source": []
  },
  {
   "cell_type": "code",
   "execution_count": null,
   "id": "9d056555-7343-46c9-95ca-e14593a68c55",
   "metadata": {},
   "outputs": [],
   "source": [
    "%%time\n",
    "for i in range(100):\n",
    "    path_label,path_A, path_B = df.iloc[i]\n",
    "    label = load_img(path_label)\n",
    "    label = np.expand_dims(label, axis=0)\n",
    "    shapes = connected_components_numba(label)"
   ]
  },
  {
   "cell_type": "code",
   "execution_count": 5,
   "id": "01440069-aa1c-4178-9f02-04c72c5abada",
   "metadata": {},
   "outputs": [],
   "source": [
    "# ds_name = \"levir-cd\"\n",
    "# device = \"cpu\"\n",
    "# batch_size = 1\n",
    "# ds_type = \"test\"\n",
    "\n",
    "# fname=None\n",
    "# fidx=100\n",
    "\n",
    "# exp_name = \"adapter_concat_bce_lrx10-4_shuffle\"\n",
    "\n",
    "# if not any([fname, fidx]):\n",
    "#     raise ValueError(\"Please provide at least a sample name or an sample index\")\n",
    "# # priority to fname\n",
    "# if fname is not None:\n",
    "#     fidx = ds.get_from_name(fname, return_sample=False)\n",
    "# # TODO: allow indices sequence\n",
    "# if isinstance(fidx, int): fidx = [fidx]\n",
    "\n",
    "\n",
    "# cfg, data_module, module = load_exp(exp_name)\n",
    "# ds = get_ds(ds_type, data_module)\n",
    "# sub_dl = data.DataLoader(data.Subset(ds, fidx), batch_size=1, shuffle=False)\n",
    "# batch = next(iter(sub_dl))"
   ]
  },
  {
   "cell_type": "code",
   "execution_count": null,
   "id": "933e0160-4e17-4e24-929c-341b9e35b798",
   "metadata": {},
   "outputs": [],
   "source": []
  },
  {
   "cell_type": "code",
   "execution_count": null,
   "id": "7242358c-0636-4e94-8a2c-852dfd799694",
   "metadata": {},
   "outputs": [],
   "source": []
  },
  {
   "cell_type": "code",
   "execution_count": null,
   "id": "c0e8d993-9da1-4493-b409-d02481ffcdd1",
   "metadata": {},
   "outputs": [],
   "source": []
  },
  {
   "cell_type": "code",
   "execution_count": 22,
   "id": "8337bb42-27e7-4276-8215-97bac0447fb9",
   "metadata": {},
   "outputs": [],
   "source": [
    "class PointSampler:\n",
    "    \"\"\"Prompt sampler - restricted to points\n",
    "    \n",
    "    Each generated points is under coordinates format (X,Y) in pixels.\n",
    "    \"\"\"\n",
    "    MIN_AREA = 25\n",
    "    \n",
    "    def __init__(self):\n",
    "        self._register_sample_method = {\n",
    "            \"random\": self.draw_random_point,\n",
    "            \"center\": self.draw_center_point,\n",
    "        }\n",
    "\n",
    "    def sample_candidates_shapes(self, shapes: torch.Tensor, n_shape: int) -> Tuple[torch.Tensor, torch.Tensor]:\n",
    "        # assign equals weights\n",
    "        probs = torch.ones(shapes.shape[0]) / shapes.shape[0]\n",
    "        # Sample the shapes\n",
    "        id_candidates_shapes = torch.multinomial(\n",
    "            probs,\n",
    "            n_shape,\n",
    "            # we sample with replacement to keeping same tensor dimensions over batch if not enough shapes\n",
    "            replacement=False if (shapes.shape[0] >= n_shape) else True,\n",
    "        )\n",
    "        # get the coord of the pixels shapes (M x 3) - M number of not zeros pixels\n",
    "        coords_candidates = torch.nonzero(shapes[id_candidates_shapes]).to(torch.float)\n",
    "        return coords_candidates, id_candidates_shapes\n",
    "    \n",
    "\n",
    "    def sample(self, mask: torch.Tensor,  n_point_per_shape: int, loc: str, n_shape: int):\n",
    "        \"\"\"\n",
    "        Sample m points over n random shape\n",
    "        Return new label if a subset of shapes (n_shape) is selected\n",
    "        \"\"\"\n",
    "\n",
    "        if loc not in list(self._register_sample_method):\n",
    "            raise ValueError(\n",
    "                f\"loc method not valid. Valid values for loc : {list(self._register_sample_method)}\"\n",
    "            )\n",
    "        if not n_shape:\n",
    "            raise ValueError(\"please provide n_shape to sample. One point per shape\")\n",
    "            \n",
    "        if mask.ndim < 3:\n",
    "            mask = mask.unsqueeze(0)\n",
    "        # track id shapes if we a subset of shapes\n",
    "        id_selected_shapes = None\n",
    "        \n",
    "        # extract shapes from mask - squeeze batch dimension\n",
    "        shapes = extract_object_from_batch(mask).squeeze(0)\n",
    "        # print(\"shape\", shapes.shape)\n",
    "        # filter on areas\n",
    "        areas = torch.sum(shapes, dim=(1, 2))\n",
    "        indices = torch.where(areas > self.MIN_AREA)[0]\n",
    "        shapes = shapes[indices,:,:]\n",
    "\n",
    "        # check if there is some shapes extracted - check sum for no-shapes return\n",
    "        # check > 1 first for speed in case of shapes - return no shapes :  (1 x) 1 x H x W\n",
    "        if shapes.shape[0] > 1 or torch.sum(shapes):\n",
    "            # extract all shapes (max of batch) if there are not enough shapes\n",
    "            # n_shape = min(n_shape,  shapes.shape[0]) # not good for diff batch size\n",
    "            coords_candidates, id_selected_shapes = self.sample_candidates_shapes(shapes, n_shape)\n",
    "            # first column of coords_candidates == index of shape\n",
    "            # iterate over the shapes\n",
    "            sample_coords = torch.cat(\n",
    "                [\n",
    "                    # mask coordinates based on shape index\n",
    "                    # select only coordinates dims for _register_sample_method : [:, 1:] => (N, 2)\n",
    "                    self._register_sample_method[loc](\n",
    "                        coords_candidates[coords_candidates[:, 0] == s][:, 1:], n_point_per_shape\n",
    "                    )\n",
    "                    for s in torch.unique(coords_candidates[:, 0])\n",
    "                ]\n",
    "            )\n",
    "            # simulate point type (foreground / background) - foreground default\n",
    "            labels_points = torch.ones(len(sample_coords))\n",
    "        else:\n",
    "            # empty return = sample random points\n",
    "            #sample_coords = torch.zeros((n_shape*n_point_per_shape, 2), dtype=torch.float32) - 1000\n",
    "            sample_coords = torch.as_tensor(np.random.randint(0, mask.shape[-1], size=(n_shape, 2)))\n",
    "            # label - 1\n",
    "            labels_points = torch.zeros(len(sample_coords)) - 1\n",
    "\n",
    "        return sample_coords, labels_points\n",
    "\n",
    "    def draw_random_point(self, shape, n_point):\n",
    "        \"\"\"draw one random point from shape\"\"\"\n",
    "        idx = torch.multinomial(\n",
    "            torch.ones(shape.shape[0], dtype=torch.float), num_samples=n_point\n",
    "        )\n",
    "        # invert pixels coords to (x, y) format\n",
    "        return torch.flip(shape[idx], dims=(1,))\n",
    "\n",
    "    def draw_center_point(self, shape, n_point):\n",
    "        \"\"\"\n",
    "        Sample approximation center. Proxy for hard concave object where \"natural center\" (simple average) doesn't belong to the shape.\n",
    "        shape : (M, 2) : (shape's pixels, px coordinates dim)\n",
    "        \"\"\"\n",
    "        # proxy for hard concave object\n",
    "        visible_center = torch.mean(shape, dim=0).to(int)\n",
    "        # euclidean distance\n",
    "        dist_center = torch.cdist(visible_center.unsqueeze(0).to(torch.fldeviceoat), shape, p=2.).view(-1)\n",
    "        idx = torch.nonzero(dist_center).view(-1)\n",
    "        dist_center, shape = dist_center[idx], shape[idx,...]\n",
    "        # sample point from inverse distance weighting => in favor of \"closest center\" point - take first 50 pts arbitrary\n",
    "        # values, indices  = torch.topk(dist_center, min(50, dist_center.shape[0]), largest=False, sorted=True)\n",
    "        # values, indices = values.view(-1), indices.view(-1)\n",
    "        idx = torch.multinomial(\n",
    "            1/dist_center, num_samples=n_point\n",
    "        )\n",
    "        # flip to convert to (x, y) format\n",
    "        return torch.flip(shape[idx], dims=(1,))\n",
    "\n",
    "    def profiled_sample(self, mask: torch.Tensor, n_point_per_shape: int, loc: str, n_shape: int):\n",
    "        with profile(activities=[ProfilerActivity.CPU, ProfilerActivity.CUDA],\n",
    "                     record_shapes=True,\n",
    "                     profile_memory=True) as prof:\n",
    "            with record_function(\"sample\"):\n",
    "                result = self.sample(mask, n_point_per_shape, loc, n_shape)\n",
    "        \n",
    "        print(prof.key_averages().table(sort_by=\"cuda_time_total\", row_limit=10))\n",
    "        #print(prof.key_averages().table(sort_by=\"cpu_time_total\", row_limit=10))\n",
    "        prof.export_chrome_trace(\"trace_chrome\" + str(prof.step_num) + \".json\")"
   ]
  },
  {
   "cell_type": "code",
   "execution_count": null,
   "id": "cf5f6df8-9dfa-451f-9464-e6bb88d41908",
   "metadata": {},
   "outputs": [],
   "source": []
  },
  {
   "cell_type": "code",
   "execution_count": 10,
   "id": "7806cf19-0c84-41e7-9b20-c01414713e59",
   "metadata": {},
   "outputs": [],
   "source": [
    "df = load_levircd_sample(None, data_type=\"test\", seed=42)"
   ]
  },
  {
   "cell_type": "code",
   "execution_count": 11,
   "id": "89cca87b-55a0-4a25-a78a-8e2dbc86d3c0",
   "metadata": {},
   "outputs": [],
   "source": [
    "idx=12\n",
    "path_label,path_A, path_B = df.iloc[idx]\n",
    "label = load_img(path_label)"
   ]
  },
  {
   "cell_type": "code",
   "execution_count": 12,
   "id": "f7958416-7a08-43ae-a35d-67e83938e884",
   "metadata": {},
   "outputs": [
    {
     "data": {
      "image/png": "[encoded data removed]",
      "text/plain": [
       "<Figure size 640x480 with 1 Axes>"
      ]
     },
     "metadata": {},
     "output_type": "display_data"
    }
   ],
   "source": [
    "show_img(label)"
   ]
  },
  {
   "cell_type": "code",
   "execution_count": 14,
   "id": "b5914554-b0ba-4131-a46c-c856e9ec28ca",
   "metadata": {},
   "outputs": [
    {
     "name": "stderr",
     "output_type": "stream",
     "text": [
      "[W kineto_shim.cpp:333] Adding profiling metadata requires using torch.profiler with Kineto support (USE_KINETO=1)\n",
      "[W kineto_shim.cpp:333] Adding profiling metadata requires using torch.profiler with Kineto support (USE_KINETO=1)\n",
      "2024-09-17 14:56:31,310 - INFO ::  Function extract_object_from_batch Took 0.2177 seconds\n"
     ]
    },
    {
     "name": "stdout",
     "output_type": "stream",
     "text": [
      "---------------------------------  ------------  ------------  ------------  ------------  ------------  ------------  ------------  ------------  ------------  ------------  ------------  ------------  ------------  ------------  \n",
      "                             Name    Self CPU %      Self CPU   CPU total %     CPU total  CPU time avg     Self CUDA   Self CUDA %    CUDA total  CUDA time avg       CPU Mem  Self CPU Mem      CUDA Mem  Self CUDA Mem    # of Calls  \n",
      "---------------------------------  ------------  ------------  ------------  ------------  ------------  ------------  ------------  ------------  ------------  ------------  ------------  ------------  ------------  ------------  \n",
      "                           sample        31.32%      88.540ms       100.00%     282.721ms     282.721ms       5.965ms         2.11%     282.734ms     282.734ms          12 b     -13.41 Kb         512 b      -6.83 Gb             1  \n",
      "                 aten::max_pool2d         2.29%       6.464ms         4.51%      12.742ms      25.484us       2.341ms         0.83%     101.225ms     202.450us           0 b           0 b       3.57 Gb      -2.29 Gb           500  \n",
      "    aten::max_pool2d_with_indices         2.22%       6.278ms         2.22%       6.278ms      12.556us      98.884ms        34.97%      98.884ms     197.768us           0 b           0 b       5.86 Gb       5.86 Gb           500  \n",
      "                      aten::index         3.90%      11.025ms        17.60%      49.773ms       5.530ms      49.688ms        17.57%      50.592ms       5.621ms           0 b           0 b     672.04 Mb     672.01 Mb             9  \n",
      "                 aten::index_put_         0.01%      30.000us        12.82%      36.231ms      36.231ms      30.000us         0.01%      36.236ms      36.236ms           0 b           0 b           0 b           0 b             1  \n",
      "           aten::_index_put_impl_         0.02%      56.000us        12.80%      36.201ms      36.201ms      35.000us         0.01%      36.206ms      36.206ms           0 b           0 b           0 b           0 b             1  \n",
      "               aten::masked_fill_        12.78%      36.129ms        12.78%      36.129ms      36.129ms      36.151ms        12.79%      36.151ms      36.151ms           0 b           0 b           0 b           0 b             1  \n",
      "                        aten::mul         2.59%       7.321ms         2.59%       7.321ms      14.642us      31.114ms        11.00%      31.114ms      62.228us           0 b           0 b       1.95 Gb       1.95 Gb           500  \n",
      "                    aten::one_hot         0.02%      44.000us         2.60%       7.338ms       7.338ms      21.000us         0.01%       8.834ms       8.834ms           0 b           0 b     648.00 Mb           0 b             1  \n",
      "                        aten::sum         1.73%       4.890ms         1.73%       4.897ms     979.400us       7.581ms         2.68%       7.620ms       1.524ms          16 b          16 b       1.00 Kb       1.00 Kb             5  \n",
      "---------------------------------  ------------  ------------  ------------  ------------  ------------  ------------  ------------  ------------  ------------  ------------  ------------  ------------  ------------  ------------  \n",
      "Self CPU time total: 282.721ms\n",
      "Self CUDA time total: 282.734ms\n",
      "\n"
     ]
    }
   ],
   "source": [
    "\n",
    "label_torch = torch.tensor(label, dtype=torch.float32)\n",
    "n_point_per_shape = 1\n",
    "loc = \"random\"\n",
    "n_shape = 3\n",
    "sampler = PointSampler()\n",
    "\n",
    "if torch.cuda.is_available():\n",
    "    label_torch = label_torch.cuda()\n",
    "\n",
    "sampler.profiled_sample(label_torch, n_point_per_shape, loc, n_shape)"
   ]
  },
  {
   "cell_type": "code",
   "execution_count": 17,
   "id": "9389f7c9-ab93-444e-82d4-81bc41d56380",
   "metadata": {},
   "outputs": [],
   "source": [
    "n_point_per_shape = 1\n",
    "loc = \"random\"\n",
    "n_shape = 3\n",
    "sampler = PointSampler()\n",
    "\n",
    "label_torch = torch.tensor(label, dtype=torch.float32)\n",
    "if torch.cuda.is_available():\n",
    "    label_torch = label_torch.cuda()\n"
   ]
  },
  {
   "cell_type": "code",
   "execution_count": 18,
   "id": "a9ef1fda-24a1-4dfc-b586-6899c99cc7e9",
   "metadata": {},
   "outputs": [
    {
     "ename": "CompilationError",
     "evalue": "at 11:117:\ndef connected_components_kernel(image_ptr, out_ptr, mask_ptr, H, W, num_iterations, BLOCK_SIZE: tl.constexpr):\n    pid = tl.program_id(0)\n    row = pid // W\n    col = pid % W\n\n    if row < H and col < W:\n        idx = row * W + col\n        for _ in range(num_iterations):\n            max_val = tl.max(tl.load(out_ptr + idx - W - 1), tl.load(out_ptr + idx - W), tl.load(out_ptr + idx - W + 1),\n                             tl.load(out_ptr + idx - 1), tl.load(out_ptr + idx), tl.load(out_ptr + idx + 1),\n                             tl.load(out_ptr + idx + W - 1), tl.load(out_ptr + idx + W), tl.load(out_ptr + idx + W + 1))\n                                                                                                                     ^",
     "output_type": "error",
     "traceback": [
      "\u001b[0;31m---------------------------------------------------------------------------\u001b[0m",
      "\u001b[0;31mKeyError\u001b[0m                                  Traceback (most recent call last)",
      "File \u001b[0;32m<string>:21\u001b[0m, in \u001b[0;36mconnected_components_kernel\u001b[0;34m(image_ptr, out_ptr, mask_ptr, H, W, num_iterations, BLOCK_SIZE, grid, num_warps, num_stages, extern_libs, stream, warmup)\u001b[0m\n",
      "\u001b[0;31mKeyError\u001b[0m: ('2-.-0-.-0--d6252949da17ceb5f3a278a70250af13-3b85c7bef5f0a641282f3b73af50f599-3d2aedeb40d6d81c66a42791e268f98b-3498c340fd4b6ee7805fd54b882a04f5-e1f133f98d04093da2078dfc51c36b72-b26258bf01f839199e39d64851821f26-d7c06e3b46e708006c15224aac7a1378-f585402118c8a136948ce0a49cfe122c', (torch.float32, torch.float32, torch.bool, 'i32', 'i32', 'i32'), (1024,), (True, True, True, (True, False), (True, False), (False, False)))",
      "\nDuring handling of the above exception, another exception occurred:\n",
      "\u001b[0;31mTypeError\u001b[0m                                 Traceback (most recent call last)",
      "File \u001b[0;32m~/miniforge3/envs/mp/lib/python3.10/site-packages/triton/compiler.py:937\u001b[0m, in \u001b[0;36mbuild_triton_ir\u001b[0;34m(fn, signature, specialization, constants)\u001b[0m\n\u001b[1;32m    936\u001b[0m \u001b[38;5;28;01mtry\u001b[39;00m:\n\u001b[0;32m--> 937\u001b[0m     \u001b[43mgenerator\u001b[49m\u001b[38;5;241;43m.\u001b[39;49m\u001b[43mvisit\u001b[49m\u001b[43m(\u001b[49m\u001b[43mfn\u001b[49m\u001b[38;5;241;43m.\u001b[39;49m\u001b[43mparse\u001b[49m\u001b[43m(\u001b[49m\u001b[43m)\u001b[49m\u001b[43m)\u001b[49m\n\u001b[1;32m    938\u001b[0m \u001b[38;5;28;01mexcept\u001b[39;00m \u001b[38;5;167;01mException\u001b[39;00m \u001b[38;5;28;01mas\u001b[39;00m e:\n",
      "File \u001b[0;32m~/miniforge3/envs/mp/lib/python3.10/site-packages/triton/compiler.py:855\u001b[0m, in \u001b[0;36mCodeGenerator.visit\u001b[0;34m(self, node)\u001b[0m\n\u001b[1;32m    854\u001b[0m warnings\u001b[38;5;241m.\u001b[39msimplefilter(\u001b[38;5;124m\"\u001b[39m\u001b[38;5;124mignore\u001b[39m\u001b[38;5;124m\"\u001b[39m, \u001b[38;5;167;01mPendingDeprecationWarning\u001b[39;00m)  \u001b[38;5;66;03m# python 3.8\u001b[39;00m\n\u001b[0;32m--> 855\u001b[0m \u001b[38;5;28;01mreturn\u001b[39;00m \u001b[38;5;28;43msuper\u001b[39;49m\u001b[43m(\u001b[49m\u001b[43m)\u001b[49m\u001b[38;5;241;43m.\u001b[39;49m\u001b[43mvisit\u001b[49m\u001b[43m(\u001b[49m\u001b[43mnode\u001b[49m\u001b[43m)\u001b[49m\n",
      "File \u001b[0;32m~/miniforge3/envs/mp/lib/python3.10/ast.py:418\u001b[0m, in \u001b[0;36mNodeVisitor.visit\u001b[0;34m(self, node)\u001b[0m\n\u001b[1;32m    417\u001b[0m visitor \u001b[38;5;241m=\u001b[39m \u001b[38;5;28mgetattr\u001b[39m(\u001b[38;5;28mself\u001b[39m, method, \u001b[38;5;28mself\u001b[39m\u001b[38;5;241m.\u001b[39mgeneric_visit)\n\u001b[0;32m--> 418\u001b[0m \u001b[38;5;28;01mreturn\u001b[39;00m \u001b[43mvisitor\u001b[49m\u001b[43m(\u001b[49m\u001b[43mnode\u001b[49m\u001b[43m)\u001b[49m\n",
      "File \u001b[0;32m~/miniforge3/envs/mp/lib/python3.10/site-packages/triton/compiler.py:183\u001b[0m, in \u001b[0;36mCodeGenerator.visit_Module\u001b[0;34m(self, node)\u001b[0m\n\u001b[1;32m    182\u001b[0m \u001b[38;5;28;01mdef\u001b[39;00m \u001b[38;5;21mvisit_Module\u001b[39m(\u001b[38;5;28mself\u001b[39m, node):\n\u001b[0;32m--> 183\u001b[0m     \u001b[43mast\u001b[49m\u001b[38;5;241;43m.\u001b[39;49m\u001b[43mNodeVisitor\u001b[49m\u001b[38;5;241;43m.\u001b[39;49m\u001b[43mgeneric_visit\u001b[49m\u001b[43m(\u001b[49m\u001b[38;5;28;43mself\u001b[39;49m\u001b[43m,\u001b[49m\u001b[43m \u001b[49m\u001b[43mnode\u001b[49m\u001b[43m)\u001b[49m\n",
      "File \u001b[0;32m~/miniforge3/envs/mp/lib/python3.10/ast.py:426\u001b[0m, in \u001b[0;36mNodeVisitor.generic_visit\u001b[0;34m(self, node)\u001b[0m\n\u001b[1;32m    425\u001b[0m         \u001b[38;5;28;01mif\u001b[39;00m \u001b[38;5;28misinstance\u001b[39m(item, AST):\n\u001b[0;32m--> 426\u001b[0m             \u001b[38;5;28;43mself\u001b[39;49m\u001b[38;5;241;43m.\u001b[39;49m\u001b[43mvisit\u001b[49m\u001b[43m(\u001b[49m\u001b[43mitem\u001b[49m\u001b[43m)\u001b[49m\n\u001b[1;32m    427\u001b[0m \u001b[38;5;28;01melif\u001b[39;00m \u001b[38;5;28misinstance\u001b[39m(value, AST):\n",
      "File \u001b[0;32m~/miniforge3/envs/mp/lib/python3.10/site-packages/triton/compiler.py:855\u001b[0m, in \u001b[0;36mCodeGenerator.visit\u001b[0;34m(self, node)\u001b[0m\n\u001b[1;32m    854\u001b[0m warnings\u001b[38;5;241m.\u001b[39msimplefilter(\u001b[38;5;124m\"\u001b[39m\u001b[38;5;124mignore\u001b[39m\u001b[38;5;124m\"\u001b[39m, \u001b[38;5;167;01mPendingDeprecationWarning\u001b[39;00m)  \u001b[38;5;66;03m# python 3.8\u001b[39;00m\n\u001b[0;32m--> 855\u001b[0m \u001b[38;5;28;01mreturn\u001b[39;00m \u001b[38;5;28;43msuper\u001b[39;49m\u001b[43m(\u001b[49m\u001b[43m)\u001b[49m\u001b[38;5;241;43m.\u001b[39;49m\u001b[43mvisit\u001b[49m\u001b[43m(\u001b[49m\u001b[43mnode\u001b[49m\u001b[43m)\u001b[49m\n",
      "File \u001b[0;32m~/miniforge3/envs/mp/lib/python3.10/ast.py:418\u001b[0m, in \u001b[0;36mNodeVisitor.visit\u001b[0;34m(self, node)\u001b[0m\n\u001b[1;32m    417\u001b[0m visitor \u001b[38;5;241m=\u001b[39m \u001b[38;5;28mgetattr\u001b[39m(\u001b[38;5;28mself\u001b[39m, method, \u001b[38;5;28mself\u001b[39m\u001b[38;5;241m.\u001b[39mgeneric_visit)\n\u001b[0;32m--> 418\u001b[0m \u001b[38;5;28;01mreturn\u001b[39;00m \u001b[43mvisitor\u001b[49m\u001b[43m(\u001b[49m\u001b[43mnode\u001b[49m\u001b[43m)\u001b[49m\n",
      "File \u001b[0;32m~/miniforge3/envs/mp/lib/python3.10/site-packages/triton/compiler.py:252\u001b[0m, in \u001b[0;36mCodeGenerator.visit_FunctionDef\u001b[0;34m(self, node)\u001b[0m\n\u001b[1;32m    251\u001b[0m \u001b[38;5;66;03m# visit function body\u001b[39;00m\n\u001b[0;32m--> 252\u001b[0m has_ret \u001b[38;5;241m=\u001b[39m \u001b[38;5;28;43mself\u001b[39;49m\u001b[38;5;241;43m.\u001b[39;49m\u001b[43mvisit_compound_statement\u001b[49m\u001b[43m(\u001b[49m\u001b[43mnode\u001b[49m\u001b[38;5;241;43m.\u001b[39;49m\u001b[43mbody\u001b[49m\u001b[43m)\u001b[49m\n\u001b[1;32m    253\u001b[0m \u001b[38;5;66;03m# finalize function\u001b[39;00m\n",
      "File \u001b[0;32m~/miniforge3/envs/mp/lib/python3.10/site-packages/triton/compiler.py:177\u001b[0m, in \u001b[0;36mCodeGenerator.visit_compound_statement\u001b[0;34m(self, stmts)\u001b[0m\n\u001b[1;32m    176\u001b[0m \u001b[38;5;28;01mfor\u001b[39;00m stmt \u001b[38;5;129;01min\u001b[39;00m stmts:\n\u001b[0;32m--> 177\u001b[0m     \u001b[38;5;28mself\u001b[39m\u001b[38;5;241m.\u001b[39mlast_ret_type \u001b[38;5;241m=\u001b[39m \u001b[38;5;28;43mself\u001b[39;49m\u001b[38;5;241;43m.\u001b[39;49m\u001b[43mvisit\u001b[49m\u001b[43m(\u001b[49m\u001b[43mstmt\u001b[49m\u001b[43m)\u001b[49m\n\u001b[1;32m    178\u001b[0m     \u001b[38;5;28;01mif\u001b[39;00m \u001b[38;5;28misinstance\u001b[39m(stmt, ast\u001b[38;5;241m.\u001b[39mReturn):\n",
      "File \u001b[0;32m~/miniforge3/envs/mp/lib/python3.10/site-packages/triton/compiler.py:855\u001b[0m, in \u001b[0;36mCodeGenerator.visit\u001b[0;34m(self, node)\u001b[0m\n\u001b[1;32m    854\u001b[0m warnings\u001b[38;5;241m.\u001b[39msimplefilter(\u001b[38;5;124m\"\u001b[39m\u001b[38;5;124mignore\u001b[39m\u001b[38;5;124m\"\u001b[39m, \u001b[38;5;167;01mPendingDeprecationWarning\u001b[39;00m)  \u001b[38;5;66;03m# python 3.8\u001b[39;00m\n\u001b[0;32m--> 855\u001b[0m \u001b[38;5;28;01mreturn\u001b[39;00m \u001b[38;5;28;43msuper\u001b[39;49m\u001b[43m(\u001b[49m\u001b[43m)\u001b[49m\u001b[38;5;241;43m.\u001b[39;49m\u001b[43mvisit\u001b[49m\u001b[43m(\u001b[49m\u001b[43mnode\u001b[49m\u001b[43m)\u001b[49m\n",
      "File \u001b[0;32m~/miniforge3/envs/mp/lib/python3.10/ast.py:418\u001b[0m, in \u001b[0;36mNodeVisitor.visit\u001b[0;34m(self, node)\u001b[0m\n\u001b[1;32m    417\u001b[0m visitor \u001b[38;5;241m=\u001b[39m \u001b[38;5;28mgetattr\u001b[39m(\u001b[38;5;28mself\u001b[39m, method, \u001b[38;5;28mself\u001b[39m\u001b[38;5;241m.\u001b[39mgeneric_visit)\n\u001b[0;32m--> 418\u001b[0m \u001b[38;5;28;01mreturn\u001b[39;00m \u001b[43mvisitor\u001b[49m\u001b[43m(\u001b[49m\u001b[43mnode\u001b[49m\u001b[43m)\u001b[49m\n",
      "File \u001b[0;32m~/miniforge3/envs/mp/lib/python3.10/site-packages/triton/compiler.py:481\u001b[0m, in \u001b[0;36mCodeGenerator.visit_If\u001b[0;34m(self, node)\u001b[0m\n\u001b[1;32m    480\u001b[0m     \u001b[38;5;28;01melse\u001b[39;00m:\n\u001b[0;32m--> 481\u001b[0m         \u001b[38;5;28;43mself\u001b[39;49m\u001b[38;5;241;43m.\u001b[39;49m\u001b[43mvisit_if_top_level\u001b[49m\u001b[43m(\u001b[49m\u001b[43mcond\u001b[49m\u001b[43m,\u001b[49m\u001b[43m \u001b[49m\u001b[43mnode\u001b[49m\u001b[43m)\u001b[49m\n\u001b[1;32m    482\u001b[0m \u001b[38;5;28;01melse\u001b[39;00m:\n",
      "File \u001b[0;32m~/miniforge3/envs/mp/lib/python3.10/site-packages/triton/compiler.py:428\u001b[0m, in \u001b[0;36mCodeGenerator.visit_if_top_level\u001b[0;34m(self, cond, node)\u001b[0m\n\u001b[1;32m    426\u001b[0m \u001b[38;5;66;03m# visit then and else blocks\u001b[39;00m\n\u001b[1;32m    427\u001b[0m then_defs, else_defs, then_block, else_block, names, ret_types, ir_ret_types \u001b[38;5;241m=\u001b[39m \\\n\u001b[0;32m--> 428\u001b[0m     \u001b[38;5;28;43mself\u001b[39;49m\u001b[38;5;241;43m.\u001b[39;49m\u001b[43mvisit_then_else_blocks\u001b[49m\u001b[43m(\u001b[49m\u001b[43mnode\u001b[49m\u001b[43m,\u001b[49m\u001b[43m \u001b[49m\u001b[43mliveins\u001b[49m\u001b[43m,\u001b[49m\u001b[43m \u001b[49m\u001b[43mthen_block\u001b[49m\u001b[43m,\u001b[49m\u001b[43m \u001b[49m\u001b[43melse_block\u001b[49m\u001b[43m)\u001b[49m\n\u001b[1;32m    429\u001b[0m \u001b[38;5;66;03m# then terminator\u001b[39;00m\n",
      "File \u001b[0;32m~/miniforge3/envs/mp/lib/python3.10/site-packages/triton/compiler.py:365\u001b[0m, in \u001b[0;36mCodeGenerator.visit_then_else_blocks\u001b[0;34m(self, node, liveins, then_block, else_block)\u001b[0m\n\u001b[1;32m    364\u001b[0m \u001b[38;5;28mself\u001b[39m\u001b[38;5;241m.\u001b[39mbuilder\u001b[38;5;241m.\u001b[39mset_insertion_point_to_start(then_block)\n\u001b[0;32m--> 365\u001b[0m \u001b[38;5;28;43mself\u001b[39;49m\u001b[38;5;241;43m.\u001b[39;49m\u001b[43mvisit_compound_statement\u001b[49m\u001b[43m(\u001b[49m\u001b[43mnode\u001b[49m\u001b[38;5;241;43m.\u001b[39;49m\u001b[43mbody\u001b[49m\u001b[43m)\u001b[49m\n\u001b[1;32m    366\u001b[0m then_block \u001b[38;5;241m=\u001b[39m \u001b[38;5;28mself\u001b[39m\u001b[38;5;241m.\u001b[39mbuilder\u001b[38;5;241m.\u001b[39mget_insertion_block()\n",
      "File \u001b[0;32m~/miniforge3/envs/mp/lib/python3.10/site-packages/triton/compiler.py:177\u001b[0m, in \u001b[0;36mCodeGenerator.visit_compound_statement\u001b[0;34m(self, stmts)\u001b[0m\n\u001b[1;32m    176\u001b[0m \u001b[38;5;28;01mfor\u001b[39;00m stmt \u001b[38;5;129;01min\u001b[39;00m stmts:\n\u001b[0;32m--> 177\u001b[0m     \u001b[38;5;28mself\u001b[39m\u001b[38;5;241m.\u001b[39mlast_ret_type \u001b[38;5;241m=\u001b[39m \u001b[38;5;28;43mself\u001b[39;49m\u001b[38;5;241;43m.\u001b[39;49m\u001b[43mvisit\u001b[49m\u001b[43m(\u001b[49m\u001b[43mstmt\u001b[49m\u001b[43m)\u001b[49m\n\u001b[1;32m    178\u001b[0m     \u001b[38;5;28;01mif\u001b[39;00m \u001b[38;5;28misinstance\u001b[39m(stmt, ast\u001b[38;5;241m.\u001b[39mReturn):\n",
      "File \u001b[0;32m~/miniforge3/envs/mp/lib/python3.10/site-packages/triton/compiler.py:855\u001b[0m, in \u001b[0;36mCodeGenerator.visit\u001b[0;34m(self, node)\u001b[0m\n\u001b[1;32m    854\u001b[0m warnings\u001b[38;5;241m.\u001b[39msimplefilter(\u001b[38;5;124m\"\u001b[39m\u001b[38;5;124mignore\u001b[39m\u001b[38;5;124m\"\u001b[39m, \u001b[38;5;167;01mPendingDeprecationWarning\u001b[39;00m)  \u001b[38;5;66;03m# python 3.8\u001b[39;00m\n\u001b[0;32m--> 855\u001b[0m \u001b[38;5;28;01mreturn\u001b[39;00m \u001b[38;5;28;43msuper\u001b[39;49m\u001b[43m(\u001b[49m\u001b[43m)\u001b[49m\u001b[38;5;241;43m.\u001b[39;49m\u001b[43mvisit\u001b[49m\u001b[43m(\u001b[49m\u001b[43mnode\u001b[49m\u001b[43m)\u001b[49m\n",
      "File \u001b[0;32m~/miniforge3/envs/mp/lib/python3.10/ast.py:418\u001b[0m, in \u001b[0;36mNodeVisitor.visit\u001b[0;34m(self, node)\u001b[0m\n\u001b[1;32m    417\u001b[0m visitor \u001b[38;5;241m=\u001b[39m \u001b[38;5;28mgetattr\u001b[39m(\u001b[38;5;28mself\u001b[39m, method, \u001b[38;5;28mself\u001b[39m\u001b[38;5;241m.\u001b[39mgeneric_visit)\n\u001b[0;32m--> 418\u001b[0m \u001b[38;5;28;01mreturn\u001b[39;00m \u001b[43mvisitor\u001b[49m\u001b[43m(\u001b[49m\u001b[43mnode\u001b[49m\u001b[43m)\u001b[49m\n",
      "File \u001b[0;32m~/miniforge3/envs/mp/lib/python3.10/site-packages/triton/compiler.py:678\u001b[0m, in \u001b[0;36mCodeGenerator.visit_For\u001b[0;34m(self, node)\u001b[0m\n\u001b[1;32m    677\u001b[0m \u001b[38;5;28mself\u001b[39m\u001b[38;5;241m.\u001b[39mscf_stack\u001b[38;5;241m.\u001b[39mappend(node)\n\u001b[0;32m--> 678\u001b[0m \u001b[38;5;28;43mself\u001b[39;49m\u001b[38;5;241;43m.\u001b[39;49m\u001b[43mvisit_compound_statement\u001b[49m\u001b[43m(\u001b[49m\u001b[43mnode\u001b[49m\u001b[38;5;241;43m.\u001b[39;49m\u001b[43mbody\u001b[49m\u001b[43m)\u001b[49m\n\u001b[1;32m    679\u001b[0m \u001b[38;5;28mself\u001b[39m\u001b[38;5;241m.\u001b[39mscf_stack\u001b[38;5;241m.\u001b[39mpop()\n",
      "File \u001b[0;32m~/miniforge3/envs/mp/lib/python3.10/site-packages/triton/compiler.py:177\u001b[0m, in \u001b[0;36mCodeGenerator.visit_compound_statement\u001b[0;34m(self, stmts)\u001b[0m\n\u001b[1;32m    176\u001b[0m \u001b[38;5;28;01mfor\u001b[39;00m stmt \u001b[38;5;129;01min\u001b[39;00m stmts:\n\u001b[0;32m--> 177\u001b[0m     \u001b[38;5;28mself\u001b[39m\u001b[38;5;241m.\u001b[39mlast_ret_type \u001b[38;5;241m=\u001b[39m \u001b[38;5;28;43mself\u001b[39;49m\u001b[38;5;241;43m.\u001b[39;49m\u001b[43mvisit\u001b[49m\u001b[43m(\u001b[49m\u001b[43mstmt\u001b[49m\u001b[43m)\u001b[49m\n\u001b[1;32m    178\u001b[0m     \u001b[38;5;28;01mif\u001b[39;00m \u001b[38;5;28misinstance\u001b[39m(stmt, ast\u001b[38;5;241m.\u001b[39mReturn):\n",
      "File \u001b[0;32m~/miniforge3/envs/mp/lib/python3.10/site-packages/triton/compiler.py:855\u001b[0m, in \u001b[0;36mCodeGenerator.visit\u001b[0;34m(self, node)\u001b[0m\n\u001b[1;32m    854\u001b[0m warnings\u001b[38;5;241m.\u001b[39msimplefilter(\u001b[38;5;124m\"\u001b[39m\u001b[38;5;124mignore\u001b[39m\u001b[38;5;124m\"\u001b[39m, \u001b[38;5;167;01mPendingDeprecationWarning\u001b[39;00m)  \u001b[38;5;66;03m# python 3.8\u001b[39;00m\n\u001b[0;32m--> 855\u001b[0m \u001b[38;5;28;01mreturn\u001b[39;00m \u001b[38;5;28;43msuper\u001b[39;49m\u001b[43m(\u001b[49m\u001b[43m)\u001b[49m\u001b[38;5;241;43m.\u001b[39;49m\u001b[43mvisit\u001b[49m\u001b[43m(\u001b[49m\u001b[43mnode\u001b[49m\u001b[43m)\u001b[49m\n",
      "File \u001b[0;32m~/miniforge3/envs/mp/lib/python3.10/ast.py:418\u001b[0m, in \u001b[0;36mNodeVisitor.visit\u001b[0;34m(self, node)\u001b[0m\n\u001b[1;32m    417\u001b[0m visitor \u001b[38;5;241m=\u001b[39m \u001b[38;5;28mgetattr\u001b[39m(\u001b[38;5;28mself\u001b[39m, method, \u001b[38;5;28mself\u001b[39m\u001b[38;5;241m.\u001b[39mgeneric_visit)\n\u001b[0;32m--> 418\u001b[0m \u001b[38;5;28;01mreturn\u001b[39;00m \u001b[43mvisitor\u001b[49m\u001b[43m(\u001b[49m\u001b[43mnode\u001b[49m\u001b[43m)\u001b[49m\n",
      "File \u001b[0;32m~/miniforge3/envs/mp/lib/python3.10/site-packages/triton/compiler.py:301\u001b[0m, in \u001b[0;36mCodeGenerator.visit_Assign\u001b[0;34m(self, node)\u001b[0m\n\u001b[1;32m    300\u001b[0m names \u001b[38;5;241m=\u001b[39m _names[\u001b[38;5;241m0\u001b[39m]\n\u001b[0;32m--> 301\u001b[0m values \u001b[38;5;241m=\u001b[39m \u001b[38;5;28;43mself\u001b[39;49m\u001b[38;5;241;43m.\u001b[39;49m\u001b[43mvisit\u001b[49m\u001b[43m(\u001b[49m\u001b[43mnode\u001b[49m\u001b[38;5;241;43m.\u001b[39;49m\u001b[43mvalue\u001b[49m\u001b[43m)\u001b[49m\n\u001b[1;32m    302\u001b[0m \u001b[38;5;28;01mif\u001b[39;00m \u001b[38;5;129;01mnot\u001b[39;00m \u001b[38;5;28misinstance\u001b[39m(names, \u001b[38;5;28mtuple\u001b[39m):\n",
      "File \u001b[0;32m~/miniforge3/envs/mp/lib/python3.10/site-packages/triton/compiler.py:855\u001b[0m, in \u001b[0;36mCodeGenerator.visit\u001b[0;34m(self, node)\u001b[0m\n\u001b[1;32m    854\u001b[0m warnings\u001b[38;5;241m.\u001b[39msimplefilter(\u001b[38;5;124m\"\u001b[39m\u001b[38;5;124mignore\u001b[39m\u001b[38;5;124m\"\u001b[39m, \u001b[38;5;167;01mPendingDeprecationWarning\u001b[39;00m)  \u001b[38;5;66;03m# python 3.8\u001b[39;00m\n\u001b[0;32m--> 855\u001b[0m \u001b[38;5;28;01mreturn\u001b[39;00m \u001b[38;5;28;43msuper\u001b[39;49m\u001b[43m(\u001b[49m\u001b[43m)\u001b[49m\u001b[38;5;241;43m.\u001b[39;49m\u001b[43mvisit\u001b[49m\u001b[43m(\u001b[49m\u001b[43mnode\u001b[49m\u001b[43m)\u001b[49m\n",
      "File \u001b[0;32m~/miniforge3/envs/mp/lib/python3.10/ast.py:418\u001b[0m, in \u001b[0;36mNodeVisitor.visit\u001b[0;34m(self, node)\u001b[0m\n\u001b[1;32m    417\u001b[0m visitor \u001b[38;5;241m=\u001b[39m \u001b[38;5;28mgetattr\u001b[39m(\u001b[38;5;28mself\u001b[39m, method, \u001b[38;5;28mself\u001b[39m\u001b[38;5;241m.\u001b[39mgeneric_visit)\n\u001b[0;32m--> 418\u001b[0m \u001b[38;5;28;01mreturn\u001b[39;00m \u001b[43mvisitor\u001b[49m\u001b[43m(\u001b[49m\u001b[43mnode\u001b[49m\u001b[43m)\u001b[49m\n",
      "File \u001b[0;32m~/miniforge3/envs/mp/lib/python3.10/site-packages/triton/compiler.py:797\u001b[0m, in \u001b[0;36mCodeGenerator.visit_Call\u001b[0;34m(self, node)\u001b[0m\n\u001b[1;32m    795\u001b[0m \u001b[38;5;28;01mif\u001b[39;00m (\u001b[38;5;28mhasattr\u001b[39m(fn, \u001b[38;5;124m'\u001b[39m\u001b[38;5;124m__self__\u001b[39m\u001b[38;5;124m'\u001b[39m) \u001b[38;5;129;01mand\u001b[39;00m \u001b[38;5;28mself\u001b[39m\u001b[38;5;241m.\u001b[39mis_triton_tensor(fn\u001b[38;5;241m.\u001b[39m\u001b[38;5;18m__self__\u001b[39m)) \\\n\u001b[1;32m    796\u001b[0m         \u001b[38;5;129;01mor\u001b[39;00m impl\u001b[38;5;241m.\u001b[39mis_builtin(fn):\n\u001b[0;32m--> 797\u001b[0m     \u001b[38;5;28;01mreturn\u001b[39;00m \u001b[43mfn\u001b[49m\u001b[43m(\u001b[49m\u001b[38;5;241;43m*\u001b[39;49m\u001b[43margs\u001b[49m\u001b[43m,\u001b[49m\u001b[43m \u001b[49m\u001b[43m_builder\u001b[49m\u001b[38;5;241;43m=\u001b[39;49m\u001b[38;5;28;43mself\u001b[39;49m\u001b[38;5;241;43m.\u001b[39;49m\u001b[43mbuilder\u001b[49m\u001b[43m,\u001b[49m\u001b[43m \u001b[49m\u001b[38;5;241;43m*\u001b[39;49m\u001b[38;5;241;43m*\u001b[39;49m\u001b[43mkws\u001b[49m\u001b[43m)\u001b[49m\n\u001b[1;32m    798\u001b[0m \u001b[38;5;28;01mif\u001b[39;00m fn \u001b[38;5;129;01min\u001b[39;00m \u001b[38;5;28mself\u001b[39m\u001b[38;5;241m.\u001b[39mbuiltins\u001b[38;5;241m.\u001b[39mvalues():\n",
      "File \u001b[0;32m~/miniforge3/envs/mp/lib/python3.10/site-packages/triton/impl/base.py:22\u001b[0m, in \u001b[0;36mbuiltin.<locals>.wrapper\u001b[0;34m(*args, **kwargs)\u001b[0m\n\u001b[1;32m     18\u001b[0m     \u001b[38;5;28;01mraise\u001b[39;00m \u001b[38;5;167;01mValueError\u001b[39;00m(\n\u001b[1;32m     19\u001b[0m         \u001b[38;5;124m\"\u001b[39m\u001b[38;5;124mDid you forget to add @triton.jit ? \u001b[39m\u001b[38;5;124m\"\u001b[39m\n\u001b[1;32m     20\u001b[0m         \u001b[38;5;124m\"\u001b[39m\u001b[38;5;124m(`_builder` argument must be provided outside of JIT functions.)\u001b[39m\u001b[38;5;124m\"\u001b[39m\n\u001b[1;32m     21\u001b[0m     )\n\u001b[0;32m---> 22\u001b[0m \u001b[38;5;28;01mreturn\u001b[39;00m \u001b[43mfn\u001b[49m\u001b[43m(\u001b[49m\u001b[38;5;241;43m*\u001b[39;49m\u001b[43margs\u001b[49m\u001b[43m,\u001b[49m\u001b[43m \u001b[49m\u001b[38;5;241;43m*\u001b[39;49m\u001b[38;5;241;43m*\u001b[39;49m\u001b[43mkwargs\u001b[49m\u001b[43m)\u001b[49m\n",
      "\u001b[0;31mTypeError\u001b[0m: max() got multiple values for argument '_builder'",
      "\nThe above exception was the direct cause of the following exception:\n",
      "\u001b[0;31mCompilationError\u001b[0m                          Traceback (most recent call last)",
      "File \u001b[0;32m<timed exec>:2\u001b[0m\n",
      "Cell \u001b[0;32mIn[9], line 48\u001b[0m, in \u001b[0;36mPointSampler.sample\u001b[0;34m(self, mask, n_point_per_shape, loc, n_shape)\u001b[0m\n\u001b[1;32m     45\u001b[0m id_selected_shapes \u001b[38;5;241m=\u001b[39m \u001b[38;5;28;01mNone\u001b[39;00m\n\u001b[1;32m     47\u001b[0m \u001b[38;5;66;03m# extract shapes from mask - squeeze batch dimension\u001b[39;00m\n\u001b[0;32m---> 48\u001b[0m shapes \u001b[38;5;241m=\u001b[39m \u001b[43mextract_object_from_batch\u001b[49m\u001b[43m(\u001b[49m\u001b[43mmask\u001b[49m\u001b[43m)\u001b[49m\u001b[38;5;241m.\u001b[39msqueeze(\u001b[38;5;241m0\u001b[39m)\n\u001b[1;32m     49\u001b[0m \u001b[38;5;66;03m# print(\"shape\", shapes.shape)\u001b[39;00m\n\u001b[1;32m     50\u001b[0m \u001b[38;5;66;03m# filter on areas\u001b[39;00m\n\u001b[1;32m     51\u001b[0m areas \u001b[38;5;241m=\u001b[39m torch\u001b[38;5;241m.\u001b[39msum(shapes, dim\u001b[38;5;241m=\u001b[39m(\u001b[38;5;241m1\u001b[39m, \u001b[38;5;241m2\u001b[39m))\n",
      "Cell \u001b[0;32mIn[16], line 16\u001b[0m, in \u001b[0;36mextract_object_from_batch\u001b[0;34m(masks)\u001b[0m\n\u001b[1;32m     13\u001b[0m masks \u001b[38;5;241m=\u001b[39m masks\u001b[38;5;241m.\u001b[39mfloat() \u001b[38;5;241m/\u001b[39m masks\u001b[38;5;241m.\u001b[39mmax()\n\u001b[1;32m     15\u001b[0m \u001b[38;5;66;03m# Apply connected components\u001b[39;00m\n\u001b[0;32m---> 16\u001b[0m labels_masks \u001b[38;5;241m=\u001b[39m \u001b[43mconnected_components\u001b[49m\u001b[43m(\u001b[49m\u001b[43mmasks\u001b[49m\u001b[38;5;241;43m.\u001b[39;49m\u001b[43munsqueeze\u001b[49m\u001b[43m(\u001b[49m\u001b[38;5;241;43m1\u001b[39;49m\u001b[43m)\u001b[49m\u001b[43m)\u001b[49m\n\u001b[1;32m     17\u001b[0m uniques \u001b[38;5;241m=\u001b[39m torch\u001b[38;5;241m.\u001b[39munique(labels_masks)\n\u001b[1;32m     18\u001b[0m \u001b[38;5;66;03m# Labels from K.connected_component are not 0-index based and sequential integers\u001b[39;00m\n\u001b[1;32m     19\u001b[0m \u001b[38;5;66;03m# Need a mapping for one-hot\u001b[39;00m\n",
      "Cell \u001b[0;32mIn[15], line 71\u001b[0m, in \u001b[0;36mconnected_components\u001b[0;34m(image, num_iterations)\u001b[0m\n\u001b[1;32m     69\u001b[0m \u001b[38;5;66;03m# Launch Triton kernel\u001b[39;00m\n\u001b[1;32m     70\u001b[0m grid \u001b[38;5;241m=\u001b[39m (H \u001b[38;5;241m*\u001b[39m W,)\n\u001b[0;32m---> 71\u001b[0m \u001b[43mconnected_components_kernel\u001b[49m\u001b[43m[\u001b[49m\u001b[43mgrid\u001b[49m\u001b[43m]\u001b[49m\u001b[43m(\u001b[49m\u001b[43mimage_view\u001b[49m\u001b[43m,\u001b[49m\u001b[43m \u001b[49m\u001b[43mout\u001b[49m\u001b[43m,\u001b[49m\u001b[43m \u001b[49m\u001b[43mmask\u001b[49m\u001b[43m,\u001b[49m\u001b[43m \u001b[49m\u001b[43mH\u001b[49m\u001b[43m,\u001b[49m\u001b[43m \u001b[49m\u001b[43mW\u001b[49m\u001b[43m,\u001b[49m\u001b[43m \u001b[49m\u001b[43mnum_iterations\u001b[49m\u001b[43m,\u001b[49m\u001b[43m \u001b[49m\u001b[43mBLOCK_SIZE\u001b[49m\u001b[38;5;241;43m=\u001b[39;49m\u001b[38;5;241;43m1024\u001b[39;49m\u001b[43m)\u001b[49m\n\u001b[1;32m     73\u001b[0m \u001b[38;5;28;01mreturn\u001b[39;00m out\u001b[38;5;241m.\u001b[39mview_as(image)\n",
      "File \u001b[0;32m<string>:41\u001b[0m, in \u001b[0;36mconnected_components_kernel\u001b[0;34m(image_ptr, out_ptr, mask_ptr, H, W, num_iterations, BLOCK_SIZE, grid, num_warps, num_stages, extern_libs, stream, warmup)\u001b[0m\n",
      "File \u001b[0;32m~/miniforge3/envs/mp/lib/python3.10/site-packages/triton/compiler.py:1621\u001b[0m, in \u001b[0;36mcompile\u001b[0;34m(fn, **kwargs)\u001b[0m\n\u001b[1;32m   1619\u001b[0m     next_module \u001b[38;5;241m=\u001b[39m parse(path)\n\u001b[1;32m   1620\u001b[0m \u001b[38;5;28;01melse\u001b[39;00m:\n\u001b[0;32m-> 1621\u001b[0m     next_module \u001b[38;5;241m=\u001b[39m \u001b[38;5;28;43mcompile\u001b[39;49m\u001b[43m(\u001b[49m\u001b[43mmodule\u001b[49m\u001b[43m)\u001b[49m\n\u001b[1;32m   1622\u001b[0m     fn_cache_manager\u001b[38;5;241m.\u001b[39mput(next_module, \u001b[38;5;124mf\u001b[39m\u001b[38;5;124m\"\u001b[39m\u001b[38;5;132;01m{\u001b[39;00mname\u001b[38;5;132;01m}\u001b[39;00m\u001b[38;5;124m.\u001b[39m\u001b[38;5;132;01m{\u001b[39;00mir\u001b[38;5;132;01m}\u001b[39;00m\u001b[38;5;124m\"\u001b[39m)\n\u001b[1;32m   1623\u001b[0m \u001b[38;5;28;01mif\u001b[39;00m os\u001b[38;5;241m.\u001b[39mpath\u001b[38;5;241m.\u001b[39mexists(path):\n",
      "File \u001b[0;32m~/miniforge3/envs/mp/lib/python3.10/site-packages/triton/compiler.py:1550\u001b[0m, in \u001b[0;36mcompile.<locals>.<lambda>\u001b[0;34m(src)\u001b[0m\n\u001b[1;32m   1545\u001b[0m extern_libs \u001b[38;5;241m=\u001b[39m kwargs\u001b[38;5;241m.\u001b[39mget(\u001b[38;5;124m\"\u001b[39m\u001b[38;5;124mextern_libs\u001b[39m\u001b[38;5;124m\"\u001b[39m, \u001b[38;5;28mdict\u001b[39m())\n\u001b[1;32m   1546\u001b[0m \u001b[38;5;66;03m# build compilation stages\u001b[39;00m\n\u001b[1;32m   1547\u001b[0m stages \u001b[38;5;241m=\u001b[39m {\n\u001b[1;32m   1548\u001b[0m     \u001b[38;5;124m\"\u001b[39m\u001b[38;5;124mast\u001b[39m\u001b[38;5;124m\"\u001b[39m: (\u001b[38;5;28;01mlambda\u001b[39;00m path: fn, \u001b[38;5;28;01mNone\u001b[39;00m),\n\u001b[1;32m   1549\u001b[0m     \u001b[38;5;124m\"\u001b[39m\u001b[38;5;124mttir\u001b[39m\u001b[38;5;124m\"\u001b[39m: (\u001b[38;5;28;01mlambda\u001b[39;00m path: parse_mlir_module(path, context),\n\u001b[0;32m-> 1550\u001b[0m              \u001b[38;5;28;01mlambda\u001b[39;00m src: \u001b[43mast_to_ttir\u001b[49m\u001b[43m(\u001b[49m\u001b[43msrc\u001b[49m\u001b[43m,\u001b[49m\u001b[43m \u001b[49m\u001b[43msignature\u001b[49m\u001b[43m,\u001b[49m\u001b[43m \u001b[49m\u001b[43mconfigs\u001b[49m\u001b[43m[\u001b[49m\u001b[38;5;241;43m0\u001b[39;49m\u001b[43m]\u001b[49m\u001b[43m,\u001b[49m\u001b[43m \u001b[49m\u001b[43mconstants\u001b[49m\u001b[43m)\u001b[49m),\n\u001b[1;32m   1551\u001b[0m     \u001b[38;5;124m\"\u001b[39m\u001b[38;5;124mttgir\u001b[39m\u001b[38;5;124m\"\u001b[39m: (\u001b[38;5;28;01mlambda\u001b[39;00m path: parse_mlir_module(path, context),\n\u001b[1;32m   1552\u001b[0m               \u001b[38;5;28;01mlambda\u001b[39;00m src: ttir_to_ttgir(src, num_warps, num_stages, capability)),\n\u001b[1;32m   1553\u001b[0m     \u001b[38;5;124m\"\u001b[39m\u001b[38;5;124mllir\u001b[39m\u001b[38;5;124m\"\u001b[39m: (\u001b[38;5;28;01mlambda\u001b[39;00m path: Path(path)\u001b[38;5;241m.\u001b[39mread_text(),\n\u001b[1;32m   1554\u001b[0m              \u001b[38;5;28;01mlambda\u001b[39;00m src: ttgir_to_llir(src, extern_libs, capability)),\n\u001b[1;32m   1555\u001b[0m     \u001b[38;5;124m\"\u001b[39m\u001b[38;5;124mptx\u001b[39m\u001b[38;5;124m\"\u001b[39m: (\u001b[38;5;28;01mlambda\u001b[39;00m path: Path(path)\u001b[38;5;241m.\u001b[39mread_text(),\n\u001b[1;32m   1556\u001b[0m             \u001b[38;5;28;01mlambda\u001b[39;00m src: llir_to_ptx(src, capability)),\n\u001b[1;32m   1557\u001b[0m     \u001b[38;5;124m\"\u001b[39m\u001b[38;5;124mcubin\u001b[39m\u001b[38;5;124m\"\u001b[39m: (\u001b[38;5;28;01mlambda\u001b[39;00m path: Path(path)\u001b[38;5;241m.\u001b[39mread_bytes(),\n\u001b[1;32m   1558\u001b[0m               \u001b[38;5;28;01mlambda\u001b[39;00m src: ptx_to_cubin(src, capability))\n\u001b[1;32m   1559\u001b[0m }\n\u001b[1;32m   1560\u001b[0m \u001b[38;5;66;03m# find out the signature of the function\u001b[39;00m\n\u001b[1;32m   1561\u001b[0m \u001b[38;5;28;01mif\u001b[39;00m \u001b[38;5;28misinstance\u001b[39m(fn, triton\u001b[38;5;241m.\u001b[39mruntime\u001b[38;5;241m.\u001b[39mJITFunction):\n",
      "File \u001b[0;32m~/miniforge3/envs/mp/lib/python3.10/site-packages/triton/compiler.py:962\u001b[0m, in \u001b[0;36mast_to_ttir\u001b[0;34m(fn, signature, specialization, constants)\u001b[0m\n\u001b[1;32m    961\u001b[0m \u001b[38;5;28;01mdef\u001b[39;00m \u001b[38;5;21mast_to_ttir\u001b[39m(fn, signature, specialization, constants):\n\u001b[0;32m--> 962\u001b[0m     mod, _ \u001b[38;5;241m=\u001b[39m \u001b[43mbuild_triton_ir\u001b[49m\u001b[43m(\u001b[49m\u001b[43mfn\u001b[49m\u001b[43m,\u001b[49m\u001b[43m \u001b[49m\u001b[43msignature\u001b[49m\u001b[43m,\u001b[49m\u001b[43m \u001b[49m\u001b[43mspecialization\u001b[49m\u001b[43m,\u001b[49m\u001b[43m \u001b[49m\u001b[43mconstants\u001b[49m\u001b[43m)\u001b[49m\n\u001b[1;32m    963\u001b[0m     \u001b[38;5;28;01mreturn\u001b[39;00m optimize_triton_ir(mod)\n",
      "File \u001b[0;32m~/miniforge3/envs/mp/lib/python3.10/site-packages/triton/compiler.py:942\u001b[0m, in \u001b[0;36mbuild_triton_ir\u001b[0;34m(fn, signature, specialization, constants)\u001b[0m\n\u001b[1;32m    940\u001b[0m     \u001b[38;5;28;01mif\u001b[39;00m node \u001b[38;5;129;01mis\u001b[39;00m \u001b[38;5;28;01mNone\u001b[39;00m \u001b[38;5;129;01mor\u001b[39;00m \u001b[38;5;28misinstance\u001b[39m(e, (\u001b[38;5;167;01mNotImplementedError\u001b[39;00m, CompilationError)):\n\u001b[1;32m    941\u001b[0m         \u001b[38;5;28;01mraise\u001b[39;00m e\n\u001b[0;32m--> 942\u001b[0m     \u001b[38;5;28;01mraise\u001b[39;00m CompilationError(fn\u001b[38;5;241m.\u001b[39msrc, node) \u001b[38;5;28;01mfrom\u001b[39;00m \u001b[38;5;21;01me\u001b[39;00m\n\u001b[1;32m    943\u001b[0m ret \u001b[38;5;241m=\u001b[39m generator\u001b[38;5;241m.\u001b[39mmodule\n\u001b[1;32m    944\u001b[0m \u001b[38;5;66;03m# module takes ownership of the context\u001b[39;00m\n",
      "\u001b[0;31mCompilationError\u001b[0m: at 11:117:\ndef connected_components_kernel(image_ptr, out_ptr, mask_ptr, H, W, num_iterations, BLOCK_SIZE: tl.constexpr):\n    pid = tl.program_id(0)\n    row = pid // W\n    col = pid % W\n\n    if row < H and col < W:\n        idx = row * W + col\n        for _ in range(num_iterations):\n            max_val = tl.max(tl.load(out_ptr + idx - W - 1), tl.load(out_ptr + idx - W), tl.load(out_ptr + idx - W + 1),\n                             tl.load(out_ptr + idx - 1), tl.load(out_ptr + idx), tl.load(out_ptr + idx + 1),\n                             tl.load(out_ptr + idx + W - 1), tl.load(out_ptr + idx + W), tl.load(out_ptr + idx + W + 1))\n                                                                                                                     ^"
     ]
    }
   ],
   "source": [
    "%%time\n",
    "# with triton\n",
    "result = sampler.sample(label_torch, n_point_per_shape, loc, n_shape)"
   ]
  },
  {
   "cell_type": "code",
   "execution_count": 16,
   "id": "9ff6a172-d6a3-4ae9-af47-3ea1af5f9086",
   "metadata": {},
   "outputs": [
    {
     "name": "stderr",
     "output_type": "stream",
     "text": [
      "2024-09-17 14:56:53,649 - INFO ::  Function extract_object_from_batch Took 0.7384 seconds\n"
     ]
    },
    {
     "name": "stdout",
     "output_type": "stream",
     "text": [
      "CPU times: user 43.2 s, sys: 981 ms, total: 44.2 s\n",
      "Wall time: 923 ms\n"
     ]
    }
   ],
   "source": [
    "%%time\n",
    "# no opti\n",
    "result = sampler.sample(label, n_point_per_shape, loc, n_shape)"
   ]
  },
  {
   "cell_type": "code",
   "execution_count": null,
   "id": "73d0f269-f15f-41e0-9a70-e39205af9222",
   "metadata": {},
   "outputs": [],
   "source": [
    "%%time\n",
    "result = sampler.sample(label, n_point_per_shape, loc, n_shape)"
   ]
  },
  {
   "cell_type": "code",
   "execution_count": null,
   "id": "cb55e522-5cb2-4384-a108-084658d556d5",
   "metadata": {},
   "outputs": [],
   "source": []
  },
  {
   "cell_type": "code",
   "execution_count": null,
   "id": "4273e0c6-74e1-4dc2-bda3-5d1abcbef556",
   "metadata": {},
   "outputs": [],
   "source": []
  },
  {
   "cell_type": "code",
   "execution_count": null,
   "id": "608e8e2b-0060-4e38-9499-4a6f7d1560e7",
   "metadata": {},
   "outputs": [],
   "source": []
  }
 ],
 "metadata": {
  "kernelspec": {
   "display_name": "Python 3 (ipykernel)",
   "language": "python",
   "name": "python3"
  },
  "language_info": {
   "codemirror_mode": {
    "name": "ipython",
    "version": 3
   },
   "file_extension": ".py",
   "mimetype": "text/x-python",
   "name": "python",
   "nbconvert_exporter": "python",
   "pygments_lexer": "ipython3",
   "version": "3.10.14"
  }
 },
 "nbformat": 4,
 "nbformat_minor": 5
}
