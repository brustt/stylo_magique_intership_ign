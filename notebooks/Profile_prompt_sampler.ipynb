{
 "cells": [
  {
   "cell_type": "code",
   "execution_count": 1,
   "id": "fdf8facc-ab7a-44bf-a1ef-74e1eda1dbeb",
   "metadata": {},
   "outputs": [],
   "source": [
    "import hydra\n",
    "import torch\n",
    "from omegaconf import DictConfig, OmegaConf\n",
    "from typing import Any, Dict, List, Optional, Tuple, Union\n",
    "from deprecated import deprecated\n",
    "from omegaconf import DictConfig\n",
    "import numpy as np\n",
    "import torch.nn.functional as F\n",
    "from torch.nn.utils.rnn import pad_sequence\n",
    "from torch.utils import data\n",
    "\n",
    "from src.data.process import DefaultTransform\n",
    "from src.data.loader import BiTemporalDataset, load_levircd_sample\n",
    "from src.models.commons.mask_process import binarize_mask, extract_object_from_batch\n",
    "from src.models.segment_anything.utils.transforms import ResizeLongestSide\n",
    "from src.models.segment_anything.utils.amg import build_point_grid\n",
    "from src.commons.utils import *\n",
    "from src.commons.utils_io import load_img\n",
    "from src.commons.constants import PROJECT_PATH, DEVICE, IMG_SIZE\n",
    "\n",
    "from hydra.core.global_hydra import GlobalHydra"
   ]
  },
  {
   "cell_type": "code",
   "execution_count": 2,
   "id": "f868bcf8-2e80-490e-bc4d-adeaf0e700d3",
   "metadata": {},
   "outputs": [],
   "source": [
    "from torch.profiler import profile, record_function, ProfilerActivity"
   ]
  },
  {
   "cell_type": "markdown",
   "id": "b0cce21f-a2d3-4ddd-a3bd-339fd5507037",
   "metadata": {},
   "source": [
    "### Batch iteration with prompt"
   ]
  },
  {
   "cell_type": "code",
   "execution_count": null,
   "id": "0c5e868f-bf51-4dd7-a4c7-719f3a47d50f",
   "metadata": {},
   "outputs": [],
   "source": [
    "params = {\n",
    "    \"prompt_type\": \"sample\",\n",
    "    \"n_prompt\": 1,\n",
    "    \"n_shape\": 3,\n",
    "    \"loc\": \"center\",\n",
    "    \"batch_size\": 2,\n",
    "}\n",
    "ds = BiTemporalDataset(\n",
    "        name=\"levir-cd\",\n",
    "        dtype=\"train\",\n",
    "        transform=DefaultTransform(),\n",
    "        params=OmegaConf.create(params),\n",
    "    )"
   ]
  },
  {
   "cell_type": "code",
   "execution_count": null,
   "id": "2d847828-4acf-4c8a-b138-ff617ef5395c",
   "metadata": {},
   "outputs": [],
   "source": [
    "dloader = data.DataLoader(\n",
    "            ds,\n",
    "            batch_size=params.get('batch_size'),\n",
    "            shuffle=False,\n",
    "            num_workers=0,\n",
    "        )"
   ]
  },
  {
   "cell_type": "code",
   "execution_count": null,
   "id": "2709ae80-a721-4261-b687-9b61895a42e1",
   "metadata": {},
   "outputs": [],
   "source": []
  },
  {
   "cell_type": "code",
   "execution_count": null,
   "id": "0f3d601b-470b-4d86-88c5-130b6f180e77",
   "metadata": {},
   "outputs": [],
   "source": []
  },
  {
   "cell_type": "code",
   "execution_count": null,
   "id": "6bc60b80-c67c-4b72-9149-906766fcde8b",
   "metadata": {},
   "outputs": [],
   "source": []
  },
  {
   "cell_type": "code",
   "execution_count": 3,
   "id": "7806cf19-0c84-41e7-9b20-c01414713e59",
   "metadata": {},
   "outputs": [],
   "source": [
    "df = load_levircd_sample(None, data_type=\"test\", seed=42)"
   ]
  },
  {
   "cell_type": "code",
   "execution_count": 5,
   "id": "01440069-aa1c-4178-9f02-04c72c5abada",
   "metadata": {},
   "outputs": [],
   "source": [
    "# ds_name = \"levir-cd\"\n",
    "# device = \"cpu\"\n",
    "# batch_size = 1\n",
    "# ds_type = \"test\"\n",
    "\n",
    "# fname=None\n",
    "# fidx=100\n",
    "\n",
    "# exp_name = \"adapter_concat_bce_lrx10-4_shuffle\"\n",
    "\n",
    "# if not any([fname, fidx]):\n",
    "#     raise ValueError(\"Please provide at least a sample name or an sample index\")\n",
    "# # priority to fname\n",
    "# if fname is not None:\n",
    "#     fidx = ds.get_from_name(fname, return_sample=False)\n",
    "# # TODO: allow indices sequence\n",
    "# if isinstance(fidx, int): fidx = [fidx]\n",
    "\n",
    "\n",
    "# cfg, data_module, module = load_exp(exp_name)\n",
    "# ds = get_ds(ds_type, data_module)\n",
    "# sub_dl = data.DataLoader(data.Subset(ds, fidx), batch_size=1, shuffle=False)\n",
    "# batch = next(iter(sub_dl))"
   ]
  },
  {
   "cell_type": "code",
   "execution_count": null,
   "id": "933e0160-4e17-4e24-929c-341b9e35b798",
   "metadata": {},
   "outputs": [],
   "source": []
  },
  {
   "cell_type": "code",
   "execution_count": null,
   "id": "7242358c-0636-4e94-8a2c-852dfd799694",
   "metadata": {},
   "outputs": [],
   "source": []
  },
  {
   "cell_type": "code",
   "execution_count": null,
   "id": "c0e8d993-9da1-4493-b409-d02481ffcdd1",
   "metadata": {},
   "outputs": [],
   "source": []
  },
  {
   "cell_type": "code",
   "execution_count": 18,
   "id": "8337bb42-27e7-4276-8215-97bac0447fb9",
   "metadata": {},
   "outputs": [],
   "source": [
    "class PointSampler:\n",
    "    \"\"\"Prompt sampler - restricted to points\n",
    "    \n",
    "    Each generated points is under coordinates format (X,Y) in pixels.\n",
    "    \"\"\"\n",
    "    MIN_AREA = 25\n",
    "    \n",
    "    def __init__(self):\n",
    "        self._register_sample_method = {\n",
    "            \"random\": self.draw_random_point,\n",
    "            \"center\": self.draw_center_point,\n",
    "        }\n",
    "\n",
    "    def sample_candidates_shapes(self, shapes: torch.Tensor, n_shape: int) -> Tuple[torch.Tensor, torch.Tensor]:\n",
    "        # assign equals weights\n",
    "        probs = torch.ones(shapes.shape[0]) / shapes.shape[0]\n",
    "        # Sample the shapes\n",
    "        id_candidates_shapes = torch.multinomial(\n",
    "            probs,\n",
    "            n_shape,\n",
    "            # we sample with replacement to keeping same tensor dimensions over batch if not enough shapes\n",
    "            replacement=False if (shapes.shape[0] >= n_shape) else True,\n",
    "        )\n",
    "        # get the coord of the pixels shapes (M x 3) - M number of not zeros pixels\n",
    "        coords_candidates = torch.nonzero(shapes[id_candidates_shapes]).to(torch.float)\n",
    "        return coords_candidates, id_candidates_shapes\n",
    "    \n",
    "\n",
    "    def sample(self, mask: torch.Tensor,  n_point_per_shape: int, loc: str, n_shape: int):\n",
    "        \"\"\"\n",
    "        Sample m points over n random shape\n",
    "        Return new label if a subset of shapes (n_shape) is selected\n",
    "        \"\"\"\n",
    "\n",
    "        if loc not in list(self._register_sample_method):\n",
    "            raise ValueError(\n",
    "                f\"loc method not valid. Valid values for loc : {list(self._register_sample_method)}\"\n",
    "            )\n",
    "        if not n_shape:\n",
    "            raise ValueError(\"please provide n_shape to sample. One point per shape\")\n",
    "            \n",
    "        if mask.ndim < 3:\n",
    "            mask = mask.unsqueeze(0)\n",
    "        # track id shapes if we a subset of shapes\n",
    "        id_selected_shapes = None\n",
    "        \n",
    "        # extract shapes from mask - squeeze batch dimension\n",
    "        shapes = extract_object_from_batch(mask).squeeze(0)\n",
    "        # print(\"shape\", shapes.shape)\n",
    "        # filter on areas\n",
    "        areas = torch.sum(shapes, dim=(1, 2))\n",
    "        indices = torch.where(areas > self.MIN_AREA)[0]\n",
    "        shapes = shapes[indices,:,:]\n",
    "\n",
    "        # check if there is some shapes extracted - check sum for no-shapes return\n",
    "        # check > 1 first for speed in case of shapes - return no shapes :  (1 x) 1 x H x W\n",
    "        if shapes.shape[0] > 1 or torch.sum(shapes):\n",
    "            # extract all shapes (max of batch) if there are not enough shapes\n",
    "            # n_shape = min(n_shape,  shapes.shape[0]) # not good for diff batch size\n",
    "            coords_candidates, id_selected_shapes = self.sample_candidates_shapes(shapes, n_shape)\n",
    "            # first column of coords_candidates == index of shape\n",
    "            # iterate over the shapes\n",
    "            sample_coords = torch.cat(\n",
    "                [\n",
    "                    # mask coordinates based on shape index\n",
    "                    # select only coordinates dims for _register_sample_method : [:, 1:] => (N, 2)\n",
    "                    self._register_sample_method[loc](\n",
    "                        coords_candidates[coords_candidates[:, 0] == s][:, 1:], n_point_per_shape\n",
    "                    )\n",
    "                    for s in torch.unique(coords_candidates[:, 0])\n",
    "                ]\n",
    "            )\n",
    "            # simulate point type (foreground / background) - foreground default\n",
    "            labels_points = torch.ones(len(sample_coords))\n",
    "        else:\n",
    "            # empty return = sample random points\n",
    "            #sample_coords = torch.zeros((n_shape*n_point_per_shape, 2), dtype=torch.float32) - 1000\n",
    "            sample_coords = torch.as_tensor(np.random.randint(0, mask.shape[-1], size=(n_shape, 2)))\n",
    "            # label - 1\n",
    "            labels_points = torch.zeros(len(sample_coords)) - 1\n",
    "\n",
    "        return sample_coords, labels_points\n",
    "\n",
    "    def draw_random_point(self, shape, n_point):\n",
    "        \"\"\"draw one random point from shape\"\"\"\n",
    "        idx = torch.multinomial(\n",
    "            torch.ones(shape.shape[0], dtype=torch.float), num_samples=n_point\n",
    "        )\n",
    "        # invert pixels coords to (x, y) format\n",
    "        return torch.flip(shape[idx], dims=(1,))\n",
    "\n",
    "    def draw_center_point(self, shape, n_point):\n",
    "        \"\"\"\n",
    "        Sample approximation center. Proxy for hard concave object where \"natural center\" (simple average) doesn't belong to the shape.\n",
    "        shape : (M, 2) : (shape's pixels, px coordinates dim)\n",
    "        \"\"\"\n",
    "        # proxy for hard concave object\n",
    "        visible_center = torch.mean(shape, dim=0).to(int)\n",
    "        # euclidean distance\n",
    "        dist_center = torch.cdist(visible_center.unsqueeze(0).to(torch.fldeviceoat), shape, p=2.).view(-1)\n",
    "        idx = torch.nonzero(dist_center).view(-1)\n",
    "        dist_center, shape = dist_center[idx], shape[idx,...]\n",
    "        # sample point from inverse distance weighting => in favor of \"closest center\" point - take first 50 pts arbitrary\n",
    "        # values, indices  = torch.topk(dist_center, min(50, dist_center.shape[0]), largest=False, sorted=True)\n",
    "        # values, indices = values.view(-1), indices.view(-1)\n",
    "        idx = torch.multinomial(\n",
    "            1/dist_center, num_samples=n_point\n",
    "        )\n",
    "        # flip to convert to (x, y) format\n",
    "        return torch.flip(shape[idx], dims=(1,))\n",
    "\n",
    "    def profiled_sample(self, mask: torch.Tensor, n_point_per_shape: int, loc: str, n_shape: int):\n",
    "        with profile(activities=[ProfilerActivity.CPU, ProfilerActivity.CUDA],\n",
    "                     record_shapes=True,\n",
    "                     profile_memory=True) as prof:\n",
    "            with record_function(\"sample\"):\n",
    "                result = self.sample(mask, n_point_per_shape, loc, n_shape)\n",
    "        \n",
    "        print(prof.key_averages().table(sort_by=\"cuda_time_total\", row_limit=10))\n",
    "        #print(prof.key_averages().table(sort_by=\"cpu_time_total\", row_limit=10))\n",
    "        prof.export_chrome_trace(\"trace_chrome\" + str(prof.step_num) + \".json\")"
   ]
  },
  {
   "cell_type": "code",
   "execution_count": null,
   "id": "cf5f6df8-9dfa-451f-9464-e6bb88d41908",
   "metadata": {},
   "outputs": [],
   "source": []
  },
  {
   "cell_type": "code",
   "execution_count": 19,
   "id": "523d3b32-e530-4a9c-827d-814021112e9b",
   "metadata": {},
   "outputs": [
    {
     "data": {
      "text/plain": [
       "True"
      ]
     },
     "execution_count": 19,
     "metadata": {},
     "output_type": "execute_result"
    }
   ],
   "source": [
    "torch.cuda.is_available()"
   ]
  },
  {
   "cell_type": "code",
   "execution_count": 20,
   "id": "89cca87b-55a0-4a25-a78a-8e2dbc86d3c0",
   "metadata": {},
   "outputs": [],
   "source": [
    "# Usage\n",
    "idx=12\n",
    "path_label,path_A, path_B = df.iloc[idx]\n",
    "label = load_img(path_label)"
   ]
  },
  {
   "cell_type": "code",
   "execution_count": 21,
   "id": "f7958416-7a08-43ae-a35d-67e83938e884",
   "metadata": {},
   "outputs": [
    {
     "data": {
      "image/png": "[encoded data removed]",
      "text/plain": [
       "<Figure size 640x480 with 1 Axes>"
      ]
     },
     "metadata": {},
     "output_type": "display_data"
    }
   ],
   "source": [
    "show_img(label)"
   ]
  },
  {
   "cell_type": "code",
   "execution_count": 22,
   "id": "b5914554-b0ba-4131-a46c-c856e9ec28ca",
   "metadata": {},
   "outputs": [
    {
     "name": "stderr",
     "output_type": "stream",
     "text": [
      "[W kineto_shim.cpp:333] Adding profiling metadata requires using torch.profiler with Kineto support (USE_KINETO=1)\n",
      "[W kineto_shim.cpp:333] Adding profiling metadata requires using torch.profiler with Kineto support (USE_KINETO=1)\n"
     ]
    },
    {
     "name": "stdout",
     "output_type": "stream",
     "text": [
      "---------------------------------  ------------  ------------  ------------  ------------  ------------  ------------  ------------  ------------  ------------  ------------  ------------  ------------  ------------  ------------  \n",
      "                             Name    Self CPU %      Self CPU   CPU total %     CPU total  CPU time avg     Self CUDA   Self CUDA %    CUDA total  CUDA time avg       CPU Mem  Self CPU Mem      CUDA Mem  Self CUDA Mem    # of Calls  \n",
      "---------------------------------  ------------  ------------  ------------  ------------  ------------  ------------  ------------  ------------  ------------  ------------  ------------  ------------  ------------  ------------  \n",
      "                           sample        43.71%      84.845ms       100.00%     194.125ms     194.125ms       4.180ms         2.15%     194.137ms     194.137ms          12 b     -13.82 Kb         512 b      -6.33 Gb             1  \n",
      "                 aten::max_pool2d         3.56%       6.909ms         7.05%      13.692ms      27.384us       2.518ms         1.30%     104.631ms     209.262us           0 b           0 b       3.06 Gb      -2.80 Gb           500  \n",
      "    aten::max_pool2d_with_indices         3.49%       6.783ms         3.49%       6.783ms      13.566us     102.113ms        52.60%     102.113ms     204.226us           0 b           0 b       5.86 Gb       5.86 Gb           500  \n",
      "                      aten::index         0.30%     588.000us        20.28%      39.378ms       4.375ms      39.256ms        20.22%      40.164ms       4.463ms           0 b           0 b     672.05 Mb     672.02 Mb             9  \n",
      "                        aten::mul         3.13%       6.072ms         3.13%       6.072ms      12.144us      29.811ms        15.36%      29.811ms      59.622us           0 b           0 b       1.95 Gb       1.95 Gb           500  \n",
      "                    aten::one_hot         0.02%      47.000us         0.10%     188.000us     188.000us      10.000us         0.01%       7.066ms       7.066ms           0 b           0 b     648.00 Mb           0 b             1  \n",
      "                      aten::fill_         0.02%      39.000us         0.02%      39.000us       2.167us       5.566ms         2.87%       5.566ms     309.222us           0 b           0 b           0 b           0 b            18  \n",
      "                      aten::zeros         0.02%      33.000us         0.04%      77.000us      77.000us      24.000us         0.01%       5.537ms       5.537ms           0 b           0 b     648.00 Mb           0 b             1  \n",
      "                      aten::zero_         0.01%      19.000us         0.02%      39.000us      39.000us      15.000us         0.01%       5.504ms       5.504ms           0 b           0 b           0 b           0 b             1  \n",
      "                        aten::sum         0.12%     224.000us         0.12%     230.000us      46.000us       2.905ms         1.50%       2.942ms     588.400us          16 b          16 b       1.00 Kb       1.00 Kb             5  \n",
      "---------------------------------  ------------  ------------  ------------  ------------  ------------  ------------  ------------  ------------  ------------  ------------  ------------  ------------  ------------  ------------  \n",
      "Self CPU time total: 194.125ms\n",
      "Self CUDA time total: 194.137ms\n",
      "\n"
     ]
    }
   ],
   "source": [
    "\n",
    "label = torch.tensor(label, dtype=torch.float32)\n",
    "n_point_per_shape = 1\n",
    "loc = \"random\"\n",
    "n_shape = 3\n",
    "sampler = PointSampler()\n",
    "\n",
    "if torch.cuda.is_available():\n",
    "    label = label.cuda()\n",
    "\n",
    "sampler.profiled_sample(label, n_point_per_shape, loc, n_shape)"
   ]
  },
  {
   "cell_type": "code",
   "execution_count": 10,
   "id": "9ff6a172-d6a3-4ae9-af47-3ea1af5f9086",
   "metadata": {},
   "outputs": [
    {
     "ename": "NameError",
     "evalue": "name 'sampler' is not defined",
     "output_type": "error",
     "traceback": [
      "\u001b[0;31m---------------------------------------------------------------------------\u001b[0m",
      "\u001b[0;31mNameError\u001b[0m                                 Traceback (most recent call last)",
      "Cell \u001b[0;32mIn[10], line 1\u001b[0m\n\u001b[0;32m----> 1\u001b[0m result \u001b[38;5;241m=\u001b[39m \u001b[43msampler\u001b[49m\u001b[38;5;241m.\u001b[39msample(label, n_point_per_shape, loc, n_shape)\n",
      "\u001b[0;31mNameError\u001b[0m: name 'sampler' is not defined"
     ]
    }
   ],
   "source": [
    "result = sampler.sample(label, n_point_per_shape, loc, n_shape)"
   ]
  },
  {
   "cell_type": "code",
   "execution_count": null,
   "id": "a6fd2dd8-7a9e-444f-9520-0cb25216595e",
   "metadata": {},
   "outputs": [],
   "source": [
    "result"
   ]
  },
  {
   "cell_type": "code",
   "execution_count": 11,
   "id": "ac6fb86f-06fb-4537-a60a-92b09c5a5aaa",
   "metadata": {},
   "outputs": [
    {
     "ename": "AttributeError",
     "evalue": "'numpy.ndarray' object has no attribute 'device'",
     "output_type": "error",
     "traceback": [
      "\u001b[0;31m---------------------------------------------------------------------------\u001b[0m",
      "\u001b[0;31mAttributeError\u001b[0m                            Traceback (most recent call last)",
      "Cell \u001b[0;32mIn[11], line 1\u001b[0m\n\u001b[0;32m----> 1\u001b[0m \u001b[43mlabel\u001b[49m\u001b[38;5;241;43m.\u001b[39;49m\u001b[43mdevice\u001b[49m\n",
      "\u001b[0;31mAttributeError\u001b[0m: 'numpy.ndarray' object has no attribute 'device'"
     ]
    }
   ],
   "source": [
    "label.device"
   ]
  },
  {
   "cell_type": "code",
   "execution_count": null,
   "id": "cb55e522-5cb2-4384-a108-084658d556d5",
   "metadata": {},
   "outputs": [],
   "source": []
  },
  {
   "cell_type": "code",
   "execution_count": null,
   "id": "4273e0c6-74e1-4dc2-bda3-5d1abcbef556",
   "metadata": {},
   "outputs": [],
   "source": []
  },
  {
   "cell_type": "code",
   "execution_count": null,
   "id": "608e8e2b-0060-4e38-9499-4a6f7d1560e7",
   "metadata": {},
   "outputs": [],
   "source": []
  }
 ],
 "metadata": {
  "kernelspec": {
   "display_name": "Python 3 (ipykernel)",
   "language": "python",
   "name": "python3"
  },
  "language_info": {
   "codemirror_mode": {
    "name": "ipython",
    "version": 3
   },
   "file_extension": ".py",
   "mimetype": "text/x-python",
   "name": "python",
   "nbconvert_exporter": "python",
   "pygments_lexer": "ipython3",
   "version": "3.10.14"
  }
 },
 "nbformat": 4,
 "nbformat_minor": 5
}
