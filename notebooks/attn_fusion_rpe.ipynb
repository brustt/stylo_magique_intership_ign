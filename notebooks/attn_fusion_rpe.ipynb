{
 "cells": [
  {
   "cell_type": "code",
   "execution_count": 1,
   "id": "3453a5ec-c835-4132-9051-c233b7798367",
   "metadata": {},
   "outputs": [],
   "source": [
    "# load env variables\n",
    "from datetime import datetime\n",
    "import os\n",
    "from dotenv import load_dotenv\n",
    "load_dotenv()\n",
    "# set local dir logs based on date _${now:%Y-%m-%d}_${now:%H-%M-%S}\n",
    "os.environ[\"SLURM_JOB_ID\"] = datetime.now().strftime(\"%Y-%m-%d_%H-%M-%S\")"
   ]
  },
  {
   "cell_type": "code",
   "execution_count": 2,
   "id": "7bfbffa1-b30d-4234-b731-318eb3cded14",
   "metadata": {},
   "outputs": [
    {
     "name": "stdout",
     "output_type": "stream",
     "text": [
      "Welcome in JZAY\n"
     ]
    }
   ],
   "source": [
    "import hydra\n",
    "import torch\n",
    "from src.commons.constants import PROJECT_PATH\n",
    "from omegaconf import DictConfig, OmegaConf"
   ]
  },
  {
   "cell_type": "code",
   "execution_count": 4,
   "id": "4e200383-e172-4f0f-864e-c9c36c76ed12",
   "metadata": {},
   "outputs": [],
   "source": [
    "def load_config():\n",
    "    # Initialize the Hydra configuration\n",
    "    hydra.initialize(config_path=\"../configs\", version_base=None)\n",
    "    \n",
    "    # Compose the configuration with the desired environment override\n",
    "    cfg = hydra.compose(\n",
    "        config_name=\"train\", \n",
    "        overrides=[\"experiment=adapter_concat\", \n",
    "                   \"sam_type=small\", \n",
    "                   \"data=levir-cd\",\n",
    "                   \"data.params.batch_size=1\"\n",
    "                  ])\n",
    "    \n",
    "    return cfg\n",
    "\n",
    "def get_dloader(mode: str, dmodule):\n",
    "\n",
    "    def wrap_mode(mode):\n",
    "        if mode == \"train\":\n",
    "            return \"fit\"\n",
    "        return mode\n",
    "    if not dmodule.ds_dict_type:\n",
    "        mode_ = wrap_mode(mode)\n",
    "        dmodule.setup(mode_)\n",
    "    factory_dl = {\n",
    "        \"train\": dmodule.train_dataloader,\n",
    "        \"val\": dmodule.val_dataloader,\n",
    "        \"test\": dmodule.test_dataloader,\n",
    "    }\n",
    "    return factory_dl[mode]()"
   ]
  },
  {
   "cell_type": "code",
   "execution_count": 5,
   "id": "0edde6ea-486a-4949-b28a-4265daf7913c",
   "metadata": {
    "scrolled": true
   },
   "outputs": [],
   "source": [
    "from hydra.core.global_hydra import GlobalHydra\n",
    "GlobalHydra.instance().clear()\n",
    "cfg = load_config()"
   ]
  },
  {
   "cell_type": "code",
   "execution_count": 6,
   "id": "b1ab84aa-054f-4c12-93f0-7617640473c2",
   "metadata": {},
   "outputs": [
    {
     "name": "stdout",
     "output_type": "stream",
     "text": [
      "INIT ADAPTER VIT\n"
     ]
    },
    {
     "name": "stderr",
     "output_type": "stream",
     "text": [
      "2024-08-13 20:45:18,587 - INFO ::  Weights loaded for : ['image_encoder']\n"
     ]
    }
   ],
   "source": [
    "module = hydra.utils.instantiate(cfg.model.instance)"
   ]
  },
  {
   "cell_type": "code",
   "execution_count": 7,
   "id": "dae739e0-7e8a-4e49-8876-00a395982d49",
   "metadata": {},
   "outputs": [],
   "source": [
    "data_module = hydra.utils.instantiate(cfg.data)"
   ]
  },
  {
   "cell_type": "code",
   "execution_count": 8,
   "id": "09e432f4-b89d-439e-afed-7f7080b28928",
   "metadata": {},
   "outputs": [],
   "source": [
    "dloader = get_dloader(\"test\", data_module)"
   ]
  },
  {
   "cell_type": "code",
   "execution_count": 9,
   "id": "816adbef-72c0-45de-9855-df8d0316cc46",
   "metadata": {},
   "outputs": [],
   "source": [
    "batch = next(iter(dloader))"
   ]
  },
  {
   "cell_type": "code",
   "execution_count": 11,
   "id": "dfcdd3f0-dd4a-494d-8b23-a6a3f75293e7",
   "metadata": {},
   "outputs": [],
   "source": [
    "preds, _ = module.model(batch, multimask_output=False)\n",
    "preds = preds.squeeze()"
   ]
  },
  {
   "cell_type": "code",
   "execution_count": 12,
   "id": "6cb40b31-9ccc-43e9-a4dd-940a46a334db",
   "metadata": {},
   "outputs": [
    {
     "data": {
      "text/plain": [
       "torch.Size([1024, 1024])"
      ]
     },
     "execution_count": 12,
     "metadata": {},
     "output_type": "execute_result"
    }
   ],
   "source": [
    "preds.shape"
   ]
  },
  {
   "cell_type": "code",
   "execution_count": 15,
   "id": "61ff7b6a-4001-4fdd-a433-c500dd3f8e22",
   "metadata": {},
   "outputs": [],
   "source": [
    "img_embeddings = module.model.image_embeddings"
   ]
  },
  {
   "cell_type": "code",
   "execution_count": null,
   "id": "216aa3ab-0d87-450d-8221-0af29d5db6ad",
   "metadata": {},
   "outputs": [],
   "source": []
  }
 ],
 "metadata": {
  "kernelspec": {
   "display_name": "Python 3 (ipykernel)",
   "language": "python",
   "name": "python3"
  },
  "language_info": {
   "codemirror_mode": {
    "name": "ipython",
    "version": 3
   },
   "file_extension": ".py",
   "mimetype": "text/x-python",
   "name": "python",
   "nbconvert_exporter": "python",
   "pygments_lexer": "ipython3",
   "version": "3.10.14"
  }
 },
 "nbformat": 4,
 "nbformat_minor": 5
}
