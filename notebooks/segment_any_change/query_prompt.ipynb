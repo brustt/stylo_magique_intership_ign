{
 "cells": [
  {
   "cell_type": "code",
   "execution_count": null,
   "id": "0e10992b-4ff9-4a21-b8c3-7979247fa57a",
   "metadata": {},
   "outputs": [],
   "source": [
    "from src.magic_pen.data.loader import BiTemporalDataset\n",
    "from src.commons.constants import NamedDataset\n",
    "from src.segment_any_change.utils import show_img, show_pair_img\n",
    "import matplotlib.pyplot as plt\n",
    "import numpy as np\n",
    "import cv2\n",
    "from PIL import Image\n",
    "import torch\n",
    "import rasterio as rio\n",
    "from magic_pen.config import SEED\n",
    "import pytorch_lightning as pl\n",
    "import pandas as pd\n",
    "import os\n",
    "from copy import deepcopy\n",
    "import torch.nn.functional as F\n"
   ]
  },
  {
   "cell_type": "code",
   "execution_count": null,
   "id": "31544426-0344-446c-ae8a-9931fc752664",
   "metadata": {},
   "outputs": [],
   "source": [
    "pl.seed_everything(seed=SEED)"
   ]
  }
 ],
 "metadata": {
  "kernelspec": {
   "display_name": "Python 3 (ipykernel)",
   "language": "python",
   "name": "python3"
  },
  "language_info": {
   "codemirror_mode": {
    "name": "ipython",
    "version": 3
   },
   "file_extension": ".py",
   "mimetype": "text/x-python",
   "name": "python",
   "nbconvert_exporter": "python",
   "pygments_lexer": "ipython3",
   "version": "3.10.14"
  }
 },
 "nbformat": 4,
 "nbformat_minor": 5
}
