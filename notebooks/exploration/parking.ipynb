{
 "cells": [
  {
   "cell_type": "code",
   "execution_count": 1,
   "id": "ea8b4731-2ee4-4b9f-bfb9-e8cd58e3cef8",
   "metadata": {},
   "outputs": [],
   "source": [
    "import numpy as np\n",
    "import matplotlib.pyplot as plt\n",
    "import cv2"
   ]
  },
  {
   "cell_type": "code",
   "execution_count": 2,
   "id": "e3d3e1ba-17cd-4cdd-8e6e-e83daf95a8ba",
   "metadata": {},
   "outputs": [],
   "source": [
    "from magic_pen.config import *\n"
   ]
  },
  {
   "cell_type": "code",
   "execution_count": 35,
   "id": "33b6e56a-6967-4a29-8613-21613fbc6c7f",
   "metadata": {},
   "outputs": [],
   "source": [
    "image = cv2.imread(str(sam_data_path / 'truck.jpg'))\n",
    "image = cv2.cvtColor(image, cv2.COLOR_BGR2RGB)"
   ]
  },
  {
   "cell_type": "code",
   "execution_count": 36,
   "id": "52bec4fe-987b-4f73-8cc9-a30475f31720",
   "metadata": {},
   "outputs": [
    {
     "data": {
      "text/plain": [
       "(1200, 1800, 3)"
      ]
     },
     "execution_count": 36,
     "metadata": {},
     "output_type": "execute_result"
    }
   ],
   "source": [
    "image.shape"
   ]
  },
  {
   "cell_type": "code",
   "execution_count": 2,
   "id": "bb952364-0b8d-436c-b662-8ebce7676f38",
   "metadata": {},
   "outputs": [],
   "source": [
    "def build_point_grid(n_per_side: int) -> np.ndarray:\n",
    "    \"\"\"Generates a 2D grid of points evenly spaced in [0,1]x[0,1].\"\"\"\n",
    "    offset = 1 / (2 * n_per_side)\n",
    "    points_one_side = np.linspace(offset, 1 - offset, n_per_side)\n",
    "    points_x = np.tile(points_one_side[None, :], (n_per_side, 1))\n",
    "    points_y = np.tile(points_one_side[:, None], (1, n_per_side))\n",
    "    points = np.stack([points_x, points_y], axis=-1).reshape(-1, 2)\n",
    "    return points"
   ]
  },
  {
   "cell_type": "code",
   "execution_count": 3,
   "id": "e28052ef-0dff-4dc0-ae8f-5a1fa86d9fed",
   "metadata": {},
   "outputs": [],
   "source": [
    "grid = build_point_grid(32)"
   ]
  },
  {
   "cell_type": "code",
   "execution_count": 5,
   "id": "10e60785-c324-4ee5-a34d-edaf8247709a",
   "metadata": {},
   "outputs": [
    {
     "data": {
      "text/plain": [
       "(1024, 2)"
      ]
     },
     "execution_count": 5,
     "metadata": {},
     "output_type": "execute_result"
    }
   ],
   "source": [
    "grid.shape"
   ]
  },
  {
   "cell_type": "code",
   "execution_count": 13,
   "id": "66d7a4d7-188b-4dae-8422-a2870bc48916",
   "metadata": {},
   "outputs": [
    {
     "data": {
      "text/plain": [
       "array([[0.015625, 0.015625],\n",
       "       [0.046875, 0.015625],\n",
       "       [0.078125, 0.015625],\n",
       "       ...,\n",
       "       [0.921875, 0.984375],\n",
       "       [0.953125, 0.984375],\n",
       "       [0.984375, 0.984375]])"
      ]
     },
     "execution_count": 13,
     "metadata": {},
     "output_type": "execute_result"
    }
   ],
   "source": [
    "grid"
   ]
  },
  {
   "cell_type": "code",
   "execution_count": 6,
   "id": "e4d21f6f-fa8e-4c77-ba3e-22ea6812fcbc",
   "metadata": {},
   "outputs": [],
   "source": [
    "n_per_side = 32\n",
    "offset = 1 / (2 * n_per_side)\n",
    "points_one_side = np.linspace(offset, 1 - offset, n_per_side)"
   ]
  },
  {
   "cell_type": "code",
   "execution_count": 7,
   "id": "22348bf8-f009-4b5f-b7dc-d56047a24cfe",
   "metadata": {},
   "outputs": [
    {
     "data": {
      "text/plain": [
       "array([0.015625, 0.046875, 0.078125, 0.109375, 0.140625, 0.171875,\n",
       "       0.203125, 0.234375, 0.265625, 0.296875, 0.328125, 0.359375,\n",
       "       0.390625, 0.421875, 0.453125, 0.484375, 0.515625, 0.546875,\n",
       "       0.578125, 0.609375, 0.640625, 0.671875, 0.703125, 0.734375,\n",
       "       0.765625, 0.796875, 0.828125, 0.859375, 0.890625, 0.921875,\n",
       "       0.953125, 0.984375])"
      ]
     },
     "execution_count": 7,
     "metadata": {},
     "output_type": "execute_result"
    }
   ],
   "source": [
    "points_one_side"
   ]
  },
  {
   "cell_type": "code",
   "execution_count": 10,
   "id": "765bbfbf-0767-467e-a734-c0975a0f5c2e",
   "metadata": {},
   "outputs": [
    {
     "data": {
      "text/plain": [
       "array([[0.015625, 0.046875, 0.078125, ..., 0.921875, 0.953125, 0.984375],\n",
       "       [0.015625, 0.046875, 0.078125, ..., 0.921875, 0.953125, 0.984375],\n",
       "       [0.015625, 0.046875, 0.078125, ..., 0.921875, 0.953125, 0.984375],\n",
       "       ...,\n",
       "       [0.015625, 0.046875, 0.078125, ..., 0.921875, 0.953125, 0.984375],\n",
       "       [0.015625, 0.046875, 0.078125, ..., 0.921875, 0.953125, 0.984375],\n",
       "       [0.015625, 0.046875, 0.078125, ..., 0.921875, 0.953125, 0.984375]])"
      ]
     },
     "execution_count": 10,
     "metadata": {},
     "output_type": "execute_result"
    }
   ],
   "source": [
    "np.tile(points_one_side[None, :], (n_per_side, 1))"
   ]
  },
  {
   "cell_type": "code",
   "execution_count": 12,
   "id": "03688910-a9d6-42ce-aeb1-fcc0d96299b4",
   "metadata": {},
   "outputs": [
    {
     "data": {
      "text/plain": [
       "array([[0.015625, 0.015625, 0.015625, ..., 0.015625, 0.015625, 0.015625],\n",
       "       [0.046875, 0.046875, 0.046875, ..., 0.046875, 0.046875, 0.046875],\n",
       "       [0.078125, 0.078125, 0.078125, ..., 0.078125, 0.078125, 0.078125],\n",
       "       ...,\n",
       "       [0.921875, 0.921875, 0.921875, ..., 0.921875, 0.921875, 0.921875],\n",
       "       [0.953125, 0.953125, 0.953125, ..., 0.953125, 0.953125, 0.953125],\n",
       "       [0.984375, 0.984375, 0.984375, ..., 0.984375, 0.984375, 0.984375]])"
      ]
     },
     "execution_count": 12,
     "metadata": {},
     "output_type": "execute_result"
    }
   ],
   "source": [
    "np.tile(points_one_side[:, None], (1, n_per_side))"
   ]
  },
  {
   "cell_type": "code",
   "execution_count": 17,
   "id": "35552d15-e232-44e8-b6b9-11791f2d71da",
   "metadata": {},
   "outputs": [
    {
     "data": {
      "text/plain": [
       "<matplotlib.collections.PathCollection at 0x7fa362c8a2f0>"
      ]
     },
     "execution_count": 17,
     "metadata": {},
     "output_type": "execute_result"
    },
    {
     "data": {
      "image/png": "[encoded data removed]",
      "text/plain": [
       "<Figure size 640x480 with 1 Axes>"
      ]
     },
     "metadata": {},
     "output_type": "display_data"
    }
   ],
   "source": [
    "plt.scatter(grid[:, 0], grid[:, 1])"
   ]
  },
  {
   "cell_type": "markdown",
   "id": "2e8066e8-c80d-4d1c-bfbb-f3415378d36a",
   "metadata": {},
   "source": [
    "### Generation masks"
   ]
  },
  {
   "cell_type": "code",
   "execution_count": 49,
   "id": "1d81379b-9675-4bb2-b49d-280be2892135",
   "metadata": {},
   "outputs": [],
   "source": [
    "from typing import Tuple, Any, Dict, List\n",
    "import math\n",
    "from itertools import product\n",
    "\n",
    "def generate_crop_boxes(\n",
    "    im_size: Tuple[int, ...], n_layers: int, overlap_ratio: float\n",
    ") -> Tuple[List[List[int]], List[int]]:\n",
    "    \"\"\"\n",
    "    Generates a list of crop boxes of different sizes. Each layer\n",
    "    has (2**i)**2 boxes for the ith layer.\n",
    "    \"\"\"\n",
    "    crop_boxes, layer_idxs = [], []\n",
    "    im_h, im_w = im_size\n",
    "    short_side = min(im_h, im_w)\n",
    "\n",
    "    # Original image\n",
    "    crop_boxes.append([0, 0, im_w, im_h])\n",
    "    layer_idxs.append(0)\n",
    "\n",
    "    def crop_len(orig_len, n_crops, overlap):\n",
    "        return int(math.ceil((overlap * (n_crops - 1) + orig_len) / n_crops))\n",
    "\n",
    "    for i_layer in range(n_layers):\n",
    "        n_crops_per_side = 2 ** (i_layer + 1)\n",
    "        overlap = int(overlap_ratio * short_side * (2 / n_crops_per_side))\n",
    "\n",
    "        crop_w = crop_len(im_w, n_crops_per_side, overlap)\n",
    "        crop_h = crop_len(im_h, n_crops_per_side, overlap)\n",
    "\n",
    "        crop_box_x0 = [int((crop_w - overlap) * i) for i in range(n_crops_per_side)]\n",
    "        crop_box_y0 = [int((crop_h - overlap) * i) for i in range(n_crops_per_side)]\n",
    "\n",
    "        # Crops in XYWH format\n",
    "        for x0, y0 in product(crop_box_x0, crop_box_y0):\n",
    "            box = [x0, y0, min(x0 + crop_w, im_w), min(y0 + crop_h, im_h)]\n",
    "            crop_boxes.append(box)\n",
    "            layer_idxs.append(i_layer + 1)\n",
    "\n",
    "    return crop_boxes, layer_idxs"
   ]
  },
  {
   "cell_type": "code",
   "execution_count": 139,
   "id": "f7fd15e4-cfa7-46d3-92d1-398567c5689a",
   "metadata": {},
   "outputs": [],
   "source": [
    "# default\n",
    "im_size = (1024, 1024)\n",
    "n_layers = 2\n",
    "overlap_ratio = 512/1500"
   ]
  },
  {
   "cell_type": "code",
   "execution_count": 140,
   "id": "5006f2ce-1a58-4748-b10b-d57185bfda81",
   "metadata": {},
   "outputs": [],
   "source": [
    "crop_boxes, layer_idx = generate_crop_boxes(im_size, n_layers, overlap_ratio)"
   ]
  },
  {
   "cell_type": "code",
   "execution_count": 141,
   "id": "5278eef9-62a1-4b33-a4d2-68037941e442",
   "metadata": {},
   "outputs": [
    {
     "data": {
      "text/plain": [
       "[[0, 0, 1024, 1024],\n",
       " [0, 0, 687, 687],\n",
       " [0, 338, 687, 1024],\n",
       " [338, 0, 1024, 687],\n",
       " [338, 338, 1024, 1024],\n",
       " [0, 0, 387, 387],\n",
       " [0, 213, 387, 600],\n",
       " [0, 426, 387, 813],\n",
       " [0, 639, 387, 1024],\n",
       " [213, 0, 600, 387],\n",
       " [213, 213, 600, 600],\n",
       " [213, 426, 600, 813],\n",
       " [213, 639, 600, 1024],\n",
       " [426, 0, 813, 387],\n",
       " [426, 213, 813, 600],\n",
       " [426, 426, 813, 813],\n",
       " [426, 639, 813, 1024],\n",
       " [639, 0, 1024, 387],\n",
       " [639, 213, 1024, 600],\n",
       " [639, 426, 1024, 813],\n",
       " [639, 639, 1024, 1024]]"
      ]
     },
     "execution_count": 141,
     "metadata": {},
     "output_type": "execute_result"
    }
   ],
   "source": [
    "crop_boxes"
   ]
  },
  {
   "cell_type": "code",
   "execution_count": 142,
   "id": "f8b425f6-3ad4-4d09-b8d4-440892f92947",
   "metadata": {},
   "outputs": [],
   "source": [
    "im_bbox = [crop_boxes[0][:2]] + crop_boxes[0][2:]\n",
    "boxes = []\n",
    "for rec in crop_boxes[1:]:\n",
    "    h = rec[2] - rec[0]\n",
    "    w = rec[3] - rec[1]\n",
    "    boxes.append([rec[:2]] + [w, h])\n",
    "\n"
   ]
  },
  {
   "cell_type": "code",
   "execution_count": 143,
   "id": "301fd7ec-cf17-4e15-9dae-388ad38ae1db",
   "metadata": {},
   "outputs": [
    {
     "data": {
      "image/png": "[encoded data removed]",
      "text/plain": [
       "<Figure size 640x480 with 1 Axes>"
      ]
     },
     "metadata": {},
     "output_type": "display_data"
    }
   ],
   "source": [
    "from matplotlib.patches import Rectangle\n",
    "\n",
    "colors = plt.cm.rainbow(np.linspace(0, 1, len(boxes)))\n",
    "\n",
    "fig, ax = plt.subplots()\n",
    "\n",
    "#create simple line plot\n",
    "ax.plot()\n",
    "\n",
    "#add rectangle to plot\n",
    "ax.add_patch(Rectangle(*im_bbox,\n",
    "             edgecolor = 'black',\n",
    "             fill=False,\n",
    "             lw=5))\n",
    "for bbox,c in zip(boxes, colors):\n",
    "    #add rectangle to plot\n",
    "    ax.add_patch(Rectangle(*bbox,\n",
    "                 edgecolor = c,\n",
    "                 fill=False,\n",
    "                 lw=2))\n"
   ]
  },
  {
   "cell_type": "code",
   "execution_count": null,
   "id": "293d1722-4f42-49e1-98db-fe03dea7611a",
   "metadata": {},
   "outputs": [],
   "source": []
  },
  {
   "cell_type": "markdown",
   "id": "a8eb2d50-350a-4be3-995a-1ef8de8e91e7",
   "metadata": {},
   "source": [
    "## Test SegmentAnyChange"
   ]
  },
  {
   "cell_type": "code",
   "execution_count": 1,
   "id": "2b3e6936-ffee-4613-bf4a-773401435206",
   "metadata": {},
   "outputs": [
    {
     "name": "stderr",
     "output_type": "stream",
     "text": [
      "/home/MDizier/miniforge3/envs/magic_pen/lib/python3.10/site-packages/pandas/core/computation/expressions.py:21: UserWarning: Pandas requires version '2.8.4' or newer of 'numexpr' (version '2.7.3' currently installed).\n",
      "  from pandas.core.computation.check import NUMEXPR_INSTALLED\n"
     ]
    }
   ],
   "source": [
    "from magic_pen.seg_any_change.main import SegAnyChange\n",
    "from magic_pen.config import *\n",
    "from magic_pen.io import *\n",
    "from magic_pen.seg_any_change.utils import *"
   ]
  },
  {
   "cell_type": "code",
   "execution_count": 2,
   "id": "c2ef6555-9d45-4008-9578-56740b7c640d",
   "metadata": {},
   "outputs": [],
   "source": [
    "pair_img = load_levircd_sample(1, seed=42)\n",
    "path_label,path_A, path_B = pair_img.iloc[0]"
   ]
  },
  {
   "cell_type": "code",
   "execution_count": 3,
   "id": "56b351e9-408b-416e-b36a-877a3c246197",
   "metadata": {},
   "outputs": [],
   "source": [
    "segany = SegAnyChange(\n",
    "    img_A=load_img(path_A),\n",
    "    img_B=load_img(path_B),\n",
    "    model_type=\"vit_b\"\n",
    ")"
   ]
  },
  {
   "cell_type": "code",
   "execution_count": 4,
   "id": "ca731361-751f-4104-8a3b-cc3154dab58f",
   "metadata": {},
   "outputs": [
    {
     "name": "stdout",
     "output_type": "stream",
     "text": [
      "CPU times: user 6.2 s, sys: 3.04 s, total: 9.24 s\n",
      "Wall time: 9.24 s\n"
     ]
    }
   ],
   "source": [
    "%%time\n",
    "res = segany.bitemporal_matching()"
   ]
  },
  {
   "cell_type": "code",
   "execution_count": 5,
   "id": "cfdd623a-afd7-48b9-a00c-c1b5eaa682d4",
   "metadata": {},
   "outputs": [],
   "source": [
    "mask_A, img_embedding_A = res[\"A\"].values()\n",
    "mask_B, img_embedding_B = res[\"B\"].values()"
   ]
  },
  {
   "cell_type": "code",
   "execution_count": 6,
   "id": "9c905474-b05e-4100-a31c-ebe17cc1c901",
   "metadata": {},
   "outputs": [
    {
     "data": {
      "text/plain": [
       "(256, 64, 64)"
      ]
     },
     "execution_count": 6,
     "metadata": {},
     "output_type": "execute_result"
    }
   ],
   "source": [
    "img_embedding_A.shape"
   ]
  },
  {
   "cell_type": "code",
   "execution_count": 8,
   "id": "05c84502-4b69-4072-8032-f9317fdd0265",
   "metadata": {},
   "outputs": [],
   "source": [
    "i_emb = img_embedding_A.copy()"
   ]
  },
  {
   "cell_type": "code",
   "execution_count": 9,
   "id": "7f6da102-738c-48dc-b76a-4c48b47c7803",
   "metadata": {},
   "outputs": [
    {
     "data": {
      "text/plain": [
       "(256, 64, 64)"
      ]
     },
     "execution_count": 9,
     "metadata": {},
     "output_type": "execute_result"
    }
   ],
   "source": [
    "i_emb.shape"
   ]
  },
  {
   "cell_type": "code",
   "execution_count": 13,
   "id": "091cb8f1-2f8b-4262-b08f-9156a8e6470f",
   "metadata": {},
   "outputs": [],
   "source": [
    "bm = mask_A[0]"
   ]
  },
  {
   "cell_type": "code",
   "execution_count": 15,
   "id": "2b450846-dafd-4092-9507-98f79fe00d5c",
   "metadata": {},
   "outputs": [
    {
     "name": "stderr",
     "output_type": "stream",
     "text": [
      "/home/MDizier/miniforge3/envs/magic_pen/lib/python3.10/site-packages/skimage/io/_plugins/matplotlib_plugin.py:149: UserWarning: Low image data range; displaying image with stretched contrast.\n",
      "  lo, hi, cmap = _get_display_range(image)\n"
     ]
    },
    {
     "data": {
      "image/png": "[encoded data removed]",
      "text/plain": [
       "<Figure size 640x480 with 2 Axes>"
      ]
     },
     "metadata": {},
     "output_type": "display_data"
    }
   ],
   "source": [
    "show_img(bm)"
   ]
  },
  {
   "cell_type": "code",
   "execution_count": 22,
   "id": "2cfb777e-9090-458c-8444-d53399199c3f",
   "metadata": {},
   "outputs": [
    {
     "data": {
      "text/plain": [
       "array([[0, 0, 0, ..., 0, 0, 0],\n",
       "       [0, 0, 0, ..., 0, 0, 0],\n",
       "       [0, 0, 0, ..., 0, 0, 0],\n",
       "       ...,\n",
       "       [1, 1, 1, ..., 0, 0, 0],\n",
       "       [1, 1, 1, ..., 0, 0, 0],\n",
       "       [1, 1, 1, ..., 0, 0, 0]], dtype=uint8)"
      ]
     },
     "execution_count": 22,
     "metadata": {},
     "output_type": "execute_result"
    }
   ],
   "source": [
    "bm"
   ]
  },
  {
   "cell_type": "code",
   "execution_count": 16,
   "id": "b6d4ff5c-f4d3-492a-9709-3282f095c091",
   "metadata": {},
   "outputs": [],
   "source": [
    "bm_resh = bm.reshape(256, 64, 64)"
   ]
  },
  {
   "cell_type": "code",
   "execution_count": 17,
   "id": "c25b7f66-35a4-4664-b4f0-baf00dce6a3f",
   "metadata": {},
   "outputs": [
    {
     "data": {
      "text/plain": [
       "(256, 64, 64)"
      ]
     },
     "execution_count": 17,
     "metadata": {},
     "output_type": "execute_result"
    }
   ],
   "source": [
    "bm_resh.shape"
   ]
  },
  {
   "cell_type": "code",
   "execution_count": 26,
   "id": "bc1ed985-2526-4c84-ae8f-debfcccaac66",
   "metadata": {},
   "outputs": [],
   "source": [
    "m_emb = [np.mean((i_emb*bm.reshape(256, 64, 64)), axis=(1, 2)) for bm in mask_A]"
   ]
  },
  {
   "cell_type": "markdown",
   "id": "543afe3d-05c4-44ae-a89c-1a54cf9eab44",
   "metadata": {},
   "source": [
    "#### Match binary mask 1024x1024 to embedding image (256x64x64):\n",
    "* resize image to 256x1024x1024 (interpolation)\n",
    "* reshape mask to 256x64x64 and product element wise and sum => 256"
   ]
  },
  {
   "cell_type": "code",
   "execution_count": null,
   "id": "56c71f15-4ce6-4b58-bc73-62415307f2b3",
   "metadata": {},
   "outputs": [],
   "source": []
  }
 ],
 "metadata": {
  "kernelspec": {
   "display_name": "Python 3 (ipykernel)",
   "language": "python",
   "name": "python3"
  },
  "language_info": {
   "codemirror_mode": {
    "name": "ipython",
    "version": 3
   },
   "file_extension": ".py",
   "mimetype": "text/x-python",
   "name": "python",
   "nbconvert_exporter": "python",
   "pygments_lexer": "ipython3",
   "version": "3.10.14"
  }
 },
 "nbformat": 4,
 "nbformat_minor": 5
}
