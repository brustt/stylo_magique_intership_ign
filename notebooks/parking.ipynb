{
 "cells": [
  {
   "cell_type": "code",
   "execution_count": null,
   "id": "3260cda0-50e1-4a66-8bfd-b8e7587dd14b",
   "metadata": {},
   "outputs": [],
   "source": []
  },
  {
   "cell_type": "code",
   "execution_count": 2,
   "id": "5bb40eb1-73f0-4b17-ab8b-eb3e7dad242e",
   "metadata": {},
   "outputs": [],
   "source": [
    "import hydra\n",
    "from src.commons.constants import PROJECT_PATH\n",
    "from omegaconf import DictConfig, OmegaConf\n",
    "\n",
    "import numpy as np\n",
    "import cv2\n",
    "from PIL import Image\n",
    "import torch\n",
    "import pytorch_lightning as pl\n",
    "import pandas as pd\n",
    "import os\n",
    "from copy import deepcopy\n",
    "import torch.nn.functional as F\n",
    "from torchmetrics import Metric\n",
    "from tqdm import tqdm\n",
    "import torch\n",
    "import matplotlib.pyplot as plt\n",
    "from torch.utils import data\n",
    "import torch.nn as nn\n",
    "from torch.nn.utils.rnn import pad_sequence\n",
    "\n",
    "from src.commons.utils_io import *\n",
    "from src.commons.utils import *\n",
    "from src.models.commons.mask_process import extract_object_from_batch, binarize_mask\n",
    "from src.commons.constants import *\n",
    "from src.data.process import generate_grid_prompt\n",
    "from src.models.magic_pen.task import MagicPenModule"
   ]
  },
  {
   "cell_type": "markdown",
   "id": "b9a5bdfd-ea77-48b4-895e-528cc25beb39",
   "metadata": {},
   "source": [
    "## Count nombre de paramètres"
   ]
  },
  {
   "cell_type": "code",
   "execution_count": 3,
   "id": "ab7e5d41-8692-4896-a626-82fbbc7d0749",
   "metadata": {},
   "outputs": [],
   "source": [
    "def load_config():\n",
    "    # Initialize the Hydra configuration\n",
    "    hydra.initialize(config_path=\"../configs\", version_base=None)\n",
    "    \n",
    "    # Compose the configuration with the desired environment override\n",
    "    cfg = hydra.compose(\n",
    "        config_name=\"eval\", \n",
    "        overrides=[\"experiment=adapter_diff\", \n",
    "                   \"sam_type=small\", \n",
    "                   \"data=levir-cd\",\n",
    "                  ])\n",
    "    \n",
    "    return cfg\n",
    "from hydra.core.global_hydra import GlobalHydra\n",
    "\n",
    "def get_dloader(mode: str, dmodule):\n",
    "\n",
    "    def wrap_mode(mode):\n",
    "        if mode == \"train\":\n",
    "            return \"fit\"\n",
    "        return mode\n",
    "    if not dmodule.ds_dict_type:\n",
    "        mode_ = wrap_mode(mode)\n",
    "        dmodule.setup(mode_)\n",
    "    factory_dl = {\n",
    "        \"train\": dmodule.train_dataloader,\n",
    "        \"val\": dmodule.val_dataloader,\n",
    "        \"test\": dmodule.test_dataloader,\n",
    "    }\n",
    "    return factory_dl[mode]()\n",
    "    \n",
    "GlobalHydra.instance().clear()\n",
    "cfg = load_config()"
   ]
  },
  {
   "cell_type": "code",
   "execution_count": 13,
   "id": "73503ed6-c13f-448d-bea6-4684ef5a1a23",
   "metadata": {},
   "outputs": [
    {
     "name": "stdout",
     "output_type": "stream",
     "text": [
      "INIT ADAPTER VIT\n"
     ]
    },
    {
     "name": "stderr",
     "output_type": "stream",
     "text": [
      "2024-08-26 22:16:40,422 - INFO ::  Weights loaded for : ['image_encoder']\n"
     ]
    }
   ],
   "source": [
    "model = hydra.utils.instantiate(cfg.model.instance.network)"
   ]
  },
  {
   "cell_type": "code",
   "execution_count": 14,
   "id": "5e4fce33-c40c-4a81-a2c4-7cce41a3bd31",
   "metadata": {},
   "outputs": [],
   "source": [
    "mask_decoder = model.mask_decoder"
   ]
  },
  {
   "cell_type": "code",
   "execution_count": 15,
   "id": "6bc3129a-5546-485a-a04d-ab601b31a29f",
   "metadata": {},
   "outputs": [
    {
     "data": {
      "text/plain": [
       "3925728"
      ]
     },
     "execution_count": 15,
     "metadata": {},
     "output_type": "execute_result"
    }
   ],
   "source": [
    "sum(p.numel() for p in mask_decoder.parameters() if p.requires_grad)"
   ]
  },
  {
   "cell_type": "code",
   "execution_count": 16,
   "id": "26d32ffa-971d-411c-9d21-91f896621363",
   "metadata": {},
   "outputs": [],
   "source": [
    "prompt_encoder = model.prompt_encoder"
   ]
  },
  {
   "cell_type": "code",
   "execution_count": 17,
   "id": "27a3dfcd-9332-4251-94fe-d0080189236e",
   "metadata": {},
   "outputs": [
    {
     "data": {
      "text/plain": [
       "1024"
      ]
     },
     "execution_count": 17,
     "metadata": {},
     "output_type": "execute_result"
    }
   ],
   "source": [
    "sum(p.numel() for p in prompt_encoder.parameters() if p.requires_grad)"
   ]
  },
  {
   "cell_type": "code",
   "execution_count": 18,
   "id": "0b354d7c-71cb-4942-a6b2-07be92db6440",
   "metadata": {},
   "outputs": [],
   "source": [
    "image_encoder = model.image_encoder"
   ]
  },
  {
   "cell_type": "code",
   "execution_count": 19,
   "id": "4adee1a1-916f-43dd-b8d1-251f1de32e1d",
   "metadata": {},
   "outputs": [
    {
     "data": {
      "text/plain": [
       "156768"
      ]
     },
     "execution_count": 19,
     "metadata": {},
     "output_type": "execute_result"
    }
   ],
   "source": [
    "sum(p.numel() for p in image_encoder.parameters() if p.requires_grad)"
   ]
  },
  {
   "cell_type": "markdown",
   "id": "7f28f260-208d-46da-966b-f539dec243c6",
   "metadata": {},
   "source": [
    "### Check prediction"
   ]
  },
  {
   "cell_type": "code",
   "execution_count": 4,
   "id": "5a4ab328-1933-4108-854a-048476e112eb",
   "metadata": {},
   "outputs": [],
   "source": [
    "_SHARE_PATH = \"levir-cd/vit-b\"\n",
    "\n",
    "def _cfg_meta(exp_name, id_exp, folder_root=None, description=\"\"):\n",
    "    \"\"\"generate register items - to be updated\"\"\"\n",
    "    if folder_root is None: folder_root = \"\"\n",
    "    cfg = {\n",
    "        \"path\": make_path(\n",
    "                    id_exp, \n",
    "                    LOGS_PATH, \n",
    "                    \"final_logs\",\n",
    "                    folder_root,\n",
    "                    exp_name,\n",
    "                    _SHARE_PATH\n",
    "                ),\n",
    "        \"description\": description\n",
    "    }\n",
    "\n",
    "    if not os.path.exists(cfg[\"path\"]): \n",
    "        raise FileNotFoundError(f\"Exp run logs not found :{cfg['path']}\")\n",
    "    return cfg\n",
    "\n",
    "# TODO: integrate in src/\n",
    "_register_runs = {\n",
    "    # PROBING\n",
    "    \"probing_concat_baseline\": \n",
    "        _cfg_meta(\"train_probing_concat\", \"2024-08-07_17-50-07\", folder_root=\"08082024_train_first_modules\", description=\"\"),\n",
    "    \"probing_diff_baseline\":\n",
    "        _cfg_meta(\"train_probing_diff\", \"2024-08-07_17-50-30\", folder_root=\"08082024_train_first_modules\", description=\"\"),\n",
    "    \"probing_attn_baseline\":\n",
    "        _cfg_meta(\"train_probing_attn\", \"2024-08-07_17-51-53\", folder_root=\"08082024_train_first_modules\", description=\"\"),\n",
    "    # ADAPTER\n",
    "    \"adapter_diff\":\n",
    "        _cfg_meta(\"train_adapter_diff\", \"2024-08-07_17-52-31\", folder_root=\"08082024_train_first_modules\", description=\"\"),\n",
    "    \"adapter_concat\":\n",
    "        _cfg_meta(\"train_adapter_concat\", \"2024-08-07_17-53-32\", folder_root=\"08082024_train_first_modules\", description=\"\"),\n",
    "    \"adapter_attn\":\n",
    "        _cfg_meta(\"train_adapter_attn\", \"2024-08-07_18-15-08\", folder_root=\"08082024_train_first_modules\", description=\"\"),\n",
    "    # LORA\n",
    "    \"lora_diff\":\n",
    "        _cfg_meta(\"train_lora_diff\", \"2024-08-07_18-22-22\", folder_root=\"08082024_train_first_modules\", description=\"\"),\n",
    "    \"lora_concat\":\n",
    "        _cfg_meta(\"train_lora_concat\", \"2024-08-07_18-21-49\", folder_root=\"08082024_train_first_modules\", description=\"\"),\n",
    "    \"lora_attn\":\n",
    "        _cfg_meta(\"train_lora_attn\", \"2024-08-07_18-22-20\", folder_root=\"08082024_train_first_modules\", description=\"\"),\n",
    "    \"lora_attnconc_focal_dice_lr5x10-4\":\n",
    "        _cfg_meta(\"lora_attnconc_focal_dice_lr5x10-4\", \"1448002\", folder_root=\"\", description=\"\"),\n",
    "    # EXPLO lr ADAPTER\n",
    "    \"adapter_attnconc_bce_lr3x10-4\":\n",
    "        _cfg_meta(\"adapter_attnconc_bce_lr3x10-4\", \"1387852\", folder_root=\"\", description=\"\"),\n",
    "    \"adapter_attnconc_bce_lr10-4\":\n",
    "        _cfg_meta(\"adapter_attnconc_bce_lr10-4\", \"1380222\", folder_root=\"\", description=\"\"),\n",
    "    \"adapter_attnconc_bce_lr5x10-4\":\n",
    "        _cfg_meta(\"adapter_attnconc_bce_lr5x10-4\", \"1447907\", folder_root=\"\", description=\"\"),\n",
    "    \"adapter_attnconc_focal_dice_lr5x10-4\":\n",
    "        _cfg_meta(\"adapter_attnconc_focal_dice_lr5x10-4\", \"1447968\", folder_root=\"\", description=\"\"),\n",
    "\n",
    "\n",
    "}\n"
   ]
  },
  {
   "cell_type": "code",
   "execution_count": 5,
   "id": "ecfaa488-3647-4fa7-ab2f-389f98851eb3",
   "metadata": {},
   "outputs": [
    {
     "name": "stdout",
     "output_type": "stream",
     "text": [
      "lora_diff logs file not found - please run evaluation\n"
     ]
    },
    {
     "data": {
      "text/html": [
       "<div>\n",
       "<style scoped>\n",
       "    .dataframe tbody tr th:only-of-type {\n",
       "        vertical-align: middle;\n",
       "    }\n",
       "\n",
       "    .dataframe tbody tr th {\n",
       "        vertical-align: top;\n",
       "    }\n",
       "\n",
       "    .dataframe thead th {\n",
       "        text-align: right;\n",
       "    }\n",
       "</style>\n",
       "<table border=\"1\" class=\"dataframe\">\n",
       "  <thead>\n",
       "    <tr style=\"text-align: right;\">\n",
       "      <th></th>\n",
       "      <th>th</th>\n",
       "      <th>BinaryF1Score</th>\n",
       "      <th>BinaryJaccardIndex</th>\n",
       "      <th>BinaryRecall</th>\n",
       "      <th>BinaryPrecision</th>\n",
       "    </tr>\n",
       "  </thead>\n",
       "  <tbody>\n",
       "    <tr>\n",
       "      <th>adapter_concat</th>\n",
       "      <td>0.4</td>\n",
       "      <td>74.9</td>\n",
       "      <td>72.3</td>\n",
       "      <td>76.0</td>\n",
       "      <td>75.0</td>\n",
       "    </tr>\n",
       "    <tr>\n",
       "      <th>adapter_attnconc_bce_lr3x10-4</th>\n",
       "      <td>0.3</td>\n",
       "      <td>74.4</td>\n",
       "      <td>71.3</td>\n",
       "      <td>75.0</td>\n",
       "      <td>74.5</td>\n",
       "    </tr>\n",
       "    <tr>\n",
       "      <th>adapter_attnconc_bce_lr10-4</th>\n",
       "      <td>0.4</td>\n",
       "      <td>74.0</td>\n",
       "      <td>71.3</td>\n",
       "      <td>75.2</td>\n",
       "      <td>73.9</td>\n",
       "    </tr>\n",
       "    <tr>\n",
       "      <th>adapter_diff</th>\n",
       "      <td>0.4</td>\n",
       "      <td>73.9</td>\n",
       "      <td>71.2</td>\n",
       "      <td>74.8</td>\n",
       "      <td>74.2</td>\n",
       "    </tr>\n",
       "    <tr>\n",
       "      <th>lora_concat_k32</th>\n",
       "      <td>0.2</td>\n",
       "      <td>61.6</td>\n",
       "      <td>52.6</td>\n",
       "      <td>60.8</td>\n",
       "      <td>64.3</td>\n",
       "    </tr>\n",
       "    <tr>\n",
       "      <th>probing_concat_baseline</th>\n",
       "      <td>0.3</td>\n",
       "      <td>60.3</td>\n",
       "      <td>51.7</td>\n",
       "      <td>63.2</td>\n",
       "      <td>62.0</td>\n",
       "    </tr>\n",
       "    <tr>\n",
       "      <th>lora_concat</th>\n",
       "      <td>0.2</td>\n",
       "      <td>55.0</td>\n",
       "      <td>45.8</td>\n",
       "      <td>58.7</td>\n",
       "      <td>55.3</td>\n",
       "    </tr>\n",
       "    <tr>\n",
       "      <th>probing_diff_baseline</th>\n",
       "      <td>0.3</td>\n",
       "      <td>50.2</td>\n",
       "      <td>39.5</td>\n",
       "      <td>55.1</td>\n",
       "      <td>52.1</td>\n",
       "    </tr>\n",
       "    <tr>\n",
       "      <th>lora_attnconc_focal_dice_lr5x10-4</th>\n",
       "      <td>0.1</td>\n",
       "      <td>47.1</td>\n",
       "      <td>38.4</td>\n",
       "      <td>47.7</td>\n",
       "      <td>51.7</td>\n",
       "    </tr>\n",
       "  </tbody>\n",
       "</table>\n",
       "</div>"
      ],
      "text/plain": [
       "                                    th  BinaryF1Score  BinaryJaccardIndex  \\\n",
       "adapter_concat                     0.4           74.9                72.3   \n",
       "adapter_attnconc_bce_lr3x10-4      0.3           74.4                71.3   \n",
       "adapter_attnconc_bce_lr10-4        0.4           74.0                71.3   \n",
       "adapter_diff                       0.4           73.9                71.2   \n",
       "lora_concat_k32                    0.2           61.6                52.6   \n",
       "probing_concat_baseline            0.3           60.3                51.7   \n",
       "lora_concat                        0.2           55.0                45.8   \n",
       "probing_diff_baseline              0.3           50.2                39.5   \n",
       "lora_attnconc_focal_dice_lr5x10-4  0.1           47.1                38.4   \n",
       "\n",
       "                                   BinaryRecall  BinaryPrecision  \n",
       "adapter_concat                             76.0             75.0  \n",
       "adapter_attnconc_bce_lr3x10-4              75.0             74.5  \n",
       "adapter_attnconc_bce_lr10-4                75.2             73.9  \n",
       "adapter_diff                               74.8             74.2  \n",
       "lora_concat_k32                            60.8             64.3  \n",
       "probing_concat_baseline                    63.2             62.0  \n",
       "lora_concat                                58.7             55.3  \n",
       "probing_diff_baseline                      55.1             52.1  \n",
       "lora_attnconc_focal_dice_lr5x10-4          47.7             51.7  "
      ]
     },
     "execution_count": 5,
     "metadata": {},
     "output_type": "execute_result"
    }
   ],
   "source": [
    "ds_name = \"levir-cd\"\n",
    "\n",
    "folder_logs = make_path(\"instances\", PROJECT_PATH, \"reports\", \"scores\", ds_name)\n",
    "all_scores = []\n",
    "\n",
    "metric_max = \"BinaryF1Score\"\n",
    "\n",
    "for exp_name in os.listdir(folder_logs):\n",
    "    if not os.path.exists(make_path(f\"{exp_name}.csv\", folder_logs, exp_name)):\n",
    "        print(f\"{exp_name} logs file not found - please run evaluation\")\n",
    "        continue\n",
    "    df = pd.read_csv(make_path(f\"{exp_name}.csv\", folder_logs, exp_name), index_col=0)\n",
    "    metrics_col = [_ for _ in df.columns if _ not in [\"label_path\", \"th\"]]\n",
    "    scores = df.groupby(\"th\")[metrics_col].mean().round(3).mul(100).reset_index()\n",
    "    row = scores[scores.index == scores[metric_max].idxmax()]\n",
    "    row.index = [exp_name]\n",
    "    all_scores.append(row)\n",
    "\n",
    "all_scores = pd.concat(all_scores).sort_values(\"BinaryF1Score\", ascending=False)\n",
    "all_scores"
   ]
  },
  {
   "cell_type": "code",
   "execution_count": 6,
   "id": "7e6f6227-0c08-4925-8286-ab70e306c1b9",
   "metadata": {},
   "outputs": [],
   "source": [
    "exp_name = \"adapter_concat\"\n",
    "df = pd.read_csv(make_path(f\"{exp_name}.csv\", folder_logs, exp_name), index_col=0)\n",
    "df = df[df.th == 0.4]"
   ]
  },
  {
   "cell_type": "code",
   "execution_count": 17,
   "id": "664b32eb-6308-4a15-918a-a7be95920ef3",
   "metadata": {},
   "outputs": [
    {
     "data": {
      "text/plain": [
       "BinaryF1Score         0.855576\n",
       "BinaryJaccardIndex    0.761482\n",
       "BinaryRecall          0.868260\n",
       "BinaryPrecision       0.856713\n",
       "dtype: float64"
      ]
     },
     "execution_count": 17,
     "metadata": {},
     "output_type": "execute_result"
    }
   ],
   "source": [
    "df[df[\"BinaryF1Score\"] > 0.][metrics_col].mean()"
   ]
  },
  {
   "cell_type": "code",
   "execution_count": 18,
   "id": "eccb492e-9dd7-415f-8841-30c8032a0e21",
   "metadata": {},
   "outputs": [
    {
     "data": {
      "text/plain": [
       "Text(0.5, 1.0, 'Distribution des f1-scores du jeu de test - Modèle adapter_concat')"
      ]
     },
     "execution_count": 18,
     "metadata": {},
     "output_type": "execute_result"
    },
    {
     "data": {
      "image/png": "[encoded data removed]",
      "text/plain": [
       "<Figure size 640x480 with 1 Axes>"
      ]
     },
     "metadata": {},
     "output_type": "display_data"
    }
   ],
   "source": [
    "df[\"BinaryF1Score\"].hist(bins=30)\n",
    "plt.title(\"Distribution des f1-scores du jeu de test - Modèle adapter_concat\")"
   ]
  },
  {
   "cell_type": "code",
   "execution_count": 14,
   "id": "2cab72e5-602d-40d4-bbbb-9a4a4e8a4df1",
   "metadata": {},
   "outputs": [],
   "source": [
    "null_scores = df[df[\"BinaryF1Score\"] == 0.]"
   ]
  },
  {
   "cell_type": "code",
   "execution_count": 20,
   "id": "c9f89d22-997c-481f-8645-5bed473f8a7b",
   "metadata": {},
   "outputs": [
    {
     "name": "stdout",
     "output_type": "stream",
     "text": [
      "Worst predictions : 16\n",
      "Label px change : 58650\n",
      "Label px change : 0\n",
      "Label px change : 47175\n",
      "Label px change : 0\n",
      "Label px change : 66810\n",
      "Label px change : 0\n",
      "Label px change : 0\n",
      "Label px change : 0\n",
      "Label px change : 146115\n",
      "Label px change : 0\n",
      "Label px change : 143055\n",
      "Label px change : 61200\n",
      "Label px change : 0\n",
      "Label px change : 0\n",
      "Label px change : 0\n",
      "Label px change : 0\n"
     ]
    }
   ],
   "source": [
    "print(\"Worst predictions :\", len(null_scores[\"label_path\"]))\n",
    "for l in list(null_scores[\"label_path\"]):\n",
    "    label = load_img(l)\n",
    "    print(\"Label px change :\" , np.sum(label))"
   ]
  },
  {
   "cell_type": "code",
   "execution_count": 22,
   "id": "7515acc6-56bb-46d2-91ca-ea46800ec8ce",
   "metadata": {},
   "outputs": [
    {
     "name": "stdout",
     "output_type": "stream",
     "text": [
      "No label in test\n",
      "Sample in test with no label : 10\n"
     ]
    }
   ],
   "source": [
    "print(\"No label in test\")\n",
    "no_label_cnt = 0\n",
    "no_label_path = []\n",
    "for l in list(df[\"label_path\"]):\n",
    "    label = load_img(l)\n",
    "    if not np.sum(label):\n",
    "        no_label_cnt +=1\n",
    "        no_label_path.append(l)\n",
    "print(f\"Sample in test with no label :\", no_label)"
   ]
  },
  {
   "cell_type": "code",
   "execution_count": 24,
   "id": "45342f28-decb-4450-8fa2-f0afe20acfd5",
   "metadata": {},
   "outputs": [
    {
     "data": {
      "text/plain": [
       "BinaryF1Score         0.812072\n",
       "BinaryJaccardIndex    0.722763\n",
       "BinaryRecall          0.824111\n",
       "BinaryPrecision       0.813151\n",
       "dtype: float64"
      ]
     },
     "execution_count": 24,
     "metadata": {},
     "output_type": "execute_result"
    }
   ],
   "source": [
    "df[~df[\"label_path\"].isin(no_label_path)][metrics_col].mean()"
   ]
  },
  {
   "cell_type": "code",
   "execution_count": null,
   "id": "c9098389-45bc-44e2-aa1f-35add7c9084e",
   "metadata": {},
   "outputs": [],
   "source": []
  }
 ],
 "metadata": {
  "kernelspec": {
   "display_name": "Python 3 (ipykernel)",
   "language": "python",
   "name": "python3"
  },
  "language_info": {
   "codemirror_mode": {
    "name": "ipython",
    "version": 3
   },
   "file_extension": ".py",
   "mimetype": "text/x-python",
   "name": "python",
   "nbconvert_exporter": "python",
   "pygments_lexer": "ipython3",
   "version": "3.10.14"
  }
 },
 "nbformat": 4,
 "nbformat_minor": 5
}
