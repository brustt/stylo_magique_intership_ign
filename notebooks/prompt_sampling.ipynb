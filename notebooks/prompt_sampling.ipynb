{
 "cells": [
  {
   "cell_type": "code",
   "execution_count": 12,
   "id": "24fd5000-1a6f-4c6e-a89e-b74b846f0777",
   "metadata": {},
   "outputs": [],
   "source": [
    "import hydra\n",
    "import torch\n",
    "from omegaconf import DictConfig, OmegaConf\n",
    "from typing import Any, Dict, List, Optional, Tuple, Union\n",
    "from deprecated import deprecated\n",
    "from omegaconf import DictConfig\n",
    "import numpy as np\n",
    "import torch.nn.functional as F\n",
    "from torch.nn.utils.rnn import pad_sequence\n",
    "from torch.utils import data\n",
    "\n",
    "from src.data.process import DefaultTransform\n",
    "from src.data.loader import BiTemporalDataset, load_levircd_sample\n",
    "from src.models.commons.mask_process import binarize_mask, extract_object_from_batch\n",
    "from src.models.segment_anything.utils.transforms import ResizeLongestSide\n",
    "from src.models.segment_anything.utils.amg import build_point_grid\n",
    "from src.commons.utils import *\n",
    "from src.commons.utils_io import load_img\n",
    "from src.commons.constants import PROJECT_PATH, DEVICE, IMG_SIZE\n",
    "\n",
    "from hydra.core.global_hydra import GlobalHydra\n"
   ]
  },
  {
   "cell_type": "code",
   "execution_count": 2,
   "id": "d42fc452-84b2-4a6f-b7a0-b288efcddd90",
   "metadata": {},
   "outputs": [],
   "source": [
    "def load_config(list_kwargs):\n",
    "    # Initialize the Hydra configuration\n",
    "    hydra.initialize(config_path=\"../configs\", version_base=None)\n",
    "    cfg = hydra.compose(config_name=\"train\", overrides=list_kwargs)\n",
    "    return cfg\n",
    "\n",
    "GlobalHydra.instance().clear()\n",
    "list_kwargs = [\"experiment=probing_diff\", \"sam_type=small\", \"data=levir-cd\"]\n",
    "cfg = load_config(list_kwargs)\n",
    "#print(OmegaConf.to_yaml(cfg))"
   ]
  },
  {
   "cell_type": "code",
   "execution_count": 3,
   "id": "3df5a51a-83c6-410b-9cd1-76daef95d2f4",
   "metadata": {},
   "outputs": [],
   "source": [
    "def generate_prompt(\n",
    "    mask, dtype: str, n_point: int, kwargs: Union[Dict, DictConfig]\n",
    ") -> torch.Tensor:\n",
    "    \"\"\"Generate n_point prompts for a mask : grid or sample mode (dtype)\"\"\"\n",
    "    img_size = mask.shape[-1]\n",
    "    match dtype:\n",
    "        case \"grid\":\n",
    "            point_per_side = int(np.sqrt(n_point))\n",
    "            prompt = torch.as_tensor(\n",
    "                generate_grid_prompt(point_per_side, img_size=img_size)\n",
    "            )\n",
    "            labels = torch.ones(len(prompt))\n",
    "        case \"sample\":\n",
    "            loc = kwargs.get('loc', \"center\")\n",
    "            n_shape = kwargs.get('n_shape', None)\n",
    "            prompt, labels = PointSampler().sample(mask=mask,  n_point_per_shape=n_point, loc=loc, n_shape=n_shape)\n",
    "        case _:\n",
    "            raise ValueError(\"Please provide valid prompt builder name\")\n",
    "\n",
    "    return prompt.to(torch.float32), labels.to(torch.int8)\n"
   ]
  },
  {
   "cell_type": "code",
   "execution_count": 37,
   "id": "b0908f40-6674-433e-a874-2170cf73136a",
   "metadata": {},
   "outputs": [],
   "source": [
    "class PointSampler:\n",
    "    \"\"\"Prompt sampler - restricted to points\n",
    "    \n",
    "    Each generated points is under coordinates format (X,Y) in pixels.\n",
    "    \"\"\"\n",
    "    MIN_AREA = 25\n",
    "    \n",
    "    def __init__(self):\n",
    "        self._register_sample_method = {\n",
    "            \"random\": self.draw_random_point,\n",
    "            \"center\": self.draw_center_point,\n",
    "        }\n",
    "\n",
    "    def sample_candidates_shapes(self, shapes: torch.Tensor, n_shape: int) -> Tuple[torch.Tensor, torch.Tensor]:\n",
    "        # assign equals weights\n",
    "        probs = torch.ones(shapes.shape[0]) / shapes.shape[0]\n",
    "        # Sample the shapes\n",
    "        id_candidates_shapes = torch.multinomial(\n",
    "            probs,\n",
    "            n_shape,\n",
    "            # we sample with replacement to keeping same tensor dimensions over batch if not enough shapes\n",
    "            replacement=False if (shapes.shape[0] >= n_shape) else True,\n",
    "        )\n",
    "        # get the coord of the pixels shapes (M x 3) - M number of not zeros pixels\n",
    "        coords_candidates = torch.nonzero(shapes[id_candidates_shapes]).to(torch.float)\n",
    "        return coords_candidates, id_candidates_shapes\n",
    "        \n",
    "    def sample(self, mask: torch.Tensor,  n_point_per_shape: int, loc: str, n_shape: int):\n",
    "        \"\"\"\n",
    "        Sample m points over n random shape\n",
    "        Return new label if a subset of shapes (n_shape) is selected\n",
    "        \"\"\"\n",
    "\n",
    "        if loc not in list(self._register_sample_method):\n",
    "            raise ValueError(\n",
    "                f\"loc method not valid. Valid values for loc : {list(self._register_sample_method)}\"\n",
    "            )\n",
    "        if not n_shape:\n",
    "            raise ValueError(\"please provide n_shape to sample. One point per shape\")\n",
    "            \n",
    "        if mask.ndim < 3:\n",
    "            mask = mask.unsqueeze(0)\n",
    "        # track id shapes if we a subset of shapes\n",
    "        id_selected_shapes = None\n",
    "        \n",
    "        # extract shapes from mask - squeeze batch dimension\n",
    "        shapes = extract_object_from_batch(mask).squeeze(0)\n",
    "        # print(\"FIND SHAPES\", shapes.shape[0])\n",
    "        # if (n_shape is not None) and (n_shape != shapes.shape[0]):\n",
    "        #     raise NotImplementedError(\"Sample of shapes is not implemented yet\")\n",
    "\n",
    "        # filter on areas\n",
    "        areas = torch.sum(shapes, dim=(1, 2))\n",
    "        indices = torch.where(areas > self.MIN_AREA)[0]\n",
    "        shapes = shapes[indices,:,:]\n",
    "\n",
    "        # check if there is some shapes extracted - check sum for no-shapes return\n",
    "        # check > 1 first for speed in case of shapes - return no shapes :  (1 x) 1 x H x W\n",
    "        if shapes.shape[0] > 1 or torch.sum(shapes):\n",
    "            coords_candidates, id_selected_shapes = self.sample_candidates_shapes(shapes, n_shape)\n",
    "            # first column of coords_candidates == index of shape\n",
    "            # iterate over the shapes\n",
    "            sample_coords = torch.cat(\n",
    "                [\n",
    "                    # mask coordinates based on shape index\n",
    "                    # select only coordinates dims for _register_sample_method : [:, 1:] => (N, 2)\n",
    "                    self._register_sample_method[loc](\n",
    "                        coords_candidates[coords_candidates[:, 0] == s][:, 1:], n_point_per_shape\n",
    "                    )\n",
    "                    for s in torch.unique(coords_candidates[:, 0])\n",
    "                ]\n",
    "            )\n",
    "            # simulate point type (foreground / background) - foreground default\n",
    "            labels_points = torch.ones(len(sample_coords))\n",
    "        else:\n",
    "            # empty return = sample random points\n",
    "            print(\"no return\")\n",
    "            #sample_coords = torch.zeros((n_shape*n_point_per_shape, 2), dtype=torch.float32) - 1000\n",
    "            print(mask.shape)\n",
    "            sample_coords = torch.as_tensor(np.random.randint(0, mask.shape[-1], size=(n_shape, 2)))\n",
    "            # label - 1\n",
    "            labels_points = torch.zeros(len(sample_coords)) - 1\n",
    "\n",
    "        return sample_coords, labels_points\n",
    "\n",
    "    def draw_random_point(self, shape, n_point):\n",
    "        \"\"\"draw one random point from shape\"\"\"\n",
    "        idx = torch.multinomial(\n",
    "            torch.ones(shape.shape[0], dtype=torch.float), num_samples=n_point\n",
    "        )\n",
    "        # invert pixels coords to (x, y) format\n",
    "        return torch.flip(shape[idx], dims=(1,))\n",
    "\n",
    "    def draw_center_point(self, shape, n_point):\n",
    "        \"\"\"\n",
    "        Sample approximation center. Proxy for hard concave object where \"natural center\" (simple average) doesn't belong to the shape.\n",
    "        shape : (M, 2) : (shape's pixels, px coordinates dim)\n",
    "        \"\"\"\n",
    "        # proxy for hard concave object\n",
    "        visible_center = torch.mean(shape, dim=0).to(int)\n",
    "        # euclidean distance\n",
    "        dist_center = torch.cdist(visible_center.unsqueeze(0).to(torch.float), shape, p=2.).view(-1)\n",
    "        idx = torch.nonzero(dist_center).view(-1)\n",
    "        dist_center, shape = dist_center[idx], shape[idx,...]\n",
    "        # sample point from inverse distance weighting => in favor of \"closest center\" point - take first 50 pts arbitrary\n",
    "        # values, indices  = torch.topk(dist_center, min(50, dist_center.shape[0]), largest=False, sorted=True)\n",
    "        # values, indices = values.view(-1), indices.view(-1)\n",
    "        idx = torch.multinomial(\n",
    "            1/dist_center, num_samples=n_point\n",
    "        )\n",
    "        # flip to convert to (x, y) format\n",
    "        return torch.flip(shape[idx], dims=(1,))"
   ]
  },
  {
   "cell_type": "code",
   "execution_count": 38,
   "id": "057b3ba3-9c52-4440-b1f3-b8c9c6fd8bfb",
   "metadata": {},
   "outputs": [
    {
     "data": {
      "text/plain": [
       "<matplotlib.legend.Legend at 0x7fea40ef31c0>"
      ]
     },
     "execution_count": 38,
     "metadata": {},
     "output_type": "execute_result"
    },
    {
     "data": {
      "image/png": "[encoded data removed]",
      "text/plain": [
       "<Figure size 640x480 with 1 Axes>"
      ]
     },
     "metadata": {},
     "output_type": "display_data"
    }
   ],
   "source": [
    "import matplotlib.pyplot as plt\n",
    "x = np.linspace(1, 100, 50)\n",
    "plt.plot(x, 1/np.sqrt(x), label=\"1/sqrt\")\n",
    "plt.plot(x, 1/x, label=\"1/x\")\n",
    "plt.plot(x, 1/np.log(x), label=\"1/ln\")\n",
    "\n",
    "plt.legend()"
   ]
  },
  {
   "cell_type": "code",
   "execution_count": 39,
   "id": "03a2187e-0a27-4d79-b449-a9830062fac2",
   "metadata": {},
   "outputs": [],
   "source": [
    "df = load_levircd_sample(None, data_type=\"test\", seed=42)"
   ]
  },
  {
   "cell_type": "code",
   "execution_count": 55,
   "id": "57470dc7-4967-4712-ba20-4b95ac853d76",
   "metadata": {},
   "outputs": [],
   "source": [
    "#idx=65\n",
    "idx=120\n",
    "\n",
    "path_label,path_A, path_B = df.iloc[idx]\n",
    "label = load_img(path_label)"
   ]
  },
  {
   "cell_type": "code",
   "execution_count": 56,
   "id": "356ceec0-6ec8-4354-ae8b-9b6fbe0c690c",
   "metadata": {},
   "outputs": [],
   "source": [
    "img_A = load_img(path_A)"
   ]
  },
  {
   "cell_type": "code",
   "execution_count": 57,
   "id": "9b65a219-ac21-43d7-9032-bf5fde19ec9a",
   "metadata": {},
   "outputs": [],
   "source": [
    "point_coords, point_labels = generate_prompt(\n",
    "    torch.as_tensor(label), \n",
    "    dtype=\"sample\", \n",
    "    n_point=1, \n",
    "    kwargs=dict(loc=\"center\", n_shape=3)\n",
    ")"
   ]
  },
  {
   "cell_type": "code",
   "execution_count": 58,
   "id": "fa6be71d-e7a3-4557-bcc8-e0051c1e5148",
   "metadata": {},
   "outputs": [
    {
     "data": {
      "text/plain": [
       "tensor([[ 28., 846.],\n",
       "        [ 86., 980.],\n",
       "        [206., 987.]])"
      ]
     },
     "execution_count": 58,
     "metadata": {},
     "output_type": "execute_result"
    }
   ],
   "source": [
    "point_coords"
   ]
  },
  {
   "cell_type": "code",
   "execution_count": 59,
   "id": "0d8a7544-0cd7-41df-8b25-b9a4cb9f0522",
   "metadata": {},
   "outputs": [
    {
     "data": {
      "image/png": "[encoded data removed]",
      "text/plain": [
       "<Figure size 640x480 with 1 Axes>"
      ]
     },
     "metadata": {},
     "output_type": "display_data"
    }
   ],
   "source": [
    "show_img(label)\n",
    "ax = plt.gca()\n",
    "colors = [\n",
    "    np.random.choice(range(256), size=3) / 255\n",
    "    for _ in range(len(point_coords))\n",
    "    ]\n",
    "\n",
    "for pt,c in zip(point_coords, colors):\n",
    "    ax.scatter(*pt, color=c, marker='*', s=30)\n"
   ]
  },
  {
   "cell_type": "markdown",
   "id": "e2bd513f-7257-4f91-97b7-aa942321189a",
   "metadata": {},
   "source": [
    "### Run of all batches"
   ]
  },
  {
   "cell_type": "code",
   "execution_count": null,
   "id": "6208dbec-44a7-4a57-82b3-1ff607158e30",
   "metadata": {},
   "outputs": [],
   "source": [
    "params = {\n",
    "    \"prompt_type\": \"sample\",\n",
    "    \"n_prompt\": 1,\n",
    "    \"n_shape\": 3,\n",
    "    \"loc\": \"center\",\n",
    "    \"batch_size\": 2,\n",
    "}\n",
    "ds = BiTemporalDataset(\n",
    "        name=\"levir-cd\",\n",
    "        dtype=\"train\",\n",
    "        transform=DefaultTransform(),\n",
    "        params=OmegaConf.create(params),\n",
    "    )"
   ]
  },
  {
   "cell_type": "code",
   "execution_count": null,
   "id": "806e2d28-120e-42c4-936a-ae9f43821a06",
   "metadata": {},
   "outputs": [],
   "source": [
    "dloader = data.DataLoader(\n",
    "            ds,\n",
    "            batch_size=params.get('batch_size'),\n",
    "            shuffle=False,\n",
    "            num_workers=0,\n",
    "        )"
   ]
  },
  {
   "cell_type": "code",
   "execution_count": null,
   "id": "69f4c5d3-683a-48d1-b129-52d81cba136e",
   "metadata": {},
   "outputs": [],
   "source": [
    "for batch in dloader:\n",
    "    print(batch[\"label_path\"])"
   ]
  },
  {
   "cell_type": "code",
   "execution_count": 10,
   "id": "191efb4f-0436-4c34-95e8-039059b68169",
   "metadata": {},
   "outputs": [
    {
     "name": "stdout",
     "output_type": "stream",
     "text": [
      "/home/MDizier/data/dl/levir-cd/train/label/train_1.png\n",
      "/home/MDizier/data/dl/levir-cd/train/label/train_2.png\n"
     ]
    }
   ],
   "source": [
    "batch = next(iter(dloader))"
   ]
  },
  {
   "cell_type": "code",
   "execution_count": null,
   "id": "7328adfe-6312-4467-988b-bbaad03ccf59",
   "metadata": {},
   "outputs": [],
   "source": []
  }
 ],
 "metadata": {
  "kernelspec": {
   "display_name": "Python 3 (ipykernel)",
   "language": "python",
   "name": "python3"
  },
  "language_info": {
   "codemirror_mode": {
    "name": "ipython",
    "version": 3
   },
   "file_extension": ".py",
   "mimetype": "text/x-python",
   "name": "python",
   "nbconvert_exporter": "python",
   "pygments_lexer": "ipython3",
   "version": "3.11.9"
  }
 },
 "nbformat": 4,
 "nbformat_minor": 5
}
