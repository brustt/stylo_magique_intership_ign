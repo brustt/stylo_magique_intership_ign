{
 "cells": [
  {
   "cell_type": "markdown",
   "id": "7dd221dd-df1e-47fe-a1d2-82e9e58efddc",
   "metadata": {},
   "source": [
    "rappel information SAM `Predictor.forward` sur multimask_output :\n",
    ">  multimask_output (bool): If true, the model will return three masks.\n",
    "For ambiguous input prompts (such as a single click), this will often\n",
    "produce better masks than a single prediction. If only a single\n",
    "mask is needed, the model's predicted quality score can be used\n",
    "to select the best mask. For non-ambiguous prompts, such as multiple\n",
    "input prompts, multimask_output=False can give better results."
   ]
  },
  {
   "cell_type": "code",
   "execution_count": 1,
   "id": "62151356-6228-48b4-b68f-926d8bae062d",
   "metadata": {},
   "outputs": [],
   "source": [
    "import numpy as np\n",
    "import cv2\n",
    "from PIL import Image\n",
    "import torch\n",
    "import pytorch_lightning as pl\n",
    "import pandas as pd\n",
    "import os\n",
    "from copy import deepcopy\n",
    "import torch.nn.functional as F\n",
    "from torchmetrics import Metric\n",
    "from tqdm import tqdm\n",
    "import torch\n",
    "import matplotlib.pyplot as plt\n",
    "from torch.utils import data\n",
    "from torch.nn.utils.rnn import pad_sequence\n",
    "\n",
    "from src.commons.utils import to_numpy, SegAnyChangeVersion, show_img, show_pair_img, show_prediction_sample, resize\n",
    "from src.models.commons.mask_process import extract_object_from_batch, binarize_mask\n",
    "from src.commons.constants import IMG_SIZE\n",
    "from src.data.process import generate_grid_prompt\n",
    "from src.commons.utils import create_sample_grid_with_prompt, get_mask_with_prompt, fig2arr"
   ]
  },
  {
   "cell_type": "code",
   "execution_count": 4,
   "id": "0b4582bf-3172-4d32-b45e-e66c34291371",
   "metadata": {},
   "outputs": [],
   "source": [
    "from src.commons.utils_io import load_sam\n",
    "from src.models.commons.bisam import BiSam2, SamModeInference\n",
    "from src.models.segment_any_change.model import BiSam\n",
    "\n",
    "from src.commons.utils import batch_to_list"
   ]
  },
  {
   "cell_type": "code",
   "execution_count": 5,
   "id": "b4dd8726-36cd-4293-8a24-5940e6cb9f17",
   "metadata": {},
   "outputs": [],
   "source": [
    "def show_prompts_on_mask(mask: torch.Tensor, batch, batch_idx: int):\n",
    "    if mask.shape[-1] != IMG_SIZE[0]:\n",
    "        mask = resize(mask, IMG_SIZE)\n",
    "    coord_points = batch[\"point_coords\"][batch_idx]\n",
    "    mask_pt = get_mask_with_prompt(binarize_mask(mask[batch_idx], th=0) , coord_points)\n",
    "    show_img(mask_pt)"
   ]
  },
  {
   "cell_type": "code",
   "execution_count": 6,
   "id": "bba1c3a6-384b-4c19-b8be-95d0a6734706",
   "metadata": {},
   "outputs": [],
   "source": [
    "from src.data.loader import BiTemporalDataset\n",
    "from src.data.process import DefaultTransform\n",
    "from omegaconf import OmegaConf\n",
    "\n",
    "params = {\n",
    "    \"prompt_type\": \"sample\",\n",
    "    \"n_prompt\": 1,\n",
    "    \"n_shape\":3,\n",
    "    \"loc\": \"center\",\n",
    "    \"batch_size\": 2,\n",
    "}\n",
    "ds = BiTemporalDataset(\n",
    "            name=\"levir-cd\",\n",
    "            dtype=\"test\",\n",
    "            transform=DefaultTransform(),\n",
    "            params=OmegaConf.create(params),\n",
    "        )"
   ]
  },
  {
   "cell_type": "code",
   "execution_count": 7,
   "id": "99b17081-1eae-4be4-bb23-4d978dd8b017",
   "metadata": {},
   "outputs": [],
   "source": [
    "dloader = data.DataLoader(\n",
    "            ds,\n",
    "            batch_size=params.get('batch_size'),\n",
    "            shuffle=False,\n",
    "            num_workers=0,\n",
    "        )"
   ]
  },
  {
   "cell_type": "code",
   "execution_count": 8,
   "id": "6e6da355-19ba-413d-b440-44e37a315fb8",
   "metadata": {},
   "outputs": [],
   "source": [
    "batch = next(iter(dloader))"
   ]
  },
  {
   "cell_type": "code",
   "execution_count": 11,
   "id": "901606c3-7f44-47cb-93e9-bf4431156b65",
   "metadata": {},
   "outputs": [
    {
     "name": "stderr",
     "output_type": "stream",
     "text": [
      "2024-08-13 10:48:43,900 - INFO ::  build vit_b BiSam2\n"
     ]
    }
   ],
   "source": [
    "bisam2 = load_sam(\n",
    "    model_type=\"vit_b\", model_cls=BiSam2, version= \"rawb\", device=\"cpu\"\n",
    ")"
   ]
  },
  {
   "cell_type": "code",
   "execution_count": 12,
   "id": "80913d82-03f1-4696-8b80-6af2eba93998",
   "metadata": {},
   "outputs": [
    {
     "name": "stderr",
     "output_type": "stream",
     "text": [
      "2024-08-13 10:48:45,034 - INFO ::  build vit_b BiSam\n"
     ]
    },
    {
     "name": "stdout",
     "output_type": "stream",
     "text": [
      "INIT VIT\n"
     ]
    }
   ],
   "source": [
    "bisam = load_sam(\n",
    "    model_type=\"vit_b\", model_cls=BiSam, version= \"dev\", device=\"cpu\"\n",
    ")"
   ]
  },
  {
   "cell_type": "code",
   "execution_count": 13,
   "id": "4d3525e2-aabd-4f32-81da-260b41682698",
   "metadata": {},
   "outputs": [
    {
     "name": "stdout",
     "output_type": "stream",
     "text": [
      "patch embed : torch.Size([2, 64, 64, 768])\n",
      "In attn block : torch.Size([2, 64, 64, 768])\n",
      "In attn block : torch.Size([2, 64, 64, 768])\n",
      "In attn block : torch.Size([2, 64, 64, 768])\n",
      "In attn block : torch.Size([2, 64, 64, 768])\n",
      "In attn block : torch.Size([2, 64, 64, 768])\n",
      "In attn block : torch.Size([2, 64, 64, 768])\n",
      "In attn block : torch.Size([2, 64, 64, 768])\n",
      "In attn block : torch.Size([2, 64, 64, 768])\n",
      "In attn block : torch.Size([2, 64, 64, 768])\n",
      "In attn block : torch.Size([2, 64, 64, 768])\n",
      "In attn block : torch.Size([2, 64, 64, 768])\n",
      "In attn block : torch.Size([2, 64, 64, 768])\n",
      "torch.Size([1, 3, 256, 256])\n",
      "torch.Size([1, 3, 256, 256])\n"
     ]
    }
   ],
   "source": [
    "out = bisam2(batch, multimask_output=True)"
   ]
  },
  {
   "cell_type": "markdown",
   "id": "f458825d-7f37-4e70-9efd-9e8e5e04fe1b",
   "metadata": {},
   "source": [
    "### multioutput == True"
   ]
  },
  {
   "cell_type": "code",
   "execution_count": 14,
   "id": "09986a7b-ff1b-48f1-83cd-b36ee5937c40",
   "metadata": {},
   "outputs": [],
   "source": [
    "preds = (out[\"masks\"] > 0.).squeeze(2)"
   ]
  },
  {
   "cell_type": "code",
   "execution_count": 15,
   "id": "1f504eb7-bc83-4cbb-a761-397a09a04418",
   "metadata": {},
   "outputs": [
    {
     "data": {
      "text/plain": [
       "torch.Size([2, 1, 3, 256, 256])"
      ]
     },
     "execution_count": 15,
     "metadata": {},
     "output_type": "execute_result"
    }
   ],
   "source": [
    "preds.shape"
   ]
  },
  {
   "cell_type": "code",
   "execution_count": 16,
   "id": "e87ffb3b-67ec-4230-828c-a747f4a0ba48",
   "metadata": {},
   "outputs": [],
   "source": [
    "idx_max = torch.argmax(out[\"iou_predictions\"], dim=2)\n",
    "expanded_indices = idx_max.unsqueeze(-1).unsqueeze(-1).unsqueeze(-1).expand(-1, -1, 1, 256, 256)\n",
    "# Use gather to select elements along dim 2\n",
    "selected_elements = torch.gather(preds, 2, expanded_indices).squeeze(2)"
   ]
  },
  {
   "cell_type": "code",
   "execution_count": 17,
   "id": "6748f0c9-c08c-4317-afc3-c38bea6c480c",
   "metadata": {},
   "outputs": [
    {
     "data": {
      "text/plain": [
       "torch.Size([2, 1, 256, 256])"
      ]
     },
     "execution_count": 17,
     "metadata": {},
     "output_type": "execute_result"
    }
   ],
   "source": [
    "selected_elements.shape"
   ]
  },
  {
   "cell_type": "code",
   "execution_count": 18,
   "id": "72826352-4263-483a-a9f1-c1c9120dce4d",
   "metadata": {},
   "outputs": [
    {
     "data": {
      "image/png": "[encoded data removed]",
      "text/plain": [
       "<Figure size 640x480 with 1 Axes>"
      ]
     },
     "metadata": {},
     "output_type": "display_data"
    }
   ],
   "source": [
    "show_prompts_on_mask(selected_elements.squeeze(1), batch, 0)"
   ]
  },
  {
   "cell_type": "code",
   "execution_count": 19,
   "id": "52297ff5-4c4f-4921-a93e-983c7531ab51",
   "metadata": {},
   "outputs": [
    {
     "data": {
      "text/plain": [
       "torch.Size([2, 1, 256, 256])"
      ]
     },
     "execution_count": 19,
     "metadata": {},
     "output_type": "execute_result"
    }
   ],
   "source": [
    "selected_elements.shape"
   ]
  },
  {
   "cell_type": "markdown",
   "id": "78aa0b51-4200-4d58-be52-276b6cf6d28a",
   "metadata": {},
   "source": [
    "### multioutput == False"
   ]
  },
  {
   "cell_type": "code",
   "execution_count": 20,
   "id": "2b65a6a8-6120-41d3-aa6b-b9e723a82233",
   "metadata": {},
   "outputs": [
    {
     "name": "stdout",
     "output_type": "stream",
     "text": [
      "patch embed : torch.Size([2, 64, 64, 768])\n",
      "In attn block : torch.Size([2, 64, 64, 768])\n",
      "In attn block : torch.Size([2, 64, 64, 768])\n",
      "In attn block : torch.Size([2, 64, 64, 768])\n",
      "In attn block : torch.Size([2, 64, 64, 768])\n",
      "In attn block : torch.Size([2, 64, 64, 768])\n",
      "In attn block : torch.Size([2, 64, 64, 768])\n",
      "In attn block : torch.Size([2, 64, 64, 768])\n",
      "In attn block : torch.Size([2, 64, 64, 768])\n",
      "In attn block : torch.Size([2, 64, 64, 768])\n",
      "In attn block : torch.Size([2, 64, 64, 768])\n",
      "In attn block : torch.Size([2, 64, 64, 768])\n",
      "In attn block : torch.Size([2, 64, 64, 768])\n",
      "torch.Size([1, 1, 256, 256])\n",
      "torch.Size([1, 1, 256, 256])\n"
     ]
    }
   ],
   "source": [
    "out = bisam2(batch, multimask_output=False)"
   ]
  },
  {
   "cell_type": "code",
   "execution_count": 21,
   "id": "77e872ce-74a4-44ba-9d74-ba50d0c3ea32",
   "metadata": {},
   "outputs": [
    {
     "data": {
      "text/plain": [
       "torch.Size([2, 1, 1, 256, 256])"
      ]
     },
     "execution_count": 21,
     "metadata": {},
     "output_type": "execute_result"
    }
   ],
   "source": [
    "out[\"masks\"].shape"
   ]
  },
  {
   "cell_type": "code",
   "execution_count": 22,
   "id": "3b8d9ef6-a82c-476a-b97b-a5ff9d80b61f",
   "metadata": {},
   "outputs": [],
   "source": [
    "preds = bisam2.upscale_masks(out[\"masks\"], (1024, 1024))"
   ]
  },
  {
   "cell_type": "code",
   "execution_count": 23,
   "id": "48038d24-0629-4801-a175-c36f33829d3e",
   "metadata": {},
   "outputs": [
    {
     "data": {
      "text/plain": [
       "torch.Size([2, 1, 1, 1024, 1024])"
      ]
     },
     "execution_count": 23,
     "metadata": {},
     "output_type": "execute_result"
    }
   ],
   "source": [
    "preds.shape"
   ]
  },
  {
   "cell_type": "code",
   "execution_count": 24,
   "id": "047d0c94-66a5-4dba-9916-dfdad70fd0b6",
   "metadata": {},
   "outputs": [
    {
     "data": {
      "text/plain": [
       "torch.Size([2, 1, 1024, 1024])"
      ]
     },
     "execution_count": 24,
     "metadata": {},
     "output_type": "execute_result"
    }
   ],
   "source": [
    "preds = (preds > 0.).squeeze(1)\n",
    "preds.shape"
   ]
  },
  {
   "cell_type": "code",
   "execution_count": 25,
   "id": "a1f72ed1-1364-4af5-b88c-21a7644bd664",
   "metadata": {},
   "outputs": [
    {
     "ename": "TypeError",
     "evalue": "Invalid shape (1, 1024, 1024) for image data",
     "output_type": "error",
     "traceback": [
      "\u001b[0;31m---------------------------------------------------------------------------\u001b[0m",
      "\u001b[0;31mTypeError\u001b[0m                                 Traceback (most recent call last)",
      "Cell \u001b[0;32mIn[25], line 1\u001b[0m\n\u001b[0;32m----> 1\u001b[0m \u001b[43mshow_prompts_on_mask\u001b[49m\u001b[43m(\u001b[49m\u001b[43mpreds\u001b[49m\u001b[43m,\u001b[49m\u001b[43m \u001b[49m\u001b[43mbatch\u001b[49m\u001b[43m,\u001b[49m\u001b[43m \u001b[49m\u001b[38;5;241;43m0\u001b[39;49m\u001b[43m)\u001b[49m\n",
      "Cell \u001b[0;32mIn[5], line 5\u001b[0m, in \u001b[0;36mshow_prompts_on_mask\u001b[0;34m(mask, batch, batch_idx)\u001b[0m\n\u001b[1;32m      3\u001b[0m     mask \u001b[38;5;241m=\u001b[39m resize(mask, IMG_SIZE)\n\u001b[1;32m      4\u001b[0m coord_points \u001b[38;5;241m=\u001b[39m batch[\u001b[38;5;124m\"\u001b[39m\u001b[38;5;124mpoint_coords\u001b[39m\u001b[38;5;124m\"\u001b[39m][batch_idx]\n\u001b[0;32m----> 5\u001b[0m mask_pt \u001b[38;5;241m=\u001b[39m \u001b[43mget_mask_with_prompt\u001b[49m\u001b[43m(\u001b[49m\u001b[43mbinarize_mask\u001b[49m\u001b[43m(\u001b[49m\u001b[43mmask\u001b[49m\u001b[43m[\u001b[49m\u001b[43mbatch_idx\u001b[49m\u001b[43m]\u001b[49m\u001b[43m,\u001b[49m\u001b[43m \u001b[49m\u001b[43mth\u001b[49m\u001b[38;5;241;43m=\u001b[39;49m\u001b[38;5;241;43m0\u001b[39;49m\u001b[43m)\u001b[49m\u001b[43m \u001b[49m\u001b[43m,\u001b[49m\u001b[43m \u001b[49m\u001b[43mcoord_points\u001b[49m\u001b[43m)\u001b[49m\n\u001b[1;32m      6\u001b[0m show_img(mask_pt)\n",
      "File \u001b[0;32m~/projects/stage_stylo_magique_2024/src/commons/utils.py:571\u001b[0m, in \u001b[0;36mget_mask_with_prompt\u001b[0;34m(img, coord_points)\u001b[0m\n\u001b[1;32m    568\u001b[0m \u001b[38;5;28;01mif\u001b[39;00m \u001b[38;5;28misinstance\u001b[39m(coord_points, torch\u001b[38;5;241m.\u001b[39mTensor):\n\u001b[1;32m    569\u001b[0m     coord_points \u001b[38;5;241m=\u001b[39m to_numpy(coord_points, transpose\u001b[38;5;241m=\u001b[39m\u001b[38;5;28;01mFalse\u001b[39;00m)\n\u001b[0;32m--> 571\u001b[0m \u001b[43mshow_img\u001b[49m\u001b[43m(\u001b[49m\u001b[43mimg\u001b[49m\u001b[43m \u001b[49m\u001b[38;5;241;43m>\u001b[39;49m\u001b[43m \u001b[49m\u001b[38;5;241;43m0\u001b[39;49m\u001b[43m)\u001b[49m\n\u001b[1;32m    572\u001b[0m ax \u001b[38;5;241m=\u001b[39m plt\u001b[38;5;241m.\u001b[39mgca()\n\u001b[1;32m    573\u001b[0m colors \u001b[38;5;241m=\u001b[39m [\n\u001b[1;32m    574\u001b[0m     np\u001b[38;5;241m.\u001b[39mrandom\u001b[38;5;241m.\u001b[39mchoice(\u001b[38;5;28mrange\u001b[39m(\u001b[38;5;241m256\u001b[39m), size\u001b[38;5;241m=\u001b[39m\u001b[38;5;241m3\u001b[39m) \u001b[38;5;241m/\u001b[39m \u001b[38;5;241m255\u001b[39m\n\u001b[1;32m    575\u001b[0m     \u001b[38;5;28;01mfor\u001b[39;00m _ \u001b[38;5;129;01min\u001b[39;00m \u001b[38;5;28mrange\u001b[39m(\u001b[38;5;28mlen\u001b[39m(coord_points))\n\u001b[1;32m    576\u001b[0m     ]\n",
      "File \u001b[0;32m~/projects/stage_stylo_magique_2024/src/commons/utils.py:103\u001b[0m, in \u001b[0;36mshow_img\u001b[0;34m(img, show_axis)\u001b[0m\n\u001b[1;32m    102\u001b[0m \u001b[38;5;28;01mdef\u001b[39;00m \u001b[38;5;21mshow_img\u001b[39m(img, show_axis\u001b[38;5;241m=\u001b[39m\u001b[38;5;28;01mFalse\u001b[39;00m):\n\u001b[0;32m--> 103\u001b[0m     \u001b[43mio\u001b[49m\u001b[38;5;241;43m.\u001b[39;49m\u001b[43mimshow\u001b[49m\u001b[43m(\u001b[49m\u001b[43mimg\u001b[49m\u001b[43m)\u001b[49m\n\u001b[1;32m    104\u001b[0m     \u001b[38;5;28;01mif\u001b[39;00m \u001b[38;5;129;01mnot\u001b[39;00m show_axis:\n\u001b[1;32m    105\u001b[0m         plt\u001b[38;5;241m.\u001b[39maxis(\u001b[38;5;124m\"\u001b[39m\u001b[38;5;124moff\u001b[39m\u001b[38;5;124m\"\u001b[39m)\n",
      "File \u001b[0;32m~/miniforge3/envs/mp/lib/python3.10/site-packages/skimage/io/_io.py:175\u001b[0m, in \u001b[0;36mimshow\u001b[0;34m(arr, plugin, **plugin_args)\u001b[0m\n\u001b[1;32m    173\u001b[0m \u001b[38;5;28;01mif\u001b[39;00m \u001b[38;5;28misinstance\u001b[39m(arr, \u001b[38;5;28mstr\u001b[39m):\n\u001b[1;32m    174\u001b[0m     arr \u001b[38;5;241m=\u001b[39m call_plugin(\u001b[38;5;124m'\u001b[39m\u001b[38;5;124mimread\u001b[39m\u001b[38;5;124m'\u001b[39m, arr, plugin\u001b[38;5;241m=\u001b[39mplugin)\n\u001b[0;32m--> 175\u001b[0m \u001b[38;5;28;01mreturn\u001b[39;00m \u001b[43mcall_plugin\u001b[49m\u001b[43m(\u001b[49m\u001b[38;5;124;43m'\u001b[39;49m\u001b[38;5;124;43mimshow\u001b[39;49m\u001b[38;5;124;43m'\u001b[39;49m\u001b[43m,\u001b[49m\u001b[43m \u001b[49m\u001b[43marr\u001b[49m\u001b[43m,\u001b[49m\u001b[43m \u001b[49m\u001b[43mplugin\u001b[49m\u001b[38;5;241;43m=\u001b[39;49m\u001b[43mplugin\u001b[49m\u001b[43m,\u001b[49m\u001b[43m \u001b[49m\u001b[38;5;241;43m*\u001b[39;49m\u001b[38;5;241;43m*\u001b[39;49m\u001b[43mplugin_args\u001b[49m\u001b[43m)\u001b[49m\n",
      "File \u001b[0;32m~/miniforge3/envs/mp/lib/python3.10/site-packages/skimage/io/manage_plugins.py:217\u001b[0m, in \u001b[0;36mcall_plugin\u001b[0;34m(kind, *args, **kwargs)\u001b[0m\n\u001b[1;32m    214\u001b[0m     \u001b[38;5;28;01mexcept\u001b[39;00m \u001b[38;5;167;01mIndexError\u001b[39;00m:\n\u001b[1;32m    215\u001b[0m         \u001b[38;5;28;01mraise\u001b[39;00m \u001b[38;5;167;01mRuntimeError\u001b[39;00m(\u001b[38;5;124mf\u001b[39m\u001b[38;5;124m'\u001b[39m\u001b[38;5;124mCould not find the plugin \u001b[39m\u001b[38;5;124m\"\u001b[39m\u001b[38;5;132;01m{\u001b[39;00mplugin\u001b[38;5;132;01m}\u001b[39;00m\u001b[38;5;124m\"\u001b[39m\u001b[38;5;124m for \u001b[39m\u001b[38;5;132;01m{\u001b[39;00mkind\u001b[38;5;132;01m}\u001b[39;00m\u001b[38;5;124m.\u001b[39m\u001b[38;5;124m'\u001b[39m)\n\u001b[0;32m--> 217\u001b[0m \u001b[38;5;28;01mreturn\u001b[39;00m \u001b[43mfunc\u001b[49m\u001b[43m(\u001b[49m\u001b[38;5;241;43m*\u001b[39;49m\u001b[43margs\u001b[49m\u001b[43m,\u001b[49m\u001b[43m \u001b[49m\u001b[38;5;241;43m*\u001b[39;49m\u001b[38;5;241;43m*\u001b[39;49m\u001b[43mkwargs\u001b[49m\u001b[43m)\u001b[49m\n",
      "File \u001b[0;32m~/miniforge3/envs/mp/lib/python3.10/site-packages/skimage/io/_plugins/matplotlib_plugin.py:166\u001b[0m, in \u001b[0;36mimshow\u001b[0;34m(image, ax, show_cbar, **kwargs)\u001b[0m\n\u001b[1;32m    163\u001b[0m kwargs\u001b[38;5;241m.\u001b[39msetdefault(\u001b[38;5;124m'\u001b[39m\u001b[38;5;124mvmax\u001b[39m\u001b[38;5;124m'\u001b[39m, hi)\n\u001b[1;32m    165\u001b[0m ax \u001b[38;5;241m=\u001b[39m ax \u001b[38;5;129;01mor\u001b[39;00m plt\u001b[38;5;241m.\u001b[39mgca()\n\u001b[0;32m--> 166\u001b[0m ax_im \u001b[38;5;241m=\u001b[39m \u001b[43max\u001b[49m\u001b[38;5;241;43m.\u001b[39;49m\u001b[43mimshow\u001b[49m\u001b[43m(\u001b[49m\u001b[43mimage\u001b[49m\u001b[43m,\u001b[49m\u001b[43m \u001b[49m\u001b[38;5;241;43m*\u001b[39;49m\u001b[38;5;241;43m*\u001b[39;49m\u001b[43mkwargs\u001b[49m\u001b[43m)\u001b[49m\n\u001b[1;32m    167\u001b[0m \u001b[38;5;28;01mif\u001b[39;00m (cmap \u001b[38;5;241m!=\u001b[39m _default_colormap \u001b[38;5;129;01mand\u001b[39;00m show_cbar \u001b[38;5;129;01mis\u001b[39;00m \u001b[38;5;129;01mnot\u001b[39;00m \u001b[38;5;28;01mFalse\u001b[39;00m) \u001b[38;5;129;01mor\u001b[39;00m show_cbar:\n\u001b[1;32m    168\u001b[0m     divider \u001b[38;5;241m=\u001b[39m make_axes_locatable(ax)\n",
      "File \u001b[0;32m~/miniforge3/envs/mp/lib/python3.10/site-packages/matplotlib/__init__.py:1465\u001b[0m, in \u001b[0;36m_preprocess_data.<locals>.inner\u001b[0;34m(ax, data, *args, **kwargs)\u001b[0m\n\u001b[1;32m   1462\u001b[0m \u001b[38;5;129m@functools\u001b[39m\u001b[38;5;241m.\u001b[39mwraps(func)\n\u001b[1;32m   1463\u001b[0m \u001b[38;5;28;01mdef\u001b[39;00m \u001b[38;5;21minner\u001b[39m(ax, \u001b[38;5;241m*\u001b[39margs, data\u001b[38;5;241m=\u001b[39m\u001b[38;5;28;01mNone\u001b[39;00m, \u001b[38;5;241m*\u001b[39m\u001b[38;5;241m*\u001b[39mkwargs):\n\u001b[1;32m   1464\u001b[0m     \u001b[38;5;28;01mif\u001b[39;00m data \u001b[38;5;129;01mis\u001b[39;00m \u001b[38;5;28;01mNone\u001b[39;00m:\n\u001b[0;32m-> 1465\u001b[0m         \u001b[38;5;28;01mreturn\u001b[39;00m \u001b[43mfunc\u001b[49m\u001b[43m(\u001b[49m\u001b[43max\u001b[49m\u001b[43m,\u001b[49m\u001b[43m \u001b[49m\u001b[38;5;241;43m*\u001b[39;49m\u001b[38;5;28;43mmap\u001b[39;49m\u001b[43m(\u001b[49m\u001b[43msanitize_sequence\u001b[49m\u001b[43m,\u001b[49m\u001b[43m \u001b[49m\u001b[43margs\u001b[49m\u001b[43m)\u001b[49m\u001b[43m,\u001b[49m\u001b[43m \u001b[49m\u001b[38;5;241;43m*\u001b[39;49m\u001b[38;5;241;43m*\u001b[39;49m\u001b[43mkwargs\u001b[49m\u001b[43m)\u001b[49m\n\u001b[1;32m   1467\u001b[0m     bound \u001b[38;5;241m=\u001b[39m new_sig\u001b[38;5;241m.\u001b[39mbind(ax, \u001b[38;5;241m*\u001b[39margs, \u001b[38;5;241m*\u001b[39m\u001b[38;5;241m*\u001b[39mkwargs)\n\u001b[1;32m   1468\u001b[0m     auto_label \u001b[38;5;241m=\u001b[39m (bound\u001b[38;5;241m.\u001b[39marguments\u001b[38;5;241m.\u001b[39mget(label_namer)\n\u001b[1;32m   1469\u001b[0m                   \u001b[38;5;129;01mor\u001b[39;00m bound\u001b[38;5;241m.\u001b[39mkwargs\u001b[38;5;241m.\u001b[39mget(label_namer))\n",
      "File \u001b[0;32m~/miniforge3/envs/mp/lib/python3.10/site-packages/matplotlib/axes/_axes.py:5759\u001b[0m, in \u001b[0;36mAxes.imshow\u001b[0;34m(self, X, cmap, norm, aspect, interpolation, alpha, vmin, vmax, origin, extent, interpolation_stage, filternorm, filterrad, resample, url, **kwargs)\u001b[0m\n\u001b[1;32m   5756\u001b[0m \u001b[38;5;28;01mif\u001b[39;00m aspect \u001b[38;5;129;01mis\u001b[39;00m \u001b[38;5;129;01mnot\u001b[39;00m \u001b[38;5;28;01mNone\u001b[39;00m:\n\u001b[1;32m   5757\u001b[0m     \u001b[38;5;28mself\u001b[39m\u001b[38;5;241m.\u001b[39mset_aspect(aspect)\n\u001b[0;32m-> 5759\u001b[0m \u001b[43mim\u001b[49m\u001b[38;5;241;43m.\u001b[39;49m\u001b[43mset_data\u001b[49m\u001b[43m(\u001b[49m\u001b[43mX\u001b[49m\u001b[43m)\u001b[49m\n\u001b[1;32m   5760\u001b[0m im\u001b[38;5;241m.\u001b[39mset_alpha(alpha)\n\u001b[1;32m   5761\u001b[0m \u001b[38;5;28;01mif\u001b[39;00m im\u001b[38;5;241m.\u001b[39mget_clip_path() \u001b[38;5;129;01mis\u001b[39;00m \u001b[38;5;28;01mNone\u001b[39;00m:\n\u001b[1;32m   5762\u001b[0m     \u001b[38;5;66;03m# image does not already have clipping set, clip to axes patch\u001b[39;00m\n",
      "File \u001b[0;32m~/miniforge3/envs/mp/lib/python3.10/site-packages/matplotlib/image.py:723\u001b[0m, in \u001b[0;36m_ImageBase.set_data\u001b[0;34m(self, A)\u001b[0m\n\u001b[1;32m    721\u001b[0m \u001b[38;5;28;01mif\u001b[39;00m \u001b[38;5;28misinstance\u001b[39m(A, PIL\u001b[38;5;241m.\u001b[39mImage\u001b[38;5;241m.\u001b[39mImage):\n\u001b[1;32m    722\u001b[0m     A \u001b[38;5;241m=\u001b[39m pil_to_array(A)  \u001b[38;5;66;03m# Needed e.g. to apply png palette.\u001b[39;00m\n\u001b[0;32m--> 723\u001b[0m \u001b[38;5;28mself\u001b[39m\u001b[38;5;241m.\u001b[39m_A \u001b[38;5;241m=\u001b[39m \u001b[38;5;28;43mself\u001b[39;49m\u001b[38;5;241;43m.\u001b[39;49m\u001b[43m_normalize_image_array\u001b[49m\u001b[43m(\u001b[49m\u001b[43mA\u001b[49m\u001b[43m)\u001b[49m\n\u001b[1;32m    724\u001b[0m \u001b[38;5;28mself\u001b[39m\u001b[38;5;241m.\u001b[39m_imcache \u001b[38;5;241m=\u001b[39m \u001b[38;5;28;01mNone\u001b[39;00m\n\u001b[1;32m    725\u001b[0m \u001b[38;5;28mself\u001b[39m\u001b[38;5;241m.\u001b[39mstale \u001b[38;5;241m=\u001b[39m \u001b[38;5;28;01mTrue\u001b[39;00m\n",
      "File \u001b[0;32m~/miniforge3/envs/mp/lib/python3.10/site-packages/matplotlib/image.py:693\u001b[0m, in \u001b[0;36m_ImageBase._normalize_image_array\u001b[0;34m(A)\u001b[0m\n\u001b[1;32m    691\u001b[0m     A \u001b[38;5;241m=\u001b[39m A\u001b[38;5;241m.\u001b[39msqueeze(\u001b[38;5;241m-\u001b[39m\u001b[38;5;241m1\u001b[39m)  \u001b[38;5;66;03m# If just (M, N, 1), assume scalar and apply colormap.\u001b[39;00m\n\u001b[1;32m    692\u001b[0m \u001b[38;5;28;01mif\u001b[39;00m \u001b[38;5;129;01mnot\u001b[39;00m (A\u001b[38;5;241m.\u001b[39mndim \u001b[38;5;241m==\u001b[39m \u001b[38;5;241m2\u001b[39m \u001b[38;5;129;01mor\u001b[39;00m A\u001b[38;5;241m.\u001b[39mndim \u001b[38;5;241m==\u001b[39m \u001b[38;5;241m3\u001b[39m \u001b[38;5;129;01mand\u001b[39;00m A\u001b[38;5;241m.\u001b[39mshape[\u001b[38;5;241m-\u001b[39m\u001b[38;5;241m1\u001b[39m] \u001b[38;5;129;01min\u001b[39;00m [\u001b[38;5;241m3\u001b[39m, \u001b[38;5;241m4\u001b[39m]):\n\u001b[0;32m--> 693\u001b[0m     \u001b[38;5;28;01mraise\u001b[39;00m \u001b[38;5;167;01mTypeError\u001b[39;00m(\u001b[38;5;124mf\u001b[39m\u001b[38;5;124m\"\u001b[39m\u001b[38;5;124mInvalid shape \u001b[39m\u001b[38;5;132;01m{\u001b[39;00mA\u001b[38;5;241m.\u001b[39mshape\u001b[38;5;132;01m}\u001b[39;00m\u001b[38;5;124m for image data\u001b[39m\u001b[38;5;124m\"\u001b[39m)\n\u001b[1;32m    694\u001b[0m \u001b[38;5;28;01mif\u001b[39;00m A\u001b[38;5;241m.\u001b[39mndim \u001b[38;5;241m==\u001b[39m \u001b[38;5;241m3\u001b[39m:\n\u001b[1;32m    695\u001b[0m     \u001b[38;5;66;03m# If the input data has values outside the valid range (after\u001b[39;00m\n\u001b[1;32m    696\u001b[0m     \u001b[38;5;66;03m# normalisation), we issue a warning and then clip X to the bounds\u001b[39;00m\n\u001b[1;32m    697\u001b[0m     \u001b[38;5;66;03m# - otherwise casting wraps extreme values, hiding outliers and\u001b[39;00m\n\u001b[1;32m    698\u001b[0m     \u001b[38;5;66;03m# making reliable interpretation impossible.\u001b[39;00m\n\u001b[1;32m    699\u001b[0m     high \u001b[38;5;241m=\u001b[39m \u001b[38;5;241m255\u001b[39m \u001b[38;5;28;01mif\u001b[39;00m np\u001b[38;5;241m.\u001b[39missubdtype(A\u001b[38;5;241m.\u001b[39mdtype, np\u001b[38;5;241m.\u001b[39minteger) \u001b[38;5;28;01melse\u001b[39;00m \u001b[38;5;241m1\u001b[39m\n",
      "\u001b[0;31mTypeError\u001b[0m: Invalid shape (1, 1024, 1024) for image data"
     ]
    },
    {
     "data": {
      "image/png": "[encoded data removed]",
      "text/plain": [
       "<Figure size 640x480 with 1 Axes>"
      ]
     },
     "metadata": {},
     "output_type": "display_data"
    }
   ],
   "source": [
    "show_prompts_on_mask(preds, batch, 0)"
   ]
  },
  {
   "cell_type": "code",
   "execution_count": null,
   "id": "71f4bc67-7095-4028-9dbb-34df2d89ff84",
   "metadata": {},
   "outputs": [],
   "source": [
    "idx = 0\n",
    "mask = preds[idx]\n",
    "coord_points = batch[\"point_coords\"][idx]\n",
    "mask_pt = get_mask_with_prompt(mask, coord_points)\n",
    "show_img(mask_pt)"
   ]
  },
  {
   "cell_type": "markdown",
   "id": "63af2e07-b8c0-4622-870d-835b15186fc4",
   "metadata": {},
   "source": [
    "On prédit un seul masque dans les deux cas car tous les pormpts sont associés à un meme objet !"
   ]
  },
  {
   "cell_type": "code",
   "execution_count": null,
   "id": "513b798a-ac60-422d-870f-5648c1328c38",
   "metadata": {},
   "outputs": [],
   "source": [
    "plt.imshow(to_numpy(preds[1], transpose=False))"
   ]
  },
  {
   "cell_type": "code",
   "execution_count": null,
   "id": "808abd23-aec2-4fe7-b4d5-58a46087740d",
   "metadata": {},
   "outputs": [],
   "source": [
    "preds[0].shape"
   ]
  },
  {
   "cell_type": "code",
   "execution_count": 4,
   "id": "e7201db3-92db-4b5b-8744-fa93595fe8b8",
   "metadata": {},
   "outputs": [
    {
     "name": "stderr",
     "output_type": "stream",
     "text": [
      "2024-07-19 17:20:49,911 - INFO ::  build SAM\n"
     ]
    }
   ],
   "source": [
    "from src.models.segment_anything import sam_model_registry_ori, SamPredictor\n",
    "from src.commons.constants import SAM_MODEL_SMALL_PATH\n",
    "\n",
    "idx= 0\n",
    "img_path = f\"/home/MDizier/data/dl/levir-cd/test/B/test_{idx+1}.png\"\n",
    "\n",
    "image = cv2.imread(img_path)\n",
    "image = cv2.cvtColor(image, cv2.COLOR_BGR2RGB)\n",
    "\n",
    "device = \"cpu\"\n",
    "model_type = \"vit_b\"\n",
    "\n",
    "sam = sam_model_registry_ori[model_type](checkpoint=SAM_MODEL_SMALL_PATH)\n",
    "sam.to(device=device)\n",
    "\n",
    "predictor = SamPredictor(sam)\n",
    "predictor.set_image(image)\n"
   ]
  },
  {
   "cell_type": "code",
   "execution_count": 73,
   "id": "8eaeee41-59b4-4e0d-ab26-3c31efeaf274",
   "metadata": {},
   "outputs": [
    {
     "data": {
      "text/plain": [
       "torch.Size([3, 2])"
      ]
     },
     "execution_count": 73,
     "metadata": {},
     "output_type": "execute_result"
    }
   ],
   "source": [
    "batch[\"point_coords\"][idx].shape"
   ]
  },
  {
   "cell_type": "code",
   "execution_count": 74,
   "id": "8ea727a5-1e2a-4a0a-866a-8bdc35155f2c",
   "metadata": {},
   "outputs": [],
   "source": [
    "point_coords = batch[\"point_coords\"][idx]\n",
    "# remove padding points\n",
    "point_coords = point_coords[torch.sum(point_coords, dim=1) > 0]\n",
    "# remove padding points\n",
    "point_labels = batch[\"point_labels\"][idx]\n",
    "point_labels = point_labels[:point_coords.shape[0]]  \n",
    "\n",
    "input_point = to_numpy(point_coords, transpose=False)\n",
    "input_label = to_numpy(point_labels, transpose=False)"
   ]
  },
  {
   "cell_type": "code",
   "execution_count": 75,
   "id": "f44f99f5-a24c-49e2-8d39-89cc91b68882",
   "metadata": {},
   "outputs": [
    {
     "data": {
      "text/plain": [
       "((3,), (3, 2))"
      ]
     },
     "execution_count": 75,
     "metadata": {},
     "output_type": "execute_result"
    }
   ],
   "source": [
    "input_label.shape, input_point.shape"
   ]
  },
  {
   "cell_type": "code",
   "execution_count": 76,
   "id": "b71a1caa-7211-41ae-8b0b-d30d28d233b2",
   "metadata": {},
   "outputs": [
    {
     "name": "stdout",
     "output_type": "stream",
     "text": [
      "sparse emb : torch.Size([1, 4, 256])\n",
      "dense emb : torch.Size([1, 256, 64, 64])\n",
      "low mask  predict torch : torch.Size([1, 1, 256, 256])\n",
      "low mask  predict torch : torch.Size([1, 1, 1024, 1024])\n"
     ]
    }
   ],
   "source": [
    "masks, scores, logits = predictor.predict(\n",
    "    point_coords=input_point,\n",
    "    point_labels=input_label,\n",
    "    multimask_output=False,\n",
    ")"
   ]
  },
  {
   "cell_type": "code",
   "execution_count": 77,
   "id": "ea35c38d-f830-4ab3-b454-64019f9ada54",
   "metadata": {},
   "outputs": [
    {
     "data": {
      "image/png": "[encoded data removed]",
      "text/plain": [
       "<Figure size 640x480 with 1 Axes>"
      ]
     },
     "metadata": {},
     "output_type": "display_data"
    }
   ],
   "source": [
    "show_img(masks.squeeze())"
   ]
  },
  {
   "cell_type": "markdown",
   "id": "17bb14d5-13d5-480f-ac7e-73cde45bd961",
   "metadata": {},
   "source": [
    "### batch prompt\n",
    "* un prompt == un objet"
   ]
  },
  {
   "cell_type": "code",
   "execution_count": 78,
   "id": "88e6e652-bef8-41f6-977c-03ee3ad7493e",
   "metadata": {},
   "outputs": [
    {
     "data": {
      "text/plain": [
       "(torch.Size([3, 2]), torch.Size([3]))"
      ]
     },
     "execution_count": 78,
     "metadata": {},
     "output_type": "execute_result"
    }
   ],
   "source": [
    "point_coords = batch[\"point_coords\"][idx]\n",
    "# remove padding points\n",
    "point_coords = point_coords[torch.sum(point_coords, dim=1) > 0]\n",
    "# remove padding points\n",
    "point_labels = batch[\"point_labels\"][idx]\n",
    "point_labels = point_labels[:point_coords.shape[0]]  \n",
    "input_point = point_coords.clone().to(device)\n",
    "input_label = point_labels.clone().to(device)\n",
    "input_point.shape, input_label.shape"
   ]
  },
  {
   "cell_type": "code",
   "execution_count": 79,
   "id": "40fb4122-bbeb-46ec-ad44-96c7785905f1",
   "metadata": {},
   "outputs": [
    {
     "name": "stdout",
     "output_type": "stream",
     "text": [
      "sparse emb : torch.Size([3, 2, 256])\n",
      "dense emb : torch.Size([3, 256, 64, 64])\n",
      "low mask  predict torch : torch.Size([3, 1, 256, 256])\n",
      "low mask  predict torch : torch.Size([3, 1, 1024, 1024])\n"
     ]
    }
   ],
   "source": [
    "masks, ious, _ = predictor.predict_torch(\n",
    "    point_coords=input_point[:,None ,:],\n",
    "    point_labels=input_label[:, None],\n",
    "    boxes=None,\n",
    "    multimask_output=False,\n",
    ")"
   ]
  },
  {
   "cell_type": "code",
   "execution_count": 80,
   "id": "417b3cc4-fdb4-4e55-ad91-47ac43ce1129",
   "metadata": {},
   "outputs": [
    {
     "data": {
      "text/plain": [
       "torch.Size([3, 1, 1024, 1024])"
      ]
     },
     "execution_count": 80,
     "metadata": {},
     "output_type": "execute_result"
    }
   ],
   "source": [
    "masks.shape"
   ]
  },
  {
   "cell_type": "code",
   "execution_count": 81,
   "id": "895dc3eb-c680-4678-8d23-7ff145de7bee",
   "metadata": {},
   "outputs": [
    {
     "data": {
      "image/png": "[encoded data removed]",
      "text/plain": [
       "<Figure size 640x480 with 2 Axes>"
      ]
     },
     "metadata": {},
     "output_type": "display_data"
    }
   ],
   "source": [
    "show_img(to_numpy(torch.sum(masks.squeeze(), dim=0), transpose=False))"
   ]
  },
  {
   "cell_type": "markdown",
   "id": "bdb3cb5b-f496-463c-9e3a-a4ae835c6479",
   "metadata": {},
   "source": [
    "Ok ! La onna chaque prompt pour un objet different!"
   ]
  },
  {
   "cell_type": "code",
   "execution_count": 85,
   "id": "e774a4c9-0806-4fc5-bfd2-97d9dca5b37e",
   "metadata": {},
   "outputs": [
    {
     "data": {
      "text/plain": [
       "(torch.Size([2, 3, 2]), torch.Size([3, 2]))"
      ]
     },
     "execution_count": 85,
     "metadata": {},
     "output_type": "execute_result"
    }
   ],
   "source": [
    "batch[\"point_coords\"].shape, input_point.shape"
   ]
  },
  {
   "cell_type": "code",
   "execution_count": 87,
   "id": "4994d6df-3822-4818-b3e8-bdb5b8e4e4fc",
   "metadata": {},
   "outputs": [
    {
     "name": "stdout",
     "output_type": "stream",
     "text": [
      "sparse emb : torch.Size([1, 4, 256])\n",
      "dense emb : torch.Size([1, 256, 64, 64])\n",
      "low mask  predict torch : torch.Size([1, 1, 256, 256])\n",
      "low mask  predict torch : torch.Size([1, 1, 1024, 1024])\n"
     ]
    }
   ],
   "source": [
    "idx = 0\n",
    "masks, ious, _ = predictor.predict_torch(\n",
    "    point_coords=batch[\"point_coords\"][idx][None, : ,:].to(device),\n",
    "    point_labels=batch[\"point_labels\"][idx][None, :].to(device),\n",
    "    boxes=None,\n",
    "    multimask_output=False,\n",
    ")"
   ]
  },
  {
   "cell_type": "code",
   "execution_count": 90,
   "id": "59f758cf-c9f0-4402-b815-36f3624d0684",
   "metadata": {},
   "outputs": [
    {
     "data": {
      "text/plain": [
       "torch.Size([1, 1, 1024, 1024])"
      ]
     },
     "execution_count": 90,
     "metadata": {},
     "output_type": "execute_result"
    }
   ],
   "source": [
    "masks.shape"
   ]
  },
  {
   "cell_type": "code",
   "execution_count": 93,
   "id": "762c116e-475f-4352-85b5-33ffa8c3013e",
   "metadata": {},
   "outputs": [
    {
     "data": {
      "image/png": "[encoded data removed]",
      "text/plain": [
       "<Figure size 640x480 with 1 Axes>"
      ]
     },
     "metadata": {},
     "output_type": "display_data"
    }
   ],
   "source": [
    "show_prompts_on_mask(masks.squeeze(0), batch, 0)"
   ]
  },
  {
   "cell_type": "markdown",
   "id": "0528f997-c536-446e-a8d5-792788454082",
   "metadata": {},
   "source": [
    "### change model : many prompt to one mask :"
   ]
  },
  {
   "cell_type": "code",
   "execution_count": 27,
   "id": "fe5d9665-001a-4fee-83db-8ca25ee8b1a9",
   "metadata": {},
   "outputs": [],
   "source": [
    "from src.commons.utils_io import load_config\n",
    "import hydra\n",
    "from hydra.core.global_hydra import GlobalHydra"
   ]
  },
  {
   "cell_type": "code",
   "execution_count": 99,
   "id": "98478adf-335f-4b5f-8ef0-cf5ec1319559",
   "metadata": {},
   "outputs": [],
   "source": [
    "GlobalHydra.instance().clear()\n",
    "list_args=[\"experiment=probing_diff\", \"sam_type=small\", \"data=levir-cd\", \"data.params.n_shape=3\", \"data.params.batch_size=4\"]\n",
    "cfg = load_config(list_args)"
   ]
  },
  {
   "cell_type": "code",
   "execution_count": 100,
   "id": "b46edc68-6b65-406d-96d2-9cdda2f73f56",
   "metadata": {},
   "outputs": [
    {
     "name": "stdout",
     "output_type": "stream",
     "text": [
      "INIT VIT\n"
     ]
    },
    {
     "name": "stderr",
     "output_type": "stream",
     "text": [
      "2024-08-13 11:39:14,999 - INFO ::  Weights loaded for : ['image_encoder']\n"
     ]
    }
   ],
   "source": [
    "module = hydra.utils.instantiate(cfg.model.instance)"
   ]
  },
  {
   "cell_type": "code",
   "execution_count": 101,
   "id": "98778cf3-2376-4653-9709-1951fa0ce31b",
   "metadata": {},
   "outputs": [],
   "source": [
    "data_module = hydra.utils.instantiate(cfg.data)"
   ]
  },
  {
   "cell_type": "code",
   "execution_count": 102,
   "id": "17c83860-42c0-4a87-9cb3-0375fe8a223d",
   "metadata": {},
   "outputs": [
    {
     "data": {
      "text/plain": [
       "{'prompt_type': 'sample', 'n_prompt': 1, 'loc': 'center', 'batch_size': 4, 'num_worker': 4, 'pin_memory': False, 'n_shape': 3}"
      ]
     },
     "execution_count": 102,
     "metadata": {},
     "output_type": "execute_result"
    }
   ],
   "source": [
    "data_module.params"
   ]
  },
  {
   "cell_type": "code",
   "execution_count": 103,
   "id": "a866134b-12bc-43eb-ae69-32f1ff73fa07",
   "metadata": {},
   "outputs": [],
   "source": [
    "data_module.setup(\"fit\")\n",
    "train_dloader = data_module.train_dataloader()"
   ]
  },
  {
   "cell_type": "code",
   "execution_count": 104,
   "id": "e0228cad-6b6c-4609-9753-195ad6179b29",
   "metadata": {},
   "outputs": [],
   "source": [
    "batch = next(iter(train_dloader))"
   ]
  },
  {
   "cell_type": "markdown",
   "id": "81537086-3689-4c65-b0ae-eba8a4300f2b",
   "metadata": {},
   "source": [
    "### Modif mask decoder"
   ]
  },
  {
   "cell_type": "code",
   "execution_count": 196,
   "id": "33f4ada7-f46c-4097-988c-1b7c3c600041",
   "metadata": {},
   "outputs": [
    {
     "name": "stdout",
     "output_type": "stream",
     "text": [
      "torch.Size([1, 1, 256, 256])\n",
      "torch.Size([1, 1, 256, 256])\n",
      "torch.Size([2, 1, 1, 256, 256])\n"
     ]
    }
   ],
   "source": [
    "out = bisam2(batch, multimask_output=False)\n",
    "preds2 = out[\"masks\"] > 0\n",
    "print(preds2.shape)"
   ]
  },
  {
   "cell_type": "code",
   "execution_count": 93,
   "id": "a00b2739-babe-4bf4-872f-601c7790cca3",
   "metadata": {},
   "outputs": [
    {
     "name": "stdout",
     "output_type": "stream",
     "text": [
      "sparse_embeddings: torch.Size([2, 3, 2, 256])\n",
      "dense_embeddings: torch.Size([2, 3, 256, 64, 64])\n",
      "torch.Size([2, 3, 1, 256, 256])\n"
     ]
    }
   ],
   "source": [
    "out = bisam(batch, multimask_output=False, mode=SamModeInference.INTERACTIVE)\n",
    "preds = out[\"masks\"] > 0\n",
    "print(preds.shape)"
   ]
  },
  {
   "cell_type": "code",
   "execution_count": 19,
   "id": "240414ee-b570-4b82-9d88-07120dc4ad17",
   "metadata": {},
   "outputs": [
    {
     "name": "stdout",
     "output_type": "stream",
     "text": [
      "torch.Size([2, 1, 1, 256, 256])\n"
     ]
    }
   ],
   "source": [
    "# bisam diff modified => 1 mask for all prompt\n",
    "preds_diff2, ious = module.model(batch, multimask_output=False)\n",
    "preds_diff2 = preds_diff2 > 0\n",
    "print(preds_diff2.shape)"
   ]
  },
  {
   "cell_type": "code",
   "execution_count": 105,
   "id": "8ec16514-f658-4f61-a16c-bc774e9e9914",
   "metadata": {},
   "outputs": [],
   "source": [
    "point_coords = (\n",
    "    batch[\"point_coords\"].clone()\n",
    ")\n",
    "point_labels = (\n",
    "    batch[\"point_labels\"].clone()\n",
    ")"
   ]
  },
  {
   "cell_type": "code",
   "execution_count": 106,
   "id": "e13c930e-dfde-4a5b-bc59-a45a8b2d6e22",
   "metadata": {},
   "outputs": [
    {
     "data": {
      "text/plain": [
       "torch.Size([4, 3, 2])"
      ]
     },
     "execution_count": 106,
     "metadata": {},
     "output_type": "execute_result"
    }
   ],
   "source": [
    "point_coords.shape"
   ]
  },
  {
   "cell_type": "code",
   "execution_count": 107,
   "id": "389c0aa5-2b69-410b-84e4-5656c3d1ba0a",
   "metadata": {},
   "outputs": [
    {
     "data": {
      "text/plain": [
       "tensor([[[1009.,  973.],\n",
       "         [ 714.,  944.],\n",
       "         [ 827.,  949.]],\n",
       "\n",
       "        [[  97.,  113.],\n",
       "         [ 503.,  513.],\n",
       "         [ 747.,  914.]],\n",
       "\n",
       "        [[ 791.,  602.],\n",
       "         [ 816.,  889.],\n",
       "         [ 273.,  636.]],\n",
       "\n",
       "        [[ 601.,  937.],\n",
       "         [ 295.,   45.],\n",
       "         [ 390., 1022.]]])"
      ]
     },
     "execution_count": 107,
     "metadata": {},
     "output_type": "execute_result"
    }
   ],
   "source": [
    "batch[\"point_coords\"]"
   ]
  },
  {
   "cell_type": "code",
   "execution_count": 108,
   "id": "6b3effe1-a0d1-485b-9be1-cf52b183cfa0",
   "metadata": {},
   "outputs": [
    {
     "data": {
      "text/plain": [
       "(torch.Size([4, 3, 2]), torch.Size([4, 3]))"
      ]
     },
     "execution_count": 108,
     "metadata": {},
     "output_type": "execute_result"
    }
   ],
   "source": [
    "point_coords.shape, point_labels.shape"
   ]
  },
  {
   "cell_type": "code",
   "execution_count": 109,
   "id": "33698b3f-d8d1-4bb6-a710-6e39b50f712c",
   "metadata": {},
   "outputs": [],
   "source": [
    "# batch prompt encoding\n",
    "sparse_embeddings, dense_embeddings = bisam.prompt_encoder(\n",
    "    points=(\n",
    "        point_coords[:,:,None ,:],#[0][None, :, :],\n",
    "        point_labels[..., None] #[0][None, :],\n",
    "    ),\n",
    "    boxes=None,\n",
    "    masks=None,\n",
    ")"
   ]
  },
  {
   "cell_type": "code",
   "execution_count": 110,
   "id": "d76fe534-3d35-4c7a-b505-61e87d4b2203",
   "metadata": {},
   "outputs": [
    {
     "data": {
      "text/plain": [
       "torch.Size([4, 3, 2, 256])"
      ]
     },
     "execution_count": 110,
     "metadata": {},
     "output_type": "execute_result"
    }
   ],
   "source": [
    "sparse_embeddings.shape"
   ]
  },
  {
   "cell_type": "code",
   "execution_count": 111,
   "id": "8554928c-cc37-4229-87ee-d7ac0fbe761d",
   "metadata": {},
   "outputs": [
    {
     "data": {
      "text/plain": [
       "tensor([ 0.3530, -0.8905,  0.7160, -0.8182, -0.6237,  0.5368, -0.9532,  0.4164,\n",
       "        -0.9119,  0.1683, -0.7790, -0.9896,  0.1486,  0.9730,  0.2087,  0.9903,\n",
       "        -0.2774, -1.1057, -0.8963, -0.4908, -0.8837, -0.5712, -0.9170, -0.7063,\n",
       "         0.4535, -0.0978, -0.4768, -0.9002,  0.9414,  0.9618, -0.5216, -0.7716,\n",
       "        -1.0008, -0.3282,  0.2182,  0.4155, -0.6662,  0.6892,  0.7966, -0.9256,\n",
       "         0.7563,  0.7376, -0.8840, -0.5098,  0.5904,  0.9548, -0.5567, -0.4909,\n",
       "        -0.9631, -0.9984, -0.6654, -0.7772,  0.9799, -0.3353,  1.1086, -0.9716,\n",
       "         0.0896,  0.5330,  0.3547, -0.4503, -0.6016,  0.9639, -0.5275,  0.7675,\n",
       "         0.8267,  0.7380, -0.9070,  0.9803,  0.8558, -0.0360, -0.9952, -0.9489,\n",
       "         0.7836,  0.5722,  1.0016, -0.6392,  0.9323, -0.1206, -0.7582,  0.9738,\n",
       "         0.8206,  1.3001,  0.6252, -0.3897, -0.9672,  0.8216, -0.9999,  0.6947,\n",
       "        -0.4822, -0.6305, -0.4512, -0.7268, -0.8398, -0.2256,  0.9745, -0.7307,\n",
       "        -0.0593, -0.0845, -0.3047, -0.0035,  0.9186, -0.3067, -0.1531, -1.0215,\n",
       "         0.7294,  0.9003, -0.9893,  0.6946,  0.5618,  1.0009, -0.1805, -0.1671,\n",
       "        -0.8908,  0.1292,  0.7731,  1.0148, -0.9783,  0.3508, -0.7598,  1.0136,\n",
       "         0.6485, -0.7894, -0.4739, -0.7177, -0.3179, -0.6592, -0.8395,  0.5505,\n",
       "         0.9197, -0.3001, -0.7399, -0.2174,  0.7545,  1.0276, -0.2556, -0.8951,\n",
       "         0.4092, -0.9853, -0.5902,  0.2253, -1.1581, -0.8135, -0.9004,  0.2976,\n",
       "         0.9533, -0.1452,  0.3578, -0.8593, -0.4766, -1.0603,  0.0254, -0.5431,\n",
       "        -1.0489, -0.9398, -0.8453,  0.7280, -0.5735, -0.3682, -1.1300, -0.6387,\n",
       "         0.3097,  0.9069,  1.0977,  0.8711,  0.8257, -0.7133, -0.0747, -0.3861,\n",
       "         0.6352, -0.5216,  0.4693,  0.8738, -0.8358, -0.0528, -1.0261,  0.9261,\n",
       "        -0.4881,  0.0223, -0.4786,  0.6234,  0.0284,  0.7579,  0.3326, -0.1310,\n",
       "        -0.9422, -0.7222,  0.9078,  0.8687,  0.7813, -0.2962,  0.7432,  0.2311,\n",
       "         0.8518,  0.6939,  0.2638,  0.0391, -0.0703, -0.7433, -0.0507,  0.3331,\n",
       "         0.6499, -0.8986,  0.2769, -0.2857,  0.3615,  0.9499,  0.7276,  0.3486,\n",
       "         0.2094, -0.3229, -0.2376, -1.0077,  0.1897, -0.4212,  0.1722,  0.7471,\n",
       "         0.9368, -0.8231,  0.9012,  0.6820,  0.5589, -1.0963,  0.3748,  0.6878,\n",
       "        -0.9153, -1.0947,  0.9580, -0.9938,  0.4784, -0.9719,  1.0775, -0.2378,\n",
       "         0.6739, -0.4114,  0.1792,  0.5815, -0.8056,  0.0777,  0.9792,  0.8460,\n",
       "         0.6103,  1.3051,  0.7276, -0.1373, -0.1170,  0.9612,  0.5993, -0.1022,\n",
       "         0.7615,  0.7811, -0.7823,  0.6920, -0.8972, -0.5697, -0.7625,  0.7851],\n",
       "       grad_fn=<SliceBackward0>)"
      ]
     },
     "execution_count": 111,
     "metadata": {},
     "output_type": "execute_result"
    }
   ],
   "source": [
    "sparse_embeddings[0, 0, 0, :]"
   ]
  },
  {
   "cell_type": "code",
   "execution_count": 112,
   "id": "c9f76824-d77a-4ff3-93ee-c4e3b86f216e",
   "metadata": {},
   "outputs": [],
   "source": [
    "sparse_embeddings_, dense_embeddings_ = bisam2.prompt_encoder(\n",
    "    points=(\n",
    "        point_coords, #,[:,None ,:],#[0][None, :, :],\n",
    "        point_labels,#[:, None] #[0][None, :],\n",
    "    ),\n",
    "    boxes=None,\n",
    "    masks=None,\n",
    ")"
   ]
  },
  {
   "cell_type": "markdown",
   "id": "43ee7e5f-f689-4f85-a5c8-064e40ff3bd9",
   "metadata": {},
   "source": [
    "* sparse_embeddings[0, 0, 1,:] == sparse_embeddings_[0, 3, :]\n",
    "* sparse_embeddings[0, 0, 0,:] == sparse_embeddings_[0, 0, :]"
   ]
  },
  {
   "cell_type": "code",
   "execution_count": 113,
   "id": "40001f1c-cfc9-4fb1-90a9-afa2329f709b",
   "metadata": {},
   "outputs": [
    {
     "data": {
      "text/plain": [
       "tensor([ 0.7575, -0.3270, -0.4895,  0.8766,  0.9722,  1.1187, -0.5502,  0.6301,\n",
       "        -0.9937, -0.1834,  0.9411, -0.4831, -0.9247, -0.2155,  0.2782,  0.0096,\n",
       "         0.4542, -1.0499, -1.0396, -0.9660, -0.8877,  0.5656,  0.8579, -0.8785,\n",
       "        -0.8894,  1.0067, -1.0211,  0.4184,  0.0828, -0.9666,  0.8618, -0.3334,\n",
       "        -0.1706,  0.8104, -0.0256,  0.1722,  0.9343, -0.4250,  0.0454,  0.9827,\n",
       "        -1.0070,  0.8996, -0.4020, -0.7107,  0.1515, -0.5883, -0.4017,  0.7073,\n",
       "        -0.3421,  0.9416, -0.8861,  0.9587,  0.1983, -0.8158, -0.4675,  0.7317,\n",
       "         0.5201, -0.7027,  0.8060,  0.9762,  0.7780, -0.2790,  0.0183,  0.8221,\n",
       "         0.9212, -0.0426,  0.7203, -1.0096,  0.8147,  0.9650,  0.8566, -0.9849,\n",
       "        -0.9038, -0.1035,  0.5258,  1.2742,  0.2722, -0.5992,  0.7890, -0.6211,\n",
       "        -0.0973,  0.5773, -0.1056,  0.5318,  0.9332,  0.9701,  0.9664, -1.0048,\n",
       "        -1.0864, -0.9014, -0.1924,  0.9897,  0.9653,  0.0812, -0.9410,  0.8867,\n",
       "         0.1430, -0.4952,  0.2961,  0.7966,  0.9946, -0.4766,  0.7373,  0.1953,\n",
       "        -0.8814, -0.2553, -0.5317, -0.9807,  0.2191, -0.9918, -0.7839,  0.0662,\n",
       "        -0.9496,  0.3453,  0.8808,  0.5623, -0.9249,  0.6124,  0.7579,  0.8979,\n",
       "         0.9042, -0.6132, -0.6611,  0.7121, -0.8968, -0.7373, -0.2366, -0.9936,\n",
       "         0.6399,  0.6524,  0.8313,  0.7776,  0.2554,  0.5514, -0.8226, -0.7618,\n",
       "         0.1513,  0.9832,  0.1933, -0.8976, -0.7365,  0.6409,  1.0118, -0.9527,\n",
       "        -0.8978, -0.3421, -0.2400,  0.1178,  0.4726, -0.9422, -0.6739, -0.2699,\n",
       "        -0.5568, -0.4870,  0.2709,  0.9785, -0.9217, -0.0987, -0.3997,  0.9365,\n",
       "         0.9102, -0.0259,  1.1101, -1.0607,  0.1481,  0.9146,  1.1367,  0.1724,\n",
       "        -0.0055,  0.4088,  0.9187,  0.7156, -1.0885,  0.8397, -1.1372,  0.7023,\n",
       "         1.0276,  0.3555, -0.1725, -0.2740,  0.9837,  0.0510, -0.8096, -0.7971,\n",
       "         0.8694, -0.7143, -0.6498, -0.1898, -0.6487,  0.5857, -1.0417, -0.2808,\n",
       "        -0.0812, -0.9948,  0.8538, -0.1438, -0.3461,  0.0994,  0.5516, -0.1870,\n",
       "        -0.3777, -1.0706,  1.0519,  0.2950,  0.9627,  0.7553,  0.9194, -0.7544,\n",
       "         0.6754,  0.7955, -0.8175, -0.9983, -0.3865,  0.1792,  0.2462, -0.1343,\n",
       "         0.0181, -0.4926, -0.9637, -0.0295, -0.2491, -1.1391,  0.4143, -0.2997,\n",
       "        -0.9089,  0.7483,  0.9657,  0.6231, -0.5104, -0.9278,  0.8100,  0.8664,\n",
       "        -0.4830, -0.9655,  0.8526,  0.0757,  0.9597,  0.0306,  0.6302, -1.0935,\n",
       "         0.4294,  1.2790,  0.4871,  0.8038,  0.4642,  0.8194, -0.7022,  0.4875,\n",
       "         0.4228,  1.0153, -0.6497, -0.7064,  0.0030, -0.4838,  0.8362,  0.3113],\n",
       "       grad_fn=<SliceBackward0>)"
      ]
     },
     "execution_count": 113,
     "metadata": {},
     "output_type": "execute_result"
    }
   ],
   "source": [
    "sparse_embeddings_[0, 2, :]"
   ]
  },
  {
   "cell_type": "code",
   "execution_count": 114,
   "id": "be1bfd77-8a30-4405-b747-50984b6c42a5",
   "metadata": {},
   "outputs": [
    {
     "name": "stdout",
     "output_type": "stream",
     "text": [
      "sparse_embeddings: torch.Size([4, 4, 256])\n",
      "dense_embeddings: torch.Size([4, 256, 64, 64])\n"
     ]
    }
   ],
   "source": [
    "print(f\"sparse_embeddings: {sparse_embeddings_.shape}\")\n",
    "print(f\"dense_embeddings: {dense_embeddings_.shape}\")"
   ]
  },
  {
   "cell_type": "markdown",
   "id": "5ff157ef-6af8-43a9-9cb6-9ad256d5d406",
   "metadata": {},
   "source": [
    "On veut sparse : 2, 4, 256"
   ]
  },
  {
   "cell_type": "code",
   "execution_count": 45,
   "id": "96ca912d-0bde-4f4f-9724-4c509f4f373e",
   "metadata": {},
   "outputs": [],
   "source": [
    "image_embeddings = bisam2.image_embeddings"
   ]
  },
  {
   "cell_type": "code",
   "execution_count": 46,
   "id": "30018786-b545-4dc7-960b-7c9d590466d2",
   "metadata": {},
   "outputs": [
    {
     "data": {
      "text/plain": [
       "torch.Size([2, 256, 64, 64])"
      ]
     },
     "execution_count": 46,
     "metadata": {},
     "output_type": "execute_result"
    }
   ],
   "source": [
    "image_embeddings.shape"
   ]
  },
  {
   "cell_type": "code",
   "execution_count": 206,
   "id": "5a3d0c03-e292-405d-9057-22beffccc4df",
   "metadata": {},
   "outputs": [],
   "source": [
    "low_res_masks, iou_predictions =  bisam2.mask_decoder(\n",
    "    image_embeddings=image_embeddings,  # (B, 256, 64, 64)\n",
    "    image_pe=bisam2.prompt_encoder.get_dense_pe(),  # (1, 256, 64, 64)\n",
    "    sparse_prompt_embeddings=sparse_embeddings,  # (B, N, 2, 256)\n",
    "    dense_prompt_embeddings=dense_embeddings,  # (B, N, 256, 64, 64)\n",
    "    multimask_output=False,\n",
    ")"
   ]
  },
  {
   "cell_type": "code",
   "execution_count": 48,
   "id": "200429ae-a074-4d35-91b1-2d80465faf6a",
   "metadata": {},
   "outputs": [
    {
     "ename": "RuntimeError",
     "evalue": "Tensors must have same number of dimensions: got 3 and 2",
     "output_type": "error",
     "traceback": [
      "\u001b[0;31m---------------------------------------------------------------------------\u001b[0m",
      "\u001b[0;31mRuntimeError\u001b[0m                              Traceback (most recent call last)",
      "Cell \u001b[0;32mIn[48], line 1\u001b[0m\n\u001b[0;32m----> 1\u001b[0m low_res_masks, iou_predictions \u001b[38;5;241m=\u001b[39m  \u001b[43mbisam2\u001b[49m\u001b[38;5;241;43m.\u001b[39;49m\u001b[43mmask_decoder\u001b[49m\u001b[43m(\u001b[49m\n\u001b[1;32m      2\u001b[0m \u001b[43m    \u001b[49m\u001b[43mimage_embeddings\u001b[49m\u001b[38;5;241;43m=\u001b[39;49m\u001b[43mimage_embeddings\u001b[49m\u001b[43m[\u001b[49m\u001b[38;5;241;43m0\u001b[39;49m\u001b[43m]\u001b[49m\u001b[38;5;241;43m.\u001b[39;49m\u001b[43munsqueeze\u001b[49m\u001b[43m(\u001b[49m\u001b[38;5;241;43m0\u001b[39;49m\u001b[43m)\u001b[49m\u001b[43m,\u001b[49m\u001b[43m  \u001b[49m\u001b[38;5;66;43;03m# (B, 256, 64, 64)\u001b[39;49;00m\n\u001b[1;32m      3\u001b[0m \u001b[43m    \u001b[49m\u001b[43mimage_pe\u001b[49m\u001b[38;5;241;43m=\u001b[39;49m\u001b[43mbisam2\u001b[49m\u001b[38;5;241;43m.\u001b[39;49m\u001b[43mprompt_encoder\u001b[49m\u001b[38;5;241;43m.\u001b[39;49m\u001b[43mget_dense_pe\u001b[49m\u001b[43m(\u001b[49m\u001b[43m)\u001b[49m\u001b[43m,\u001b[49m\u001b[43m  \u001b[49m\u001b[38;5;66;43;03m# (1, 256, 64, 64)\u001b[39;49;00m\n\u001b[1;32m      4\u001b[0m \u001b[43m    \u001b[49m\u001b[43msparse_prompt_embeddings\u001b[49m\u001b[38;5;241;43m=\u001b[39;49m\u001b[43msparse_embeddings\u001b[49m\u001b[43m[\u001b[49m\u001b[38;5;241;43m0\u001b[39;49m\u001b[43m]\u001b[49m\u001b[43m,\u001b[49m\u001b[43m  \u001b[49m\u001b[38;5;66;43;03m# (B, N, 2, 256)\u001b[39;49;00m\n\u001b[1;32m      5\u001b[0m \u001b[43m    \u001b[49m\u001b[43mdense_prompt_embeddings\u001b[49m\u001b[38;5;241;43m=\u001b[39;49m\u001b[43mdense_embeddings\u001b[49m\u001b[43m[\u001b[49m\u001b[38;5;241;43m0\u001b[39;49m\u001b[43m]\u001b[49m\u001b[43m,\u001b[49m\u001b[43m  \u001b[49m\u001b[38;5;66;43;03m# (B, N, 256, 64, 64)\u001b[39;49;00m\n\u001b[1;32m      6\u001b[0m \u001b[43m    \u001b[49m\u001b[43mmultimask_output\u001b[49m\u001b[38;5;241;43m=\u001b[39;49m\u001b[38;5;28;43;01mFalse\u001b[39;49;00m\u001b[43m,\u001b[49m\n\u001b[1;32m      7\u001b[0m \u001b[43m)\u001b[49m\n",
      "File \u001b[0;32m~/miniforge3/envs/mp/lib/python3.10/site-packages/torch/nn/modules/module.py:1501\u001b[0m, in \u001b[0;36mModule._call_impl\u001b[0;34m(self, *args, **kwargs)\u001b[0m\n\u001b[1;32m   1496\u001b[0m \u001b[38;5;66;03m# If we don't have any hooks, we want to skip the rest of the logic in\u001b[39;00m\n\u001b[1;32m   1497\u001b[0m \u001b[38;5;66;03m# this function, and just call forward.\u001b[39;00m\n\u001b[1;32m   1498\u001b[0m \u001b[38;5;28;01mif\u001b[39;00m \u001b[38;5;129;01mnot\u001b[39;00m (\u001b[38;5;28mself\u001b[39m\u001b[38;5;241m.\u001b[39m_backward_hooks \u001b[38;5;129;01mor\u001b[39;00m \u001b[38;5;28mself\u001b[39m\u001b[38;5;241m.\u001b[39m_backward_pre_hooks \u001b[38;5;129;01mor\u001b[39;00m \u001b[38;5;28mself\u001b[39m\u001b[38;5;241m.\u001b[39m_forward_hooks \u001b[38;5;129;01mor\u001b[39;00m \u001b[38;5;28mself\u001b[39m\u001b[38;5;241m.\u001b[39m_forward_pre_hooks\n\u001b[1;32m   1499\u001b[0m         \u001b[38;5;129;01mor\u001b[39;00m _global_backward_pre_hooks \u001b[38;5;129;01mor\u001b[39;00m _global_backward_hooks\n\u001b[1;32m   1500\u001b[0m         \u001b[38;5;129;01mor\u001b[39;00m _global_forward_hooks \u001b[38;5;129;01mor\u001b[39;00m _global_forward_pre_hooks):\n\u001b[0;32m-> 1501\u001b[0m     \u001b[38;5;28;01mreturn\u001b[39;00m \u001b[43mforward_call\u001b[49m\u001b[43m(\u001b[49m\u001b[38;5;241;43m*\u001b[39;49m\u001b[43margs\u001b[49m\u001b[43m,\u001b[49m\u001b[43m \u001b[49m\u001b[38;5;241;43m*\u001b[39;49m\u001b[38;5;241;43m*\u001b[39;49m\u001b[43mkwargs\u001b[49m\u001b[43m)\u001b[49m\n\u001b[1;32m   1502\u001b[0m \u001b[38;5;66;03m# Do not call functions when jit is used\u001b[39;00m\n\u001b[1;32m   1503\u001b[0m full_backward_hooks, non_full_backward_hooks \u001b[38;5;241m=\u001b[39m [], []\n",
      "File \u001b[0;32m~/projects/stage_stylo_magique_2024/src/models/segment_anything/modeling/mask_decoder.py:94\u001b[0m, in \u001b[0;36mMaskDecoder.forward\u001b[0;34m(self, image_embeddings, image_pe, sparse_prompt_embeddings, dense_prompt_embeddings, multimask_output)\u001b[0m\n\u001b[1;32m     71\u001b[0m \u001b[38;5;28;01mdef\u001b[39;00m \u001b[38;5;21mforward\u001b[39m(\n\u001b[1;32m     72\u001b[0m     \u001b[38;5;28mself\u001b[39m,\n\u001b[1;32m     73\u001b[0m     image_embeddings: torch\u001b[38;5;241m.\u001b[39mTensor,\n\u001b[0;32m   (...)\u001b[0m\n\u001b[1;32m     77\u001b[0m     multimask_output: \u001b[38;5;28mbool\u001b[39m,\n\u001b[1;32m     78\u001b[0m ) \u001b[38;5;241m-\u001b[39m\u001b[38;5;241m>\u001b[39m Tuple[torch\u001b[38;5;241m.\u001b[39mTensor, torch\u001b[38;5;241m.\u001b[39mTensor]:\n\u001b[1;32m     79\u001b[0m \u001b[38;5;250m    \u001b[39m\u001b[38;5;124;03m\"\"\"\u001b[39;00m\n\u001b[1;32m     80\u001b[0m \u001b[38;5;124;03m    Predict masks given image and prompt embeddings.\u001b[39;00m\n\u001b[1;32m     81\u001b[0m \n\u001b[0;32m   (...)\u001b[0m\n\u001b[1;32m     92\u001b[0m \u001b[38;5;124;03m      torch.Tensor: batched predictions of mask quality\u001b[39;00m\n\u001b[1;32m     93\u001b[0m \u001b[38;5;124;03m    \"\"\"\u001b[39;00m\n\u001b[0;32m---> 94\u001b[0m     masks, iou_pred \u001b[38;5;241m=\u001b[39m \u001b[38;5;28;43mself\u001b[39;49m\u001b[38;5;241;43m.\u001b[39;49m\u001b[43mpredict_masks\u001b[49m\u001b[43m(\u001b[49m\n\u001b[1;32m     95\u001b[0m \u001b[43m        \u001b[49m\u001b[43mimage_embeddings\u001b[49m\u001b[38;5;241;43m=\u001b[39;49m\u001b[43mimage_embeddings\u001b[49m\u001b[43m,\u001b[49m\n\u001b[1;32m     96\u001b[0m \u001b[43m        \u001b[49m\u001b[43mimage_pe\u001b[49m\u001b[38;5;241;43m=\u001b[39;49m\u001b[43mimage_pe\u001b[49m\u001b[43m,\u001b[49m\n\u001b[1;32m     97\u001b[0m \u001b[43m        \u001b[49m\u001b[43msparse_prompt_embeddings\u001b[49m\u001b[38;5;241;43m=\u001b[39;49m\u001b[43msparse_prompt_embeddings\u001b[49m\u001b[43m,\u001b[49m\n\u001b[1;32m     98\u001b[0m \u001b[43m        \u001b[49m\u001b[43mdense_prompt_embeddings\u001b[49m\u001b[38;5;241;43m=\u001b[39;49m\u001b[43mdense_prompt_embeddings\u001b[49m\u001b[43m,\u001b[49m\n\u001b[1;32m     99\u001b[0m \u001b[43m    \u001b[49m\u001b[43m)\u001b[49m\n\u001b[1;32m    101\u001b[0m     \u001b[38;5;66;03m# Select the correct mask or masks for output\u001b[39;00m\n\u001b[1;32m    102\u001b[0m     \u001b[38;5;28;01mif\u001b[39;00m multimask_output:\n",
      "File \u001b[0;32m~/projects/stage_stylo_magique_2024/src/models/segment_anything/modeling/mask_decoder.py:123\u001b[0m, in \u001b[0;36mMaskDecoder.predict_masks\u001b[0;34m(self, image_embeddings, image_pe, sparse_prompt_embeddings, dense_prompt_embeddings)\u001b[0m\n\u001b[1;32m    121\u001b[0m output_tokens \u001b[38;5;241m=\u001b[39m torch\u001b[38;5;241m.\u001b[39mcat([\u001b[38;5;28mself\u001b[39m\u001b[38;5;241m.\u001b[39miou_token\u001b[38;5;241m.\u001b[39mweight, \u001b[38;5;28mself\u001b[39m\u001b[38;5;241m.\u001b[39mmask_tokens\u001b[38;5;241m.\u001b[39mweight], dim\u001b[38;5;241m=\u001b[39m\u001b[38;5;241m0\u001b[39m)\n\u001b[1;32m    122\u001b[0m output_tokens \u001b[38;5;241m=\u001b[39m output_tokens\u001b[38;5;241m.\u001b[39munsqueeze(\u001b[38;5;241m0\u001b[39m)\u001b[38;5;241m.\u001b[39mexpand(sparse_prompt_embeddings\u001b[38;5;241m.\u001b[39msize(\u001b[38;5;241m0\u001b[39m), \u001b[38;5;241m-\u001b[39m\u001b[38;5;241m1\u001b[39m, \u001b[38;5;241m-\u001b[39m\u001b[38;5;241m1\u001b[39m)\n\u001b[0;32m--> 123\u001b[0m tokens \u001b[38;5;241m=\u001b[39m \u001b[43mtorch\u001b[49m\u001b[38;5;241;43m.\u001b[39;49m\u001b[43mcat\u001b[49m\u001b[43m(\u001b[49m\u001b[43m(\u001b[49m\u001b[43moutput_tokens\u001b[49m\u001b[43m,\u001b[49m\u001b[43m \u001b[49m\u001b[43msparse_prompt_embeddings\u001b[49m\u001b[43m)\u001b[49m\u001b[43m,\u001b[49m\u001b[43m \u001b[49m\u001b[43mdim\u001b[49m\u001b[38;5;241;43m=\u001b[39;49m\u001b[38;5;241;43m1\u001b[39;49m\u001b[43m)\u001b[49m\n\u001b[1;32m    124\u001b[0m \u001b[38;5;66;03m# Expand per-image data in batch direction to be per-mask\u001b[39;00m\n\u001b[1;32m    125\u001b[0m \u001b[38;5;28;01mif\u001b[39;00m image_embeddings\u001b[38;5;241m.\u001b[39mshape[\u001b[38;5;241m0\u001b[39m] \u001b[38;5;241m!=\u001b[39m tokens\u001b[38;5;241m.\u001b[39mshape[\u001b[38;5;241m0\u001b[39m]:\n",
      "\u001b[0;31mRuntimeError\u001b[0m: Tensors must have same number of dimensions: got 3 and 2"
     ]
    }
   ],
   "source": [
    "low_res_masks, iou_predictions =  bisam2.mask_decoder(\n",
    "    image_embeddings=image_embeddings[0].unsqueeze(0),  # (B, 256, 64, 64)\n",
    "    image_pe=bisam2.prompt_encoder.get_dense_pe(),  # (1, 256, 64, 64)\n",
    "    sparse_prompt_embeddings=sparse_embeddings[0],  # (B, N, 2, 256)\n",
    "    dense_prompt_embeddings=dense_embeddings[0],  # (B, N, 256, 64, 64)\n",
    "    multimask_output=False,\n",
    ")"
   ]
  },
  {
   "cell_type": "code",
   "execution_count": 47,
   "id": "0bdd68ac-6492-4cb8-b920-b5ea306d2286",
   "metadata": {},
   "outputs": [
    {
     "ename": "RuntimeError",
     "evalue": "Tensors must have same number of dimensions: got 4 and 2",
     "output_type": "error",
     "traceback": [
      "\u001b[0;31m---------------------------------------------------------------------------\u001b[0m",
      "\u001b[0;31mRuntimeError\u001b[0m                              Traceback (most recent call last)",
      "Cell \u001b[0;32mIn[47], line 1\u001b[0m\n\u001b[0;32m----> 1\u001b[0m low_res_masks, iou_predictions \u001b[38;5;241m=\u001b[39m  \u001b[43mmodule\u001b[49m\u001b[38;5;241;43m.\u001b[39;49m\u001b[43mmodel\u001b[49m\u001b[38;5;241;43m.\u001b[39;49m\u001b[43mmask_decoder\u001b[49m\u001b[43m(\u001b[49m\n\u001b[1;32m      2\u001b[0m \u001b[43m    \u001b[49m\u001b[43mimage_embeddings\u001b[49m\u001b[38;5;241;43m=\u001b[39;49m\u001b[43mimage_embeddings\u001b[49m\u001b[43m[\u001b[49m\u001b[38;5;241;43m0\u001b[39;49m\u001b[43m]\u001b[49m\u001b[38;5;241;43m.\u001b[39;49m\u001b[43munsqueeze\u001b[49m\u001b[43m(\u001b[49m\u001b[38;5;241;43m0\u001b[39;49m\u001b[43m)\u001b[49m\u001b[43m,\u001b[49m\u001b[43m  \u001b[49m\u001b[38;5;66;43;03m# (B, 256, 64, 64)\u001b[39;49;00m\n\u001b[1;32m      3\u001b[0m \u001b[43m    \u001b[49m\u001b[43mimage_pe\u001b[49m\u001b[38;5;241;43m=\u001b[39;49m\u001b[43mbisam2\u001b[49m\u001b[38;5;241;43m.\u001b[39;49m\u001b[43mprompt_encoder\u001b[49m\u001b[38;5;241;43m.\u001b[39;49m\u001b[43mget_dense_pe\u001b[49m\u001b[43m(\u001b[49m\u001b[43m)\u001b[49m\u001b[43m,\u001b[49m\u001b[43m  \u001b[49m\u001b[38;5;66;43;03m# (1, 256, 64, 64)\u001b[39;49;00m\n\u001b[1;32m      4\u001b[0m \u001b[43m    \u001b[49m\u001b[43msparse_prompt_embeddings\u001b[49m\u001b[38;5;241;43m=\u001b[39;49m\u001b[43msparse_embeddings\u001b[49m\u001b[43m[\u001b[49m\u001b[38;5;241;43m0\u001b[39;49m\u001b[43m]\u001b[49m\u001b[43m,\u001b[49m\u001b[43m  \u001b[49m\u001b[38;5;66;43;03m# (B, N, 2, 256)\u001b[39;49;00m\n\u001b[1;32m      5\u001b[0m \u001b[43m    \u001b[49m\u001b[43mdense_prompt_embeddings\u001b[49m\u001b[38;5;241;43m=\u001b[39;49m\u001b[43mdense_embeddings\u001b[49m\u001b[43m[\u001b[49m\u001b[38;5;241;43m0\u001b[39;49m\u001b[43m]\u001b[49m\u001b[43m,\u001b[49m\u001b[43m  \u001b[49m\u001b[38;5;66;43;03m# (B, N, 256, 64, 64)\u001b[39;49;00m\n\u001b[1;32m      6\u001b[0m \u001b[43m    \u001b[49m\u001b[43mmultimask_output\u001b[49m\u001b[38;5;241;43m=\u001b[39;49m\u001b[38;5;28;43;01mFalse\u001b[39;49;00m\u001b[43m,\u001b[49m\n\u001b[1;32m      7\u001b[0m \u001b[43m)\u001b[49m\n",
      "File \u001b[0;32m~/miniforge3/envs/mp/lib/python3.10/site-packages/torch/nn/modules/module.py:1501\u001b[0m, in \u001b[0;36mModule._call_impl\u001b[0;34m(self, *args, **kwargs)\u001b[0m\n\u001b[1;32m   1496\u001b[0m \u001b[38;5;66;03m# If we don't have any hooks, we want to skip the rest of the logic in\u001b[39;00m\n\u001b[1;32m   1497\u001b[0m \u001b[38;5;66;03m# this function, and just call forward.\u001b[39;00m\n\u001b[1;32m   1498\u001b[0m \u001b[38;5;28;01mif\u001b[39;00m \u001b[38;5;129;01mnot\u001b[39;00m (\u001b[38;5;28mself\u001b[39m\u001b[38;5;241m.\u001b[39m_backward_hooks \u001b[38;5;129;01mor\u001b[39;00m \u001b[38;5;28mself\u001b[39m\u001b[38;5;241m.\u001b[39m_backward_pre_hooks \u001b[38;5;129;01mor\u001b[39;00m \u001b[38;5;28mself\u001b[39m\u001b[38;5;241m.\u001b[39m_forward_hooks \u001b[38;5;129;01mor\u001b[39;00m \u001b[38;5;28mself\u001b[39m\u001b[38;5;241m.\u001b[39m_forward_pre_hooks\n\u001b[1;32m   1499\u001b[0m         \u001b[38;5;129;01mor\u001b[39;00m _global_backward_pre_hooks \u001b[38;5;129;01mor\u001b[39;00m _global_backward_hooks\n\u001b[1;32m   1500\u001b[0m         \u001b[38;5;129;01mor\u001b[39;00m _global_forward_hooks \u001b[38;5;129;01mor\u001b[39;00m _global_forward_pre_hooks):\n\u001b[0;32m-> 1501\u001b[0m     \u001b[38;5;28;01mreturn\u001b[39;00m \u001b[43mforward_call\u001b[49m\u001b[43m(\u001b[49m\u001b[38;5;241;43m*\u001b[39;49m\u001b[43margs\u001b[49m\u001b[43m,\u001b[49m\u001b[43m \u001b[49m\u001b[38;5;241;43m*\u001b[39;49m\u001b[38;5;241;43m*\u001b[39;49m\u001b[43mkwargs\u001b[49m\u001b[43m)\u001b[49m\n\u001b[1;32m   1502\u001b[0m \u001b[38;5;66;03m# Do not call functions when jit is used\u001b[39;00m\n\u001b[1;32m   1503\u001b[0m full_backward_hooks, non_full_backward_hooks \u001b[38;5;241m=\u001b[39m [], []\n",
      "File \u001b[0;32m~/projects/stage_stylo_magique_2024/src/models/segment_anything/modeling/mask_decoder_dev.py:106\u001b[0m, in \u001b[0;36mMaskDecoder.forward\u001b[0;34m(self, image_embeddings, image_pe, sparse_prompt_embeddings, dense_prompt_embeddings, multimask_output)\u001b[0m\n\u001b[1;32m     82\u001b[0m \u001b[38;5;28;01mdef\u001b[39;00m \u001b[38;5;21mforward\u001b[39m(\n\u001b[1;32m     83\u001b[0m     \u001b[38;5;28mself\u001b[39m,\n\u001b[1;32m     84\u001b[0m     image_embeddings: torch\u001b[38;5;241m.\u001b[39mTensor,\n\u001b[0;32m   (...)\u001b[0m\n\u001b[1;32m     88\u001b[0m     multimask_output: \u001b[38;5;28mbool\u001b[39m,\n\u001b[1;32m     89\u001b[0m ) \u001b[38;5;241m-\u001b[39m\u001b[38;5;241m>\u001b[39m Tuple[torch\u001b[38;5;241m.\u001b[39mTensor, torch\u001b[38;5;241m.\u001b[39mTensor]:\n\u001b[1;32m     90\u001b[0m \u001b[38;5;250m    \u001b[39m\u001b[38;5;124;03m\"\"\"\u001b[39;00m\n\u001b[1;32m     91\u001b[0m \u001b[38;5;124;03m    Predict masks given image and prompt embeddings.\u001b[39;00m\n\u001b[1;32m     92\u001b[0m \n\u001b[0;32m   (...)\u001b[0m\n\u001b[1;32m    104\u001b[0m \u001b[38;5;124;03m      torch.Tensor: batched predictions of mask quality\u001b[39;00m\n\u001b[1;32m    105\u001b[0m \u001b[38;5;124;03m    \"\"\"\u001b[39;00m\n\u001b[0;32m--> 106\u001b[0m     masks, iou_pred \u001b[38;5;241m=\u001b[39m \u001b[38;5;28;43mself\u001b[39;49m\u001b[38;5;241;43m.\u001b[39;49m\u001b[43mpredict_masks_batch\u001b[49m\u001b[43m(\u001b[49m\n\u001b[1;32m    107\u001b[0m \u001b[43m        \u001b[49m\u001b[43mimage_embeddings\u001b[49m\u001b[38;5;241;43m=\u001b[39;49m\u001b[43mimage_embeddings\u001b[49m\u001b[43m,\u001b[49m\n\u001b[1;32m    108\u001b[0m \u001b[43m        \u001b[49m\u001b[43mimage_pe\u001b[49m\u001b[38;5;241;43m=\u001b[39;49m\u001b[43mimage_pe\u001b[49m\u001b[43m,\u001b[49m\n\u001b[1;32m    109\u001b[0m \u001b[43m        \u001b[49m\u001b[43msparse_prompt_embeddings\u001b[49m\u001b[38;5;241;43m=\u001b[39;49m\u001b[43msparse_prompt_embeddings\u001b[49m\u001b[43m,\u001b[49m\n\u001b[1;32m    110\u001b[0m \u001b[43m        \u001b[49m\u001b[43mdense_prompt_embeddings\u001b[49m\u001b[38;5;241;43m=\u001b[39;49m\u001b[43mdense_prompt_embeddings\u001b[49m\u001b[43m,\u001b[49m\n\u001b[1;32m    111\u001b[0m \u001b[43m    \u001b[49m\u001b[43m)\u001b[49m\n\u001b[1;32m    113\u001b[0m     \u001b[38;5;66;03m# Select the correct mask or masks for output\u001b[39;00m\n\u001b[1;32m    114\u001b[0m     \u001b[38;5;28;01mif\u001b[39;00m multimask_output:\n",
      "File \u001b[0;32m~/projects/stage_stylo_magique_2024/src/models/segment_anything/modeling/mask_decoder_dev.py:152\u001b[0m, in \u001b[0;36mMaskDecoder.predict_masks_batch\u001b[0;34m(self, image_embeddings, image_pe, sparse_prompt_embeddings, dense_prompt_embeddings)\u001b[0m\n\u001b[1;32m    145\u001b[0m output_tokens \u001b[38;5;241m=\u001b[39m output_tokens\u001b[38;5;241m.\u001b[39munsqueeze(\u001b[38;5;241m0\u001b[39m)\u001b[38;5;241m.\u001b[39mexpand(\n\u001b[1;32m    146\u001b[0m     sparse_prompt_embeddings\u001b[38;5;241m.\u001b[39msize(\u001b[38;5;241m0\u001b[39m), \u001b[38;5;241m-\u001b[39m\u001b[38;5;241m1\u001b[39m, \u001b[38;5;241m-\u001b[39m\u001b[38;5;241m1\u001b[39m, \u001b[38;5;241m-\u001b[39m\u001b[38;5;241m1\u001b[39m\n\u001b[1;32m    147\u001b[0m )\n\u001b[1;32m    149\u001b[0m \u001b[38;5;66;03m# print(f\"inter tokens shape : {output_tokens.shape}\")\u001b[39;00m\n\u001b[1;32m    150\u001b[0m \u001b[38;5;66;03m# concat new token to sparse = need to be at each start of image embedding\u001b[39;00m\n\u001b[1;32m    151\u001b[0m \u001b[38;5;66;03m# [B, N, C, 256]) - C = (num_mask+1)+1+2=7\u001b[39;00m\n\u001b[0;32m--> 152\u001b[0m tokens \u001b[38;5;241m=\u001b[39m \u001b[43mtorch\u001b[49m\u001b[38;5;241;43m.\u001b[39;49m\u001b[43mcat\u001b[49m\u001b[43m(\u001b[49m\u001b[43m(\u001b[49m\u001b[43moutput_tokens\u001b[49m\u001b[43m,\u001b[49m\u001b[43m \u001b[49m\u001b[43msparse_prompt_embeddings\u001b[49m\u001b[43m)\u001b[49m\u001b[43m,\u001b[49m\u001b[43m \u001b[49m\u001b[43mdim\u001b[49m\u001b[38;5;241;43m=\u001b[39;49m\u001b[38;5;241;43m2\u001b[39;49m\u001b[43m)\u001b[49m\n\u001b[1;32m    153\u001b[0m \u001b[38;5;66;03m# print(f\"tokens shape : {tokens.shape}\")\u001b[39;00m\n\u001b[1;32m    154\u001b[0m \n\u001b[1;32m    155\u001b[0m \u001b[38;5;66;03m# extent image embedding in points dimensions\u001b[39;00m\n\u001b[1;32m    156\u001b[0m src \u001b[38;5;241m=\u001b[39m torch\u001b[38;5;241m.\u001b[39mrepeat_interleave(image_embeddings[:, \u001b[38;5;28;01mNone\u001b[39;00m, \u001b[38;5;241m.\u001b[39m\u001b[38;5;241m.\u001b[39m\u001b[38;5;241m.\u001b[39m], tokens\u001b[38;5;241m.\u001b[39mshape[\u001b[38;5;241m1\u001b[39m], dim\u001b[38;5;241m=\u001b[39m\u001b[38;5;241m1\u001b[39m)\n",
      "\u001b[0;31mRuntimeError\u001b[0m: Tensors must have same number of dimensions: got 4 and 2"
     ]
    }
   ],
   "source": [
    "low_res_masks, iou_predictions =  module.model.mask_decoder(\n",
    "    image_embeddings=image_embeddings[0].unsqueeze(0),  # (B, 256, 64, 64)\n",
    "    image_pe=bisam2.prompt_encoder.get_dense_pe(),  # (1, 256, 64, 64)\n",
    "    sparse_prompt_embeddings=sparse_embeddings[0],  # (B, N, 2, 256)\n",
    "    dense_prompt_embeddings=dense_embeddings[0],  # (B, N, 256, 64, 64)\n",
    "    multimask_output=False,\n",
    ")"
   ]
  },
  {
   "cell_type": "code",
   "execution_count": 216,
   "id": "d755d592-b4e2-429b-8070-d0dbd58a95e9",
   "metadata": {},
   "outputs": [
    {
     "data": {
      "text/plain": [
       "torch.Size([3, 1, 256, 256])"
      ]
     },
     "execution_count": 216,
     "metadata": {},
     "output_type": "execute_result"
    }
   ],
   "source": [
    "low_res_masks.shape"
   ]
  },
  {
   "cell_type": "code",
   "execution_count": 168,
   "id": "b7e24894-62f4-4eb9-af60-df40df1f50d7",
   "metadata": {},
   "outputs": [],
   "source": [
    "# masks =  module.model.upscale_masks(low_res_masks.unsqueeze(0), IMG_SIZE)\n",
    "# # masks, iou_predictions =  module.model.select_masks(\n",
    "# #     masks, iou_predictions, multimask_output=False\n",
    "# # )"
   ]
  },
  {
   "cell_type": "code",
   "execution_count": 207,
   "id": "e6b2c329-7a3f-46e6-a4c6-adc617df199f",
   "metadata": {},
   "outputs": [],
   "source": [
    "masks = masks > 0"
   ]
  },
  {
   "cell_type": "code",
   "execution_count": 174,
   "id": "f5cca85e-9483-4f41-90f1-2cb29a32e9f6",
   "metadata": {},
   "outputs": [
    {
     "data": {
      "text/plain": [
       "torch.Size([1, 2, 1, 1024, 1024])"
      ]
     },
     "execution_count": 174,
     "metadata": {},
     "output_type": "execute_result"
    }
   ],
   "source": [
    "masks.shape"
   ]
  },
  {
   "cell_type": "code",
   "execution_count": 223,
   "id": "da38763b-a2e3-468f-a2b4-490d4fb2d282",
   "metadata": {},
   "outputs": [
    {
     "data": {
      "text/plain": [
       "torch.Size([2, 1, 1, 256, 256])"
      ]
     },
     "execution_count": 223,
     "metadata": {},
     "output_type": "execute_result"
    }
   ],
   "source": [
    "preds2.shape"
   ]
  },
  {
   "cell_type": "code",
   "execution_count": 27,
   "id": "f6db336f-021b-4888-bb3d-98af1fb4eabb",
   "metadata": {},
   "outputs": [
    {
     "data": {
      "text/plain": [
       "['/home/MDizier/data/dl/levir-cd/train/label/train_1.png',\n",
       " '/home/MDizier/data/dl/levir-cd/train/label/train_2.png']"
      ]
     },
     "execution_count": 27,
     "metadata": {},
     "output_type": "execute_result"
    }
   ],
   "source": [
    "batch[\"label_path\"]"
   ]
  },
  {
   "cell_type": "code",
   "execution_count": null,
   "id": "e9e5caba-c62f-4892-8255-52b0679866e4",
   "metadata": {},
   "outputs": [],
   "source": []
  },
  {
   "cell_type": "code",
   "execution_count": 224,
   "id": "3043ef83-c86c-4865-a07d-8942097609b4",
   "metadata": {},
   "outputs": [
    {
     "data": {
      "image/png": "[encoded data removed]",
      "text/plain": [
       "<Figure size 640x480 with 1 Axes>"
      ]
     },
     "metadata": {},
     "output_type": "display_data"
    }
   ],
   "source": [
    "show_img(to_numpy(preds2[0].squeeze(), transpose=False))"
   ]
  },
  {
   "cell_type": "code",
   "execution_count": 208,
   "id": "530ac77d-4a16-4797-9011-fba0d5706da4",
   "metadata": {},
   "outputs": [
    {
     "data": {
      "image/png": "[encoded data removed]",
      "text/plain": [
       "<Figure size 640x480 with 2 Axes>"
      ]
     },
     "metadata": {},
     "output_type": "display_data"
    }
   ],
   "source": [
    "show_img(to_numpy(batch[\"label\"][0], transpose=False))"
   ]
  },
  {
   "cell_type": "code",
   "execution_count": 218,
   "id": "6982ece2-9ad4-44e8-8064-7fd8a9bdc5a2",
   "metadata": {},
   "outputs": [
    {
     "data": {
      "image/png": "[encoded data removed]",
      "text/plain": [
       "<Figure size 640x480 with 1 Axes>"
      ]
     },
     "metadata": {},
     "output_type": "display_data"
    }
   ],
   "source": [
    "show_img(to_numpy(masks.squeeze()[0], transpose=False))"
   ]
  },
  {
   "cell_type": "code",
   "execution_count": 20,
   "id": "abec83a0-a4bd-42aa-8010-428400696399",
   "metadata": {},
   "outputs": [
    {
     "name": "stdout",
     "output_type": "stream",
     "text": [
      "torch.Size([2, 1, 1, 256, 256])\n"
     ]
    }
   ],
   "source": [
    "print(preds_diff2.shape)"
   ]
  },
  {
   "cell_type": "code",
   "execution_count": 25,
   "id": "9ddcc545-9e20-44b7-b3bf-330ee5869cb0",
   "metadata": {},
   "outputs": [
    {
     "data": {
      "text/plain": [
       "torch.bool"
      ]
     },
     "execution_count": 25,
     "metadata": {},
     "output_type": "execute_result"
    }
   ],
   "source": [
    "preds_diff2.dtype"
   ]
  },
  {
   "cell_type": "code",
   "execution_count": 24,
   "id": "570c88b7-0325-4ec3-8d36-3f9844af4172",
   "metadata": {},
   "outputs": [
    {
     "data": {
      "image/png": "[encoded data removed]",
      "text/plain": [
       "<Figure size 640x480 with 1 Axes>"
      ]
     },
     "metadata": {},
     "output_type": "display_data"
    }
   ],
   "source": [
    "show_img(to_numpy(preds_diff2.squeeze()[0], transpose=False))"
   ]
  },
  {
   "cell_type": "code",
   "execution_count": 42,
   "id": "ab74f403-9c85-43b6-8923-5b1d1d5fcaba",
   "metadata": {},
   "outputs": [
    {
     "name": "stdout",
     "output_type": "stream",
     "text": [
      "['/home/MDizier/data/dl/levir-cd/train/label/train_1.png', '/home/MDizier/data/dl/levir-cd/train/label/train_2.png']\n"
     ]
    }
   ],
   "source": [
    "print(batch[\"label_path\"])"
   ]
  },
  {
   "cell_type": "code",
   "execution_count": null,
   "id": "c0c8cc25-6d19-4b9f-8f5c-fcfae98b528c",
   "metadata": {},
   "outputs": [],
   "source": []
  },
  {
   "cell_type": "code",
   "execution_count": 43,
   "id": "24183059-be85-4600-bb67-43e3397ea5b7",
   "metadata": {},
   "outputs": [
    {
     "data": {
      "image/png": "[encoded data removed]",
      "text/plain": [
       "<Figure size 640x480 with 2 Axes>"
      ]
     },
     "metadata": {},
     "output_type": "display_data"
    }
   ],
   "source": [
    "show_img(to_numpy(batch[\"label\"][0], transpose=False))"
   ]
  },
  {
   "cell_type": "code",
   "execution_count": 28,
   "id": "2e17e31a-e45d-45ed-a248-f63d2db2d72c",
   "metadata": {},
   "outputs": [
    {
     "data": {
      "image/png": "[encoded data removed]",
      "text/plain": [
       "<Figure size 640x480 with 1 Axes>"
      ]
     },
     "metadata": {},
     "output_type": "display_data"
    }
   ],
   "source": [
    "show_prompts_on_mask(masks[1].squeeze(0), batch, 0)"
   ]
  },
  {
   "cell_type": "code",
   "execution_count": 67,
   "id": "e3a92b1e-a746-473b-9421-258c65e76ee2",
   "metadata": {},
   "outputs": [
    {
     "name": "stdout",
     "output_type": "stream",
     "text": [
      "torch.Size([1, 1, 256, 256])\n",
      "torch.Size([1, 1, 256, 256])\n",
      "torch.Size([2, 1, 1, 256, 256])\n"
     ]
    }
   ],
   "source": [
    "out = bisam2(batch, multimask_output=False)\n",
    "preds2 = out[\"masks\"] > 0\n",
    "print(preds2.shape)"
   ]
  },
  {
   "cell_type": "code",
   "execution_count": 93,
   "id": "cefd4cb4-faf8-4d74-829d-b12427e32ac2",
   "metadata": {},
   "outputs": [
    {
     "name": "stdout",
     "output_type": "stream",
     "text": [
      "sparse_embeddings: torch.Size([2, 3, 2, 256])\n",
      "dense_embeddings: torch.Size([2, 3, 256, 64, 64])\n",
      "torch.Size([2, 3, 1, 256, 256])\n"
     ]
    }
   ],
   "source": [
    "out = bisam(batch, multimask_output=False, mode=SamModeInference.INTERACTIVE)\n",
    "preds = out[\"masks\"] > 0\n",
    "print(preds.shape)"
   ]
  },
  {
   "cell_type": "code",
   "execution_count": 73,
   "id": "8f8d9907-483b-485e-a280-49bb614ed5c4",
   "metadata": {},
   "outputs": [
    {
     "data": {
      "image/png": "[encoded data removed]",
      "text/plain": [
       "<Figure size 640x480 with 1 Axes>"
      ]
     },
     "metadata": {},
     "output_type": "display_data"
    }
   ],
   "source": [
    "show_img(to_numpy(torch.sum(preds2.squeeze(2), dim=1)[0], transpose=False))"
   ]
  },
  {
   "cell_type": "code",
   "execution_count": 94,
   "id": "249d6b72-3394-49a4-995e-10180843aaee",
   "metadata": {},
   "outputs": [
    {
     "data": {
      "image/png": "[encoded data removed]",
      "text/plain": [
       "<Figure size 640x480 with 2 Axes>"
      ]
     },
     "metadata": {},
     "output_type": "display_data"
    }
   ],
   "source": [
    "show_img(to_numpy(torch.sum(preds.squeeze(), dim=1)[0], transpose=False))"
   ]
  },
  {
   "cell_type": "markdown",
   "id": "348fcef9-0e7b-4e42-a891-52439edf9979",
   "metadata": {},
   "source": [
    "On a bine deux inférence différentes : \n",
    "* la premiere considère les points et extraits un seul mask.\n",
    "* la deuxieme considère un mask par point"
   ]
  },
  {
   "cell_type": "markdown",
   "id": "92c199c6-4ec6-4f08-a716-04bcbf1e7948",
   "metadata": {},
   "source": [
    "### Check predictor : ok"
   ]
  },
  {
   "cell_type": "code",
   "execution_count": 86,
   "id": "f710a1a7-048a-44cd-bac7-3c6c44c01d32",
   "metadata": {},
   "outputs": [],
   "source": [
    "image = to_numpy(batch[\"img_B\"][0]).astype(np.uint8)"
   ]
  },
  {
   "cell_type": "code",
   "execution_count": 87,
   "id": "e5462c93-c3a9-4d87-bdb2-8607ef96729d",
   "metadata": {},
   "outputs": [
    {
     "data": {
      "text/plain": [
       "dtype('uint8')"
      ]
     },
     "execution_count": 87,
     "metadata": {},
     "output_type": "execute_result"
    }
   ],
   "source": [
    "image.dtype"
   ]
  },
  {
   "cell_type": "code",
   "execution_count": 88,
   "id": "69455430-a514-40fc-a50b-552c535d4749",
   "metadata": {},
   "outputs": [],
   "source": [
    "predictor = SamPredictor(sam)\n",
    "predictor.set_image(image)"
   ]
  },
  {
   "cell_type": "code",
   "execution_count": 73,
   "id": "35d605a0-f4f6-4dad-beb9-fbfdab6036c1",
   "metadata": {},
   "outputs": [
    {
     "data": {
      "text/plain": [
       "torch.Size([3, 2])"
      ]
     },
     "execution_count": 73,
     "metadata": {},
     "output_type": "execute_result"
    }
   ],
   "source": [
    "batch[\"point_coords\"][idx].shape"
   ]
  },
  {
   "cell_type": "code",
   "execution_count": 89,
   "id": "7c46a247-43b2-448c-a19f-4595f95e4e49",
   "metadata": {},
   "outputs": [],
   "source": [
    "idx=0\n",
    "point_coords = batch[\"point_coords\"][idx]\n",
    "# remove padding points\n",
    "point_coords = point_coords[torch.sum(point_coords, dim=1) > 0]\n",
    "# remove padding points\n",
    "point_labels = batch[\"point_labels\"][idx]\n",
    "point_labels = point_labels[:point_coords.shape[0]]  \n",
    "\n",
    "input_point = to_numpy(point_coords, transpose=False)\n",
    "input_label = to_numpy(point_labels, transpose=False)"
   ]
  },
  {
   "cell_type": "code",
   "execution_count": 90,
   "id": "3a89e48f-1b8b-45ed-a1b8-7e492a27d1fa",
   "metadata": {},
   "outputs": [
    {
     "data": {
      "text/plain": [
       "((3,), (3, 2))"
      ]
     },
     "execution_count": 90,
     "metadata": {},
     "output_type": "execute_result"
    }
   ],
   "source": [
    "input_label.shape, input_point.shape"
   ]
  },
  {
   "cell_type": "code",
   "execution_count": 91,
   "id": "176be001-3dfc-48c8-909b-1ccfd987824e",
   "metadata": {},
   "outputs": [
    {
     "name": "stdout",
     "output_type": "stream",
     "text": [
      "sparse emb : torch.Size([1, 4, 256])\n",
      "dense emb : torch.Size([1, 256, 64, 64])\n",
      "low mask  predict torch : torch.Size([1, 1, 256, 256])\n",
      "low mask  predict torch : torch.Size([1, 1, 1024, 1024])\n"
     ]
    }
   ],
   "source": [
    "masks, scores, logits = predictor.predict(\n",
    "    point_coords=input_point,\n",
    "    point_labels=input_label,\n",
    "    multimask_output=False,\n",
    ")"
   ]
  },
  {
   "cell_type": "code",
   "execution_count": 92,
   "id": "5a4e86f8-35a2-41da-a95c-5109bb421846",
   "metadata": {},
   "outputs": [
    {
     "data": {
      "image/png": "[encoded data removed]",
      "text/plain": [
       "<Figure size 640x480 with 1 Axes>"
      ]
     },
     "metadata": {},
     "output_type": "display_data"
    }
   ],
   "source": [
    "show_img(masks.squeeze())"
   ]
  },
  {
   "cell_type": "code",
   "execution_count": 55,
   "id": "3a1a905c-fe28-48ae-860b-51cbc7f008c9",
   "metadata": {},
   "outputs": [
    {
     "ename": "TypeError",
     "evalue": "Invalid shape (3, 1024, 1024) for image data",
     "output_type": "error",
     "traceback": [
      "\u001b[0;31m---------------------------------------------------------------------------\u001b[0m",
      "\u001b[0;31mTypeError\u001b[0m                                 Traceback (most recent call last)",
      "Cell \u001b[0;32mIn[55], line 1\u001b[0m\n\u001b[0;32m----> 1\u001b[0m \u001b[43mshow_prompts_on_mask\u001b[49m\u001b[43m(\u001b[49m\u001b[43mpreds\u001b[49m\u001b[38;5;241;43m.\u001b[39;49m\u001b[43msqueeze\u001b[49m\u001b[43m(\u001b[49m\u001b[43m)\u001b[49m\u001b[43m,\u001b[49m\u001b[43m \u001b[49m\u001b[43mbatch\u001b[49m\u001b[43m,\u001b[49m\u001b[43m \u001b[49m\u001b[38;5;241;43m0\u001b[39;49m\u001b[43m)\u001b[49m\n",
      "Cell \u001b[0;32mIn[3], line 5\u001b[0m, in \u001b[0;36mshow_prompts_on_mask\u001b[0;34m(mask, batch, batch_idx)\u001b[0m\n\u001b[1;32m      3\u001b[0m     mask \u001b[38;5;241m=\u001b[39m resize(mask, IMG_SIZE)\n\u001b[1;32m      4\u001b[0m coord_points \u001b[38;5;241m=\u001b[39m batch[\u001b[38;5;124m\"\u001b[39m\u001b[38;5;124mpoint_coords\u001b[39m\u001b[38;5;124m\"\u001b[39m][batch_idx]\n\u001b[0;32m----> 5\u001b[0m mask_pt \u001b[38;5;241m=\u001b[39m \u001b[43mget_mask_with_prompt\u001b[49m\u001b[43m(\u001b[49m\u001b[43mbinarize_mask\u001b[49m\u001b[43m(\u001b[49m\u001b[43mmask\u001b[49m\u001b[43m[\u001b[49m\u001b[43mbatch_idx\u001b[49m\u001b[43m]\u001b[49m\u001b[43m,\u001b[49m\u001b[43m \u001b[49m\u001b[43mth\u001b[49m\u001b[38;5;241;43m=\u001b[39;49m\u001b[38;5;241;43m0\u001b[39;49m\u001b[43m)\u001b[49m\u001b[43m \u001b[49m\u001b[43m,\u001b[49m\u001b[43m \u001b[49m\u001b[43mcoord_points\u001b[49m\u001b[43m)\u001b[49m\n\u001b[1;32m      6\u001b[0m show_img(mask_pt)\n",
      "File \u001b[0;32m~/projects/stage_stylo_magique_2024/src/commons/utils.py:548\u001b[0m, in \u001b[0;36mget_mask_with_prompt\u001b[0;34m(img, coord_points)\u001b[0m\n\u001b[1;32m    545\u001b[0m \u001b[38;5;28;01mif\u001b[39;00m \u001b[38;5;28misinstance\u001b[39m(coord_points, torch\u001b[38;5;241m.\u001b[39mTensor):\n\u001b[1;32m    546\u001b[0m     coord_points \u001b[38;5;241m=\u001b[39m to_numpy(coord_points, transpose\u001b[38;5;241m=\u001b[39m\u001b[38;5;28;01mFalse\u001b[39;00m)\n\u001b[0;32m--> 548\u001b[0m \u001b[43mshow_img\u001b[49m\u001b[43m(\u001b[49m\u001b[43mimg\u001b[49m\u001b[43m \u001b[49m\u001b[38;5;241;43m>\u001b[39;49m\u001b[43m \u001b[49m\u001b[38;5;241;43m0\u001b[39;49m\u001b[43m)\u001b[49m\n\u001b[1;32m    549\u001b[0m ax \u001b[38;5;241m=\u001b[39m plt\u001b[38;5;241m.\u001b[39mgca()\n\u001b[1;32m    550\u001b[0m colors \u001b[38;5;241m=\u001b[39m [\n\u001b[1;32m    551\u001b[0m     np\u001b[38;5;241m.\u001b[39mrandom\u001b[38;5;241m.\u001b[39mchoice(\u001b[38;5;28mrange\u001b[39m(\u001b[38;5;241m256\u001b[39m), size\u001b[38;5;241m=\u001b[39m\u001b[38;5;241m3\u001b[39m) \u001b[38;5;241m/\u001b[39m \u001b[38;5;241m255\u001b[39m\n\u001b[1;32m    552\u001b[0m     \u001b[38;5;28;01mfor\u001b[39;00m _ \u001b[38;5;129;01min\u001b[39;00m \u001b[38;5;28mrange\u001b[39m(\u001b[38;5;28mlen\u001b[39m(coord_points))\n\u001b[1;32m    553\u001b[0m     ]\n",
      "File \u001b[0;32m~/projects/stage_stylo_magique_2024/src/commons/utils.py:112\u001b[0m, in \u001b[0;36mshow_img\u001b[0;34m(img, show_axis)\u001b[0m\n\u001b[1;32m    111\u001b[0m \u001b[38;5;28;01mdef\u001b[39;00m \u001b[38;5;21mshow_img\u001b[39m(img, show_axis\u001b[38;5;241m=\u001b[39m\u001b[38;5;28;01mFalse\u001b[39;00m):\n\u001b[0;32m--> 112\u001b[0m     \u001b[43mio\u001b[49m\u001b[38;5;241;43m.\u001b[39;49m\u001b[43mimshow\u001b[49m\u001b[43m(\u001b[49m\u001b[43mimg\u001b[49m\u001b[43m)\u001b[49m\n\u001b[1;32m    113\u001b[0m     \u001b[38;5;28;01mif\u001b[39;00m \u001b[38;5;129;01mnot\u001b[39;00m show_axis:\n\u001b[1;32m    114\u001b[0m         plt\u001b[38;5;241m.\u001b[39maxis(\u001b[38;5;124m\"\u001b[39m\u001b[38;5;124moff\u001b[39m\u001b[38;5;124m\"\u001b[39m)\n",
      "File \u001b[0;32m~/miniforge3/envs/mp/lib/python3.10/site-packages/skimage/io/_io.py:175\u001b[0m, in \u001b[0;36mimshow\u001b[0;34m(arr, plugin, **plugin_args)\u001b[0m\n\u001b[1;32m    173\u001b[0m \u001b[38;5;28;01mif\u001b[39;00m \u001b[38;5;28misinstance\u001b[39m(arr, \u001b[38;5;28mstr\u001b[39m):\n\u001b[1;32m    174\u001b[0m     arr \u001b[38;5;241m=\u001b[39m call_plugin(\u001b[38;5;124m'\u001b[39m\u001b[38;5;124mimread\u001b[39m\u001b[38;5;124m'\u001b[39m, arr, plugin\u001b[38;5;241m=\u001b[39mplugin)\n\u001b[0;32m--> 175\u001b[0m \u001b[38;5;28;01mreturn\u001b[39;00m \u001b[43mcall_plugin\u001b[49m\u001b[43m(\u001b[49m\u001b[38;5;124;43m'\u001b[39;49m\u001b[38;5;124;43mimshow\u001b[39;49m\u001b[38;5;124;43m'\u001b[39;49m\u001b[43m,\u001b[49m\u001b[43m \u001b[49m\u001b[43marr\u001b[49m\u001b[43m,\u001b[49m\u001b[43m \u001b[49m\u001b[43mplugin\u001b[49m\u001b[38;5;241;43m=\u001b[39;49m\u001b[43mplugin\u001b[49m\u001b[43m,\u001b[49m\u001b[43m \u001b[49m\u001b[38;5;241;43m*\u001b[39;49m\u001b[38;5;241;43m*\u001b[39;49m\u001b[43mplugin_args\u001b[49m\u001b[43m)\u001b[49m\n",
      "File \u001b[0;32m~/miniforge3/envs/mp/lib/python3.10/site-packages/skimage/io/manage_plugins.py:217\u001b[0m, in \u001b[0;36mcall_plugin\u001b[0;34m(kind, *args, **kwargs)\u001b[0m\n\u001b[1;32m    214\u001b[0m     \u001b[38;5;28;01mexcept\u001b[39;00m \u001b[38;5;167;01mIndexError\u001b[39;00m:\n\u001b[1;32m    215\u001b[0m         \u001b[38;5;28;01mraise\u001b[39;00m \u001b[38;5;167;01mRuntimeError\u001b[39;00m(\u001b[38;5;124mf\u001b[39m\u001b[38;5;124m'\u001b[39m\u001b[38;5;124mCould not find the plugin \u001b[39m\u001b[38;5;124m\"\u001b[39m\u001b[38;5;132;01m{\u001b[39;00mplugin\u001b[38;5;132;01m}\u001b[39;00m\u001b[38;5;124m\"\u001b[39m\u001b[38;5;124m for \u001b[39m\u001b[38;5;132;01m{\u001b[39;00mkind\u001b[38;5;132;01m}\u001b[39;00m\u001b[38;5;124m.\u001b[39m\u001b[38;5;124m'\u001b[39m)\n\u001b[0;32m--> 217\u001b[0m \u001b[38;5;28;01mreturn\u001b[39;00m \u001b[43mfunc\u001b[49m\u001b[43m(\u001b[49m\u001b[38;5;241;43m*\u001b[39;49m\u001b[43margs\u001b[49m\u001b[43m,\u001b[49m\u001b[43m \u001b[49m\u001b[38;5;241;43m*\u001b[39;49m\u001b[38;5;241;43m*\u001b[39;49m\u001b[43mkwargs\u001b[49m\u001b[43m)\u001b[49m\n",
      "File \u001b[0;32m~/miniforge3/envs/mp/lib/python3.10/site-packages/skimage/io/_plugins/matplotlib_plugin.py:166\u001b[0m, in \u001b[0;36mimshow\u001b[0;34m(image, ax, show_cbar, **kwargs)\u001b[0m\n\u001b[1;32m    163\u001b[0m kwargs\u001b[38;5;241m.\u001b[39msetdefault(\u001b[38;5;124m'\u001b[39m\u001b[38;5;124mvmax\u001b[39m\u001b[38;5;124m'\u001b[39m, hi)\n\u001b[1;32m    165\u001b[0m ax \u001b[38;5;241m=\u001b[39m ax \u001b[38;5;129;01mor\u001b[39;00m plt\u001b[38;5;241m.\u001b[39mgca()\n\u001b[0;32m--> 166\u001b[0m ax_im \u001b[38;5;241m=\u001b[39m \u001b[43max\u001b[49m\u001b[38;5;241;43m.\u001b[39;49m\u001b[43mimshow\u001b[49m\u001b[43m(\u001b[49m\u001b[43mimage\u001b[49m\u001b[43m,\u001b[49m\u001b[43m \u001b[49m\u001b[38;5;241;43m*\u001b[39;49m\u001b[38;5;241;43m*\u001b[39;49m\u001b[43mkwargs\u001b[49m\u001b[43m)\u001b[49m\n\u001b[1;32m    167\u001b[0m \u001b[38;5;28;01mif\u001b[39;00m (cmap \u001b[38;5;241m!=\u001b[39m _default_colormap \u001b[38;5;129;01mand\u001b[39;00m show_cbar \u001b[38;5;129;01mis\u001b[39;00m \u001b[38;5;129;01mnot\u001b[39;00m \u001b[38;5;28;01mFalse\u001b[39;00m) \u001b[38;5;129;01mor\u001b[39;00m show_cbar:\n\u001b[1;32m    168\u001b[0m     divider \u001b[38;5;241m=\u001b[39m make_axes_locatable(ax)\n",
      "File \u001b[0;32m~/miniforge3/envs/mp/lib/python3.10/site-packages/matplotlib/__init__.py:1465\u001b[0m, in \u001b[0;36m_preprocess_data.<locals>.inner\u001b[0;34m(ax, data, *args, **kwargs)\u001b[0m\n\u001b[1;32m   1462\u001b[0m \u001b[38;5;129m@functools\u001b[39m\u001b[38;5;241m.\u001b[39mwraps(func)\n\u001b[1;32m   1463\u001b[0m \u001b[38;5;28;01mdef\u001b[39;00m \u001b[38;5;21minner\u001b[39m(ax, \u001b[38;5;241m*\u001b[39margs, data\u001b[38;5;241m=\u001b[39m\u001b[38;5;28;01mNone\u001b[39;00m, \u001b[38;5;241m*\u001b[39m\u001b[38;5;241m*\u001b[39mkwargs):\n\u001b[1;32m   1464\u001b[0m     \u001b[38;5;28;01mif\u001b[39;00m data \u001b[38;5;129;01mis\u001b[39;00m \u001b[38;5;28;01mNone\u001b[39;00m:\n\u001b[0;32m-> 1465\u001b[0m         \u001b[38;5;28;01mreturn\u001b[39;00m \u001b[43mfunc\u001b[49m\u001b[43m(\u001b[49m\u001b[43max\u001b[49m\u001b[43m,\u001b[49m\u001b[43m \u001b[49m\u001b[38;5;241;43m*\u001b[39;49m\u001b[38;5;28;43mmap\u001b[39;49m\u001b[43m(\u001b[49m\u001b[43msanitize_sequence\u001b[49m\u001b[43m,\u001b[49m\u001b[43m \u001b[49m\u001b[43margs\u001b[49m\u001b[43m)\u001b[49m\u001b[43m,\u001b[49m\u001b[43m \u001b[49m\u001b[38;5;241;43m*\u001b[39;49m\u001b[38;5;241;43m*\u001b[39;49m\u001b[43mkwargs\u001b[49m\u001b[43m)\u001b[49m\n\u001b[1;32m   1467\u001b[0m     bound \u001b[38;5;241m=\u001b[39m new_sig\u001b[38;5;241m.\u001b[39mbind(ax, \u001b[38;5;241m*\u001b[39margs, \u001b[38;5;241m*\u001b[39m\u001b[38;5;241m*\u001b[39mkwargs)\n\u001b[1;32m   1468\u001b[0m     auto_label \u001b[38;5;241m=\u001b[39m (bound\u001b[38;5;241m.\u001b[39marguments\u001b[38;5;241m.\u001b[39mget(label_namer)\n\u001b[1;32m   1469\u001b[0m                   \u001b[38;5;129;01mor\u001b[39;00m bound\u001b[38;5;241m.\u001b[39mkwargs\u001b[38;5;241m.\u001b[39mget(label_namer))\n",
      "File \u001b[0;32m~/miniforge3/envs/mp/lib/python3.10/site-packages/matplotlib/axes/_axes.py:5759\u001b[0m, in \u001b[0;36mAxes.imshow\u001b[0;34m(self, X, cmap, norm, aspect, interpolation, alpha, vmin, vmax, origin, extent, interpolation_stage, filternorm, filterrad, resample, url, **kwargs)\u001b[0m\n\u001b[1;32m   5756\u001b[0m \u001b[38;5;28;01mif\u001b[39;00m aspect \u001b[38;5;129;01mis\u001b[39;00m \u001b[38;5;129;01mnot\u001b[39;00m \u001b[38;5;28;01mNone\u001b[39;00m:\n\u001b[1;32m   5757\u001b[0m     \u001b[38;5;28mself\u001b[39m\u001b[38;5;241m.\u001b[39mset_aspect(aspect)\n\u001b[0;32m-> 5759\u001b[0m \u001b[43mim\u001b[49m\u001b[38;5;241;43m.\u001b[39;49m\u001b[43mset_data\u001b[49m\u001b[43m(\u001b[49m\u001b[43mX\u001b[49m\u001b[43m)\u001b[49m\n\u001b[1;32m   5760\u001b[0m im\u001b[38;5;241m.\u001b[39mset_alpha(alpha)\n\u001b[1;32m   5761\u001b[0m \u001b[38;5;28;01mif\u001b[39;00m im\u001b[38;5;241m.\u001b[39mget_clip_path() \u001b[38;5;129;01mis\u001b[39;00m \u001b[38;5;28;01mNone\u001b[39;00m:\n\u001b[1;32m   5762\u001b[0m     \u001b[38;5;66;03m# image does not already have clipping set, clip to axes patch\u001b[39;00m\n",
      "File \u001b[0;32m~/miniforge3/envs/mp/lib/python3.10/site-packages/matplotlib/image.py:723\u001b[0m, in \u001b[0;36m_ImageBase.set_data\u001b[0;34m(self, A)\u001b[0m\n\u001b[1;32m    721\u001b[0m \u001b[38;5;28;01mif\u001b[39;00m \u001b[38;5;28misinstance\u001b[39m(A, PIL\u001b[38;5;241m.\u001b[39mImage\u001b[38;5;241m.\u001b[39mImage):\n\u001b[1;32m    722\u001b[0m     A \u001b[38;5;241m=\u001b[39m pil_to_array(A)  \u001b[38;5;66;03m# Needed e.g. to apply png palette.\u001b[39;00m\n\u001b[0;32m--> 723\u001b[0m \u001b[38;5;28mself\u001b[39m\u001b[38;5;241m.\u001b[39m_A \u001b[38;5;241m=\u001b[39m \u001b[38;5;28;43mself\u001b[39;49m\u001b[38;5;241;43m.\u001b[39;49m\u001b[43m_normalize_image_array\u001b[49m\u001b[43m(\u001b[49m\u001b[43mA\u001b[49m\u001b[43m)\u001b[49m\n\u001b[1;32m    724\u001b[0m \u001b[38;5;28mself\u001b[39m\u001b[38;5;241m.\u001b[39m_imcache \u001b[38;5;241m=\u001b[39m \u001b[38;5;28;01mNone\u001b[39;00m\n\u001b[1;32m    725\u001b[0m \u001b[38;5;28mself\u001b[39m\u001b[38;5;241m.\u001b[39mstale \u001b[38;5;241m=\u001b[39m \u001b[38;5;28;01mTrue\u001b[39;00m\n",
      "File \u001b[0;32m~/miniforge3/envs/mp/lib/python3.10/site-packages/matplotlib/image.py:693\u001b[0m, in \u001b[0;36m_ImageBase._normalize_image_array\u001b[0;34m(A)\u001b[0m\n\u001b[1;32m    691\u001b[0m     A \u001b[38;5;241m=\u001b[39m A\u001b[38;5;241m.\u001b[39msqueeze(\u001b[38;5;241m-\u001b[39m\u001b[38;5;241m1\u001b[39m)  \u001b[38;5;66;03m# If just (M, N, 1), assume scalar and apply colormap.\u001b[39;00m\n\u001b[1;32m    692\u001b[0m \u001b[38;5;28;01mif\u001b[39;00m \u001b[38;5;129;01mnot\u001b[39;00m (A\u001b[38;5;241m.\u001b[39mndim \u001b[38;5;241m==\u001b[39m \u001b[38;5;241m2\u001b[39m \u001b[38;5;129;01mor\u001b[39;00m A\u001b[38;5;241m.\u001b[39mndim \u001b[38;5;241m==\u001b[39m \u001b[38;5;241m3\u001b[39m \u001b[38;5;129;01mand\u001b[39;00m A\u001b[38;5;241m.\u001b[39mshape[\u001b[38;5;241m-\u001b[39m\u001b[38;5;241m1\u001b[39m] \u001b[38;5;129;01min\u001b[39;00m [\u001b[38;5;241m3\u001b[39m, \u001b[38;5;241m4\u001b[39m]):\n\u001b[0;32m--> 693\u001b[0m     \u001b[38;5;28;01mraise\u001b[39;00m \u001b[38;5;167;01mTypeError\u001b[39;00m(\u001b[38;5;124mf\u001b[39m\u001b[38;5;124m\"\u001b[39m\u001b[38;5;124mInvalid shape \u001b[39m\u001b[38;5;132;01m{\u001b[39;00mA\u001b[38;5;241m.\u001b[39mshape\u001b[38;5;132;01m}\u001b[39;00m\u001b[38;5;124m for image data\u001b[39m\u001b[38;5;124m\"\u001b[39m)\n\u001b[1;32m    694\u001b[0m \u001b[38;5;28;01mif\u001b[39;00m A\u001b[38;5;241m.\u001b[39mndim \u001b[38;5;241m==\u001b[39m \u001b[38;5;241m3\u001b[39m:\n\u001b[1;32m    695\u001b[0m     \u001b[38;5;66;03m# If the input data has values outside the valid range (after\u001b[39;00m\n\u001b[1;32m    696\u001b[0m     \u001b[38;5;66;03m# normalisation), we issue a warning and then clip X to the bounds\u001b[39;00m\n\u001b[1;32m    697\u001b[0m     \u001b[38;5;66;03m# - otherwise casting wraps extreme values, hiding outliers and\u001b[39;00m\n\u001b[1;32m    698\u001b[0m     \u001b[38;5;66;03m# making reliable interpretation impossible.\u001b[39;00m\n\u001b[1;32m    699\u001b[0m     high \u001b[38;5;241m=\u001b[39m \u001b[38;5;241m255\u001b[39m \u001b[38;5;28;01mif\u001b[39;00m np\u001b[38;5;241m.\u001b[39missubdtype(A\u001b[38;5;241m.\u001b[39mdtype, np\u001b[38;5;241m.\u001b[39minteger) \u001b[38;5;28;01melse\u001b[39;00m \u001b[38;5;241m1\u001b[39m\n",
      "\u001b[0;31mTypeError\u001b[0m: Invalid shape (3, 1024, 1024) for image data"
     ]
    },
    {
     "data": {
      "image/png": "[encoded data removed]",
      "text/plain": [
       "<Figure size 640x480 with 1 Axes>"
      ]
     },
     "metadata": {},
     "output_type": "display_data"
    }
   ],
   "source": [
    "show_prompts_on_mask(preds.squeeze(), batch, 0)"
   ]
  },
  {
   "cell_type": "code",
   "execution_count": 28,
   "id": "13efb9a7-fbdf-41b1-b405-7793117bf1a1",
   "metadata": {},
   "outputs": [
    {
     "data": {
      "text/plain": [
       "torch.Size([1, 256, 64, 64])"
      ]
     },
     "execution_count": 28,
     "metadata": {},
     "output_type": "execute_result"
    }
   ],
   "source": [
    "module.model.prompt_encoder.get_dense_pe().shape"
   ]
  },
  {
   "cell_type": "markdown",
   "id": "4ff47fbd-f0ff-457d-8505-b795648de667",
   "metadata": {},
   "source": [
    "### Annexes"
   ]
  },
  {
   "cell_type": "code",
   "execution_count": 115,
   "id": "39e5fb21-a7ea-4c1e-bc2b-da1fa4e3003d",
   "metadata": {},
   "outputs": [
    {
     "data": {
      "text/plain": [
       "torch.Size([2, 256, 64, 64])"
      ]
     },
     "execution_count": 115,
     "metadata": {},
     "output_type": "execute_result"
    }
   ],
   "source": [
    "image_embeddings.shape"
   ]
  },
  {
   "cell_type": "code",
   "execution_count": 116,
   "id": "7fdf3990-08b7-4d0b-ad71-0ac47e94710a",
   "metadata": {},
   "outputs": [],
   "source": [
    "from torch import nn"
   ]
  },
  {
   "cell_type": "code",
   "execution_count": 117,
   "id": "fed1370a-ef01-411d-90be-f8fe9f7677a5",
   "metadata": {},
   "outputs": [],
   "source": [
    "max_pool = nn.MaxPool2d(kernel_size=(16, 16), stride=(16, 16))"
   ]
  },
  {
   "cell_type": "code",
   "execution_count": 124,
   "id": "b79c2dbf-1eaf-457e-9c0c-7ec427466fe4",
   "metadata": {},
   "outputs": [],
   "source": [
    "out = max_pool(image_embeddings)"
   ]
  },
  {
   "cell_type": "code",
   "execution_count": 125,
   "id": "b781b5d5-d340-4429-99ee-28a6dc343883",
   "metadata": {},
   "outputs": [
    {
     "data": {
      "text/plain": [
       "torch.Size([2, 256, 4, 4])"
      ]
     },
     "execution_count": 125,
     "metadata": {},
     "output_type": "execute_result"
    }
   ],
   "source": [
    "out.shape"
   ]
  },
  {
   "cell_type": "code",
   "execution_count": 126,
   "id": "08b00548-9efe-46e3-819f-aa1d97b93964",
   "metadata": {},
   "outputs": [
    {
     "data": {
      "text/plain": [
       "torch.Size([2, 256, 16])"
      ]
     },
     "execution_count": 126,
     "metadata": {},
     "output_type": "execute_result"
    }
   ],
   "source": [
    "out.view(*out.shape[:2], -1).shape"
   ]
  },
  {
   "cell_type": "code",
   "execution_count": null,
   "id": "52001393-0790-4d0e-bf04-9c5b524bc909",
   "metadata": {},
   "outputs": [],
   "source": []
  }
 ],
 "metadata": {
  "kernelspec": {
   "display_name": "Python 3 (ipykernel)",
   "language": "python",
   "name": "python3"
  },
  "language_info": {
   "codemirror_mode": {
    "name": "ipython",
    "version": 3
   },
   "file_extension": ".py",
   "mimetype": "text/x-python",
   "name": "python",
   "nbconvert_exporter": "python",
   "pygments_lexer": "ipython3",
   "version": "3.10.14"
  }
 },
 "nbformat": 4,
 "nbformat_minor": 5
}
