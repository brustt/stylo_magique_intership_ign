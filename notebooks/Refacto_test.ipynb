{
 "cells": [
  {
   "cell_type": "code",
   "execution_count": 1,
   "id": "6874d3df-6f7b-4566-a96c-82b20da33784",
   "metadata": {},
   "outputs": [],
   "source": [
    "import hydra\n",
    "import torch\n",
    "from omegaconf import DictConfig, OmegaConf\n",
    "from typing import Any, Dict, List, Optional, Tuple, Union\n",
    "from deprecated import deprecated\n",
    "from omegaconf import DictConfig\n",
    "import numpy as np\n",
    "import torch.nn.functional as F\n",
    "from torch.nn.utils.rnn import pad_sequence\n",
    "from torch.utils import data\n",
    "\n",
    "from src.data.process import DefaultTransform\n",
    "from src.data.loader import BiTemporalDataset, load_levircd_sample\n",
    "from src.models.commons.mask_process import binarize_mask, extract_object_from_batch\n",
    "from src.models.segment_anything.utils.transforms import ResizeLongestSide\n",
    "from src.models.segment_anything.utils.amg import build_point_grid\n",
    "from src.commons.utils import *\n",
    "from src.commons.utils_io import load_img\n",
    "from src.commons.constants import PROJECT_PATH, DEVICE, IMG_SIZE\n",
    "\n",
    "from hydra.core.global_hydra import GlobalHydra"
   ]
  },
  {
   "cell_type": "code",
   "execution_count": null,
   "id": "620bb650-9596-4e04-af10-2697904143f5",
   "metadata": {},
   "outputs": [],
   "source": []
  }
 ],
 "metadata": {
  "kernelspec": {
   "display_name": "Python 3 (ipykernel)",
   "language": "python",
   "name": "python3"
  },
  "language_info": {
   "codemirror_mode": {
    "name": "ipython",
    "version": 3
   },
   "file_extension": ".py",
   "mimetype": "text/x-python",
   "name": "python",
   "nbconvert_exporter": "python",
   "pygments_lexer": "ipython3",
   "version": "3.10.14"
  }
 },
 "nbformat": 4,
 "nbformat_minor": 5
}
