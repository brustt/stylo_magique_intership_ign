{
 "cells": [
  {
   "cell_type": "markdown",
   "id": "a9ef6285-57be-4592-92a6-0c215bfc02cd",
   "metadata": {},
   "source": [
    "* load lightning module from checkpoints\n",
    "* eval models with various decision score on metrics\n",
    "* visualisation sample"
   ]
  },
  {
   "cell_type": "code",
   "execution_count": 1,
   "id": "5f300772-a188-4544-89ca-54ec89a8fe77",
   "metadata": {},
   "outputs": [],
   "source": [
    "import hydra\n",
    "from src.commons.constants import PROJECT_PATH\n",
    "from omegaconf import DictConfig, OmegaConf\n",
    "\n",
    "import numpy as np\n",
    "import cv2\n",
    "from PIL import Image\n",
    "import torch\n",
    "import pytorch_lightning as pl\n",
    "import pandas as pd\n",
    "import os\n",
    "from copy import deepcopy\n",
    "import torch.nn.functional as F\n",
    "from torchmetrics import Metric\n",
    "from tqdm import tqdm\n",
    "import torch\n",
    "import matplotlib.pyplot as plt\n",
    "from torch.utils import data\n",
    "import torch.nn as nn\n",
    "from torch.nn.utils.rnn import pad_sequence\n",
    "\n",
    "from src.commons.utils_io import load_sam, make_path, check_dir\n",
    "from src.commons.utils import *\n",
    "from src.models.commons.mask_process import extract_object_from_batch, binarize_mask\n",
    "from src.commons.constants import *\n",
    "from src.data.process import generate_grid_prompt\n",
    "from src.models.magic_pen.task import MagicPenModule"
   ]
  },
  {
   "cell_type": "markdown",
   "id": "06afb570-64a3-41fe-b7b0-9af98f09dc2c",
   "metadata": {},
   "source": [
    "### Load config from run"
   ]
  },
  {
   "cell_type": "markdown",
   "id": "39ccb099-7518-45cd-9948-f9ddc24c9c92",
   "metadata": {},
   "source": [
    "Inside a Lightning checkpoint you’ll find:\n",
    "\n",
    "* 16-bit scaling factor (if using 16-bit precision training)\n",
    "* Current epoch\n",
    "* Global step\n",
    "* LightningModule’s state_dict\n",
    "* State of all optimizers\n",
    "* State of all learning rate schedulers\n",
    "* State of all callbacks (for stateful callbacks)\n",
    "* State of datamodule (for stateful datamodules)\n",
    "* The hyperparameters (init arguments) with which the model was created\n",
    "* The hyperparameters (init arguments) with which the datamodule was created \n",
    "* State of Loops"
   ]
  },
  {
   "cell_type": "code",
   "execution_count": 2,
   "id": "7180e61e-93b7-4523-847a-d67bb83386f0",
   "metadata": {},
   "outputs": [],
   "source": [
    "_SHARE_PATH = \"levir-cd/vit-b\"\n",
    "\n",
    "def _cfg_meta(exp_name, id_exp, folder_root=None, description=\"\"):\n",
    "    \"\"\"generate register items - to be updated\"\"\"\n",
    "    if folder_root is None: folder_root = \"\"\n",
    "    cfg = {\n",
    "        \"path\": make_path(\n",
    "                    id_exp, \n",
    "                    LOGS_PATH, \n",
    "                    \"final_logs\",\n",
    "                    folder_root,\n",
    "                    exp_name,\n",
    "                    _SHARE_PATH\n",
    "                ),\n",
    "        \"description\": description\n",
    "    }\n",
    "\n",
    "    if not os.path.exists(cfg[\"path\"]): \n",
    "        raise FileNotFoundError(f\"Exp run logs not found :{cfg['path']}\")\n",
    "    return cfg\n",
    "\n",
    "# TODO: integrate in src/\n",
    "_register_runs = {\n",
    "    # PROBING\n",
    "    \"probing_concat_baseline\": \n",
    "        _cfg_meta(\"train_probing_concat\", \"2024-08-07_17-50-07\", folder_root=\"08082024_train_first_modules\", description=\"\"),\n",
    "    \"probing_diff_baseline\":\n",
    "        _cfg_meta(\"train_probing_diff\", \"2024-08-07_17-50-30\", folder_root=\"08082024_train_first_modules\", description=\"\"),\n",
    "    \"probing_attn_baseline\":\n",
    "        _cfg_meta(\"train_probing_attn\", \"2024-08-07_17-51-53\", folder_root=\"08082024_train_first_modules\", description=\"\"),\n",
    "    # ADAPTER\n",
    "    \"adapter_diff\":\n",
    "        _cfg_meta(\"train_adapter_diff\", \"2024-08-07_17-52-31\", folder_root=\"08082024_train_first_modules\", description=\"\"),\n",
    "    \"_adapter_concat\":\n",
    "        _cfg_meta(\"train_adapter_concat\", \"2024-08-07_17-53-32\", folder_root=\"08082024_train_first_modules\", description=\"\"),\n",
    "    \"adapter_attn\":\n",
    "        _cfg_meta(\"train_adapter_attn\", \"2024-08-07_18-15-08\", folder_root=\"08082024_train_first_modules\", description=\"\"),\n",
    "    # LORA\n",
    "    \"lora_diff\":\n",
    "        _cfg_meta(\"train_lora_diff\", \"2024-08-07_18-22-22\", folder_root=\"08082024_train_first_modules\", description=\"\"),\n",
    "    \"lora_concat\":\n",
    "        _cfg_meta(\"train_lora_concat\", \"2024-08-07_18-21-49\", folder_root=\"08082024_train_first_modules\", description=\"\"),\n",
    "    \"lora_attn\":\n",
    "        _cfg_meta(\"train_lora_attn\", \"2024-08-07_18-22-20\", folder_root=\"08082024_train_first_modules\", description=\"\"),\n",
    "    \"lora_attnconc_focal_dice_lr5x10-4\":\n",
    "        _cfg_meta(\"lora_attnconc_focal_dice_lr5x10-4\", \"1448002\", folder_root=\"\", description=\"\"),\n",
    "    # EXPLO lr ADAPTER\n",
    "    \"adapter_attnconc_bce_lr3x10-4\":\n",
    "        _cfg_meta(\"adapter_attnconc_bce_lr3x10-4\", \"1387852\", folder_root=\"\", description=\"\"),\n",
    "    \"adapter_attnconc_bce_lr10-4\":\n",
    "        _cfg_meta(\"adapter_attnconc_bce_lr10-4\", \"1380222\", folder_root=\"\", description=\"\"),\n",
    "    \"adapter_attnconc_bce_lr5x10-4\":\n",
    "        _cfg_meta(\"adapter_attnconc_bce_lr5x10-4\", \"1447907\", folder_root=\"\", description=\"\"),\n",
    "    \"adapter_attnconc_focal_dice_lr5x10-4\":\n",
    "        _cfg_meta(\"adapter_attnconc_focal_dice_lr5x10-4\", \"1447968\", folder_root=\"\", description=\"\"),\n",
    "\n",
    "\n",
    "}\n",
    "\n",
    "def find_best_ckpt(run_path):\n",
    "    run_path = os.path.join(run_path, \"checkpoints\")\n",
    "    fname = [_ for _ in os.listdir(run_path) if _.startswith(\"epoch_\")]\n",
    "    if fname:\n",
    "        fname=fname[0]\n",
    "    else:\n",
    "        raise ValueError(\"ckpt not found\")\n",
    "    return make_path(fname, run_path)\n",
    "\n",
    "def check_exp(exp_name):\n",
    "    if exp_name not in _register_runs:\n",
    "        raise ValueError(f\"Exp name {exp_name} not found\")\n",
    "\n",
    "def _cfg_path(exp_name):\n",
    "    check_exp(exp_name)\n",
    "    return make_path(\n",
    "        \".hydra/config.yaml\",\n",
    "        _register_runs[exp_name][\"path\"],\n",
    "        )\n",
    "\n",
    "def _ckpt_path(exp_name):\n",
    "    check_exp(exp_name)\n",
    "    return find_best_ckpt(_register_runs[exp_name][\"path\"])\n",
    "\n",
    "def load_default_loss():\n",
    "    return nn.BCEWithLogitsLoss()"
   ]
  },
  {
   "cell_type": "code",
   "execution_count": 3,
   "id": "6485412d-f4d6-4e5a-9a5d-82bdbe9892f1",
   "metadata": {},
   "outputs": [],
   "source": [
    "#model.optimzier.load_state_dict(MyMode.load_optimizer_checkpoint(last_checkpoint))"
   ]
  },
  {
   "cell_type": "code",
   "execution_count": 4,
   "id": "5d7f45dc-4309-4fd5-a973-f860d080fcd4",
   "metadata": {},
   "outputs": [],
   "source": [
    "def load_cfg(exp_name):\n",
    "    return OmegaConf.load(_cfg_path(exp_name))\n",
    "\n",
    "\n",
    "def load_params_module(cfg):\n",
    "    scheduler, optimizer = None, None\n",
    "    loss = load_default_loss()\n",
    "    model = hydra.utils.instantiate(cfg.model.instance.network)\n",
    "    if \"optimizer\" in cfg.model:\n",
    "        optimizer = hydra.utils.instantiate(cfg.model.optimizer)\n",
    "    if \"scheduler\" in cfg.model:\n",
    "        scheduler = hydra.utils.instantiate(cfg.model.scheduler)\n",
    "    if \"loss\" in cfg.model:\n",
    "        loss = hydra.utils.instantiate(cfg.model.loss)\n",
    "        \n",
    "    return dict(model=model, optimizer=optimizer, scheduler=scheduler, loss=loss, task_name=cfg.task_name)\n",
    "\n",
    "def load_dmodule(cfg):\n",
    "    return hydra.utils.instantiate(cfg.data)\n",
    "\n",
    "def load_lmodule(exp_name, params):\n",
    "    return MagicPenModule.load_from_checkpoint(\n",
    "        _ckpt_path(exp_name),\n",
    "        optimizer=params.get(\"optimizer\"),\n",
    "        scheduler=params.get(\"scheduler\"),\n",
    "        loss=params.get(\"loss\"),\n",
    "        network = params.get(\"model\"),\n",
    "        task_name=params.get(\"task_name\")\n",
    "    )\n",
    "\n",
    "def load_exp(exp_name):\n",
    "    \n",
    "    cfg = load_cfg(exp_name)\n",
    "    params = load_params_module(cfg)\n",
    "    data_module = load_dmodule(cfg)\n",
    "    module = load_lmodule(exp_name, params)\n",
    "    \n",
    "    return cfg, data_module, module"
   ]
  },
  {
   "cell_type": "code",
   "execution_count": 5,
   "id": "f85280bf-dbfc-4101-885a-c15ac0f21e31",
   "metadata": {},
   "outputs": [],
   "source": [
    "# exp_name = \"probing_concat_baseline\"\n",
    "# cfg, data_module, module = load_exp(exp_name)"
   ]
  },
  {
   "cell_type": "markdown",
   "id": "2c733bc3-d5e6-4b80-ae82-235903b779f7",
   "metadata": {},
   "source": [
    "#### Restoring Training State\n",
    "If you don’t just want to load weights, but instead restore the full training, do the following:\n",
    "```\n",
    "model = LitModel()\n",
    "trainer = Trainer(resume_from_checkpoint='some/path/to/my_checkpoint.ckpt')\n",
    "\n",
    "# automatically restores model, epoch, step, LR schedulers, apex, etc...\n",
    "trainer.fit(model)\n",
    "```"
   ]
  },
  {
   "cell_type": "markdown",
   "id": "70dd7689-3140-43b5-9106-c5088903d7e2",
   "metadata": {},
   "source": [
    "### Run inference"
   ]
  },
  {
   "cell_type": "code",
   "execution_count": 6,
   "id": "a4d131c7-399e-429f-9f89-1c872c3e33af",
   "metadata": {},
   "outputs": [],
   "source": [
    "def get_dloader(mode: str, dmodule):\n",
    "\n",
    "    def wrap_mode(mode):\n",
    "        if mode == \"train\":\n",
    "            return \"fit\"\n",
    "        return mode\n",
    "    if not dmodule.ds_dict_type:\n",
    "        mode_ = wrap_mode(mode)\n",
    "        dmodule.setup(mode_)\n",
    "    factory_dl = {\n",
    "        \"train\": dmodule.train_dataloader,\n",
    "        \"val\": dmodule.val_dataloader,\n",
    "        \"test\": dmodule.test_dataloader,\n",
    "    }\n",
    "    return factory_dl[mode]()\n",
    "\n",
    "def get_ds(mode: str, dmodule):\n",
    "    \n",
    "    def wrap_mode(mode):\n",
    "        if mode == \"train\":\n",
    "            return \"fit\"\n",
    "        return mode\n",
    "        \n",
    "    if not dmodule.ds_dict_type:\n",
    "        mode_ = wrap_mode(mode)\n",
    "        dmodule.setup(mode_)\n",
    "        \n",
    "    return dmodule.ds_dict_type[mode]"
   ]
  },
  {
   "cell_type": "code",
   "execution_count": 7,
   "id": "6e5c85b9-eb41-4d81-8e1b-0aeb106bd9b0",
   "metadata": {},
   "outputs": [],
   "source": [
    "# dloader = get_dloader(\"test\", data_module)\n",
    "# ds = get_ds(\"test\", data_module)"
   ]
  },
  {
   "cell_type": "code",
   "execution_count": 8,
   "id": "e3bbdd94-b7f7-450e-ae39-9cbc387cd4ec",
   "metadata": {},
   "outputs": [],
   "source": [
    "# batch = next(iter(dloader))"
   ]
  },
  {
   "cell_type": "code",
   "execution_count": 9,
   "id": "7523432c-72bf-48de-a2d6-631c891b452e",
   "metadata": {},
   "outputs": [],
   "source": [
    "# show_sample_from_batch(batch, idx=0)"
   ]
  },
  {
   "cell_type": "code",
   "execution_count": null,
   "id": "c2066b6a-abcb-45e3-b5ee-b21efb2fac23",
   "metadata": {},
   "outputs": [],
   "source": []
  },
  {
   "cell_type": "code",
   "execution_count": 10,
   "id": "0e07a1ff-3d34-4b38-ad61-adf3f183d008",
   "metadata": {},
   "outputs": [],
   "source": [
    "def infer_on_sample(ds, module, fname=None, fidx=None):\n",
    "    if not any([fname, fidx]):\n",
    "        raise ValueError(\"Please provide at least a sample name or an sample index\")\n",
    "    # priority to fname\n",
    "    if fname is not None:\n",
    "        fidx = ds.get_from_name(fname, return_sample=False)\n",
    "    # TODO: allow indices sequence\n",
    "    if isinstance(fidx, int): fidx = [fidx]\n",
    "    sub_dl = data.DataLoader(data.Subset(ds, fidx), batch_size=1, shuffle=False)\n",
    "    batch = next(iter(sub_dl))\n",
    "\n",
    "    # workaround  prevent wrong device association buffers in SAM\n",
    "    # module = module.to(\"cpu\")\n",
    "    preds, _ = module(batch)\n",
    "    # B x 1 x 1024 x 1024\n",
    "    preds = preds.squeeze().detach().cpu()\n",
    "    label = label.squeeze().detach().cpu()\n",
    "    return preds, label, batch"
   ]
  },
  {
   "cell_type": "code",
   "execution_count": 11,
   "id": "20366041-b593-42d6-9ec5-e5727ba808c8",
   "metadata": {},
   "outputs": [],
   "source": [
    "def convert_to_device(batch, device=\"cuda\"):\n",
    "    for name in ['img_A', 'img_B', 'label', 'point_coords', 'point_labels']:\n",
    "        batch[name] = batch[name].to(device)\n",
    "    return batch"
   ]
  },
  {
   "cell_type": "markdown",
   "id": "411a8c16-464c-4a0b-a511-1cc6b3074471",
   "metadata": {},
   "source": [
    "### Eval on instances"
   ]
  },
  {
   "cell_type": "code",
   "execution_count": 13,
   "id": "1fb39391-cefe-4094-8ad3-213aa59c7971",
   "metadata": {},
   "outputs": [],
   "source": [
    "from torchmetrics import MetricCollection\n",
    "from torchmetrics.classification import BinaryF1Score, BinaryJaccardIndex, BinaryRecall, BinaryPrecision, Recall, Precision, JaccardIndex\n",
    "from pathlib import Path\n",
    "\n",
    "@torch.no_grad()\n",
    "def _step(module, batch, device, sgmd):\n",
    "    \n",
    "    batch = convert_to_device(batch, device=device)\n",
    "    preds, _ = module(batch)\n",
    "    preds = preds.squeeze().detach()\n",
    "    preds = sgmd(preds)\n",
    "    label = batch[\"label\"].squeeze().detach()\n",
    "    return preds, label\n",
    "\n",
    "def f1_score(precision, recall):\n",
    "    if not (precision + recall):\n",
    "        return 0\n",
    "    return 2 * (precision*recall)/(precision + recall)\n",
    "\n",
    "def evaluate_exp(exp_name, ds_name, batch_size=1, ds_type=\"test\", save_preds=False, save_scores=True):\n",
    "\n",
    "    report_dir = check_dir(PROJECT_PATH, \"reports\", \"scores\", ds_name, \"instances\", exp_name)\n",
    "    \n",
    "    th_list = np.arange(0., 1, 0.1)\n",
    "    \n",
    "    cfg, data_module, module = load_exp(exp_name)\n",
    "    ds = get_ds(ds_type, data_module)\n",
    "    dloader = data.DataLoader(ds, batch_size=batch_size, shuffle=False)\n",
    "    \n",
    "    module = module.to(device)\n",
    "    sgmd = nn.Sigmoid()\n",
    "        \n",
    "    # micro metrics compute metrics on global counts TP, FP, etc - need to keep track them\n",
    "    eval_engine_micro = {\n",
    "        th: MetricCollection(\n",
    "                Recall(threshold=th, average=\"micro\", task=\"binary\"),\n",
    "                JaccardIndex(threshold=th, average=\"micro\", task=\"binary\"),\n",
    "                Precision(threshold=th, average=\"micro\", task=\"binary\")\n",
    "        ).to(device) for th in th_list\n",
    "    }\n",
    "    for i, batch in enumerate(tqdm(dloader)):\n",
    "        \n",
    "        preds, label = _step(module, batch, device, sgmd)\n",
    "    \n",
    "        if save_preds:\n",
    "            fname = f\"pred_{Path(batch['label_path'].stem)}.pt\"\n",
    "            folder = check_dir(report_dir, f\"pred_{ds_type}\")\n",
    "            torch.save(preds, make_path(fname, folder))\n",
    "        \n",
    "        for th in th_list:\n",
    "            eval_engine_micro[th].update(preds, label)\n",
    "            \n",
    "    scores_micro = {th: eval_engine_micro[th].compute() for th in th_list}\n",
    "    df_micro = pd.DataFrame(scores_micro).map(float).T\n",
    "    df_micro[\"BinaryF1Score\"] = df_micro.apply(lambda x: f1_score(x[\"BinaryPrecision\"], x[\"BinaryRecall\"]), axis=1)\n",
    "    df_micro.columns = [\"\".join([_, \"_micro\"]) for _ in df_micro]\n",
    "    if save_scores:\n",
    "        df_micro.to_csv(make_path(f\"{exp_name}_scores_micro.csv\", report_dir), index=True)\n",
    "    return df_micro"
   ]
  },
  {
   "cell_type": "markdown",
   "id": "b9866c96-795c-462e-abed-a33905f2695d",
   "metadata": {},
   "source": [
    "### Eval all exps"
   ]
  },
  {
   "cell_type": "code",
   "execution_count": null,
   "id": "577d8393-40f9-4d3a-b181-373bee4ef910",
   "metadata": {},
   "outputs": [
    {
     "name": "stdout",
     "output_type": "stream",
     "text": [
      "Eval probing_concat_baseline - 1/14\n",
      "INIT VIT\n"
     ]
    },
    {
     "name": "stderr",
     "output_type": "stream",
     "text": [
      "2024-08-28 18:34:41,819 - INFO ::  Weights loaded for : ['image_encoder']\n",
      " 87%|███████████████████████████████████████████████████████████████████████████████████████████████████▋               | 111/128 [03:30<00:29,  1.71s/it]"
     ]
    }
   ],
   "source": [
    "ds_name = \"levir-cd\"\n",
    "device = \"cuda\"\n",
    "batch_size = 1\n",
    "ds_type = \"test\"\n",
    "save_preds = False\n",
    "save_scores=True\n",
    "n_runs = len(_register_runs)\n",
    "\n",
    "for i, exp_name in enumerate(_register_runs, start=1):\n",
    "    print(f\"Eval {exp_name} - {i}/{n_runs}\")\n",
    "    df_micro = evaluate_exp(\n",
    "        exp_name=exp_name, \n",
    "        ds_name=ds_name,\n",
    "        batch_size=batch_size, \n",
    "        ds_type=ds_type, \n",
    "        save_preds=save_preds,\n",
    "        save_scores=save_scores\n",
    "    )"
   ]
  },
  {
   "cell_type": "markdown",
   "id": "5a935dfa-ae29-4eea-a9a0-d60e313526a7",
   "metadata": {},
   "source": [
    "### Eval single exp"
   ]
  },
  {
   "cell_type": "code",
   "execution_count": 34,
   "id": "12532721-21b3-41b9-ab68-e3c28de482bd",
   "metadata": {},
   "outputs": [
    {
     "name": "stdout",
     "output_type": "stream",
     "text": [
      "INIT ADAPTER VIT\n"
     ]
    },
    {
     "name": "stderr",
     "output_type": "stream",
     "text": [
      "2024-08-28 16:06:13,199 - INFO ::  Weights loaded for : ['image_encoder']\n",
      "100%|████████████████████████████████████████████████████████████████████████████████████████████████████████████████████████████████████████| 128/128 [04:05<00:00,  1.92s/it]\n"
     ]
    }
   ],
   "source": [
    "exp_name = \"_adapter_concat\"\n",
    "ds_name = \"levir-cd\"\n",
    "device = \"cuda\"\n",
    "batch_size = 1\n",
    "ds_type = \"test\"\n",
    "save_preds = False\n",
    "save_scores=True\n",
    "\n",
    "df_micro = evaluate_exp(\n",
    "    exp_name=exp_name, \n",
    "    ds_name=ds_name,\n",
    "    batch_size=batch_size, \n",
    "    ds_type=ds_type, \n",
    "    save_preds=save_preds,\n",
    "    save_scores=save_scores\n",
    ")"
   ]
  },
  {
   "cell_type": "code",
   "execution_count": 35,
   "id": "443f2679-0591-414e-a801-8d512905f301",
   "metadata": {},
   "outputs": [
    {
     "data": {
      "text/html": [
       "<div>\n",
       "<style scoped>\n",
       "    .dataframe tbody tr th:only-of-type {\n",
       "        vertical-align: middle;\n",
       "    }\n",
       "\n",
       "    .dataframe tbody tr th {\n",
       "        vertical-align: top;\n",
       "    }\n",
       "\n",
       "    .dataframe thead th {\n",
       "        text-align: right;\n",
       "    }\n",
       "</style>\n",
       "<table border=\"1\" class=\"dataframe\">\n",
       "  <thead>\n",
       "    <tr style=\"text-align: right;\">\n",
       "      <th></th>\n",
       "      <th>BinaryRecall_micro</th>\n",
       "      <th>BinaryJaccardIndex_micro</th>\n",
       "      <th>BinaryPrecision_micro</th>\n",
       "      <th>BinaryF1Score_micro</th>\n",
       "    </tr>\n",
       "  </thead>\n",
       "  <tbody>\n",
       "    <tr>\n",
       "      <th>0.0</th>\n",
       "      <td>1.000000</td>\n",
       "      <td>0.050943</td>\n",
       "      <td>0.050943</td>\n",
       "      <td>0.096947</td>\n",
       "    </tr>\n",
       "    <tr>\n",
       "      <th>0.1</th>\n",
       "      <td>0.960392</td>\n",
       "      <td>0.735914</td>\n",
       "      <td>0.758948</td>\n",
       "      <td>0.847869</td>\n",
       "    </tr>\n",
       "    <tr>\n",
       "      <th>0.2</th>\n",
       "      <td>0.939766</td>\n",
       "      <td>0.778861</td>\n",
       "      <td>0.819786</td>\n",
       "      <td>0.875685</td>\n",
       "    </tr>\n",
       "    <tr>\n",
       "      <th>0.3</th>\n",
       "      <td>0.920387</td>\n",
       "      <td>0.797911</td>\n",
       "      <td>0.857065</td>\n",
       "      <td>0.887598</td>\n",
       "    </tr>\n",
       "    <tr>\n",
       "      <th>0.4</th>\n",
       "      <td>0.900461</td>\n",
       "      <td>0.806041</td>\n",
       "      <td>0.884886</td>\n",
       "      <td>0.892606</td>\n",
       "    </tr>\n",
       "    <tr>\n",
       "      <th>0.5</th>\n",
       "      <td>0.879059</td>\n",
       "      <td>0.806831</td>\n",
       "      <td>0.907575</td>\n",
       "      <td>0.893089</td>\n",
       "    </tr>\n",
       "    <tr>\n",
       "      <th>0.6</th>\n",
       "      <td>0.854579</td>\n",
       "      <td>0.800950</td>\n",
       "      <td>0.927342</td>\n",
       "      <td>0.889475</td>\n",
       "    </tr>\n",
       "    <tr>\n",
       "      <th>0.7</th>\n",
       "      <td>0.824528</td>\n",
       "      <td>0.786934</td>\n",
       "      <td>0.945233</td>\n",
       "      <td>0.880764</td>\n",
       "    </tr>\n",
       "    <tr>\n",
       "      <th>0.8</th>\n",
       "      <td>0.783463</td>\n",
       "      <td>0.760199</td>\n",
       "      <td>0.962407</td>\n",
       "      <td>0.863765</td>\n",
       "    </tr>\n",
       "    <tr>\n",
       "      <th>0.9</th>\n",
       "      <td>0.714155</td>\n",
       "      <td>0.703829</td>\n",
       "      <td>0.979870</td>\n",
       "      <td>0.826173</td>\n",
       "    </tr>\n",
       "  </tbody>\n",
       "</table>\n",
       "</div>"
      ],
      "text/plain": [
       "     BinaryRecall_micro  BinaryJaccardIndex_micro  BinaryPrecision_micro  \\\n",
       "0.0            1.000000                  0.050943               0.050943   \n",
       "0.1            0.960392                  0.735914               0.758948   \n",
       "0.2            0.939766                  0.778861               0.819786   \n",
       "0.3            0.920387                  0.797911               0.857065   \n",
       "0.4            0.900461                  0.806041               0.884886   \n",
       "0.5            0.879059                  0.806831               0.907575   \n",
       "0.6            0.854579                  0.800950               0.927342   \n",
       "0.7            0.824528                  0.786934               0.945233   \n",
       "0.8            0.783463                  0.760199               0.962407   \n",
       "0.9            0.714155                  0.703829               0.979870   \n",
       "\n",
       "     BinaryF1Score_micro  \n",
       "0.0             0.096947  \n",
       "0.1             0.847869  \n",
       "0.2             0.875685  \n",
       "0.3             0.887598  \n",
       "0.4             0.892606  \n",
       "0.5             0.893089  \n",
       "0.6             0.889475  \n",
       "0.7             0.880764  \n",
       "0.8             0.863765  \n",
       "0.9             0.826173  "
      ]
     },
     "execution_count": 35,
     "metadata": {},
     "output_type": "execute_result"
    }
   ],
   "source": [
    "df_micro"
   ]
  },
  {
   "cell_type": "markdown",
   "id": "e50dce50-de0b-40f3-b23e-05b972e35e7e",
   "metadata": {},
   "source": [
    "### Read evals"
   ]
  },
  {
   "cell_type": "code",
   "execution_count": 13,
   "id": "704dc8b2-6737-4be6-89ef-d19e544b0977",
   "metadata": {},
   "outputs": [],
   "source": [
    "ds_name = \"levir-cd\"\n",
    "\n",
    "folder_logs = make_path(\"instances\", PROJECT_PATH, \"reports\", \"scores\", ds_name)\n",
    "all_scores = []\n",
    "\n",
    "metric_max = \"BinaryF1Score\"\n",
    "\n",
    "for exp_name in os.listdir(folder_logs):\n",
    "    if not os.path.exists(make_path(f\"{exp_name}_scores_micro.csv\", folder_logs, exp_name)):\n",
    "        print(f\"{exp_name} logs file not found - please run evaluation\")\n",
    "        continue\n",
    "    df = pd.read_csv(make_path(f\"{exp_name}.csv\", folder_logs, exp_name), index_col=0)\n",
    "    metrics_col = [_ for _ in df.columns if _ not in [\"label_path\", \"th\"]]\n",
    "    scores = df.groupby(\"th\")[metrics_col].mean().round(3).mul(100).reset_index()\n",
    "    row = scores[scores.index == scores[metric_max].idxmax()]\n",
    "    row.index = [exp_name]\n",
    "    all_scores.append(row)\n",
    "\n",
    "all_scores = pd.concat(all_scores).sort_values(\"BinaryF1Score\", ascending=False)"
   ]
  },
  {
   "cell_type": "code",
   "execution_count": 14,
   "id": "f93037e6-74f1-40c3-9249-d052ad1baa64",
   "metadata": {},
   "outputs": [
    {
     "data": {
      "text/html": [
       "<div>\n",
       "<style scoped>\n",
       "    .dataframe tbody tr th:only-of-type {\n",
       "        vertical-align: middle;\n",
       "    }\n",
       "\n",
       "    .dataframe tbody tr th {\n",
       "        vertical-align: top;\n",
       "    }\n",
       "\n",
       "    .dataframe thead th {\n",
       "        text-align: right;\n",
       "    }\n",
       "</style>\n",
       "<table border=\"1\" class=\"dataframe\">\n",
       "  <thead>\n",
       "    <tr style=\"text-align: right;\">\n",
       "      <th></th>\n",
       "      <th>th</th>\n",
       "      <th>BinaryF1Score</th>\n",
       "      <th>BinaryJaccardIndex</th>\n",
       "      <th>BinaryRecall</th>\n",
       "      <th>BinaryPrecision</th>\n",
       "    </tr>\n",
       "  </thead>\n",
       "  <tbody>\n",
       "    <tr>\n",
       "      <th>adapter_concat</th>\n",
       "      <td>0.4</td>\n",
       "      <td>74.9</td>\n",
       "      <td>72.3</td>\n",
       "      <td>76.0</td>\n",
       "      <td>75.0</td>\n",
       "    </tr>\n",
       "    <tr>\n",
       "      <th>_adapter_concat</th>\n",
       "      <td>0.4</td>\n",
       "      <td>74.9</td>\n",
       "      <td>72.3</td>\n",
       "      <td>76.0</td>\n",
       "      <td>74.9</td>\n",
       "    </tr>\n",
       "    <tr>\n",
       "      <th>adapter_attnconc_bce_lr3x10-4</th>\n",
       "      <td>0.3</td>\n",
       "      <td>74.4</td>\n",
       "      <td>71.3</td>\n",
       "      <td>75.0</td>\n",
       "      <td>74.5</td>\n",
       "    </tr>\n",
       "    <tr>\n",
       "      <th>adapter_attnconc_bce_lr10-4</th>\n",
       "      <td>0.4</td>\n",
       "      <td>74.0</td>\n",
       "      <td>71.3</td>\n",
       "      <td>75.2</td>\n",
       "      <td>73.9</td>\n",
       "    </tr>\n",
       "    <tr>\n",
       "      <th>adapter_diff</th>\n",
       "      <td>0.4</td>\n",
       "      <td>73.9</td>\n",
       "      <td>71.2</td>\n",
       "      <td>74.8</td>\n",
       "      <td>74.2</td>\n",
       "    </tr>\n",
       "    <tr>\n",
       "      <th>lora_concat_k32</th>\n",
       "      <td>0.2</td>\n",
       "      <td>61.6</td>\n",
       "      <td>52.6</td>\n",
       "      <td>60.8</td>\n",
       "      <td>64.3</td>\n",
       "    </tr>\n",
       "    <tr>\n",
       "      <th>probing_concat_baseline</th>\n",
       "      <td>0.3</td>\n",
       "      <td>60.3</td>\n",
       "      <td>51.7</td>\n",
       "      <td>63.2</td>\n",
       "      <td>62.0</td>\n",
       "    </tr>\n",
       "    <tr>\n",
       "      <th>lora_diff</th>\n",
       "      <td>0.3</td>\n",
       "      <td>55.6</td>\n",
       "      <td>46.5</td>\n",
       "      <td>58.4</td>\n",
       "      <td>56.7</td>\n",
       "    </tr>\n",
       "    <tr>\n",
       "      <th>lora_concat</th>\n",
       "      <td>0.2</td>\n",
       "      <td>55.0</td>\n",
       "      <td>45.8</td>\n",
       "      <td>58.7</td>\n",
       "      <td>55.3</td>\n",
       "    </tr>\n",
       "    <tr>\n",
       "      <th>probing_diff_baseline</th>\n",
       "      <td>0.3</td>\n",
       "      <td>50.2</td>\n",
       "      <td>39.5</td>\n",
       "      <td>55.1</td>\n",
       "      <td>52.1</td>\n",
       "    </tr>\n",
       "    <tr>\n",
       "      <th>lora_attnconc_focal_dice_lr5x10-4</th>\n",
       "      <td>0.1</td>\n",
       "      <td>47.1</td>\n",
       "      <td>38.4</td>\n",
       "      <td>47.7</td>\n",
       "      <td>51.7</td>\n",
       "    </tr>\n",
       "  </tbody>\n",
       "</table>\n",
       "</div>"
      ],
      "text/plain": [
       "                                    th  BinaryF1Score  BinaryJaccardIndex  \\\n",
       "adapter_concat                     0.4           74.9                72.3   \n",
       "_adapter_concat                    0.4           74.9                72.3   \n",
       "adapter_attnconc_bce_lr3x10-4      0.3           74.4                71.3   \n",
       "adapter_attnconc_bce_lr10-4        0.4           74.0                71.3   \n",
       "adapter_diff                       0.4           73.9                71.2   \n",
       "lora_concat_k32                    0.2           61.6                52.6   \n",
       "probing_concat_baseline            0.3           60.3                51.7   \n",
       "lora_diff                          0.3           55.6                46.5   \n",
       "lora_concat                        0.2           55.0                45.8   \n",
       "probing_diff_baseline              0.3           50.2                39.5   \n",
       "lora_attnconc_focal_dice_lr5x10-4  0.1           47.1                38.4   \n",
       "\n",
       "                                   BinaryRecall  BinaryPrecision  \n",
       "adapter_concat                             76.0             75.0  \n",
       "_adapter_concat                            76.0             74.9  \n",
       "adapter_attnconc_bce_lr3x10-4              75.0             74.5  \n",
       "adapter_attnconc_bce_lr10-4                75.2             73.9  \n",
       "adapter_diff                               74.8             74.2  \n",
       "lora_concat_k32                            60.8             64.3  \n",
       "probing_concat_baseline                    63.2             62.0  \n",
       "lora_diff                                  58.4             56.7  \n",
       "lora_concat                                58.7             55.3  \n",
       "probing_diff_baseline                      55.1             52.1  \n",
       "lora_attnconc_focal_dice_lr5x10-4          47.7             51.7  "
      ]
     },
     "execution_count": 14,
     "metadata": {},
     "output_type": "execute_result"
    }
   ],
   "source": [
    "all_scores"
   ]
  },
  {
   "cell_type": "markdown",
   "id": "26235bd4-ccb4-4b8c-afb0-52cb94805ae5",
   "metadata": {},
   "source": [
    "## Micro"
   ]
  },
  {
   "cell_type": "code",
   "execution_count": 15,
   "id": "30de4025-16f4-4767-a9d3-b69418a72c59",
   "metadata": {},
   "outputs": [
    {
     "data": {
      "text/plain": [
       "{0.0: {'BinaryRecall': tensor(1., device='cuda:0'),\n",
       "  'BinaryPrecision': tensor(0.0509, device='cuda:0')},\n",
       " 0.1: {'BinaryRecall': tensor(0.9611, device='cuda:0'),\n",
       "  'BinaryPrecision': tensor(0.7588, device='cuda:0')},\n",
       " 0.2: {'BinaryRecall': tensor(0.9406, device='cuda:0'),\n",
       "  'BinaryPrecision': tensor(0.8197, device='cuda:0')},\n",
       " 0.30000000000000004: {'BinaryRecall': tensor(0.9213, device='cuda:0'),\n",
       "  'BinaryPrecision': tensor(0.8569, device='cuda:0')},\n",
       " 0.4: {'BinaryRecall': tensor(0.9015, device='cuda:0'),\n",
       "  'BinaryPrecision': tensor(0.8847, device='cuda:0')},\n",
       " 0.5: {'BinaryRecall': tensor(0.8801, device='cuda:0'),\n",
       "  'BinaryPrecision': tensor(0.9073, device='cuda:0')},\n",
       " 0.6000000000000001: {'BinaryRecall': tensor(0.8556, device='cuda:0'),\n",
       "  'BinaryPrecision': tensor(0.9269, device='cuda:0')},\n",
       " 0.7000000000000001: {'BinaryRecall': tensor(0.8254, device='cuda:0'),\n",
       "  'BinaryPrecision': tensor(0.9449, device='cuda:0')},\n",
       " 0.8: {'BinaryRecall': tensor(0.7843, device='cuda:0'),\n",
       "  'BinaryPrecision': tensor(0.9622, device='cuda:0')},\n",
       " 0.9: {'BinaryRecall': tensor(0.7151, device='cuda:0'),\n",
       "  'BinaryPrecision': tensor(0.9798, device='cuda:0')}}"
      ]
     },
     "execution_count": 15,
     "metadata": {},
     "output_type": "execute_result"
    }
   ],
   "source": [
    "scores_micro"
   ]
  },
  {
   "cell_type": "code",
   "execution_count": 16,
   "id": "51240d1f-9f9b-40d1-9d77-f43567c0b95d",
   "metadata": {},
   "outputs": [],
   "source": [
    "df_micro = pd.DataFrame(scores_micro).map(float).T\n",
    "df_micro[\"BinaryF1Score\"] = df_micro.apply(lambda x: f1_score(x[\"BinaryPrecision\"], x[\"BinaryRecall\"]), axis=1)\n"
   ]
  },
  {
   "cell_type": "code",
   "execution_count": 17,
   "id": "951e522e-67f8-428b-bf6f-04b6d15076db",
   "metadata": {},
   "outputs": [],
   "source": [
    "def f1_score(precision, recall):\n",
    "    if not (precision + recall):\n",
    "        return 0\n",
    "    return 2 * (precision*recall)/(precision + recall)"
   ]
  },
  {
   "cell_type": "code",
   "execution_count": null,
   "id": "a7c61a25-d541-483d-92db-2c30fc48c1fe",
   "metadata": {},
   "outputs": [],
   "source": [
    "df_micro[\"BinaryF1Score\"] = df_micro.apply(lambda x: f1_score(x[\"BinaryPrecision\"], x[\"BinaryRecall\"]), axis=1)\n",
    "\n",
    "df_micro.columns = [\"\".join([_, \"_micro\"]) for _ in df_micro]\n",
    "\n",
    "df_micro\n",
    "\n",
    "# th = 0.4\n",
    "adpater_concat_all_metrics = pd.concat([all_scores.loc[\"adapter_concat\"], (df_micro.loc[th].round(3)*100)], axis=0)"
   ]
  },
  {
   "cell_type": "code",
   "execution_count": 26,
   "id": "ecef5435-d4c4-45b5-a1fa-8742afd091a1",
   "metadata": {},
   "outputs": [
    {
     "data": {
      "text/html": [
       "<div>\n",
       "<style scoped>\n",
       "    .dataframe tbody tr th:only-of-type {\n",
       "        vertical-align: middle;\n",
       "    }\n",
       "\n",
       "    .dataframe tbody tr th {\n",
       "        vertical-align: top;\n",
       "    }\n",
       "\n",
       "    .dataframe thead th {\n",
       "        text-align: right;\n",
       "    }\n",
       "</style>\n",
       "<table border=\"1\" class=\"dataframe\">\n",
       "  <thead>\n",
       "    <tr style=\"text-align: right;\">\n",
       "      <th></th>\n",
       "      <th>th</th>\n",
       "      <th>BinaryF1Score</th>\n",
       "      <th>BinaryJaccardIndex</th>\n",
       "      <th>BinaryRecall</th>\n",
       "      <th>BinaryPrecision</th>\n",
       "      <th>BinaryRecall_micro</th>\n",
       "      <th>BinaryPrecision_micro</th>\n",
       "      <th>BinaryF1Score_micro</th>\n",
       "    </tr>\n",
       "  </thead>\n",
       "  <tbody>\n",
       "    <tr>\n",
       "      <th>adapter_concat</th>\n",
       "      <td>0.4</td>\n",
       "      <td>74.9</td>\n",
       "      <td>72.3</td>\n",
       "      <td>76.0</td>\n",
       "      <td>75.0</td>\n",
       "      <td>90.1</td>\n",
       "      <td>88.5</td>\n",
       "      <td>89.3</td>\n",
       "    </tr>\n",
       "  </tbody>\n",
       "</table>\n",
       "</div>"
      ],
      "text/plain": [
       "                 th  BinaryF1Score  BinaryJaccardIndex  BinaryRecall  \\\n",
       "adapter_concat  0.4           74.9                72.3          76.0   \n",
       "\n",
       "                BinaryPrecision  BinaryRecall_micro  BinaryPrecision_micro  \\\n",
       "adapter_concat             75.0                90.1                   88.5   \n",
       "\n",
       "                BinaryF1Score_micro  \n",
       "adapter_concat                 89.3  "
      ]
     },
     "execution_count": 26,
     "metadata": {},
     "output_type": "execute_result"
    }
   ],
   "source": [
    "adpater_concat_all_metrics"
   ]
  },
  {
   "cell_type": "code",
   "execution_count": 22,
   "id": "809c9668-50fd-43b1-a669-905060de0398",
   "metadata": {},
   "outputs": [],
   "source": [
    "adpater_concat_all_metrics = adpater_concat_all_metrics.to_frame().T\n",
    "adpater_concat_all_metrics.index = [\"adapter_concat\"]"
   ]
  },
  {
   "cell_type": "code",
   "execution_count": 23,
   "id": "040d9fc7-f283-45aa-b0c7-d2d6ae2388f3",
   "metadata": {},
   "outputs": [
    {
     "data": {
      "text/html": [
       "<div>\n",
       "<style scoped>\n",
       "    .dataframe tbody tr th:only-of-type {\n",
       "        vertical-align: middle;\n",
       "    }\n",
       "\n",
       "    .dataframe tbody tr th {\n",
       "        vertical-align: top;\n",
       "    }\n",
       "\n",
       "    .dataframe thead th {\n",
       "        text-align: right;\n",
       "    }\n",
       "</style>\n",
       "<table border=\"1\" class=\"dataframe\">\n",
       "  <thead>\n",
       "    <tr style=\"text-align: right;\">\n",
       "      <th></th>\n",
       "      <th>th</th>\n",
       "      <th>BinaryF1Score</th>\n",
       "      <th>BinaryJaccardIndex</th>\n",
       "      <th>BinaryRecall</th>\n",
       "      <th>BinaryPrecision</th>\n",
       "      <th>BinaryRecall_micro</th>\n",
       "      <th>BinaryPrecision_micro</th>\n",
       "      <th>BinaryF1Score_micro</th>\n",
       "    </tr>\n",
       "  </thead>\n",
       "  <tbody>\n",
       "    <tr>\n",
       "      <th>adapter_concat</th>\n",
       "      <td>0.4</td>\n",
       "      <td>74.9</td>\n",
       "      <td>72.3</td>\n",
       "      <td>76.0</td>\n",
       "      <td>75.0</td>\n",
       "      <td>90.1</td>\n",
       "      <td>88.5</td>\n",
       "      <td>89.3</td>\n",
       "    </tr>\n",
       "  </tbody>\n",
       "</table>\n",
       "</div>"
      ],
      "text/plain": [
       "                 th  BinaryF1Score  BinaryJaccardIndex  BinaryRecall  \\\n",
       "adapter_concat  0.4           74.9                72.3          76.0   \n",
       "\n",
       "                BinaryPrecision  BinaryRecall_micro  BinaryPrecision_micro  \\\n",
       "adapter_concat             75.0                90.1                   88.5   \n",
       "\n",
       "                BinaryF1Score_micro  \n",
       "adapter_concat                 89.3  "
      ]
     },
     "execution_count": 23,
     "metadata": {},
     "output_type": "execute_result"
    }
   ],
   "source": [
    "adpater_concat_all_metrics"
   ]
  },
  {
   "cell_type": "code",
   "execution_count": null,
   "id": "6ce164ad-0974-4cba-8565-9348bb2373a3",
   "metadata": {},
   "outputs": [],
   "source": []
  },
  {
   "cell_type": "code",
   "execution_count": null,
   "id": "47ee07e5-a1fe-40d1-8e2d-8a3e6a629ebf",
   "metadata": {},
   "outputs": [],
   "source": []
  },
  {
   "cell_type": "code",
   "execution_count": null,
   "id": "6aa02b90-a1cc-4793-801c-1efc40166919",
   "metadata": {},
   "outputs": [],
   "source": []
  },
  {
   "cell_type": "code",
   "execution_count": null,
   "id": "b4b8c9da-8580-4298-bc55-ec7678ad23ef",
   "metadata": {},
   "outputs": [],
   "source": []
  },
  {
   "cell_type": "code",
   "execution_count": null,
   "id": "0aea5e0e-6d79-4d39-9dfe-6f66157cd277",
   "metadata": {},
   "outputs": [],
   "source": []
  },
  {
   "cell_type": "code",
   "execution_count": 17,
   "id": "dc8e328f-0299-4776-be6e-073935b18f67",
   "metadata": {},
   "outputs": [
    {
     "data": {
      "text/plain": [
       "Text(0.5, 1.0, 'Scores w.r.t decision threshold - adapter_attnconc_bce_lr3x10-4 - test set')"
      ]
     },
     "execution_count": 17,
     "metadata": {},
     "output_type": "execute_result"
    },
    {
     "data": {
      "image/png": "[encoded data removed]",
      "text/plain": [
       "<Figure size 640x480 with 1 Axes>"
      ]
     },
     "metadata": {},
     "output_type": "display_data"
    }
   ],
   "source": [
    "import seaborn as sns\n",
    "sns.lineplot(scores)\n",
    "plt.ylim([0, 1])\n",
    "plt.xlim([0, 1])\n",
    "plt.title(f\"Scores w.r.t decision threshold - {exp_name} - {ds_type} set\")"
   ]
  },
  {
   "cell_type": "code",
   "execution_count": 31,
   "id": "b2bfffc2-14ab-425a-83b4-075174b0ec51",
   "metadata": {},
   "outputs": [
    {
     "data": {
      "text/plain": [
       "Text(0.5, 1.0, 'Scores w.r.t decision threshold - lora_concat - test set')"
      ]
     },
     "execution_count": 31,
     "metadata": {},
     "output_type": "execute_result"
    },
    {
     "data": {
      "image/png": "[encoded data removed]",
      "text/plain": [
       "<Figure size 640x480 with 1 Axes>"
      ]
     },
     "metadata": {},
     "output_type": "display_data"
    }
   ],
   "source": [
    "import seaborn as sns\n",
    "sns.lineplot(scores)\n",
    "plt.ylim([0, 1])\n",
    "plt.xlim([0, 1])\n",
    "plt.title(f\"Scores w.r.t decision threshold - {exp_name} - {ds_type} set\")"
   ]
  },
  {
   "cell_type": "code",
   "execution_count": 32,
   "id": "51147f41-4b30-4cd9-ac59-2409d4efea86",
   "metadata": {},
   "outputs": [
    {
     "data": {
      "text/html": [
       "<div>\n",
       "<style scoped>\n",
       "    .dataframe tbody tr th:only-of-type {\n",
       "        vertical-align: middle;\n",
       "    }\n",
       "\n",
       "    .dataframe tbody tr th {\n",
       "        vertical-align: top;\n",
       "    }\n",
       "\n",
       "    .dataframe thead th {\n",
       "        text-align: right;\n",
       "    }\n",
       "</style>\n",
       "<table border=\"1\" class=\"dataframe\">\n",
       "  <thead>\n",
       "    <tr style=\"text-align: right;\">\n",
       "      <th></th>\n",
       "      <th>BinaryF1Score</th>\n",
       "      <th>BinaryJaccardIndex</th>\n",
       "      <th>BinaryRecall</th>\n",
       "      <th>BinaryPrecision</th>\n",
       "    </tr>\n",
       "    <tr>\n",
       "      <th>th</th>\n",
       "      <th></th>\n",
       "      <th></th>\n",
       "      <th></th>\n",
       "      <th></th>\n",
       "    </tr>\n",
       "  </thead>\n",
       "  <tbody>\n",
       "    <tr>\n",
       "      <th>0.0</th>\n",
       "      <td>0.092513</td>\n",
       "      <td>0.050943</td>\n",
       "      <td>0.921875</td>\n",
       "      <td>0.050943</td>\n",
       "    </tr>\n",
       "    <tr>\n",
       "      <th>0.1</th>\n",
       "      <td>0.536455</td>\n",
       "      <td>0.439263</td>\n",
       "      <td>0.647242</td>\n",
       "      <td>0.485639</td>\n",
       "    </tr>\n",
       "    <tr>\n",
       "      <th>0.2</th>\n",
       "      <td>0.550009</td>\n",
       "      <td>0.458153</td>\n",
       "      <td>0.587128</td>\n",
       "      <td>0.552963</td>\n",
       "    </tr>\n",
       "    <tr>\n",
       "      <th>0.3</th>\n",
       "      <td>0.547200</td>\n",
       "      <td>0.457637</td>\n",
       "      <td>0.542211</td>\n",
       "      <td>0.595356</td>\n",
       "    </tr>\n",
       "    <tr>\n",
       "      <th>0.4</th>\n",
       "      <td>0.537310</td>\n",
       "      <td>0.448739</td>\n",
       "      <td>0.503135</td>\n",
       "      <td>0.623360</td>\n",
       "    </tr>\n",
       "    <tr>\n",
       "      <th>0.5</th>\n",
       "      <td>0.522283</td>\n",
       "      <td>0.433845</td>\n",
       "      <td>0.466304</td>\n",
       "      <td>0.649807</td>\n",
       "    </tr>\n",
       "    <tr>\n",
       "      <th>0.6</th>\n",
       "      <td>0.501471</td>\n",
       "      <td>0.412864</td>\n",
       "      <td>0.428111</td>\n",
       "      <td>0.674824</td>\n",
       "    </tr>\n",
       "    <tr>\n",
       "      <th>0.7</th>\n",
       "      <td>0.472861</td>\n",
       "      <td>0.384038</td>\n",
       "      <td>0.386238</td>\n",
       "      <td>0.698962</td>\n",
       "    </tr>\n",
       "    <tr>\n",
       "      <th>0.8</th>\n",
       "      <td>0.430607</td>\n",
       "      <td>0.342285</td>\n",
       "      <td>0.334479</td>\n",
       "      <td>0.724117</td>\n",
       "    </tr>\n",
       "    <tr>\n",
       "      <th>0.9</th>\n",
       "      <td>0.357922</td>\n",
       "      <td>0.272911</td>\n",
       "      <td>0.259110</td>\n",
       "      <td>0.750343</td>\n",
       "    </tr>\n",
       "  </tbody>\n",
       "</table>\n",
       "</div>"
      ],
      "text/plain": [
       "     BinaryF1Score  BinaryJaccardIndex  BinaryRecall  BinaryPrecision\n",
       "th                                                                   \n",
       "0.0       0.092513            0.050943      0.921875         0.050943\n",
       "0.1       0.536455            0.439263      0.647242         0.485639\n",
       "0.2       0.550009            0.458153      0.587128         0.552963\n",
       "0.3       0.547200            0.457637      0.542211         0.595356\n",
       "0.4       0.537310            0.448739      0.503135         0.623360\n",
       "0.5       0.522283            0.433845      0.466304         0.649807\n",
       "0.6       0.501471            0.412864      0.428111         0.674824\n",
       "0.7       0.472861            0.384038      0.386238         0.698962\n",
       "0.8       0.430607            0.342285      0.334479         0.724117\n",
       "0.9       0.357922            0.272911      0.259110         0.750343"
      ]
     },
     "execution_count": 32,
     "metadata": {},
     "output_type": "execute_result"
    }
   ],
   "source": [
    "scores"
   ]
  },
  {
   "cell_type": "code",
   "execution_count": 12,
   "id": "559751c5-07ba-4c65-a2fe-840a4198bd95",
   "metadata": {},
   "outputs": [
    {
     "data": {
      "text/plain": [
       "Text(0.5, 1.0, 'Scores w.r.t decision threshold - adapter_concat - test set')"
      ]
     },
     "execution_count": 12,
     "metadata": {},
     "output_type": "execute_result"
    },
    {
     "data": {
      "image/png": "[encoded data removed]",
      "text/plain": [
       "<Figure size 640x480 with 1 Axes>"
      ]
     },
     "metadata": {},
     "output_type": "display_data"
    }
   ],
   "source": [
    "import seaborn as sns\n",
    "sns.lineplot(scores)\n",
    "plt.ylim([0, 1])\n",
    "plt.xlim([0, 1])\n",
    "plt.title(f\"Scores w.r.t decision threshold - {exp_name} - {ds_type} set\")"
   ]
  },
  {
   "cell_type": "code",
   "execution_count": 13,
   "id": "d8bf07b9-83dd-49bf-a89b-0b9a6b75b4eb",
   "metadata": {},
   "outputs": [
    {
     "data": {
      "text/html": [
       "<div>\n",
       "<style scoped>\n",
       "    .dataframe tbody tr th:only-of-type {\n",
       "        vertical-align: middle;\n",
       "    }\n",
       "\n",
       "    .dataframe tbody tr th {\n",
       "        vertical-align: top;\n",
       "    }\n",
       "\n",
       "    .dataframe thead th {\n",
       "        text-align: right;\n",
       "    }\n",
       "</style>\n",
       "<table border=\"1\" class=\"dataframe\">\n",
       "  <thead>\n",
       "    <tr style=\"text-align: right;\">\n",
       "      <th></th>\n",
       "      <th>BinaryF1Score</th>\n",
       "      <th>BinaryJaccardIndex</th>\n",
       "      <th>BinaryRecall</th>\n",
       "      <th>BinaryPrecision</th>\n",
       "    </tr>\n",
       "    <tr>\n",
       "      <th>th</th>\n",
       "      <th></th>\n",
       "      <th></th>\n",
       "      <th></th>\n",
       "      <th></th>\n",
       "    </tr>\n",
       "  </thead>\n",
       "  <tbody>\n",
       "    <tr>\n",
       "      <th>0.0</th>\n",
       "      <td>0.092513</td>\n",
       "      <td>0.050943</td>\n",
       "      <td>0.921875</td>\n",
       "      <td>0.050943</td>\n",
       "    </tr>\n",
       "    <tr>\n",
       "      <th>0.1</th>\n",
       "      <td>0.708568</td>\n",
       "      <td>0.658449</td>\n",
       "      <td>0.823860</td>\n",
       "      <td>0.633089</td>\n",
       "    </tr>\n",
       "    <tr>\n",
       "      <th>0.2</th>\n",
       "      <td>0.734045</td>\n",
       "      <td>0.698454</td>\n",
       "      <td>0.799966</td>\n",
       "      <td>0.689255</td>\n",
       "    </tr>\n",
       "    <tr>\n",
       "      <th>0.3</th>\n",
       "      <td>0.744273</td>\n",
       "      <td>0.715330</td>\n",
       "      <td>0.779357</td>\n",
       "      <td>0.723501</td>\n",
       "    </tr>\n",
       "    <tr>\n",
       "      <th>0.4</th>\n",
       "      <td>0.748629</td>\n",
       "      <td>0.722763</td>\n",
       "      <td>0.759728</td>\n",
       "      <td>0.749624</td>\n",
       "    </tr>\n",
       "    <tr>\n",
       "      <th>0.5</th>\n",
       "      <td>0.748098</td>\n",
       "      <td>0.722441</td>\n",
       "      <td>0.738983</td>\n",
       "      <td>0.770367</td>\n",
       "    </tr>\n",
       "    <tr>\n",
       "      <th>0.6</th>\n",
       "      <td>0.744012</td>\n",
       "      <td>0.716074</td>\n",
       "      <td>0.716072</td>\n",
       "      <td>0.788306</td>\n",
       "    </tr>\n",
       "    <tr>\n",
       "      <th>0.7</th>\n",
       "      <td>0.735345</td>\n",
       "      <td>0.702348</td>\n",
       "      <td>0.688180</td>\n",
       "      <td>0.805981</td>\n",
       "    </tr>\n",
       "    <tr>\n",
       "      <th>0.8</th>\n",
       "      <td>0.718673</td>\n",
       "      <td>0.676629</td>\n",
       "      <td>0.650869</td>\n",
       "      <td>0.822859</td>\n",
       "    </tr>\n",
       "    <tr>\n",
       "      <th>0.9</th>\n",
       "      <td>0.681653</td>\n",
       "      <td>0.622707</td>\n",
       "      <td>0.588380</td>\n",
       "      <td>0.834207</td>\n",
       "    </tr>\n",
       "  </tbody>\n",
       "</table>\n",
       "</div>"
      ],
      "text/plain": [
       "     BinaryF1Score  BinaryJaccardIndex  BinaryRecall  BinaryPrecision\n",
       "th                                                                   \n",
       "0.0       0.092513            0.050943      0.921875         0.050943\n",
       "0.1       0.708568            0.658449      0.823860         0.633089\n",
       "0.2       0.734045            0.698454      0.799966         0.689255\n",
       "0.3       0.744273            0.715330      0.779357         0.723501\n",
       "0.4       0.748629            0.722763      0.759728         0.749624\n",
       "0.5       0.748098            0.722441      0.738983         0.770367\n",
       "0.6       0.744012            0.716074      0.716072         0.788306\n",
       "0.7       0.735345            0.702348      0.688180         0.805981\n",
       "0.8       0.718673            0.676629      0.650869         0.822859\n",
       "0.9       0.681653            0.622707      0.588380         0.834207"
      ]
     },
     "execution_count": 13,
     "metadata": {},
     "output_type": "execute_result"
    }
   ],
   "source": [
    "scores"
   ]
  },
  {
   "cell_type": "code",
   "execution_count": null,
   "id": "d6d9a1dc-d61e-4662-b83c-d6e257a7ddd5",
   "metadata": {},
   "outputs": [],
   "source": []
  },
  {
   "cell_type": "code",
   "execution_count": 20,
   "id": "b22ba651-6b46-4bb6-8222-e527a4f83771",
   "metadata": {},
   "outputs": [
    {
     "data": {
      "text/plain": [
       "Text(0.5, 1.0, 'Scores w.r.t decision threshold - probing_concat_baseline - test set')"
      ]
     },
     "execution_count": 20,
     "metadata": {},
     "output_type": "execute_result"
    },
    {
     "data": {
      "image/png": "[encoded data removed]",
      "text/plain": [
       "<Figure size 640x480 with 1 Axes>"
      ]
     },
     "metadata": {},
     "output_type": "display_data"
    }
   ],
   "source": [
    "import seaborn as sns\n",
    "sns.lineplot(scores)\n",
    "plt.ylim([0, 1])\n",
    "plt.xlim([0, 1])\n",
    "plt.title(f\"Scores w.r.t decision threshold - {exp_name} - {ds_type} set\")"
   ]
  },
  {
   "cell_type": "code",
   "execution_count": 38,
   "id": "92f36617-18da-4fe3-a97e-fd7e545ef1ee",
   "metadata": {},
   "outputs": [
    {
     "data": {
      "text/plain": [
       "Text(0.5, 1.0, 'Scores based decision threshold - probing_concat_baseline')"
      ]
     },
     "execution_count": 38,
     "metadata": {},
     "output_type": "execute_result"
    },
    {
     "data": {
      "image/png": "[encoded data removed]",
      "text/plain": [
       "<Figure size 640x480 with 1 Axes>"
      ]
     },
     "metadata": {},
     "output_type": "display_data"
    }
   ],
   "source": [
    "import seaborn as sns\n",
    "sns.lineplot(scores)\n",
    "plt.ylim([0, 1])\n",
    "plt.xlim([0, 1])\n",
    "plt.title(f\"Scores w.r.t decision threshold - {exp_name} - {ds_type} set\")"
   ]
  },
  {
   "cell_type": "code",
   "execution_count": 21,
   "id": "78a69490-da29-4343-9917-d572a9fe5dfe",
   "metadata": {},
   "outputs": [
    {
     "data": {
      "text/html": [
       "<div>\n",
       "<style scoped>\n",
       "    .dataframe tbody tr th:only-of-type {\n",
       "        vertical-align: middle;\n",
       "    }\n",
       "\n",
       "    .dataframe tbody tr th {\n",
       "        vertical-align: top;\n",
       "    }\n",
       "\n",
       "    .dataframe thead th {\n",
       "        text-align: right;\n",
       "    }\n",
       "</style>\n",
       "<table border=\"1\" class=\"dataframe\">\n",
       "  <thead>\n",
       "    <tr style=\"text-align: right;\">\n",
       "      <th></th>\n",
       "      <th>BinaryF1Score</th>\n",
       "      <th>BinaryJaccardIndex</th>\n",
       "      <th>BinaryRecall</th>\n",
       "      <th>BinaryPrecision</th>\n",
       "    </tr>\n",
       "    <tr>\n",
       "      <th>th</th>\n",
       "      <th></th>\n",
       "      <th></th>\n",
       "      <th></th>\n",
       "      <th></th>\n",
       "    </tr>\n",
       "  </thead>\n",
       "  <tbody>\n",
       "    <tr>\n",
       "      <th>0.0</th>\n",
       "      <td>0.092513</td>\n",
       "      <td>0.050943</td>\n",
       "      <td>0.921875</td>\n",
       "      <td>0.050943</td>\n",
       "    </tr>\n",
       "    <tr>\n",
       "      <th>0.1</th>\n",
       "      <td>0.567399</td>\n",
       "      <td>0.470487</td>\n",
       "      <td>0.753143</td>\n",
       "      <td>0.485380</td>\n",
       "    </tr>\n",
       "    <tr>\n",
       "      <th>0.2</th>\n",
       "      <td>0.598393</td>\n",
       "      <td>0.509590</td>\n",
       "      <td>0.685396</td>\n",
       "      <td>0.570842</td>\n",
       "    </tr>\n",
       "    <tr>\n",
       "      <th>0.3</th>\n",
       "      <td>0.602961</td>\n",
       "      <td>0.517365</td>\n",
       "      <td>0.632196</td>\n",
       "      <td>0.619935</td>\n",
       "    </tr>\n",
       "    <tr>\n",
       "      <th>0.4</th>\n",
       "      <td>0.594774</td>\n",
       "      <td>0.509405</td>\n",
       "      <td>0.581527</td>\n",
       "      <td>0.659160</td>\n",
       "    </tr>\n",
       "    <tr>\n",
       "      <th>0.5</th>\n",
       "      <td>0.577878</td>\n",
       "      <td>0.490894</td>\n",
       "      <td>0.532516</td>\n",
       "      <td>0.691078</td>\n",
       "    </tr>\n",
       "    <tr>\n",
       "      <th>0.6</th>\n",
       "      <td>0.552220</td>\n",
       "      <td>0.462766</td>\n",
       "      <td>0.481348</td>\n",
       "      <td>0.719750</td>\n",
       "    </tr>\n",
       "    <tr>\n",
       "      <th>0.7</th>\n",
       "      <td>0.514960</td>\n",
       "      <td>0.422997</td>\n",
       "      <td>0.423583</td>\n",
       "      <td>0.746034</td>\n",
       "    </tr>\n",
       "    <tr>\n",
       "      <th>0.8</th>\n",
       "      <td>0.460479</td>\n",
       "      <td>0.366174</td>\n",
       "      <td>0.354578</td>\n",
       "      <td>0.768174</td>\n",
       "    </tr>\n",
       "    <tr>\n",
       "      <th>0.9</th>\n",
       "      <td>0.367077</td>\n",
       "      <td>0.275388</td>\n",
       "      <td>0.259297</td>\n",
       "      <td>0.771761</td>\n",
       "    </tr>\n",
       "  </tbody>\n",
       "</table>\n",
       "</div>"
      ],
      "text/plain": [
       "     BinaryF1Score  BinaryJaccardIndex  BinaryRecall  BinaryPrecision\n",
       "th                                                                   \n",
       "0.0       0.092513            0.050943      0.921875         0.050943\n",
       "0.1       0.567399            0.470487      0.753143         0.485380\n",
       "0.2       0.598393            0.509590      0.685396         0.570842\n",
       "0.3       0.602961            0.517365      0.632196         0.619935\n",
       "0.4       0.594774            0.509405      0.581527         0.659160\n",
       "0.5       0.577878            0.490894      0.532516         0.691078\n",
       "0.6       0.552220            0.462766      0.481348         0.719750\n",
       "0.7       0.514960            0.422997      0.423583         0.746034\n",
       "0.8       0.460479            0.366174      0.354578         0.768174\n",
       "0.9       0.367077            0.275388      0.259297         0.771761"
      ]
     },
     "execution_count": 21,
     "metadata": {},
     "output_type": "execute_result"
    }
   ],
   "source": [
    "scores"
   ]
  },
  {
   "cell_type": "code",
   "execution_count": 35,
   "id": "c4c326ea-50db-4d6b-a4fa-2b80a7a03040",
   "metadata": {},
   "outputs": [
    {
     "data": {
      "text/html": [
       "<div>\n",
       "<style scoped>\n",
       "    .dataframe tbody tr th:only-of-type {\n",
       "        vertical-align: middle;\n",
       "    }\n",
       "\n",
       "    .dataframe tbody tr th {\n",
       "        vertical-align: top;\n",
       "    }\n",
       "\n",
       "    .dataframe thead th {\n",
       "        text-align: right;\n",
       "    }\n",
       "</style>\n",
       "<table border=\"1\" class=\"dataframe\">\n",
       "  <thead>\n",
       "    <tr style=\"text-align: right;\">\n",
       "      <th></th>\n",
       "      <th>BinaryF1Score</th>\n",
       "      <th>BinaryJaccardIndex</th>\n",
       "      <th>BinaryRecall</th>\n",
       "      <th>BinaryPrecision</th>\n",
       "    </tr>\n",
       "    <tr>\n",
       "      <th>th</th>\n",
       "      <th></th>\n",
       "      <th></th>\n",
       "      <th></th>\n",
       "      <th></th>\n",
       "    </tr>\n",
       "  </thead>\n",
       "  <tbody>\n",
       "    <tr>\n",
       "      <th>0.0</th>\n",
       "      <td>0.092513</td>\n",
       "      <td>0.050943</td>\n",
       "      <td>0.921875</td>\n",
       "      <td>0.050943</td>\n",
       "    </tr>\n",
       "    <tr>\n",
       "      <th>0.1</th>\n",
       "      <td>0.566229</td>\n",
       "      <td>0.469083</td>\n",
       "      <td>0.753108</td>\n",
       "      <td>0.483547</td>\n",
       "    </tr>\n",
       "    <tr>\n",
       "      <th>0.2</th>\n",
       "      <td>0.598322</td>\n",
       "      <td>0.508797</td>\n",
       "      <td>0.685064</td>\n",
       "      <td>0.569864</td>\n",
       "    </tr>\n",
       "    <tr>\n",
       "      <th>0.3</th>\n",
       "      <td>0.603792</td>\n",
       "      <td>0.517091</td>\n",
       "      <td>0.631404</td>\n",
       "      <td>0.619719</td>\n",
       "    </tr>\n",
       "    <tr>\n",
       "      <th>0.4</th>\n",
       "      <td>0.596410</td>\n",
       "      <td>0.509497</td>\n",
       "      <td>0.580730</td>\n",
       "      <td>0.660067</td>\n",
       "    </tr>\n",
       "    <tr>\n",
       "      <th>0.5</th>\n",
       "      <td>0.579846</td>\n",
       "      <td>0.490847</td>\n",
       "      <td>0.531492</td>\n",
       "      <td>0.693277</td>\n",
       "    </tr>\n",
       "    <tr>\n",
       "      <th>0.6</th>\n",
       "      <td>0.553774</td>\n",
       "      <td>0.461988</td>\n",
       "      <td>0.479626</td>\n",
       "      <td>0.721880</td>\n",
       "    </tr>\n",
       "    <tr>\n",
       "      <th>0.7</th>\n",
       "      <td>0.516029</td>\n",
       "      <td>0.421604</td>\n",
       "      <td>0.421558</td>\n",
       "      <td>0.747399</td>\n",
       "    </tr>\n",
       "    <tr>\n",
       "      <th>0.8</th>\n",
       "      <td>0.460049</td>\n",
       "      <td>0.363825</td>\n",
       "      <td>0.351758</td>\n",
       "      <td>0.770179</td>\n",
       "    </tr>\n",
       "    <tr>\n",
       "      <th>0.9</th>\n",
       "      <td>0.365283</td>\n",
       "      <td>0.272347</td>\n",
       "      <td>0.256173</td>\n",
       "      <td>0.775011</td>\n",
       "    </tr>\n",
       "  </tbody>\n",
       "</table>\n",
       "</div>"
      ],
      "text/plain": [
       "     BinaryF1Score  BinaryJaccardIndex  BinaryRecall  BinaryPrecision\n",
       "th                                                                   \n",
       "0.0       0.092513            0.050943      0.921875         0.050943\n",
       "0.1       0.566229            0.469083      0.753108         0.483547\n",
       "0.2       0.598322            0.508797      0.685064         0.569864\n",
       "0.3       0.603792            0.517091      0.631404         0.619719\n",
       "0.4       0.596410            0.509497      0.580730         0.660067\n",
       "0.5       0.579846            0.490847      0.531492         0.693277\n",
       "0.6       0.553774            0.461988      0.479626         0.721880\n",
       "0.7       0.516029            0.421604      0.421558         0.747399\n",
       "0.8       0.460049            0.363825      0.351758         0.770179\n",
       "0.9       0.365283            0.272347      0.256173         0.775011"
      ]
     },
     "execution_count": 35,
     "metadata": {},
     "output_type": "execute_result"
    }
   ],
   "source": [
    "scores"
   ]
  },
  {
   "cell_type": "markdown",
   "id": "b67f06db-4189-4991-9e8a-c51abb6a860c",
   "metadata": {},
   "source": [
    "## Annexes"
   ]
  },
  {
   "cell_type": "markdown",
   "id": "bca0e2c9-603f-4680-ae69-9cc8a6bf6703",
   "metadata": {},
   "source": [
    "### Influence des values null : missing labels ?"
   ]
  },
  {
   "cell_type": "code",
   "execution_count": 46,
   "id": "414f7e25-e6b3-4e82-9943-4928d65f9e87",
   "metadata": {},
   "outputs": [
    {
     "data": {
      "text/html": [
       "<div>\n",
       "<style scoped>\n",
       "    .dataframe tbody tr th:only-of-type {\n",
       "        vertical-align: middle;\n",
       "    }\n",
       "\n",
       "    .dataframe tbody tr th {\n",
       "        vertical-align: top;\n",
       "    }\n",
       "\n",
       "    .dataframe thead th {\n",
       "        text-align: right;\n",
       "    }\n",
       "</style>\n",
       "<table border=\"1\" class=\"dataframe\">\n",
       "  <thead>\n",
       "    <tr style=\"text-align: right;\">\n",
       "      <th></th>\n",
       "      <th>BinaryF1Score</th>\n",
       "      <th>BinaryJaccardIndex</th>\n",
       "      <th>BinaryRecall</th>\n",
       "      <th>BinaryPrecision</th>\n",
       "    </tr>\n",
       "    <tr>\n",
       "      <th>th</th>\n",
       "      <th></th>\n",
       "      <th></th>\n",
       "      <th></th>\n",
       "      <th></th>\n",
       "    </tr>\n",
       "  </thead>\n",
       "  <tbody>\n",
       "    <tr>\n",
       "      <th>0.0</th>\n",
       "      <td>0.100353</td>\n",
       "      <td>0.055260</td>\n",
       "      <td>1.000000</td>\n",
       "      <td>0.055260</td>\n",
       "    </tr>\n",
       "    <tr>\n",
       "      <th>0.1</th>\n",
       "      <td>0.624804</td>\n",
       "      <td>0.477171</td>\n",
       "      <td>0.831016</td>\n",
       "      <td>0.533569</td>\n",
       "    </tr>\n",
       "    <tr>\n",
       "      <th>0.2</th>\n",
       "      <td>0.665959</td>\n",
       "      <td>0.522070</td>\n",
       "      <td>0.762506</td>\n",
       "      <td>0.634284</td>\n",
       "    </tr>\n",
       "    <tr>\n",
       "      <th>0.3</th>\n",
       "      <td>0.677942</td>\n",
       "      <td>0.535234</td>\n",
       "      <td>0.708945</td>\n",
       "      <td>0.695825</td>\n",
       "    </tr>\n",
       "    <tr>\n",
       "      <th>0.4</th>\n",
       "      <td>0.675580</td>\n",
       "      <td>0.532041</td>\n",
       "      <td>0.657818</td>\n",
       "      <td>0.747687</td>\n",
       "    </tr>\n",
       "    <tr>\n",
       "      <th>0.5</th>\n",
       "      <td>0.662681</td>\n",
       "      <td>0.517143</td>\n",
       "      <td>0.607419</td>\n",
       "      <td>0.792317</td>\n",
       "    </tr>\n",
       "    <tr>\n",
       "      <th>0.6</th>\n",
       "      <td>0.632884</td>\n",
       "      <td>0.486738</td>\n",
       "      <td>0.548144</td>\n",
       "      <td>0.825006</td>\n",
       "    </tr>\n",
       "    <tr>\n",
       "      <th>0.7</th>\n",
       "      <td>0.595061</td>\n",
       "      <td>0.448192</td>\n",
       "      <td>0.486121</td>\n",
       "      <td>0.861865</td>\n",
       "    </tr>\n",
       "    <tr>\n",
       "      <th>0.8</th>\n",
       "      <td>0.535330</td>\n",
       "      <td>0.390285</td>\n",
       "      <td>0.409318</td>\n",
       "      <td>0.896209</td>\n",
       "    </tr>\n",
       "    <tr>\n",
       "      <th>0.9</th>\n",
       "      <td>0.432928</td>\n",
       "      <td>0.297565</td>\n",
       "      <td>0.303612</td>\n",
       "      <td>0.918532</td>\n",
       "    </tr>\n",
       "  </tbody>\n",
       "</table>\n",
       "</div>"
      ],
      "text/plain": [
       "     BinaryF1Score  BinaryJaccardIndex  BinaryRecall  BinaryPrecision\n",
       "th                                                                   \n",
       "0.0       0.100353            0.055260      1.000000         0.055260\n",
       "0.1       0.624804            0.477171      0.831016         0.533569\n",
       "0.2       0.665959            0.522070      0.762506         0.634284\n",
       "0.3       0.677942            0.535234      0.708945         0.695825\n",
       "0.4       0.675580            0.532041      0.657818         0.747687\n",
       "0.5       0.662681            0.517143      0.607419         0.792317\n",
       "0.6       0.632884            0.486738      0.548144         0.825006\n",
       "0.7       0.595061            0.448192      0.486121         0.861865\n",
       "0.8       0.535330            0.390285      0.409318         0.896209\n",
       "0.9       0.432928            0.297565      0.303612         0.918532"
      ]
     },
     "execution_count": 46,
     "metadata": {},
     "output_type": "execute_result"
    }
   ],
   "source": [
    "df[(df.BinaryJaccardIndex > 0) & (~df.BinaryJaccardIndex.isna())].groupby(\"th\")[metrics_col].mean()"
   ]
  },
  {
   "cell_type": "markdown",
   "id": "dd552a9a-4baf-4433-a49c-7006bc7e758d",
   "metadata": {},
   "source": [
    "+0.1 en enlevant les nan et 0 :o"
   ]
  },
  {
   "cell_type": "code",
   "execution_count": 48,
   "id": "00390504-1db4-4228-a9fa-eaa99c2fed7d",
   "metadata": {},
   "outputs": [
    {
     "data": {
      "text/plain": [
       "<Axes: >"
      ]
     },
     "execution_count": 48,
     "metadata": {},
     "output_type": "execute_result"
    },
    {
     "data": {
      "image/png": "[encoded data removed]",
      "text/plain": [
       "<Figure size 640x480 with 1 Axes>"
      ]
     },
     "metadata": {},
     "output_type": "display_data"
    }
   ],
   "source": [
    "pd.Series(preds.flatten()).hist()"
   ]
  },
  {
   "cell_type": "code",
   "execution_count": 49,
   "id": "b50b01cb-c78e-4080-bd4d-8908788d9a88",
   "metadata": {},
   "outputs": [
    {
     "data": {
      "text/plain": [
       "<Axes: >"
      ]
     },
     "execution_count": 49,
     "metadata": {},
     "output_type": "execute_result"
    },
    {
     "data": {
      "image/png": "[encoded data removed]",
      "text/plain": [
       "<Figure size 640x480 with 1 Axes>"
      ]
     },
     "metadata": {},
     "output_type": "display_data"
    }
   ],
   "source": [
    "pd.Series(nn.Sigmoid()(preds.flatten())).hist()"
   ]
  },
  {
   "cell_type": "code",
   "execution_count": 50,
   "id": "70cd9d78-30e0-4dbe-bc30-f40f283f7b69",
   "metadata": {},
   "outputs": [
    {
     "data": {
      "text/plain": [
       "<Axes: >"
      ]
     },
     "execution_count": 50,
     "metadata": {},
     "output_type": "execute_result"
    },
    {
     "data": {
      "image/png": "[encoded data removed]",
      "text/plain": [
       "<Figure size 640x480 with 1 Axes>"
      ]
     },
     "metadata": {},
     "output_type": "display_data"
    }
   ],
   "source": [
    "pd.Series(shift_range_values(preds.flatten())).hist()"
   ]
  },
  {
   "cell_type": "code",
   "execution_count": null,
   "id": "e8a9e0fb-1147-435d-82f7-125c380b1a10",
   "metadata": {},
   "outputs": [],
   "source": [
    "# NLP Example\n",
    "batch, sentence_length, embedding_dim = 20, 5, 10\n",
    "embedding = torch.randn(batch, sentence_length, embedding_dim)\n",
    "layer_norm = nn.LayerNorm(embedding_dim)\n",
    "# Activate module\n",
    "layer_norm(embedding)\n"
   ]
  },
  {
   "cell_type": "code",
   "execution_count": 26,
   "id": "17b7ffa2-e357-4edf-8047-f4d1131c570e",
   "metadata": {},
   "outputs": [],
   "source": [
    "# Image Example\n",
    "N, C, H, W = 20, 5, 10, 10\n",
    "input = torch.zeros(N, C, H, W)\n",
    "# Normalize over the last three dimensions (i.e. the channel and spatial dimensions)\n",
    "# as shown in the image below\n",
    "layer_norm = nn.LayerNorm([C, H, W])\n",
    "output = layer_norm(input)"
   ]
  },
  {
   "cell_type": "markdown",
   "id": "ac9c5858-48f2-4f5e-aab2-bd041309aef0",
   "metadata": {},
   "source": [
    "## Annexe"
   ]
  },
  {
   "cell_type": "code",
   "execution_count": null,
   "id": "86f75132-d6c1-4112-a3aa-02e15a2a9832",
   "metadata": {},
   "outputs": [],
   "source": [
    "from torchmetrics import MetricCollection\n",
    "from torchmetrics.classification import BinaryF1Score, BinaryJaccardIndex, BinaryRecall, BinaryPrecision, Recall, Precision\n",
    "\n",
    "exp_name = \"_adapter_concat\"\n",
    "ds_name = \"levir-cd\"\n",
    "device = \"cuda\"\n",
    "batch_size = 1\n",
    "ds_type = \"test\"\n",
    "save_preds = False\n",
    "\n",
    "report_dir = check_dir(PROJECT_PATH, \"reports\", \"scores\", ds_name, \"instances\", exp_name)\n",
    "\n",
    "labels_track = []\n",
    "df_all_th = []\n",
    "th_list = np.arange(0., 1, 0.1)\n",
    "scores = dict(zip(th_list, [[] for _ in range(len(th_list))]))\n",
    "\n",
    "cfg, data_module, module = load_exp(exp_name)\n",
    "ds = get_ds(ds_type, data_module)\n",
    "dloader = data.DataLoader(ds, batch_size=batch_size, shuffle=False)\n",
    "\n",
    "module = module.to(device)\n",
    "sgmd = nn.Sigmoid()\n",
    "\n",
    "@torch.no_grad()\n",
    "def _step(module, batch, device):\n",
    "    \n",
    "    batch = convert_to_device(batch, device=device)\n",
    "    preds, _ = module(batch)\n",
    "    preds = preds.squeeze().detach()\n",
    "    preds = sgmd(preds)\n",
    "    label = batch[\"label\"].squeeze().detach()\n",
    "    return preds, label\n",
    "\n",
    "def f1_score(precision, recall):\n",
    "    if not (precision + recall):\n",
    "        return 0\n",
    "    return 2 * (precision*recall)/(precision + recall)\n",
    "    \n",
    "# micro metrics compute metrics on global counts TP, FP, etc - need to keep track them\n",
    "eval_engine_micro = {\n",
    "    th: MetricCollection(\n",
    "            Recall(threshold=th, average=\"micro\", task=\"binary\"),\n",
    "            Precision(threshold=th, average=\"micro\", task=\"binary\")\n",
    "    ).to(device) for th in th_list\n",
    "}\n",
    "for i, batch in enumerate(tqdm(dloader)):\n",
    "    \n",
    "    preds, label = _step(module, batch, device)\n",
    "\n",
    "    if save_preds:\n",
    "        fname = f\"pred_{Path(batch['label_path'].stem)}.pt\"\n",
    "        folder = check_dir(report_dir, f\"pred_{ds_type}\")\n",
    "        torch.save(preds, make_path(fname, folder))\n",
    "    \n",
    "    for th in th_list:\n",
    "    #     metrics = [\n",
    "    #         BinaryF1Score(threshold=th),\n",
    "    #         BinaryJaccardIndex(threshold=th),\n",
    "    #         # define_micro average\n",
    "    #         BinaryRecall(threshold=th),\n",
    "    #         BinaryPrecision(threshold=th),\n",
    "    #     ]\n",
    "    #     eval_engine = MetricCollection(metrics).to(device)\n",
    "    #     scores[th].append(eval_engine(preds, label))\n",
    "        eval_engine_micro[th].update(preds, label)\n",
    "\n",
    "    labels_track.append(next(iter(batch[\"label_path\"])))\n",
    "    \n",
    "scores_micro = {th: eval_engine_micro[th].compute() for th in th_list}\n",
    "df_micro = pd.DataFrame(scores_micro).map(float).T\n",
    "df_micro[\"BinaryF1Score\"] = df_micro.apply(lambda x: f1_score(x[\"BinaryPrecision\"], x[\"BinaryRecall\"]), axis=1)\n",
    "\n",
    "# for th, res in scores.items():\n",
    "#     df_score = pd.DataFrame(res).map(float)\n",
    "#     df_score = df_score.assign(\n",
    "#         label_path=labels_track,\n",
    "#         th=th\n",
    "#     )\n",
    "#     df_all_th.append(df_score)\n",
    "# df_all_th = pd.concat(df_all_th)\n",
    "# df_all_th.to_csv(make_path(f\"{exp_name}.csv\", report_dir), index=True)\n",
    "df_micro.columns = [\"\".join([_, \"_micro\"]) for _ in df_micro]\n",
    "#adpater_concat_all_metrics = pd.concat([all_scores.loc[\"adapter_concat\"], (df_micro.loc[th].round(3)*100)], axis=0)\n",
    "df_all_th.to_csv(make_path(f\"{exp_name}_scores_micro.csv\", report_dir), index=True)"
   ]
  }
 ],
 "metadata": {
  "kernelspec": {
   "display_name": "Python 3 (ipykernel)",
   "language": "python",
   "name": "python3"
  },
  "language_info": {
   "codemirror_mode": {
    "name": "ipython",
    "version": 3
   },
   "file_extension": ".py",
   "mimetype": "text/x-python",
   "name": "python",
   "nbconvert_exporter": "python",
   "pygments_lexer": "ipython3",
   "version": "3.10.14"
  }
 },
 "nbformat": 4,
 "nbformat_minor": 5
}
