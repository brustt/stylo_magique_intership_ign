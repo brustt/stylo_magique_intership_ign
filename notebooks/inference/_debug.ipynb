{
 "cells": [
  {
   "cell_type": "code",
   "execution_count": 2,
   "metadata": {},
   "outputs": [],
   "source": [
    "from typing import Any, List, Optional, Tuple, Union\n",
    "import numpy as np\n",
    "from magic_pen.config import DEVICE\n",
    "from magic_pen.data.loader import BiTemporalDataset\n",
    "from magic_pen.data.process import DefaultTransform\n",
    "from segment_any_change.embedding import (\n",
    "    compute_mask_embedding,\n",
    "    get_img_embedding_normed,\n",
    ")\n",
    "from segment_any_change.masks.mask_items import (\n",
    "    FilteringType,\n",
    "    ImgType,\n",
    "    ListProposal,\n",
    ")\n",
    "from segment_any_change.matching import (\n",
    "    BitemporalMatching,\n",
    "    neg_cosine_sim,\n",
    ")\n",
    "import torch\n",
    "import torchvision\n",
    "from torch.nn import functional as F\n",
    "import kornia as K\n",
    "from segment_any_change.model import BiSam\n",
    "from segment_any_change.sa_dev_v0.predictor import SamPredictor\n",
    "from torch.utils.data import DataLoader\n",
    "from segment_any_change.utils import *\n",
    "import matplotlib.pyplot as plt\n",
    "from magic_pen.config import project_path\n",
    "from magic_pen.utils_io import make_path\n",
    "import os\n",
    "from segment_any_change.inference import load_default_sam_params\n",
    "\n",
    "import logging\n",
    "import pickle\n",
    "\n",
    "# TO DO : define globally\n",
    "logging.basicConfig(format=\"%(asctime)s - %(levelname)s ::  %(message)s\")\n",
    "logger = logging.getLogger(__name__)\n",
    "logger.setLevel(logging.INFO)"
   ]
  },
  {
   "cell_type": "code",
   "execution_count": 3,
   "metadata": {},
   "outputs": [],
   "source": [
    "params = load_default_sam_params()"
   ]
  },
  {
   "cell_type": "code",
   "execution_count": 8,
   "metadata": {},
   "outputs": [],
   "source": [
    "with open(make_path(f\"tmp/generator_return_{params.model_type}.pkl\", project_path), \"rb\") as fp:\n",
    "    res = pickle.load(fp)"
   ]
  },
  {
   "cell_type": "code",
   "execution_count": 9,
   "metadata": {},
   "outputs": [
    {
     "data": {
      "text/plain": [
       "2"
      ]
     },
     "execution_count": 9,
     "metadata": {},
     "output_type": "execute_result"
    }
   ],
   "source": [
    "len(res)"
   ]
  },
  {
   "cell_type": "code",
   "execution_count": 10,
   "metadata": {},
   "outputs": [],
   "source": [
    "def show(imgs):\n",
    "    if not isinstance(imgs, list) and not imgs.ndim > 2:\n",
    "        imgs = [imgs]\n",
    "    fig, axs = plt.subplots(ncols=len(imgs), squeeze=False, figsize=(10, 10))\n",
    "    for i, img in enumerate(imgs):\n",
    "        img = img.to(torch.float).detach()\n",
    "        img = torchvision.transforms.functional.to_pil_image(img)\n",
    "        axs[0, i].imshow(np.asarray(img))\n",
    "        axs[0, i].set(xticklabels=[], yticklabels=[], xticks=[], yticks=[])"
   ]
  },
  {
   "cell_type": "code",
   "execution_count": 11,
   "metadata": {},
   "outputs": [
    {
     "name": "stdout",
     "output_type": "stream",
     "text": [
      "ImgType.A\n",
      "(22, 1024, 1024)\n",
      "ImgType.B\n",
      "(28, 1024, 1024)\n"
     ]
    }
   ],
   "source": [
    "for m in res:\n",
    "    print(m[\"img_type\"])\n",
    "    print(m[\"masks\"].shape)"
   ]
  },
  {
   "cell_type": "code",
   "execution_count": null,
   "metadata": {},
   "outputs": [],
   "source": []
  },
  {
   "cell_type": "code",
   "execution_count": 12,
   "metadata": {},
   "outputs": [
    {
     "data": {
      "image/png": "[encoded data removed]",
      "text/plain": [
       "<Figure size 640x480 with 2 Axes>"
      ]
     },
     "metadata": {},
     "output_type": "display_data"
    }
   ],
   "source": [
    "show_img(np.sum(res[0][\"masks\"], axis=0))"
   ]
  },
  {
   "cell_type": "code",
   "execution_count": 22,
   "metadata": {},
   "outputs": [
    {
     "data": {
      "text/plain": [
       "dict_keys(['masks', 'predicted_iou', 'point_coords', 'img_type'])"
      ]
     },
     "execution_count": 22,
     "metadata": {},
     "output_type": "execute_result"
    }
   ],
   "source": [
    "res[0].keys()"
   ]
  },
  {
   "cell_type": "code",
   "execution_count": 23,
   "metadata": {},
   "outputs": [
    {
     "data": {
      "text/plain": [
       "(22, 1024, 1024)"
      ]
     },
     "execution_count": 23,
     "metadata": {},
     "output_type": "execute_result"
    }
   ],
   "source": [
    "res[0][\"masks\"].shape"
   ]
  },
  {
   "cell_type": "code",
   "execution_count": null,
   "metadata": {},
   "outputs": [],
   "source": []
  }
 ],
 "metadata": {
  "kernelspec": {
   "display_name": "magic_pen",
   "language": "python",
   "name": "python3"
  },
  "language_info": {
   "codemirror_mode": {
    "name": "ipython",
    "version": 3
   },
   "file_extension": ".py",
   "mimetype": "text/x-python",
   "name": "python",
   "nbconvert_exporter": "python",
   "pygments_lexer": "ipython3",
   "version": "3.10.14"
  }
 },
 "nbformat": 4,
 "nbformat_minor": 2
}
